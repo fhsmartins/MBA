{
  "nbformat": 4,
  "nbformat_minor": 0,
  "metadata": {
    "colab": {
      "provenance": [],
      "authorship_tag": "ABX9TyMLZAc3S5Wwj6UsfH+H6Oc8",
      "include_colab_link": true
    },
    "kernelspec": {
      "name": "python3",
      "display_name": "Python 3"
    },
    "language_info": {
      "name": "python"
    }
  },
  "cells": [
    {
      "cell_type": "markdown",
      "metadata": {
        "id": "view-in-github",
        "colab_type": "text"
      },
      "source": [
        "<a href=\"https://colab.research.google.com/github/fhsmartins/MBA/blob/main/Aula03/Prova.ipynb\" target=\"_parent\"><img src=\"https://colab.research.google.com/assets/colab-badge.svg\" alt=\"Open In Colab\"/></a>"
      ]
    },
    {
      "cell_type": "code",
      "execution_count": 1,
      "metadata": {
        "id": "ItnB283Z-lwk"
      },
      "outputs": [],
      "source": [
        "import pandas as pd\n",
        "import numpy as np\n",
        "import matplotlib.pyplot as plt\n",
        "import seaborn as sns"
      ]
    },
    {
      "cell_type": "code",
      "source": [
        "jogadores = pd.read_csv('sample_data/jogadores_exercicio1.csv')"
      ],
      "metadata": {
        "id": "CwE9nKfj-10z"
      },
      "execution_count": 2,
      "outputs": []
    },
    {
      "cell_type": "code",
      "source": [
        "jogadores.info()"
      ],
      "metadata": {
        "colab": {
          "base_uri": "https://localhost:8080/"
        },
        "id": "lAgnhq1g_BB8",
        "outputId": "a7989dca-e636-4ae5-dd8a-1e4ce2cb0275"
      },
      "execution_count": 4,
      "outputs": [
        {
          "output_type": "stream",
          "name": "stdout",
          "text": [
            "<class 'pandas.core.frame.DataFrame'>\n",
            "RangeIndex: 350 entries, 0 to 349\n",
            "Data columns (total 8 columns):\n",
            " #   Column              Non-Null Count  Dtype  \n",
            "---  ------              --------------  -----  \n",
            " 0   id                  350 non-null    int64  \n",
            " 1   player_api_id       350 non-null    int64  \n",
            " 2   player_name         350 non-null    object \n",
            " 3   player_fifa_api_id  350 non-null    int64  \n",
            " 4   birthday            350 non-null    object \n",
            " 5   height              350 non-null    float64\n",
            " 6   weight              350 non-null    float64\n",
            " 7   age                 350 non-null    int64  \n",
            "dtypes: float64(2), int64(4), object(2)\n",
            "memory usage: 22.0+ KB\n"
          ]
        }
      ]
    },
    {
      "cell_type": "code",
      "source": [
        "print(jogadores['height'].describe())\n",
        "print(jogadores['weight'].describe())\n",
        "print(jogadores['age'].describe())"
      ],
      "metadata": {
        "colab": {
          "base_uri": "https://localhost:8080/"
        },
        "id": "Yv_99hu9_MEn",
        "outputId": "ef8e5953-4cff-4b78-8409-66cb608193f9"
      },
      "execution_count": 5,
      "outputs": [
        {
          "output_type": "stream",
          "name": "stdout",
          "text": [
            "count    350.000000\n",
            "mean       1.820164\n",
            "std        0.060569\n",
            "min        1.651000\n",
            "25%        1.778000\n",
            "50%        1.828800\n",
            "75%        1.854200\n",
            "max        1.981200\n",
            "Name: height, dtype: float64\n",
            "count    350.000000\n",
            "mean      76.454938\n",
            "std        6.425071\n",
            "min       58.967008\n",
            "25%       72.121187\n",
            "50%       76.203518\n",
            "75%       81.193034\n",
            "max       96.161582\n",
            "Name: weight, dtype: float64\n",
            "count    350.000000\n",
            "mean      34.305714\n",
            "std        5.144415\n",
            "min       22.000000\n",
            "25%       31.000000\n",
            "50%       34.000000\n",
            "75%       38.000000\n",
            "max       49.000000\n",
            "Name: age, dtype: float64\n"
          ]
        }
      ]
    },
    {
      "cell_type": "code",
      "source": [
        "#média\n",
        "media_altura = jogadores['height'].mean()\n",
        "media_peso = jogadores['weight'].mean()\n",
        "media_idade = jogadores['age'].mean()\n",
        "print(\"Media altura é:\", media_altura, \"\\n\",\"media do peso\", media_peso, \"\\n\", \"media da idade\", media_idade)\n",
        "print(\"\\n\")\n",
        "\n",
        "#variância\n",
        "variancia_altura = jogadores['height'].var()\n",
        "variancia_peso = jogadores['weight'].var()\n",
        "variancia_idade = jogadores['age'].var()\n",
        "print(\"Variancia altura é:\", variancia_altura, \"\\n\",\"Variancia do peso\", variancia_peso, \"\\n\", \"Variancia da idade\", variancia_idade)\n",
        "print(\"\\n\")\n",
        "\n",
        "#obliquidade\n",
        "obliq_altura = jogadores['height'].skew()\n",
        "obliq_peso = jogadores['weight'].skew()\n",
        "obliq_idade = jogadores['age'].skew()\n",
        "print(\"Obliquidade altura é:\", obliq_altura, \"\\n\",\"Obliquidade do peso\", obliq_peso, \"\\n\", \"Obliquidade da idade\", obliq_idade)\n",
        "print(\"\\n\")\n",
        "\n",
        "#achatamento ou curtose\n",
        "kurt_altura = jogadores['height'].kurtosis()\n",
        "kurt_peso = jogadores['weight'].kurtosis()\n",
        "kurt_idade = jogadores['age'].kurtosis()\n",
        "print(\"Achatamento altura é:\", kurt_altura, \"\\n\",\"Achatamento do peso\", kurt_peso, \"\\n\", \"Achatamento da idade\", kurt_idade)\n",
        "print(\"\\n\")\n",
        "\n",
        "#desvio padrão\n",
        "dp_altura = jogadores['height'].std()\n",
        "dp_peso = jogadores['weight'].std()\n",
        "dp_idade = jogadores['age'].std()\n",
        "print(\"Desvio Padrão é:\", kurt_altura, \"\\n\",\"Desvio Padrão do Peso\", kurt_peso, \"\\n\", \"Desvio Padrão da idade\", kurt_idade)\n",
        "print(\"\\n\")"
      ],
      "metadata": {
        "colab": {
          "base_uri": "https://localhost:8080/"
        },
        "id": "1vcKFmrtANDu",
        "outputId": "f69985ee-6c94-418f-cb8c-bfeaa852396d"
      },
      "execution_count": 7,
      "outputs": [
        {
          "output_type": "stream",
          "name": "stdout",
          "text": [
            "Media altura é: 1.8201639999999997 \n",
            " media do peso 76.4549379308 \n",
            " media da idade 34.30571428571429\n",
            "\n",
            "\n",
            "Variancia altura é: 0.003668612683094556 \n",
            " Variancia do peso 41.28153862517228 \n",
            " Variancia da idade 26.46501023331969\n",
            "\n",
            "\n",
            "Obliquidade altura é: -0.12007981638318897 \n",
            " Obliquidade do peso 0.03027696608291131 \n",
            " Obliquidade da idade 0.2998913445412143\n",
            "\n",
            "\n",
            "Achatamento altura é: -0.4321787984728007 \n",
            " Achatamento do peso -0.10866518706788009 \n",
            " Achatamento da idade -0.3340241472353571\n",
            "\n",
            "\n",
            "Desvio Padrão é: -0.4321787984728007 \n",
            " Desvio Padrão do Peso -0.10866518706788009 \n",
            " Desvio Padrão da idade -0.3340241472353571\n",
            "\n",
            "\n"
          ]
        }
      ]
    },
    {
      "cell_type": "code",
      "source": [
        "sns.boxplot(jogadores['age'], showmeans = True)\n",
        "print(jogadores['age'].describe())"
      ],
      "metadata": {
        "colab": {
          "base_uri": "https://localhost:8080/",
          "height": 573
        },
        "id": "XcfgdoIFB_H-",
        "outputId": "7d6f0e89-d554-4c77-9d66-5cadb768b02d"
      },
      "execution_count": 12,
      "outputs": [
        {
          "output_type": "stream",
          "name": "stdout",
          "text": [
            "count    350.000000\n",
            "mean      34.305714\n",
            "std        5.144415\n",
            "min       22.000000\n",
            "25%       31.000000\n",
            "50%       34.000000\n",
            "75%       38.000000\n",
            "max       49.000000\n",
            "Name: age, dtype: float64\n"
          ]
        },
        {
          "output_type": "display_data",
          "data": {
            "text/plain": [
              "<Figure size 640x480 with 1 Axes>"
            ],
            "image/png": "[encoded data removed]"
          },
          "metadata": {}
        }
      ]
    }
  ]
}