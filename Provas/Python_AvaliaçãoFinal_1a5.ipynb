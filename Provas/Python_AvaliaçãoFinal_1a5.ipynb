{
  "cells": [
    {
      "cell_type": "markdown",
      "metadata": {
        "id": "view-in-github",
        "colab_type": "text"
      },
      "source": [
        "<a href=\"https://colab.research.google.com/github/fhsmartins/MBA/blob/main/Provas/Python_Avaliac%CC%A7a%CC%83oFinal_1a5.ipynb\" target=\"_parent\"><img src=\"https://colab.research.google.com/assets/colab-badge.svg\" alt=\"Open In Colab\"/></a>"
      ]
    },
    {
      "cell_type": "markdown",
      "metadata": {
        "id": "6N888NiuBvFG"
      },
      "source": [
        "# <font color=\"red\"> MBA em IA e Big Data</font>\n",
        "## <span style=\"color:red\">Linguagens e Ferramentas para Inteligência Artificial e Big Data (Python e SQL)</span>\n",
        "\n",
        "### <span style=\"color:darkred\">Python: referências, operações e funções</span>\n",
        "\n",
        "## Avaliação\n",
        "\n",
        "*Leandro Franco de Souza*<br>\n",
        "*ICMC/USP São Carlos*\n",
        "\n",
        "*(com material do Prof. Moacir Antonelli Ponti)*"
      ]
    },
    {
      "cell_type": "markdown",
      "metadata": {
        "id": "Ki9D7-4cBvFK"
      },
      "source": [
        "<font color='red'> As respostas devem ser fornecidas no Moodle. O notebook é apenas para a implementação dos códigos que fornecerão as respostas</font>"
      ]
    },
    {
      "cell_type": "markdown",
      "metadata": {
        "id": "y-nKXZ9bBvFL"
      },
      "source": [
        "## Questão 1\n",
        "\n",
        "Considere que temos tuplas contendo registros de passageiros em um vôo. As tuplas são organizadas de forma que os elementos estão sempre nessa ordem:\n",
        "* Abreviação do país com 3 letras (ex. 'BRA', 'ARG')\n",
        "* Código do Passaporte\n",
        "* Mês de vencimento do passaporte\n",
        "* Ano de vencimento do passaporte\n",
        "* Valor pago pelo trecho\n",
        "\n",
        "Seja uma lista contendo tuplas do tipo acima.  Calcule o valor médio pago pelo trecho entre todos os passageiros com vencimento do passaporte em 2031, usando o round para mostrar este valor com 2 casas decimais.\n",
        "\n",
        "a) 1008.22<br>\n",
        "b) 1005.32<br>\n",
        "c) 999.99<br>\n",
        "d) 1034.54"
      ]
    },
    {
      "cell_type": "code",
      "execution_count": 2,
      "metadata": {
        "id": "nUMNgfvfBvFM"
      },
      "outputs": [],
      "source": [
        "lv = [('BRA', 'DFD-2992', 12, 2031, 999.0),\n",
        "      ('ARG', '1112992', 1, 2032, 899.0),\n",
        "      ('EUA', 'AB3DA000', 11, 2031, 1023.0),\n",
        "      ('BRA', 'GCG-1112', 9, 2031, 900.0),\n",
        "      ('ESP', 'DFD-2992', 11, 2031, 899.0),\n",
        "      ('URU', 'AEC423', 3, 2033, 699.0),\n",
        "      ('PAR', 'DFD-2992', 2, 2035, 1099.0),\n",
        "      ('ARL', 'X123111Z', 10, 2031, 954.0),\n",
        "      ('URU', 'BAC203', 2, 2035, 1011.0),\n",
        "      ('ARG', '3112323', 10, 2031, 1250.0),\n",
        "      ('URU', 'ABC123', 12, 2034, 1001.5),\n",
        "      ('BRA', 'AAB-2992', 8, 2031, 1050.9),\n",
        "      ('BRA', 'EFE-2992', 8, 2032, 1170.1),\n",
        "      ('VEN', 'GAC292', 4, 2033, 1000.6),\n",
        "      ('PER', '2992DDE', 9, 2031, 989.9)]"
      ]
    },
    {
      "cell_type": "code",
      "source": [
        "# Filtrar passageiros com vencimento do passaporte em 2031\n",
        "lv_2031 = [p for p in lv if p[3] == 2031]\n",
        "\n",
        "# Extrair valores pagos\n",
        "lv_valores__2031 = [p[4] for p in lv_2031]\n",
        "\n",
        "# Calcular a média dos valores pagos\n",
        "lv_media_valores_2031 = sum(lv_valores__2031) / len(lv_valores__2031)\n",
        "\n",
        "# Arredondar a média para duas casas decimais\n",
        "media_valores_2031_arredondada = round(lv_media_valores_2031, 2)\n",
        "\n",
        "media_valores_2031_arredondada"
      ],
      "metadata": {
        "colab": {
          "base_uri": "https://localhost:8080/"
        },
        "id": "xEkKjja83lQc",
        "outputId": "1d091d35-62ae-45ed-98eb-e5f002108aea"
      },
      "execution_count": 5,
      "outputs": [
        {
          "output_type": "execute_result",
          "data": {
            "text/plain": [
              "1008.22"
            ]
          },
          "metadata": {},
          "execution_count": 5
        }
      ]
    },
    {
      "cell_type": "markdown",
      "metadata": {
        "id": "7b3nZf5nBvFR"
      },
      "source": [
        "## Questão 2\n",
        "\n",
        "Considerando vogais = \"aeiouAEIOU\", crie uma função que tenham como entrada um conjunto de caracteres qualquer e a saída seja o número de vogais deste conjunto de caracteres.\n",
        "\n",
        "A seguir, usando esta função, para contar quantas vogais tem no conjunto formado por todos os códigos dos passaportes ('DFD-2992', '1112992', e assim por diante).\n",
        "\n",
        "O valor total é:\n",
        "\n",
        "a) 10<br>\n",
        "b) 11<br>\n",
        "c) 12<br>\n",
        "d) 13"
      ]
    },
    {
      "cell_type": "code",
      "execution_count": 13,
      "metadata": {
        "id": "hz44orUVBvFS"
      },
      "outputs": [],
      "source": [
        "lv = [('BRA', 'DFD-2992', 12, 2031, 999.0),\n",
        "      ('ARG', '1112992', 1, 2032, 899.0),\n",
        "      ('EUA', 'AB3DA000', 11, 2031, 1023.0),\n",
        "      ('BRA', 'GCG-1112', 9, 2031, 900.0),\n",
        "      ('ESP', 'DFD-2992', 11, 2031, 899.0),\n",
        "      ('URU', 'AEC423', 3, 2033, 699.0),\n",
        "      ('PAR', 'DFD-2992', 2, 2035, 1099.0),\n",
        "      ('ARL', 'X123111Z', 10, 2031, 954.0),\n",
        "      ('URU', 'BAC203', 2, 2035, 1011.0),\n",
        "      ('ARG', '3112323', 10, 2031, 1250.0),\n",
        "      ('URU', 'ABC123', 12, 2034, 1001.5),\n",
        "      ('BRA', 'AAB-2992', 8, 2031, 1050.9),\n",
        "      ('BRA', 'EFE-2992', 8, 2032, 1170.1),\n",
        "      ('VEN', 'GAC292', 4, 2033, 1000.6),\n",
        "      ('PER', '2992DDE', 9, 2031, 989.9)]"
      ]
    },
    {
      "cell_type": "code",
      "source": [
        "from google.colab import drive\n",
        "drive.mount('/content/drive')"
      ],
      "metadata": {
        "id": "3PfCvimx6po-"
      },
      "execution_count": null,
      "outputs": []
    },
    {
      "cell_type": "code",
      "source": [
        "def contar_vogais(texto):\n",
        "    vogais = \"aeiouAEIOU\"\n",
        "    contador = 0\n",
        "    for char in texto:\n",
        "        if char in vogais:\n",
        "            contador += 1\n",
        "    return contador\n",
        "\n",
        "# Concatenar todos os códigos de passaporte em uma única string\n",
        "todos_codigos = ''.join([registro[1] for registro in lv])\n",
        "\n",
        "# Contar o número de vogais na string concatenada\n",
        "numero_vogais = contar_vogais(todos_codigos)\n",
        "\n",
        "print(numero_vogais)"
      ],
      "metadata": {
        "colab": {
          "base_uri": "https://localhost:8080/"
        },
        "id": "I_W18_oW4w1J",
        "outputId": "7274ba6e-8a97-4267-a394-ff18a42761a6"
      },
      "execution_count": 12,
      "outputs": [
        {
          "output_type": "stream",
          "name": "stdout",
          "text": [
            "12\n"
          ]
        }
      ]
    },
    {
      "cell_type": "markdown",
      "metadata": {
        "id": "e1sln68OBvFU"
      },
      "source": [
        "## Questão 3\n",
        "\n",
        "Carregue o arquivo <font style=\"font-family: monaco\">WorldCupMatches.csv</font>, disponível para download. Baixe o arquivo no seu diretório de trabalho para responder as questões.\n",
        "\n",
        "O arquivo <font style=\"font-family: monaco\">WorldCupMatches.csv</font> contém informações sobre todas as partidas de copas do mundo entre 1930 e 2014, ou seja, cada linha no arquivo corresponde a uma partida de futebol em copa do mundo.\n",
        "\n",
        "Algumas das colunas que serão importantes para resolver as questões são:\n",
        "- __Year__: indica o ano da copa\n",
        "- __Stage__: em qual fase da copa a partida aconteceu\n",
        "- __HomeTeamName__: nome do time anfitrião da partida\n",
        "- __AwayTeamName__: nome do time adversário na partida\n",
        "- __Attendance__: número de espectadores da partida\n",
        "- __Stadium__: estádio onde a partida foi realizada\n",
        "\n",
        "Crie uma função que tenha como entrada dois paises e o dataframe partidas:\n",
        "\n",
        "<font style=\"font-family: monaco\">def jogospaises(pais1,pais2,partidas):</font>\n",
        "\n",
        "e que tenha como saída uma tupla, com o número total de partidas entre os dois time e uma lista contendo os anos em que as partidas foram realizadas.\n",
        "\n",
        "Dica: use o método  <font color='red'>.iterrows()</font> do Pandas.\n",
        "\n",
        "Quantos jogos o 'Brazil' e 'England' já realizaram e em quais anos?\n",
        "\n",
        "a) (2, [2002, 2014]<br>\n",
        "b) (4, [1974, 1978, 1982, 1990])<br>\n",
        "c) (4, [1958, 1962, 1970, 2002])<br>\n",
        "d) (5, [1938, 1970, 1978, 1982, 1994])"
      ]
    },
    {
      "cell_type": "code",
      "execution_count": 17,
      "metadata": {
        "id": "ueCJX6rDBvFU"
      },
      "outputs": [],
      "source": [
        "import pandas as pd\n",
        "\n",
        "# subir o arquivo aqui no content - sempre\n",
        "partidas = pd.read_csv('WorldCupMatches.csv')"
      ]
    },
    {
      "cell_type": "code",
      "source": [
        "def jogospaises(pais1, pais2, partidas):\n",
        "    total_partidas = 0\n",
        "    anos_partidas = []\n",
        "\n",
        "    for index, row in partidas.iterrows():\n",
        "        if (row['HomeTeamName'] == pais1 and row['AwayTeamName'] == pais2) or (row['HomeTeamName'] == pais2 and row['AwayTeamName'] == pais1):\n",
        "            total_partidas += 1\n",
        "            anos_partidas.append(row['Year'])\n",
        "\n",
        "    return total_partidas, anos_partidas\n",
        "\n",
        "# Chamar a função com os países 'Brazil' e 'England'\n",
        "total_jogos, anos = jogospaises('Brazil', 'England', partidas)\n",
        "\n",
        "# Exibir o resultado\n",
        "print(f'Total de jogos entre Brazil e England: {total_jogos}')\n",
        "print(f'Anos em que as partidas foram realizadas: {anos}')"
      ],
      "metadata": {
        "colab": {
          "base_uri": "https://localhost:8080/"
        },
        "id": "pr1d4Eh97tli",
        "outputId": "efde075b-bd83-49e5-e9d0-84041fbe307c"
      },
      "execution_count": 18,
      "outputs": [
        {
          "output_type": "stream",
          "name": "stdout",
          "text": [
            "Total de jogos entre Brazil e England: 4\n",
            "Anos em que as partidas foram realizadas: [1958, 1962, 1970, 2002]\n"
          ]
        }
      ]
    },
    {
      "cell_type": "markdown",
      "metadata": {
        "id": "dxLFm9iItiFv"
      },
      "source": [
        "## Questão 4\n",
        "\n",
        "Carregue o arquivo <font style=\"font-family: monaco\">paises.csv</font>, disponível para download. Baixe o arquivo no seu diretório de trabalho para responder as questões.\n",
        "\n",
        "O arquivo <font style=\"font-family: monaco\">paises.csv</font> contém informações sobre 173 países, com a população e área de cada país.\n",
        "\n",
        "Algumas das colunas que serão importantes para resolver as questões são:\n",
        "- __País__: Nome do país\n",
        "- __População__: População do país\n",
        "- __Área (km²)__: Área do país\n",
        "\n",
        "Quais países tem densidade demográfica superior a 1000 habitantes por quilômetro quadrado e mais do que 5 milhões de habitantes?\n",
        "\n",
        "a) Bangladesh, Hong Kong, Singapura e Maldivas<br>\n",
        "b) Bangladesh, Hong Kong e Maldivas<br>\n",
        "c) Bangladesh, Hong Kong e Singapura<br>\n",
        "d) Bangladesh, Hong Kong, Singapura, Maldivas e Malta"
      ]
    },
    {
      "cell_type": "code",
      "execution_count": 20,
      "metadata": {
        "id": "F3Ipvslj1V_Z",
        "colab": {
          "base_uri": "https://localhost:8080/"
        },
        "outputId": "1312ea90-9a8d-4a14-ad44-5ffe2006a810"
      },
      "outputs": [
        {
          "output_type": "stream",
          "name": "stdout",
          "text": [
            "<class 'pandas.core.frame.DataFrame'>\n",
            "RangeIndex: 173 entries, 0 to 172\n",
            "Data columns (total 3 columns):\n",
            " #   Column      Non-Null Count  Dtype \n",
            "---  ------      --------------  ----- \n",
            " 0   País        173 non-null    object\n",
            " 1   População   173 non-null    int64 \n",
            " 2   Área (km²)  173 non-null    int64 \n",
            "dtypes: int64(2), object(1)\n",
            "memory usage: 4.2+ KB\n",
            "None\n"
          ]
        }
      ],
      "source": [
        "import pandas as pd\n",
        "\n",
        "# Carregar o arquivo CSV\n",
        "df = pd.read_csv('paises.csv')\n",
        "print(df.info())"
      ]
    },
    {
      "cell_type": "code",
      "source": [
        "# Carregar o arquivo CSV (se ainda não estiver carregado)\n",
        "try:\n",
        "    df\n",
        "except NameError:\n",
        "    df = pd.read_csv('paises.csv')\n",
        "\n",
        "# Calcular a densidade demográfica (população / área)\n",
        "df['Densidade'] = df['População'] / df['Área (km²)']\n",
        "\n",
        "# Filtrar os países com densidade demográfica superior a 1000 habitantes por km² e mais de 5 milhões de habitantes\n",
        "filtro = (df['Densidade'] > 1000) & (df['População'] > 5000000)\n",
        "paises_filtrados = df[filtro]\n",
        "\n",
        "# Selecionar apenas a coluna 'País' para os países que atendem aos critérios\n",
        "paises_resultado = paises_filtrados['País'].tolist()\n",
        "\n",
        "# Exibir os países que atendem aos critérios\n",
        "print(paises_resultado)"
      ],
      "metadata": {
        "colab": {
          "base_uri": "https://localhost:8080/"
        },
        "id": "wmuvjcsg8cQQ",
        "outputId": "968984ab-b9c9-4d9d-acd4-dcd5ce500898"
      },
      "execution_count": 24,
      "outputs": [
        {
          "output_type": "stream",
          "name": "stdout",
          "text": [
            "['Bangladesh', 'Hong Kong', 'Singapura']\n"
          ]
        }
      ]
    },
    {
      "cell_type": "markdown",
      "metadata": {
        "id": "4RbnnOkX1V_Z"
      },
      "source": [
        "## Questão 5\n",
        "\n",
        "Carregue o arquivo `CPI2023-Global-Results-Trends.csv`.\n",
        "\n",
        "\n",
        "1. Remover os NAN, eliminando as linhas que contém elementos faltantes.\n",
        "2. Qual o números de linhas eliminados e qual a correlação entre \"CPI score 2023\" e: \"Global Insights Country Risk Ratings\" e \"Varieties of Democracy Project\"?\n",
        "\n",
        "a) 60, 0.926672 e 0.902495<br>\n",
        "b) 120, 0.926672 e 0.902495<br>\n",
        "c) 60, 0.935996 e 0.899875<br>\n",
        "d) 120, 0.935996 e 0.899875<br>\n"
      ]
    },
    {
      "cell_type": "code",
      "execution_count": 25,
      "metadata": {
        "id": "i2pWa2AB1V_a",
        "colab": {
          "base_uri": "https://localhost:8080/",
          "height": 310
        },
        "outputId": "c9600b7a-8f5a-4877-e921-1806e692deb3"
      },
      "outputs": [
        {
          "output_type": "execute_result",
          "data": {
            "text/plain": [
              "       Country Region  CPI score 2023  Rank  Number of sources  Lower CI  \\\n",
              "0      Denmark  WE/EU              90     1                  8        87   \n",
              "1      Finland  WE/EU              87     2                  8        85   \n",
              "2  New Zealand     AP              85     3                  8        82   \n",
              "3       Norway  WE/EU              84     4                  7        82   \n",
              "4    Singapore     AP              83     5                  9        81   \n",
              "\n",
              "   Upper CI  Global Insights Country Risk Ratings  \\\n",
              "0        93                                    83   \n",
              "1        89                                    83   \n",
              "2        88                                    83   \n",
              "3        86                                    83   \n",
              "4        85                                    83   \n",
              "\n",
              "   PRS International Country Risk Guide  Varieties of Democracy Project  \\\n",
              "0                                 100.0                            79.0   \n",
              "1                                  93.0                            78.0   \n",
              "2                                  93.0                            78.0   \n",
              "3                                  85.0                            78.0   \n",
              "4                                  83.0                            78.0   \n",
              "\n",
              "   World Justice Project Rule of Law Index  \n",
              "0                                     88.0  \n",
              "1                                     86.0  \n",
              "2                                     82.0  \n",
              "3                                     87.0  \n",
              "4                                     84.0  "
            ],
            "text/html": [
              "\n",
              "  <div id=\"df-5c9663aa-ccfa-4699-b09b-d75d52d4e529\" class=\"colab-df-container\">\n",
              "    <div>\n",
              "<style scoped>\n",
              "    .dataframe tbody tr th:only-of-type {\n",
              "        vertical-align: middle;\n",
              "    }\n",
              "\n",
              "    .dataframe tbody tr th {\n",
              "        vertical-align: top;\n",
              "    }\n",
              "\n",
              "    .dataframe thead th {\n",
              "        text-align: right;\n",
              "    }\n",
              "</style>\n",
              "<table border=\"1\" class=\"dataframe\">\n",
              "  <thead>\n",
              "    <tr style=\"text-align: right;\">\n",
              "      <th></th>\n",
              "      <th>Country</th>\n",
              "      <th>Region</th>\n",
              "      <th>CPI score 2023</th>\n",
              "      <th>Rank</th>\n",
              "      <th>Number of sources</th>\n",
              "      <th>Lower CI</th>\n",
              "      <th>Upper CI</th>\n",
              "      <th>Global Insights Country Risk Ratings</th>\n",
              "      <th>PRS International Country Risk Guide</th>\n",
              "      <th>Varieties of Democracy Project</th>\n",
              "      <th>World Justice Project Rule of Law Index</th>\n",
              "    </tr>\n",
              "  </thead>\n",
              "  <tbody>\n",
              "    <tr>\n",
              "      <th>0</th>\n",
              "      <td>Denmark</td>\n",
              "      <td>WE/EU</td>\n",
              "      <td>90</td>\n",
              "      <td>1</td>\n",
              "      <td>8</td>\n",
              "      <td>87</td>\n",
              "      <td>93</td>\n",
              "      <td>83</td>\n",
              "      <td>100.0</td>\n",
              "      <td>79.0</td>\n",
              "      <td>88.0</td>\n",
              "    </tr>\n",
              "    <tr>\n",
              "      <th>1</th>\n",
              "      <td>Finland</td>\n",
              "      <td>WE/EU</td>\n",
              "      <td>87</td>\n",
              "      <td>2</td>\n",
              "      <td>8</td>\n",
              "      <td>85</td>\n",
              "      <td>89</td>\n",
              "      <td>83</td>\n",
              "      <td>93.0</td>\n",
              "      <td>78.0</td>\n",
              "      <td>86.0</td>\n",
              "    </tr>\n",
              "    <tr>\n",
              "      <th>2</th>\n",
              "      <td>New Zealand</td>\n",
              "      <td>AP</td>\n",
              "      <td>85</td>\n",
              "      <td>3</td>\n",
              "      <td>8</td>\n",
              "      <td>82</td>\n",
              "      <td>88</td>\n",
              "      <td>83</td>\n",
              "      <td>93.0</td>\n",
              "      <td>78.0</td>\n",
              "      <td>82.0</td>\n",
              "    </tr>\n",
              "    <tr>\n",
              "      <th>3</th>\n",
              "      <td>Norway</td>\n",
              "      <td>WE/EU</td>\n",
              "      <td>84</td>\n",
              "      <td>4</td>\n",
              "      <td>7</td>\n",
              "      <td>82</td>\n",
              "      <td>86</td>\n",
              "      <td>83</td>\n",
              "      <td>85.0</td>\n",
              "      <td>78.0</td>\n",
              "      <td>87.0</td>\n",
              "    </tr>\n",
              "    <tr>\n",
              "      <th>4</th>\n",
              "      <td>Singapore</td>\n",
              "      <td>AP</td>\n",
              "      <td>83</td>\n",
              "      <td>5</td>\n",
              "      <td>9</td>\n",
              "      <td>81</td>\n",
              "      <td>85</td>\n",
              "      <td>83</td>\n",
              "      <td>83.0</td>\n",
              "      <td>78.0</td>\n",
              "      <td>84.0</td>\n",
              "    </tr>\n",
              "  </tbody>\n",
              "</table>\n",
              "</div>\n",
              "    <div class=\"colab-df-buttons\">\n",
              "\n",
              "  <div class=\"colab-df-container\">\n",
              "    <button class=\"colab-df-convert\" onclick=\"convertToInteractive('df-5c9663aa-ccfa-4699-b09b-d75d52d4e529')\"\n",
              "            title=\"Convert this dataframe to an interactive table.\"\n",
              "            style=\"display:none;\">\n",
              "\n",
              "  <svg xmlns=\"http://www.w3.org/2000/svg\" height=\"24px\" viewBox=\"0 -960 960 960\">\n",
              "    <path d=\"M120-120v-720h720v720H120Zm60-500h600v-160H180v160Zm220 220h160v-160H400v160Zm0 220h160v-160H400v160ZM180-400h160v-160H180v160Zm440 0h160v-160H620v160ZM180-180h160v-160H180v160Zm440 0h160v-160H620v160Z\"/>\n",
              "  </svg>\n",
              "    </button>\n",
              "\n",
              "  <style>\n",
              "    .colab-df-container {\n",
              "      display:flex;\n",
              "      gap: 12px;\n",
              "    }\n",
              "\n",
              "    .colab-df-convert {\n",
              "      background-color: #E8F0FE;\n",
              "      border: none;\n",
              "      border-radius: 50%;\n",
              "      cursor: pointer;\n",
              "      display: none;\n",
              "      fill: #1967D2;\n",
              "      height: 32px;\n",
              "      padding: 0 0 0 0;\n",
              "      width: 32px;\n",
              "    }\n",
              "\n",
              "    .colab-df-convert:hover {\n",
              "      background-color: #E2EBFA;\n",
              "      box-shadow: 0px 1px 2px rgba(60, 64, 67, 0.3), 0px 1px 3px 1px rgba(60, 64, 67, 0.15);\n",
              "      fill: #174EA6;\n",
              "    }\n",
              "\n",
              "    .colab-df-buttons div {\n",
              "      margin-bottom: 4px;\n",
              "    }\n",
              "\n",
              "    [theme=dark] .colab-df-convert {\n",
              "      background-color: #3B4455;\n",
              "      fill: #D2E3FC;\n",
              "    }\n",
              "\n",
              "    [theme=dark] .colab-df-convert:hover {\n",
              "      background-color: #434B5C;\n",
              "      box-shadow: 0px 1px 3px 1px rgba(0, 0, 0, 0.15);\n",
              "      filter: drop-shadow(0px 1px 2px rgba(0, 0, 0, 0.3));\n",
              "      fill: #FFFFFF;\n",
              "    }\n",
              "  </style>\n",
              "\n",
              "    <script>\n",
              "      const buttonEl =\n",
              "        document.querySelector('#df-5c9663aa-ccfa-4699-b09b-d75d52d4e529 button.colab-df-convert');\n",
              "      buttonEl.style.display =\n",
              "        google.colab.kernel.accessAllowed ? 'block' : 'none';\n",
              "\n",
              "      async function convertToInteractive(key) {\n",
              "        const element = document.querySelector('#df-5c9663aa-ccfa-4699-b09b-d75d52d4e529');\n",
              "        const dataTable =\n",
              "          await google.colab.kernel.invokeFunction('convertToInteractive',\n",
              "                                                    [key], {});\n",
              "        if (!dataTable) return;\n",
              "\n",
              "        const docLinkHtml = 'Like what you see? Visit the ' +\n",
              "          '<a target=\"_blank\" href=https://colab.research.google.com/notebooks/data_table.ipynb>data table notebook</a>'\n",
              "          + ' to learn more about interactive tables.';\n",
              "        element.innerHTML = '';\n",
              "        dataTable['output_type'] = 'display_data';\n",
              "        await google.colab.output.renderOutput(dataTable, element);\n",
              "        const docLink = document.createElement('div');\n",
              "        docLink.innerHTML = docLinkHtml;\n",
              "        element.appendChild(docLink);\n",
              "      }\n",
              "    </script>\n",
              "  </div>\n",
              "\n",
              "\n",
              "<div id=\"df-5ab583b6-d02c-4239-9322-0af7e4d7ebef\">\n",
              "  <button class=\"colab-df-quickchart\" onclick=\"quickchart('df-5ab583b6-d02c-4239-9322-0af7e4d7ebef')\"\n",
              "            title=\"Suggest charts\"\n",
              "            style=\"display:none;\">\n",
              "\n",
              "<svg xmlns=\"http://www.w3.org/2000/svg\" height=\"24px\"viewBox=\"0 0 24 24\"\n",
              "     width=\"24px\">\n",
              "    <g>\n",
              "        <path d=\"M19 3H5c-1.1 0-2 .9-2 2v14c0 1.1.9 2 2 2h14c1.1 0 2-.9 2-2V5c0-1.1-.9-2-2-2zM9 17H7v-7h2v7zm4 0h-2V7h2v10zm4 0h-2v-4h2v4z\"/>\n",
              "    </g>\n",
              "</svg>\n",
              "  </button>\n",
              "\n",
              "<style>\n",
              "  .colab-df-quickchart {\n",
              "      --bg-color: #E8F0FE;\n",
              "      --fill-color: #1967D2;\n",
              "      --hover-bg-color: #E2EBFA;\n",
              "      --hover-fill-color: #174EA6;\n",
              "      --disabled-fill-color: #AAA;\n",
              "      --disabled-bg-color: #DDD;\n",
              "  }\n",
              "\n",
              "  [theme=dark] .colab-df-quickchart {\n",
              "      --bg-color: #3B4455;\n",
              "      --fill-color: #D2E3FC;\n",
              "      --hover-bg-color: #434B5C;\n",
              "      --hover-fill-color: #FFFFFF;\n",
              "      --disabled-bg-color: #3B4455;\n",
              "      --disabled-fill-color: #666;\n",
              "  }\n",
              "\n",
              "  .colab-df-quickchart {\n",
              "    background-color: var(--bg-color);\n",
              "    border: none;\n",
              "    border-radius: 50%;\n",
              "    cursor: pointer;\n",
              "    display: none;\n",
              "    fill: var(--fill-color);\n",
              "    height: 32px;\n",
              "    padding: 0;\n",
              "    width: 32px;\n",
              "  }\n",
              "\n",
              "  .colab-df-quickchart:hover {\n",
              "    background-color: var(--hover-bg-color);\n",
              "    box-shadow: 0 1px 2px rgba(60, 64, 67, 0.3), 0 1px 3px 1px rgba(60, 64, 67, 0.15);\n",
              "    fill: var(--button-hover-fill-color);\n",
              "  }\n",
              "\n",
              "  .colab-df-quickchart-complete:disabled,\n",
              "  .colab-df-quickchart-complete:disabled:hover {\n",
              "    background-color: var(--disabled-bg-color);\n",
              "    fill: var(--disabled-fill-color);\n",
              "    box-shadow: none;\n",
              "  }\n",
              "\n",
              "  .colab-df-spinner {\n",
              "    border: 2px solid var(--fill-color);\n",
              "    border-color: transparent;\n",
              "    border-bottom-color: var(--fill-color);\n",
              "    animation:\n",
              "      spin 1s steps(1) infinite;\n",
              "  }\n",
              "\n",
              "  @keyframes spin {\n",
              "    0% {\n",
              "      border-color: transparent;\n",
              "      border-bottom-color: var(--fill-color);\n",
              "      border-left-color: var(--fill-color);\n",
              "    }\n",
              "    20% {\n",
              "      border-color: transparent;\n",
              "      border-left-color: var(--fill-color);\n",
              "      border-top-color: var(--fill-color);\n",
              "    }\n",
              "    30% {\n",
              "      border-color: transparent;\n",
              "      border-left-color: var(--fill-color);\n",
              "      border-top-color: var(--fill-color);\n",
              "      border-right-color: var(--fill-color);\n",
              "    }\n",
              "    40% {\n",
              "      border-color: transparent;\n",
              "      border-right-color: var(--fill-color);\n",
              "      border-top-color: var(--fill-color);\n",
              "    }\n",
              "    60% {\n",
              "      border-color: transparent;\n",
              "      border-right-color: var(--fill-color);\n",
              "    }\n",
              "    80% {\n",
              "      border-color: transparent;\n",
              "      border-right-color: var(--fill-color);\n",
              "      border-bottom-color: var(--fill-color);\n",
              "    }\n",
              "    90% {\n",
              "      border-color: transparent;\n",
              "      border-bottom-color: var(--fill-color);\n",
              "    }\n",
              "  }\n",
              "</style>\n",
              "\n",
              "  <script>\n",
              "    async function quickchart(key) {\n",
              "      const quickchartButtonEl =\n",
              "        document.querySelector('#' + key + ' button');\n",
              "      quickchartButtonEl.disabled = true;  // To prevent multiple clicks.\n",
              "      quickchartButtonEl.classList.add('colab-df-spinner');\n",
              "      try {\n",
              "        const charts = await google.colab.kernel.invokeFunction(\n",
              "            'suggestCharts', [key], {});\n",
              "      } catch (error) {\n",
              "        console.error('Error during call to suggestCharts:', error);\n",
              "      }\n",
              "      quickchartButtonEl.classList.remove('colab-df-spinner');\n",
              "      quickchartButtonEl.classList.add('colab-df-quickchart-complete');\n",
              "    }\n",
              "    (() => {\n",
              "      let quickchartButtonEl =\n",
              "        document.querySelector('#df-5ab583b6-d02c-4239-9322-0af7e4d7ebef button');\n",
              "      quickchartButtonEl.style.display =\n",
              "        google.colab.kernel.accessAllowed ? 'block' : 'none';\n",
              "    })();\n",
              "  </script>\n",
              "</div>\n",
              "\n",
              "    </div>\n",
              "  </div>\n"
            ],
            "application/vnd.google.colaboratory.intrinsic+json": {
              "type": "dataframe",
              "variable_name": "df",
              "summary": "{\n  \"name\": \"df\",\n  \"rows\": 180,\n  \"fields\": [\n    {\n      \"column\": \"Country\",\n      \"properties\": {\n        \"dtype\": \"string\",\n        \"num_unique_values\": 180,\n        \"samples\": [\n          \"Austria\",\n          \"Italy\",\n          \"Azerbaijan\"\n        ],\n        \"semantic_type\": \"\",\n        \"description\": \"\"\n      }\n    },\n    {\n      \"column\": \"Region\",\n      \"properties\": {\n        \"dtype\": \"category\",\n        \"num_unique_values\": 6,\n        \"samples\": [\n          \"WE/EU\",\n          \"AP\",\n          \"ECA\"\n        ],\n        \"semantic_type\": \"\",\n        \"description\": \"\"\n      }\n    },\n    {\n      \"column\": \"CPI score 2023\",\n      \"properties\": {\n        \"dtype\": \"number\",\n        \"std\": 18,\n        \"min\": 11,\n        \"max\": 90,\n        \"num_unique_values\": 68,\n        \"samples\": [\n          36,\n          67,\n          83\n        ],\n        \"semantic_type\": \"\",\n        \"description\": \"\"\n      }\n    },\n    {\n      \"column\": \"Rank\",\n      \"properties\": {\n        \"dtype\": \"number\",\n        \"std\": 51,\n        \"min\": 1,\n        \"max\": 180,\n        \"num_unique_values\": 68,\n        \"samples\": [\n          104,\n          28,\n          5\n        ],\n        \"semantic_type\": \"\",\n        \"description\": \"\"\n      }\n    },\n    {\n      \"column\": \"Number of sources\",\n      \"properties\": {\n        \"dtype\": \"number\",\n        \"std\": 1,\n        \"min\": 3,\n        \"max\": 10,\n        \"num_unique_values\": 8,\n        \"samples\": [\n          7,\n          4,\n          8\n        ],\n        \"semantic_type\": \"\",\n        \"description\": \"\"\n      }\n    },\n    {\n      \"column\": \"Lower CI\",\n      \"properties\": {\n        \"dtype\": \"number\",\n        \"std\": 18,\n        \"min\": 8,\n        \"max\": 87,\n        \"num_unique_values\": 69,\n        \"samples\": [\n          58,\n          87,\n          30\n        ],\n        \"semantic_type\": \"\",\n        \"description\": \"\"\n      }\n    },\n    {\n      \"column\": \"Upper CI\",\n      \"properties\": {\n        \"dtype\": \"number\",\n        \"std\": 18,\n        \"min\": 14,\n        \"max\": 93,\n        \"num_unique_values\": 68,\n        \"samples\": [\n          36,\n          69,\n          85\n        ],\n        \"semantic_type\": \"\",\n        \"description\": \"\"\n      }\n    },\n    {\n      \"column\": \"Global Insights Country Risk Ratings\",\n      \"properties\": {\n        \"dtype\": \"number\",\n        \"std\": 18,\n        \"min\": 10,\n        \"max\": 83,\n        \"num_unique_values\": 7,\n        \"samples\": [\n          83,\n          71,\n          22\n        ],\n        \"semantic_type\": \"\",\n        \"description\": \"\"\n      }\n    },\n    {\n      \"column\": \"PRS International Country Risk Guide\",\n      \"properties\": {\n        \"dtype\": \"number\",\n        \"std\": 20.642230882010505,\n        \"min\": 6.0,\n        \"max\": 100.0,\n        \"num_unique_values\": 35,\n        \"samples\": [\n          25.0,\n          56.0,\n          30.0\n        ],\n        \"semantic_type\": \"\",\n        \"description\": \"\"\n      }\n    },\n    {\n      \"column\": \"Varieties of Democracy Project\",\n      \"properties\": {\n        \"dtype\": \"number\",\n        \"std\": 21.434131736183584,\n        \"min\": 9.0,\n        \"max\": 79.0,\n        \"num_unique_values\": 64,\n        \"samples\": [\n          21.0,\n          17.0,\n          79.0\n        ],\n        \"semantic_type\": \"\",\n        \"description\": \"\"\n      }\n    },\n    {\n      \"column\": \"World Justice Project Rule of Law Index\",\n      \"properties\": {\n        \"dtype\": \"number\",\n        \"std\": 20.579818594318052,\n        \"min\": 9.0,\n        \"max\": 88.0,\n        \"num_unique_values\": 61,\n        \"samples\": [\n          88.0,\n          79.0,\n          32.0\n        ],\n        \"semantic_type\": \"\",\n        \"description\": \"\"\n      }\n    }\n  ]\n}"
            }
          },
          "metadata": {},
          "execution_count": 25
        }
      ],
      "source": [
        "import pandas as pd\n",
        "df = pd.read_csv('CPI2023-Global-Results-Trends.csv')\n",
        "df.head()"
      ]
    },
    {
      "cell_type": "code",
      "source": [
        "# Assuming 'CPI2023-Global-Results-Trends.csv' contains your data\n",
        "paises = pd.read_csv('CPI2023-Global-Results-Trends.csv')\n",
        "\n",
        "# Número de linhas antes de remover NaNs\n",
        "linhas_antes = paises.shape[0]\n",
        "\n",
        "# Remover as linhas que contêm valores faltantes (NaN)\n",
        "paises_limpo = paises.dropna()\n",
        "\n",
        "# Número de linhas depois de remover NaNs\n",
        "linhas_depois = paises_limpo.shape[0]\n",
        "\n",
        "# Calcular o número de linhas eliminadas\n",
        "linhas_eliminadas = linhas_antes - linhas_depois\n",
        "\n",
        "# Calcular a correlação entre \"CPI score 2023\" e \"Global Insights Country Risk Ratings\"\n",
        "correlacao_cpi_global_insights = paises_limpo['CPI score 2023'].corr(paises_limpo['Global Insights Country Risk Ratings'])\n",
        "\n",
        "# Calcular a correlação entre \"CPI score 2023\" e \"Varieties of Democracy Project\"\n",
        "correlacao_cpi_vdem = paises_limpo['CPI score 2023'].corr(paises_limpo['Varieties of Democracy Project'])\n",
        "\n",
        "# Exibir os resultados\n",
        "print(f'Número de linhas eliminadas: {linhas_eliminadas}')\n",
        "print(f'Correlação entre \"CPI score 2023\" e \"Global Insights Country Risk Ratings\": {correlacao_cpi_global_insights}')\n",
        "print(f'Correlação entre \"CPI score 2023\" e \"Varieties of Democracy Project\": {correlacao_cpi_vdem}')"
      ],
      "metadata": {
        "colab": {
          "base_uri": "https://localhost:8080/"
        },
        "id": "oceZ8BCw9Ev_",
        "outputId": "969f9e9d-ca7f-433c-82eb-e2e4adbb3cec"
      },
      "execution_count": 27,
      "outputs": [
        {
          "output_type": "stream",
          "name": "stdout",
          "text": [
            "Número de linhas eliminadas: 60\n",
            "Correlação entre \"CPI score 2023\" e \"Global Insights Country Risk Ratings\": 0.9359956021938278\n",
            "Correlação entre \"CPI score 2023\" e \"Varieties of Democracy Project\": 0.8998746358979088\n"
          ]
        }
      ]
    }
  ],
  "metadata": {
    "colab": {
      "provenance": [],
      "include_colab_link": true
    },
    "kernelspec": {
      "display_name": "Python 3",
      "language": "python",
      "name": "python3"
    },
    "language_info": {
      "codemirror_mode": {
        "name": "ipython",
        "version": 3
      },
      "file_extension": ".py",
      "mimetype": "text/x-python",
      "name": "python",
      "nbconvert_exporter": "python",
      "pygments_lexer": "ipython3",
      "version": "3.11.5"
    },
    "toc": {
      "base_numbering": 1,
      "nav_menu": {},
      "number_sections": true,
      "sideBar": true,
      "skip_h1_title": false,
      "title_cell": "Table of Contents",
      "title_sidebar": "Contents",
      "toc_cell": false,
      "toc_position": {},
      "toc_section_display": true,
      "toc_window_display": false
    }
  },
  "nbformat": 4,
  "nbformat_minor": 0
}