{
  "cells": [
    {
      "cell_type": "markdown",
      "metadata": {
        "id": "view-in-github",
        "colab_type": "text"
      },
      "source": [
        "<a href=\"https://colab.research.google.com/github/fhsmartins/MBA/blob/main/Aula01/Python_Exercicios_fixacao.ipynb\" target=\"_parent\"><img src=\"https://colab.research.google.com/assets/colab-badge.svg\" alt=\"Open In Colab\"/></a>"
      ]
    },
    {
      "cell_type": "markdown",
      "metadata": {
        "id": "x8VUohVKQh5l"
      },
      "source": [
        "# <font color=\"red\"> MBA em IA e Big Data</font>\n",
        "## <span style=\"color:red\">Linguagens e Ferramentas para Inteligência Artificial e Big Data (Python e SQL)</span>\n",
        "\n",
        "### <span style=\"color:darkred\">Python: referências, operações e funções</span>\n",
        "\n",
        "## Exercícios\n",
        "\n",
        "*Leandro Franco de Souza*<br>\n",
        "*ICMC/USP São Carlos*\n",
        "\n",
        "*(com material dos Profs. Luis Gustavo Nonato & Moacir Antonelli Ponti)*"
      ]
    },
    {
      "cell_type": "markdown",
      "metadata": {
        "id": "stgpCjFGOIyS"
      },
      "source": [
        "#### <span style=\"color:red\">Recomenda-se fortemente que os exercícios sejam feitos sem consultar as respostas antecipadamente.</span>"
      ]
    },
    {
      "cell_type": "markdown",
      "metadata": {
        "id": "Hq5h9KDdNw6O"
      },
      "source": [
        "### Exercício 1)\n",
        "\n",
        "Qual o tipo do valor resultante das operações abaixo (ou das variáveis as quais foram atribuídos)?\n",
        "\n",
        "a) `False + True`<br>\n",
        "b) `2 * 1e2**2`<br>\n",
        "c) `a = 6/2`<br>\n",
        "d) `x = 6//2 + 6%2`<br>\n",
        "e) `(2 + 4) == 4 or 0 <= 1`<br>"
      ]
    },
    {
      "cell_type": "code",
      "execution_count": 5,
      "metadata": {
        "id": "sQTJrwV1Nw6P",
        "outputId": "7b3c29b5-3bb1-4098-bf10-247ab7f12073",
        "colab": {
          "base_uri": "https://localhost:8080/"
        }
      },
      "outputs": [
        {
          "output_type": "stream",
          "name": "stdout",
          "text": [
            "1 <class 'int'>\n",
            "1 <class 'int'>\n",
            "20000.0 <class 'float'>\n",
            "3.0 <class 'float'>\n",
            "3 <class 'int'>\n",
            "True <class 'bool'>\n"
          ]
        }
      ],
      "source": [
        "# exemplo\n",
        "print(False+True, type(False+True))\n",
        "\n",
        "#a\n",
        "print (False+True, type(False+True))\n",
        "\n",
        "#b\n",
        "print (2 * 1e2**2, type(2 * 1e2**2))\n",
        "\n",
        "#c\n",
        "a = 6/2\n",
        "print (a, type(a))\n",
        "\n",
        "#d\n",
        "x = 6//2 + 6%2\n",
        "print (x, type(x))\n",
        "\n",
        "#e\n",
        "(2 + 4) == 4 or 0 <= 1\n",
        "print ((2 + 4) == 4 or 0 <= 1, type((2 + 4) == 4 or 0 <= 1))"
      ]
    },
    {
      "cell_type": "markdown",
      "metadata": {
        "id": "WHG7tm3QQh5m"
      },
      "source": [
        "### Exercício 2)\n",
        "\n",
        "Crie uma variável contendo um ano (um valor inteiro entre 0 e 3000)\n",
        "\n",
        "A seguir, se o ano for divisível por 4, exiba na tela 'Pode ser um ano bissexto'; caso contrário exiba 'Definitivamente não é um ano bissexto'\n",
        "\n",
        "__Dica:__ Utilize o operador `%` que retorna o resto da divisão de um número por outro."
      ]
    },
    {
      "cell_type": "code",
      "execution_count": null,
      "metadata": {
        "id": "ob1ekA2yNw6R"
      },
      "outputs": [],
      "source": [
        "#a\n",
        "print (False+True)\n",
        "\n",
        "#b\n"
      ]
    },
    {
      "cell_type": "code",
      "execution_count": null,
      "metadata": {
        "id": "pTVOXvzVQh5m"
      },
      "outputs": [],
      "source": []
    },
    {
      "cell_type": "markdown",
      "metadata": {
        "id": "M72PbdAnQh5u"
      },
      "source": [
        "### Exercício 3)\n",
        "\n",
        "Dada a lista `valores` abaixo, crie uma nova lista chamada `numeros` contendo apenas elementos `float` ou `int`.\n",
        "\n",
        "Note que essa nova lista pode ter menos elementos do que a lista existente.\n",
        "\n",
        "Ao final exiba a nova lista `numeros`\n",
        "\n",
        "__Dica__: Percorra a lista com uma estrutura de repetição e utilize `type()` para retornar o tipo e compare com o desejado. Exemplo:\n",
        "```python\n",
        "type(3) == int\n",
        "```\n",
        "Retorna `True`"
      ]
    },
    {
      "cell_type": "code",
      "execution_count": null,
      "metadata": {
        "id": "5HFGhEvMQh5u"
      },
      "outputs": [],
      "source": [
        "valores = ['três', 56, 342, 12.4e-5, 4+3j, ('A', 1, 50.1), -0.19e4, 1000, 960, -406]"
      ]
    },
    {
      "cell_type": "code",
      "execution_count": null,
      "metadata": {
        "id": "ZKiXmG-nNw6U"
      },
      "outputs": [],
      "source": []
    },
    {
      "cell_type": "markdown",
      "metadata": {
        "id": "l7DP2hANNw6V"
      },
      "source": [
        "### Exercício 4)\n",
        "\n",
        "Escreva uma **função** que receba por parâmetro uma taxa de juros pagas ao ano, calcule e retorne um número inteiro relativo a quantos anos serão necessários para que um investimento nessa taxa dobre de valor. Assuma juros compostos e use uma estrutura de repetição para calcular.\n"
      ]
    },
    {
      "cell_type": "code",
      "execution_count": null,
      "metadata": {
        "id": "Xn5TJdmtNw6V"
      },
      "outputs": [],
      "source": []
    },
    {
      "cell_type": "markdown",
      "metadata": {
        "id": "8ZD-mCMPQh5w"
      },
      "source": [
        "### Exercício 5)\n",
        "Considere a lista `linguagens` declarada abaixo.\n",
        "- Utilizando fatiamento, imprima o subconjunto de elementos entre o segundo e o quarto elemento (inclusive)\n",
        "- Gere uma nova lista chamada `maiores4` contendo os elementos da lista `linguagens` que possuam quatro caracteres ou mais, utilizando a função `len()`.\n",
        "- Gere uma nova lista chamada `j_ou_c` contendo os elementos da lista `linguagens` que começam com a letra 'j' ou com a letra 'c'."
      ]
    },
    {
      "cell_type": "code",
      "execution_count": null,
      "metadata": {
        "id": "IL6VO3ilQh5w"
      },
      "outputs": [],
      "source": [
        "linguagens = ['python', 'java', 'c++', 'javascript', 'c#', 'go', 'r', 'cobol', 'ruby', 'lisp']\n"
      ]
    },
    {
      "cell_type": "markdown",
      "metadata": {
        "id": "ziVJFG-nNw6W"
      },
      "source": [
        "\n",
        "### Exercício 6)\n",
        "\n",
        "Codifique uma função `conta_palavras()` que, a partir de um um texto (string) contendo palavras separadas por vírgulas apenas - considere que não há outras pontuações:\n",
        "1. Inicie criando uma lista de palavras e\n",
        "2. Use um dicionário para contar a frequência de cada palavra no texto, retornando o dicionário obtido.\n",
        "\n",
        "*Dica: use a função `str.split()` para separar uma string em substrings usando como delimitador um caracter especificado por argumento*\n",
        "\n",
        "Exemplo:\n",
        "\n",
        "```\n",
        "nomes = \"ana,fábio,cristina,ana,fábio,ubiratã,ana\"\n",
        "freq = conta_palavras(nomes)\n",
        "print(freq)\n",
        "```\n",
        "Deve gerar:\n",
        "```\n",
        "{'ana': 3, 'fábio': 2, 'cristina': 1, 'ubiratã': 1}\n",
        "```"
      ]
    },
    {
      "cell_type": "code",
      "execution_count": null,
      "metadata": {
        "id": "7hIZ3pETNw6X"
      },
      "outputs": [],
      "source": []
    },
    {
      "cell_type": "markdown",
      "metadata": {
        "id": "aYaioiBSQh5y"
      },
      "source": [
        "### Exercício 7)\n",
        "Considere a lista `produtos` definida abaixo, onde cada elemento é uma tupla possuindo:\n",
        "* elemento 1: o nome de um produto\n",
        "* elemento 2: e uma lista de preços encontradas no mercado.\n",
        "\n",
        "Calcule a média de preços de cada produto, salvando o resultado em uma nova lista chamada `preco_medio`.\n",
        "\n",
        "Posteriormente, sorteie um dos produtos e exiba na tela o nome e preço médio desse produto sorteado\n",
        "\n",
        "__Dica:__ Utilize a função `fsum()` do módulo `math` para somar os valores daa lista. Por exemplo:\n",
        "```python\n",
        "ls = [1.0,1.0,1.0,1.0,1.0]\n",
        "print(fsum(ls))\n",
        "```\n",
        "resulta no valor 5"
      ]
    },
    {
      "cell_type": "code",
      "execution_count": null,
      "metadata": {
        "id": "CMmRYn0-Qh5z",
        "scrolled": true
      },
      "outputs": [],
      "source": [
        "produtos = [('soja', [170.1, 183.0, 175.0]),\n",
        "            ('algodao', [143.4]),\n",
        "            ('cacau', [199, 185.1]),\n",
        "            ('café', [880, 750.9, 795.1, 900])]"
      ]
    },
    {
      "cell_type": "code",
      "execution_count": null,
      "metadata": {
        "id": "HLY42K2bNw6Y"
      },
      "outputs": [],
      "source": []
    },
    {
      "cell_type": "markdown",
      "metadata": {
        "id": "2SRQaGs1Nw6Y"
      },
      "source": [
        "Os exercícios a seguir farão uso do arquivo <font style=\"font-family: monaco\">WorldCups.csv</font>\n",
        "\n",
        "O arquivo <font style=\"font-family: monaco\">WorldCups.csv</font> possui as seguintes colunas:\n",
        "- Year: ano da copa\n",
        "- Country: pais sede\n",
        "- Winner: campeão\n",
        "- RunnersUp: disputou a final com o campeão\n",
        "- Third: terceiro colocado\n",
        "- Fourth: quarto colocado\n",
        "- GoalsScored: número de gols na copa\n",
        "- QualifiedTeams: número de times que disputaram a copa\n",
        "- MatchesPlayed: número de jogos\n",
        "- Attendance: número de espectadores (público)"
      ]
    },
    {
      "cell_type": "markdown",
      "metadata": {
        "id": "nWZXBBjRNw6Y"
      },
      "source": [
        "### Exercício 8)\n",
        "Utilizando o <font color='blue'>pandas</font> leia o arquivo <font style=\"font-family: monaco\">WorldCups.csv</font> como DataFrame.\n",
        "- Definina a coluna 'Year' como índice\n",
        "- Exiba as 5 primeiras linhas do DataFrame\n",
        "- Exiba o tipo de dado de cada coluna\n",
        "- Imprima o número de linhas do DataFrame"
      ]
    },
    {
      "cell_type": "code",
      "execution_count": null,
      "metadata": {
        "id": "ZldXisoKNw6Z"
      },
      "outputs": [],
      "source": [
        "# SOLUÇÃO\n",
        "# Voce precisa colocar o caminho do diretório no drive onde o\n",
        "# arquivo WorldCups.csv está"
      ]
    },
    {
      "cell_type": "markdown",
      "metadata": {
        "id": "pCpEdaCvNw6Z"
      },
      "source": [
        "### Exercício 9)\n",
        "Remova as colunas 'QualifiedTeams' e 'Fourth' do DataFrame.\n",
        "\n",
        "A seguir, com o DataFrame resultante, exiba os vencedores das copas entre os anos 1954 e 1982 (inclusive)"
      ]
    },
    {
      "cell_type": "code",
      "execution_count": null,
      "metadata": {
        "id": "fTG7vHI4Nw6Z"
      },
      "outputs": [],
      "source": []
    },
    {
      "cell_type": "markdown",
      "metadata": {
        "id": "dHmEKqIsNw6Z"
      },
      "source": [
        "### Exercício 10)\n",
        "\n",
        "Crie uma nova coluna com a média de gols por partida chamada `AverageGoalsMatch`, dividindo o número de gols pelo número de partidas jogadas.\n",
        "\n",
        "A seguir, encontre e/ou calcule:\n",
        "- os anos em que o Brasil ganhou a copa, armazene em uma lista e imprima na tela o ano e a média de gols naquele ano\n",
        "- os anos em que o Brasil jogou uma final (os finalistas estão nas colunas 'Winner' e 'RunnersUp'), armazene em uma lista e imprima na tela\n",
        "- a porcentagem de vitórias do Brasil em finais, e imprima na tela"
      ]
    },
    {
      "cell_type": "code",
      "execution_count": null,
      "metadata": {
        "id": "z15dzI9BNw6Z"
      },
      "outputs": [],
      "source": []
    },
    {
      "cell_type": "markdown",
      "metadata": {
        "id": "PC0HenXLN94o"
      },
      "source": [
        "### Exercício 11)\n",
        "\n",
        "Codifique uma função que use comprehension para retornar uma lista com `n` valores numéricos iniciando em 0 e  com passo `p` permitindo um número float como passo. Arredonde cada número para 5 casas decimais usando a função `round(,5)`\n",
        "\n",
        "Exemplo para n=8, p=0.05\n",
        "```\n",
        "[0.0, 0.05, 0.1, 0.15, 0.2, 0.25, 0.3, 0.35, 0.4]\n",
        "```"
      ]
    },
    {
      "cell_type": "code",
      "execution_count": null,
      "metadata": {
        "id": "2UfcpNOPN94p"
      },
      "outputs": [],
      "source": []
    },
    {
      "cell_type": "markdown",
      "metadata": {
        "id": "AHmpWv7lOIyS"
      },
      "source": [
        "### Exercício 12)\n",
        "\n",
        "A partir de um vetor com números inteiros aleatórios, calcular seu `log` e criar uma lista com o resultado.\n",
        "* se o número for 0 substituir o valor por `nan` (not a number) da biblioteca `math` para indicar que o resultado não é numérico"
      ]
    },
    {
      "cell_type": "code",
      "execution_count": null,
      "metadata": {
        "id": "JM6sQRRSOIyS"
      },
      "outputs": [],
      "source": []
    },
    {
      "cell_type": "markdown",
      "metadata": {
        "id": "G31eIL7gOIyS"
      },
      "source": [
        "### Exercício 13)\n",
        "\n",
        "\n",
        "Codifique uma função que receba como argumento duas listas de números com o mesmo tamanho. Use comprehension para retornar uma nova lista que é a multiplicação elemento-a-elemento das duas listas.  Caso as listas não possuam o mesmo tamanho emita uma mensagem de erro e retorne a constante `math.nan` do módulo `math`.\n",
        "\n",
        "Exemplo:\n",
        "```\n",
        "l1 = [1, 2, 3, 4, 5]\n",
        "l2 = [5, 5, 5, 10, 10]\n",
        "multiplica_listas(l1,l2)\n",
        "\n",
        "  [5, 10, 15, 40, 50]\n",
        "```"
      ]
    },
    {
      "cell_type": "code",
      "execution_count": null,
      "metadata": {
        "id": "rg5DWmsCN94r"
      },
      "outputs": [],
      "source": []
    },
    {
      "cell_type": "markdown",
      "metadata": {
        "id": "vLgao2vhN94s"
      },
      "source": [
        "### Exercício 14)\n",
        "\n",
        "Codifique uma comprehension que simule uma matriz de tamanho n x n, cujos elementos são dados por `(i+j*i)`, sendo `i` o índice da linha e `j` o índice da coluna. Para simular isso com uma lista de listas, o `i` corresponde ao índice da lista principal e o `j` aos índices das listas aninhadas.\n",
        "\n",
        "Por exemplo, seja a segunda lista (posição i=1), o seu terceiro elemento (posição j=2) seria obtido por `1+2*1 = 3`\n",
        "\n",
        "Exemplo com n = 3:\n",
        "```\n",
        "  [[0, 0, 0],\n",
        "   [1, 2, 3],\n",
        "   [2, 4, 6]]\n",
        "```"
      ]
    },
    {
      "cell_type": "code",
      "execution_count": null,
      "metadata": {
        "id": "YDywIRASN94s"
      },
      "outputs": [],
      "source": []
    },
    {
      "cell_type": "markdown",
      "metadata": {
        "id": "kp_B7-eWN94t"
      },
      "source": [
        "---\n",
        "\n",
        "##  <font color=\"red\">Desafio</font>\n",
        "\n",
        "Temos uma série de pontos 3D organizados numa lista e gostaríamos de computar as distâncias entre todos os pontos pareados.\n",
        "\n",
        "Calcular a distância entre dois pontos $p1 = (x_1,y_1,z_1)$ e  $p2 = (x_2,y_2,z_2)$ usando a fórmula\n",
        "\n",
        "$$d(p1,p2) = |x_1 - x_2| +|y_1 - y_2| + |z_1 - z_2|,$$\n",
        "em que $|.|$ representa o valor absoluto.\n",
        "\n",
        "Exemplo com 2 pontos organizados em listas:\n",
        "```\n",
        "[[1.0, 1.0, 1.0],\n",
        " [3.0, 3.0, 3.0]]\n",
        "```\n",
        "\n",
        "A saída deve ser:\n",
        "```\n",
        "[[0.0, 6.0],\n",
        " [6.0, 0.0]]\n",
        "```\n",
        "\n",
        "Note que a diagonal principal tem sempre valor zero já que representa a distância de um ponto para ele mesmo, e que a matriz é simétrica pois a distância entre dois pontos p1 e p2 é tal que: d(p1,p2) = d(p2,p1).\n",
        "\n",
        "Para isso utilize uma única linha contendo comprehensions aninhadas e com iteração em paralelo"
      ]
    },
    {
      "cell_type": "code",
      "execution_count": 13,
      "metadata": {
        "id": "WWs6_jsdN94t"
      },
      "outputs": [],
      "source": [
        "pontos3d = [ [1.0, 1.0, 1.0],\n",
        "             [0.0, 1.0, 3.0],\n",
        "             [2.0, 2.0, 2.0],\n",
        "             [0.0, 0.0, 0.0] ]\n",
        "\n",
        "\n"
      ]
    },
    {
      "cell_type": "code",
      "source": [
        "from math import fabs, fsum\n",
        "dists = []\n",
        "for p1 in pontos3d:\n",
        "  temp = []\n",
        "  for p2 in pontos3d:\n",
        "    dist = fabs(p1[0] - p2[0]) + fabs(p1[1] - p2[1]) + fabs(p1[2] - p2[2])\n",
        "    temp.append(dist)\n",
        "    # print (dist)\n",
        "  dists"
      ],
      "metadata": {
        "id": "p7CrY7N9zrnx"
      },
      "execution_count": 14,
      "outputs": []
    },
    {
      "cell_type": "markdown",
      "metadata": {
        "id": "5xoz5aYJOIyT"
      },
      "source": [
        "### Exercício 15)\n",
        "\n",
        "Escreva uma expressão lambda que permita receber uma string contendo duas palavras relativas ao nome de uma pessoa e seu sobrenome. Essas são separadas por um ou mais espaços em branco. A expressão deve retornar o nome no formato: \"SOBRENOME, N.\"\n",
        "\n",
        "Exemplo:\n",
        "```\n",
        "nome = 'Dennis   ritchie'\n",
        "```\n",
        "\n",
        "Retorno:\n",
        "```\n",
        "RITCHIE, D.\n",
        "```\n",
        "\n",
        "A seguir escreva um comprehension que percorra uma lista contendo nomes e gere uma nova lista com os nomes no formato \"SOBRENOME, N.\"\n",
        "\n",
        "Exemplo:\n",
        "```\n",
        "nomes = ['Dennis   ritchie', 'ALAN  Turing', 'betty Holberton']\n",
        "```\n",
        "\n",
        "Retorno:\n",
        "```\n",
        "['RITCHIE, D.', 'TURING, A.', 'HOLBERTON, B.']\n",
        "```"
      ]
    },
    {
      "cell_type": "code",
      "execution_count": null,
      "metadata": {
        "id": "IR_QNLvsN94u"
      },
      "outputs": [],
      "source": []
    },
    {
      "cell_type": "markdown",
      "metadata": {
        "id": "fX3J5ovRN94v"
      },
      "source": [
        "### Exercício 16)\n",
        "\n",
        "Dada uma lista de tuplas, em que cada tupla é formada por um par (str,list). Ver um exemplo abaixo.\n",
        "\n",
        "```\n",
        "l_tup = [('a',[8, 4, 6, 1]), ('b',[1, 2, 3, 4]), ('c',[5, 3, 3, 3])]\n",
        "```\n",
        "* Converta a lista de tuplas em um numpy array bidimensional em que cada lista é transformada em uma linha do array, ignorando a string.\n",
        "* Percorra cada linha do array resultante usando `for`, exibindo na tela os 3 últimos elementos de cada array\n",
        "\n",
        "Seu código deve funcionar para qualquer número de tuplas na lista, assuma que as listas tem sempre o mesmo número de elementos, todos numéricos.\n"
      ]
    },
    {
      "cell_type": "code",
      "execution_count": null,
      "metadata": {
        "id": "MJ7WL9tEN94v"
      },
      "outputs": [],
      "source": [
        "l_tup = [('a',[8, 4, 6, 1]), ('b',[1, 2, 3, 4]), ('c',[5, 3, 3, 3])]"
      ]
    },
    {
      "cell_type": "code",
      "execution_count": null,
      "metadata": {
        "id": "f7WQqNokN94v"
      },
      "outputs": [],
      "source": []
    },
    {
      "cell_type": "markdown",
      "metadata": {
        "id": "1GaZN35TOIyU"
      },
      "source": [
        "### Exercício 17)\n",
        "\n",
        "Use o método `randint` do `numpy` para criar um array bidimensional com 6x10 elementos inteiros entre 1 e 5.\n",
        "\n",
        "A seguir, considerando apenas a submatriz formada pelas linhas: 2 até 6 e as colunas 2, 5 e 8, copie para uma matriz unidimensional os valores maiores ou iguais a 4."
      ]
    },
    {
      "cell_type": "code",
      "execution_count": null,
      "metadata": {
        "id": "TMtMsPmMN94w"
      },
      "outputs": [],
      "source": []
    },
    {
      "cell_type": "markdown",
      "metadata": {
        "id": "YuORLIMwN94w"
      },
      "source": [
        "### Exercício 18)\n",
        "\n",
        "\n",
        "Dados dois arrays conforme abaixo que são notas (de 1 a 10) dadas a 4 diferentes serviços fornecidos por empresas concorrentes A e B. As notas de cada serviço estão organizadas nas 4 linhas dos arrays.\n",
        "\n",
        "A empresa `A` coletou 10 notas, e `B` coletou 5 notas para cada serviço (simuladas aleatoriamente no código abaixo).\n",
        "\n",
        "Os 4 serviços possuem pesos que é determinado pela lista `pesos` listada abaixo.\n",
        "\n",
        "A empresa A deseja se comparar com a empresa B com base na média das notas da empresa B. Para isso:\n",
        "1. usando redução, obtenha a média das notas de cada serviço da empresa B;\n",
        "2. para cada serviço, calcule qual foi a menor nota observada por A considerando apenas as notas de A que foram maiores do que a média de B para aquele serviço;\n",
        "3. armazene essas notas mínimas em um novo array de 4 elementos, e exiba esse array na tela;\n",
        "4. utilizando multiplicação vetorial, calcule e exiba na tela a soma das notas mínimas ponderadas pelos pesos\n"
      ]
    },
    {
      "cell_type": "code",
      "execution_count": null,
      "metadata": {
        "scrolled": true,
        "id": "OjTjtOMJN94w",
        "outputId": "11d14b39-9693-42f5-ea34-e0878acd0c04"
      },
      "outputs": [
        {
          "name": "stdout",
          "output_type": "stream",
          "text": [
            "[[1 8 9 6 2 4 4 3 7 7 8 4 2 9 6 1 3 4 5 8]\n",
            " [8 6 4 1 3 6 1 8 5 5 3 1 2 3 4 6 6 3 2 9]\n",
            " [9 3 6 4 5 8 1 8 7 4 9 8 1 9 5 5 5 7 9 4]\n",
            " [2 2 5 7 8 4 2 7 8 8 1 5 2 8 3 3 1 2 8 6]]\n",
            "[[8 9 9 1 6 3 6 7 7 7]\n",
            " [5 4 6 1 6 6 8 4 3 6]\n",
            " [4 7 3 6 7 6 9 6 7 5]\n",
            " [2 7 8 5 2 8 9 4 4 5]]\n",
            "[0.15, 0.25, 0.3, 0.3]\n"
          ]
        }
      ],
      "source": [
        "import numpy as np\n",
        "A = np.random.randint(low=1,high=10,size=(4,20))\n",
        "B = np.random.randint(low=1,high=10,size=(4,10))\n",
        "pesos = [0.15, 0.25, 0.3, 0.3]\n",
        "print(A)\n",
        "print(B)\n",
        "print(pesos)"
      ]
    },
    {
      "cell_type": "code",
      "execution_count": null,
      "metadata": {
        "id": "9-MuVtHSN94x"
      },
      "outputs": [],
      "source": []
    },
    {
      "cell_type": "markdown",
      "metadata": {
        "id": "4iUMp9pRN94y"
      },
      "source": [
        "### Exercício 19)\n",
        "\n",
        "Carregue o arquivo `tips.csv`:\n",
        "1. Filtre as linhas selecionando apenas jantares (time = 'Dinner') e cuja conta foi superior a 40 (total_bill > 40), mostrando o total da conta, número de pessoas na mesa e gorjeta (total_bill, size, tip);\n",
        "2. Obtenha um novo dataframe em que seja mostrada a gorjeta (tip) média e máxima para cada valor de dia da semana (day) e horário (time)"
      ]
    },
    {
      "cell_type": "code",
      "execution_count": null,
      "metadata": {
        "id": "MGnR-0riN94y"
      },
      "outputs": [],
      "source": [
        "import pandas as pd\n",
        "\n",
        "dtips = pd.read_csv('tips.csv')"
      ]
    },
    {
      "cell_type": "markdown",
      "metadata": {
        "id": "eoxO-VhaN94y"
      },
      "source": [
        "### Exercício 20)\n",
        "\n",
        "Carregue os arquivos `sales1.csv`, `sales1_shipdate.csv`  e `sales2.csv`, os quais possuem informações de vendas realizadas. Devemos juntar as bases de dados e tratá-las.\n",
        "\n",
        "O arquivo `sales1_shipdate.csv` contém as datas de envio das ordens na `sales1.csv`. Já `sales2.csv` contém essa coluna no próprio arquivo\n",
        "\n",
        "Para isso:\n",
        "\n",
        "1. Combine as bases de dados, consolidando-as em um único DataFrame\n",
        "2. Exiba na tela quais atributos possuem dados faltantes após a concatenação\n",
        "    * Sabendo que `Total Revenue` é a multiplicação do preço unitário pela quantidade de unidades, preencha os valores faltantes dessa coluna\n",
        "3. Detecte linhas duplicadas. Remova duplicatas, mantendo a primeira ocorrência, e imprima na tela quantas linhas foram removidas"
      ]
    },
    {
      "cell_type": "code",
      "execution_count": null,
      "metadata": {
        "id": "lOLlysMiN94y"
      },
      "outputs": [],
      "source": [
        "import pandas as pd\n",
        "import numpy as np\n",
        "\n",
        "s1 = pd.read_csv('sales1.csv')\n",
        "s1_ship = pd.read_csv('sales1_shipdate.csv')\n",
        "s2 = pd.read_csv('sales2.csv')\n",
        "\n",
        "## 1 - Combinar as bases de dados"
      ]
    },
    {
      "cell_type": "code",
      "execution_count": null,
      "metadata": {
        "id": "TSsYR3C6N94z"
      },
      "outputs": [],
      "source": [
        "## 2 - Atributos com dados faltantes"
      ]
    },
    {
      "cell_type": "code",
      "execution_count": null,
      "metadata": {
        "id": "FtbY0OLcN94z"
      },
      "outputs": [],
      "source": [
        "## 3 - Tratamento de duplicatas"
      ]
    },
    {
      "cell_type": "code",
      "execution_count": null,
      "metadata": {
        "id": "ZZeIii8FN94z"
      },
      "outputs": [],
      "source": []
    }
  ],
  "metadata": {
    "colab": {
      "provenance": [],
      "include_colab_link": true
    },
    "kernelspec": {
      "display_name": "Python 3",
      "language": "python",
      "name": "python3"
    },
    "language_info": {
      "codemirror_mode": {
        "name": "ipython",
        "version": 3
      },
      "file_extension": ".py",
      "mimetype": "text/x-python",
      "name": "python",
      "nbconvert_exporter": "python",
      "pygments_lexer": "ipython3",
      "version": "3.6.5"
    },
    "toc": {
      "base_numbering": 1,
      "nav_menu": {},
      "number_sections": true,
      "sideBar": true,
      "skip_h1_title": false,
      "title_cell": "Table of Contents",
      "title_sidebar": "Contents",
      "toc_cell": false,
      "toc_position": {},
      "toc_section_display": true,
      "toc_window_display": false
    }
  },
  "nbformat": 4,
  "nbformat_minor": 0
}