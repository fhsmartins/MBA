{
  "cells": [
    {
      "cell_type": "markdown",
      "metadata": {
        "id": "view-in-github",
        "colab_type": "text"
      },
      "source": [
        "<a href=\"https://colab.research.google.com/github/fhsmartins/MBA/blob/main/Aula01/Python_Exercicios_fixacao_solucoes.ipynb\" target=\"_parent\"><img src=\"https://colab.research.google.com/assets/colab-badge.svg\" alt=\"Open In Colab\"/></a>"
      ]
    },
    {
      "cell_type": "markdown",
      "metadata": {
        "id": "x8VUohVKQh5l"
      },
      "source": [
        "# <font color=\"red\"> MBA em IA e Big Data</font>\n",
        "## <span style=\"color:red\">Linguagens e Ferramentas para Inteligência Artificial e Big Data (Python e SQL)</span>\n",
        "\n",
        "### <span style=\"color:darkred\">Python: referências, operações e funções</span>\n",
        "\n",
        "*Leandro Franco de Souza*<br>\n",
        "*ICMC/USP São Carlos*\n",
        "\n",
        "*(com material dos Profs. Luis Gustavo Nonato & Moacir Antonelli Ponti)*"
      ]
    },
    {
      "cell_type": "markdown",
      "metadata": {
        "id": "P1gGG6yeQh5m"
      },
      "source": [
        "# <span style=\"color:red\">Solução dos exercícios de fixação.</span>"
      ]
    },
    {
      "cell_type": "markdown",
      "metadata": {
        "id": "PJ1tMrakPcrK"
      },
      "source": [
        "### Exercício 1)\n",
        "\n",
        "Qual o tipo do valor resultante das operações abaixo (ou das variáveis as quais foram atribuídos)?\n",
        "\n",
        "a) `False + True`<br>\n",
        "b) `2 * 1e2**2`<br>\n",
        "c) `a = 6/2`<br>\n",
        "d) `x = 6//2 + 6%2`<br>\n",
        "e) `(2 + 4) == 4 or 0 <= 1`<br>"
      ]
    },
    {
      "cell_type": "code",
      "execution_count": null,
      "metadata": {
        "id": "dgWxNF_KPcrL",
        "outputId": "f2d587ea-572c-4de8-8a7c-7dfc5343b754"
      },
      "outputs": [
        {
          "name": "stdout",
          "output_type": "stream",
          "text": [
            "1 <class 'int'>\n"
          ]
        }
      ],
      "source": [
        "print(False+True, type(False+True))"
      ]
    },
    {
      "cell_type": "code",
      "execution_count": null,
      "metadata": {
        "id": "0OC--sItPcrO",
        "outputId": "f92eb9a0-7301-4cf2-fcff-1d5c184ad30f"
      },
      "outputs": [
        {
          "name": "stdout",
          "output_type": "stream",
          "text": [
            "20000.0 <class 'float'>\n"
          ]
        }
      ],
      "source": [
        "print(2 * 1e2**2, type(2 * 1e2**2))"
      ]
    },
    {
      "cell_type": "code",
      "execution_count": null,
      "metadata": {
        "id": "TELxDk8uPcrP",
        "outputId": "f314145f-7c2a-409a-e0db-487a3ef06788"
      },
      "outputs": [
        {
          "name": "stdout",
          "output_type": "stream",
          "text": [
            "3.0 <class 'float'>\n"
          ]
        }
      ],
      "source": [
        "a = 6/2\n",
        "print(a, type(a))"
      ]
    },
    {
      "cell_type": "code",
      "execution_count": null,
      "metadata": {
        "id": "Id1PuN3ePcrP",
        "outputId": "664e61d9-968f-43ba-d9bf-95e2e33d7b67"
      },
      "outputs": [
        {
          "name": "stdout",
          "output_type": "stream",
          "text": [
            "3 <class 'int'>\n"
          ]
        }
      ],
      "source": [
        "x = 6//2 + 6%2\n",
        "print(x, type(x))"
      ]
    },
    {
      "cell_type": "code",
      "execution_count": null,
      "metadata": {
        "id": "fclSpZLsPcrQ",
        "outputId": "d4c17196-bc1c-491a-c346-d8399d326349"
      },
      "outputs": [
        {
          "name": "stdout",
          "output_type": "stream",
          "text": [
            "True <class 'bool'>\n"
          ]
        }
      ],
      "source": [
        "print((2 + 4) == 4 or 0 <= 1, type((2 + 4) == 4 or 0 <= 1))"
      ]
    },
    {
      "cell_type": "markdown",
      "metadata": {
        "id": "WHG7tm3QQh5m"
      },
      "source": [
        "### Exercício 2)\n",
        "\n",
        "Crie uma variável contendo um ano (um valor inteiro entre 0 e 3000)\n",
        "\n",
        "A seguir, se o ano for divisível por 4, exiba na tela 'Pode ser um ano bissexto'; caso contrário exiba 'Definitivamente não é um ano bissexto'\n",
        "\n",
        "__Dica:__ Utilize o operador `%` que retorna o resto da divisão de um número por outro."
      ]
    },
    {
      "cell_type": "code",
      "execution_count": null,
      "metadata": {
        "id": "pTVOXvzVQh5m",
        "outputId": "6cd1207a-a389-4e1b-ef41-7d404b39c46a"
      },
      "outputs": [
        {
          "name": "stdout",
          "output_type": "stream",
          "text": [
            "Definitivamente não é um ano bissexto\n"
          ]
        }
      ],
      "source": [
        "ano = 2021\n",
        "if (ano % 4 == 0):\n",
        "    print('Pode ser um ano bissexto')\n",
        "else:\n",
        "    print('Definitivamente não é um ano bissexto')"
      ]
    },
    {
      "cell_type": "markdown",
      "metadata": {
        "id": "M72PbdAnQh5u"
      },
      "source": [
        "### Exercício 3)\n",
        "\n",
        "Dada a lista `valores` abaixo, crie uma nova lista chamada `numeros` contendo apenas elementos `float` ou `int`.\n",
        "\n",
        "Note que essa nova lista pode ter menos elementos do que a lista existente.\n",
        "\n",
        "Ao final exiba a nova lista `numeros`\n",
        "\n",
        "__Dica__: Percorra a lista com uma estrutura de repetição e utilize `type()` para retornar o tipo e compare com o desejado. Exemplo:\n",
        "```python\n",
        "type(3) == int\n",
        "```\n",
        "Retorna `True`"
      ]
    },
    {
      "cell_type": "code",
      "execution_count": null,
      "metadata": {
        "id": "5HFGhEvMQh5u"
      },
      "outputs": [],
      "source": [
        "valores = ['três', 56, 342, 12.4e-5, 4+3j, ('A', 1, 50.1), -0.19e4, 1000, 960, -406]"
      ]
    },
    {
      "cell_type": "code",
      "execution_count": null,
      "metadata": {
        "id": "yCxPh1hgPcrS",
        "outputId": "460b4b27-3f65-495b-ae10-c49adf8590a1"
      },
      "outputs": [
        {
          "name": "stdout",
          "output_type": "stream",
          "text": [
            "[56, 342, 0.000124, -1900.0, 1000, 960, -406]\n"
          ]
        }
      ],
      "source": [
        "numeros = []\n",
        "for i in valores:\n",
        "    if (type(i) == float or type(i) == int):\n",
        "        numeros.append(i)\n",
        "\n",
        "print(numeros)"
      ]
    },
    {
      "cell_type": "markdown",
      "metadata": {
        "id": "SttOTCgbPcrS"
      },
      "source": [
        "### Exercício 4)\n",
        "\n",
        "Escreva uma **função** que receba por parâmetro uma taxa de juros pagas ao ano, calcule e retorne um número inteiro relativo a quantos anos serão necessários para que um investimento nessa taxa dobre de valor. Assuma juros compostos e use uma estrutura de repetição para calcular.\n"
      ]
    },
    {
      "cell_type": "code",
      "execution_count": null,
      "metadata": {
        "id": "NhayjubqPcrT",
        "outputId": "a115233f-f3a4-450c-b157-99893987992e"
      },
      "outputs": [
        {
          "name": "stdout",
          "output_type": "stream",
          "text": [
            "15\n",
            "11\n"
          ]
        }
      ],
      "source": [
        "def dobrar_investimento(juros):\n",
        "    valor = 1\n",
        "    anos = 0\n",
        "    while (valor < 2):\n",
        "        anos += 1\n",
        "        valor = valor*(1+juros)\n",
        "    return anos\n",
        "\n",
        "a5 = dobrar_investimento(0.05)\n",
        "print(a5)\n",
        "\n",
        "a7 = dobrar_investimento(0.07)\n",
        "print(a7)"
      ]
    },
    {
      "cell_type": "markdown",
      "metadata": {
        "id": "8ZD-mCMPQh5w"
      },
      "source": [
        "### Exercício 5)\n",
        "Considere a lista `linguagens` declarada abaixo.\n",
        "- Utilizando fatiamento, imprima o subconjunto de elementos entre o segundo e o quarto elemento (inclusive)\n",
        "- Gere uma nova lista chamada `maiores4` contendo os elementos da lista `linguagens` que possuam quatro caracteres ou mais, utilizando a função `len()`.\n",
        "- Gere uma nova lista chamada `j_ou_c` contendo os elementos da lista `linguagens` que começam com a letra 'j' ou com a letra 'c'."
      ]
    },
    {
      "cell_type": "code",
      "execution_count": null,
      "metadata": {
        "id": "IL6VO3ilQh5w",
        "outputId": "3f5d3c79-4ad0-453a-c5b8-22ac26ed0e9d"
      },
      "outputs": [
        {
          "name": "stdout",
          "output_type": "stream",
          "text": [
            "['java', 'c++', 'javascript', 'c#']\n",
            "Quatro ou mais:  ['python', 'java', 'javascript', 'cobol', 'ruby', 'lisp']\n",
            "Inicia com j ou c:  ['java', 'c++', 'javascript', 'c#', 'cobol']\n"
          ]
        }
      ],
      "source": [
        "linguagens = ['python', 'java', 'c++', 'javascript', 'c#', 'go', 'r', 'cobol', 'ruby', 'lisp']\n",
        "\n",
        "print(linguagens[1:5])\n",
        "\n",
        "quatro_ou_mais = []\n",
        "for elemento in linguagens:\n",
        "    if len(elemento) >= 4:\n",
        "        quatro_ou_mais.append(elemento)\n",
        "\n",
        "j_ou_c = []\n",
        "for elemento in linguagens:\n",
        "    if elemento[0] == 'j':\n",
        "        j_ou_c.append(elemento)\n",
        "    if elemento[0] == 'c':\n",
        "        j_ou_c.append(elemento)\n",
        "\n",
        "print(\"Quatro ou mais: \", quatro_ou_mais)\n",
        "print(\"Inicia com j ou c: \", j_ou_c)"
      ]
    },
    {
      "cell_type": "markdown",
      "metadata": {
        "id": "VYCeJi6zPcrU"
      },
      "source": [
        "### Exercício 6)\n",
        "\n",
        "Codifique uma função `conta_palavras()` que, a partir de um um texto (string) contendo palavras separadas por vírgulas apenas - considere que não há outras pontuações:\n",
        "1. Inicie criando uma lista de palavras e\n",
        "2. Use um dicionário para contar a frequência de cada palavra no texto, retornando o dicionário obtido.\n",
        "\n",
        "*Dica: use a função `str.split()` para separar uma string em substrings usando como delimitador um caracter especificado por argumento*\n",
        "\n",
        "Exemplo:\n",
        "\n",
        "```\n",
        "nomes = \"ana,fábio,cristina,ana,fábio,ubiratã,ana\"\n",
        "freq = conta_palavras(nomes)\n",
        "print(freq)\n",
        "```\n",
        "Deve gerar:\n",
        "```\n",
        "{'ana': 3, 'fábio': 2, 'cristina': 1, 'ubiratã': 1}\n",
        "```"
      ]
    },
    {
      "cell_type": "code",
      "execution_count": null,
      "metadata": {
        "id": "kHENB46VPcrV",
        "outputId": "6168ad3e-0067-4d2b-df2a-d0c3ad79a46b"
      },
      "outputs": [
        {
          "name": "stdout",
          "output_type": "stream",
          "text": [
            "{'ana': 3, 'fábio': 2, 'cristina': 1, 'ubiratã': 1}\n"
          ]
        }
      ],
      "source": [
        "def conta_palavras(frase):\n",
        "    pals = frase.split(',')\n",
        "    freq = {}\n",
        "\n",
        "    for p in pals:\n",
        "        if p not in freq:\n",
        "            freq[p] = 1\n",
        "        else:\n",
        "            freq[p] += 1\n",
        "\n",
        "    return freq\n",
        "\n",
        "nomes = \"ana,fábio,cristina,ana,fábio,ubiratã,ana\"\n",
        "freq = conta_palavras(nomes)\n",
        "print(freq)"
      ]
    },
    {
      "cell_type": "markdown",
      "metadata": {
        "id": "aYaioiBSQh5y"
      },
      "source": [
        "### Exercício 7)\n",
        "Considere a lista `produtos` definida abaixo, onde cada elemento é uma tupla possuindo:\n",
        "* elemento 1: o nome de um produto\n",
        "* elemento 2: e uma lista de preços encontradas no mercado.\n",
        "\n",
        "Calcule a média de preços de cada produto, salvando o resultado em uma nova lista chamada `preco_medio`.\n",
        "\n",
        "Posteriormente, sorteie um dos produtos e exiba na tela o nome e preço médio desse produto sorteado\n",
        "\n",
        "__Dica:__ Utilize a função `fsum()` do módulo `math` para somar os valores daa lista. Por exemplo:\n",
        "```python\n",
        "ls = [1.0,1.0,1.0,1.0,1.0]\n",
        "print(fsum(ls))\n",
        "```\n",
        "resulta no valor 5"
      ]
    },
    {
      "cell_type": "code",
      "execution_count": null,
      "metadata": {
        "id": "CMmRYn0-Qh5z",
        "scrolled": true
      },
      "outputs": [],
      "source": [
        "produtos = [('soja', [170.1, 183.0, 175.0]),\n",
        "            ('algodao', [143.4]),\n",
        "            ('cacau', [199, 185.1]),\n",
        "            ('café', [880, 750.9, 795.1, 900])]"
      ]
    },
    {
      "cell_type": "code",
      "execution_count": null,
      "metadata": {
        "id": "QeRnhs98PcrX",
        "outputId": "05bc7085-b982-42f5-8955-77be83e7c29b"
      },
      "outputs": [
        {
          "name": "stdout",
          "output_type": "stream",
          "text": [
            "soja preço médio= 176.03333333333333\n"
          ]
        }
      ],
      "source": [
        "from math import fsum\n",
        "from random import randint\n",
        "\n",
        "preco_medio = []\n",
        "for p in produtos:\n",
        "    media = fsum(p[1])/len(p[1])\n",
        "    preco_medio.append(media)\n",
        "\n",
        "sorteio = randint(0,len(produtos)-1)\n",
        "print(produtos[sorteio][0], \"preço médio=\", preco_medio[sorteio])"
      ]
    },
    {
      "cell_type": "markdown",
      "metadata": {
        "id": "Rtcf6W-OPcrX"
      },
      "source": [
        "Os exercícios a seguir farão uso do arquivo <font style=\"font-family: monaco\">WorldCups.csv</font>\n",
        "\n",
        "O arquivo <font style=\"font-family: monaco\">WorldCups.csv</font> possui as seguintes colunas:\n",
        "- Year: ano da copa\n",
        "- Country: pais sede\n",
        "- Winner: campeão\n",
        "- RunnersUp: disputou a final com o campeão\n",
        "- Third: terceiro colocado\n",
        "- Fourth: quarto colocado\n",
        "- GoalsScored: número de gols na copa\n",
        "- QualifiedTeams: número de times que disputaram a copa\n",
        "- MatchesPlayed: número de jogos\n",
        "- Attendance: número de espectadores (público)"
      ]
    },
    {
      "cell_type": "markdown",
      "metadata": {
        "id": "zxyue9raPcrX"
      },
      "source": [
        "### Exercício 8)\n",
        "Utilizando o <font color='blue'>pandas</font> leia o arquivo <font style=\"font-family: monaco\">WorldCups.csv</font> como DataFrame.\n",
        "- Definina a coluna 'Year' como índice\n",
        "- Exiba as 5 primeiras linhas do DataFrame\n",
        "- Exiba o tipo de dado de cada coluna\n",
        "- Imprima o número de linhas do DataFrame"
      ]
    },
    {
      "cell_type": "code",
      "execution_count": null,
      "metadata": {
        "id": "AAsg7ASyPcrX"
      },
      "outputs": [],
      "source": [
        "# SOLUÇÃO\n",
        "# Voce precisa colocar o caminho do diretório no drive onde o\n",
        "# arquivo WorldCups.csv está\n",
        "\n",
        "import pandas as pd\n",
        "df = pd.read_csv('WorldCups.csv')"
      ]
    },
    {
      "cell_type": "code",
      "execution_count": null,
      "metadata": {
        "id": "VGbBL-ggPcrY"
      },
      "outputs": [],
      "source": [
        "df.set_index('Year', inplace=True)"
      ]
    },
    {
      "cell_type": "code",
      "execution_count": null,
      "metadata": {
        "id": "PJ3tferUPcrY",
        "outputId": "a29a3c8a-0340-4ee5-e2fd-1f12e5034e48"
      },
      "outputs": [
        {
          "data": {
            "text/html": [
              "<div>\n",
              "<style scoped>\n",
              "    .dataframe tbody tr th:only-of-type {\n",
              "        vertical-align: middle;\n",
              "    }\n",
              "\n",
              "    .dataframe tbody tr th {\n",
              "        vertical-align: top;\n",
              "    }\n",
              "\n",
              "    .dataframe thead th {\n",
              "        text-align: right;\n",
              "    }\n",
              "</style>\n",
              "<table border=\"1\" class=\"dataframe\">\n",
              "  <thead>\n",
              "    <tr style=\"text-align: right;\">\n",
              "      <th></th>\n",
              "      <th>Country</th>\n",
              "      <th>Winner</th>\n",
              "      <th>RunnersUp</th>\n",
              "      <th>Third</th>\n",
              "      <th>Fourth</th>\n",
              "      <th>GoalsScored</th>\n",
              "      <th>QualifiedTeams</th>\n",
              "      <th>MatchesPlayed</th>\n",
              "      <th>Attendance</th>\n",
              "    </tr>\n",
              "    <tr>\n",
              "      <th>Year</th>\n",
              "      <th></th>\n",
              "      <th></th>\n",
              "      <th></th>\n",
              "      <th></th>\n",
              "      <th></th>\n",
              "      <th></th>\n",
              "      <th></th>\n",
              "      <th></th>\n",
              "      <th></th>\n",
              "    </tr>\n",
              "  </thead>\n",
              "  <tbody>\n",
              "    <tr>\n",
              "      <th>1930</th>\n",
              "      <td>Uruguay</td>\n",
              "      <td>Uruguay</td>\n",
              "      <td>Argentina</td>\n",
              "      <td>USA</td>\n",
              "      <td>Yugoslavia</td>\n",
              "      <td>70</td>\n",
              "      <td>13</td>\n",
              "      <td>18</td>\n",
              "      <td>590549</td>\n",
              "    </tr>\n",
              "    <tr>\n",
              "      <th>1934</th>\n",
              "      <td>Italy</td>\n",
              "      <td>Italy</td>\n",
              "      <td>Czechoslovakia</td>\n",
              "      <td>Germany</td>\n",
              "      <td>Austria</td>\n",
              "      <td>70</td>\n",
              "      <td>16</td>\n",
              "      <td>17</td>\n",
              "      <td>363000</td>\n",
              "    </tr>\n",
              "    <tr>\n",
              "      <th>1938</th>\n",
              "      <td>France</td>\n",
              "      <td>Italy</td>\n",
              "      <td>Hungary</td>\n",
              "      <td>Brazil</td>\n",
              "      <td>Sweden</td>\n",
              "      <td>84</td>\n",
              "      <td>15</td>\n",
              "      <td>18</td>\n",
              "      <td>375700</td>\n",
              "    </tr>\n",
              "    <tr>\n",
              "      <th>1950</th>\n",
              "      <td>Brazil</td>\n",
              "      <td>Uruguay</td>\n",
              "      <td>Brazil</td>\n",
              "      <td>Sweden</td>\n",
              "      <td>Spain</td>\n",
              "      <td>88</td>\n",
              "      <td>13</td>\n",
              "      <td>22</td>\n",
              "      <td>1045246</td>\n",
              "    </tr>\n",
              "    <tr>\n",
              "      <th>1954</th>\n",
              "      <td>Switzerland</td>\n",
              "      <td>Germany FR</td>\n",
              "      <td>Hungary</td>\n",
              "      <td>Austria</td>\n",
              "      <td>Uruguay</td>\n",
              "      <td>140</td>\n",
              "      <td>16</td>\n",
              "      <td>26</td>\n",
              "      <td>768607</td>\n",
              "    </tr>\n",
              "  </tbody>\n",
              "</table>\n",
              "</div>"
            ],
            "text/plain": [
              "          Country      Winner       RunnersUp    Third      Fourth  \\\n",
              "Year                                                                 \n",
              "1930      Uruguay     Uruguay       Argentina      USA  Yugoslavia   \n",
              "1934        Italy       Italy  Czechoslovakia  Germany     Austria   \n",
              "1938       France       Italy         Hungary   Brazil      Sweden   \n",
              "1950       Brazil     Uruguay          Brazil   Sweden       Spain   \n",
              "1954  Switzerland  Germany FR         Hungary  Austria     Uruguay   \n",
              "\n",
              "      GoalsScored  QualifiedTeams  MatchesPlayed  Attendance  \n",
              "Year                                                          \n",
              "1930           70              13             18      590549  \n",
              "1934           70              16             17      363000  \n",
              "1938           84              15             18      375700  \n",
              "1950           88              13             22     1045246  \n",
              "1954          140              16             26      768607  "
            ]
          },
          "execution_count": 17,
          "metadata": {},
          "output_type": "execute_result"
        }
      ],
      "source": [
        "df.head()"
      ]
    },
    {
      "cell_type": "code",
      "execution_count": null,
      "metadata": {
        "id": "Fqf03-RhPcrY",
        "outputId": "b5c34e3e-0df4-42f0-b882-b491f2fb6939"
      },
      "outputs": [
        {
          "name": "stdout",
          "output_type": "stream",
          "text": [
            "Country           object\n",
            "Winner            object\n",
            "RunnersUp         object\n",
            "Third             object\n",
            "Fourth            object\n",
            "GoalsScored        int64\n",
            "QualifiedTeams     int64\n",
            "MatchesPlayed      int64\n",
            "Attendance         int64\n",
            "dtype: object\n"
          ]
        }
      ],
      "source": [
        "print(df.dtypes)"
      ]
    },
    {
      "cell_type": "code",
      "execution_count": null,
      "metadata": {
        "id": "QPzdDkvPPcrY",
        "outputId": "33307eb1-dfbb-4320-99b8-f0716fa9ce4a"
      },
      "outputs": [
        {
          "name": "stdout",
          "output_type": "stream",
          "text": [
            "Número de linhas =  20\n"
          ]
        }
      ],
      "source": [
        "print(\"Número de linhas = \", df.shape[0])"
      ]
    },
    {
      "cell_type": "markdown",
      "metadata": {
        "id": "Awxl6RZSPcrZ"
      },
      "source": [
        "### Exercício 9)\n",
        "Remova as colunas 'QualifiedTeams' e 'Fourth' do DataFrame.\n",
        "\n",
        "A seguir, com o DataFrame resultante, exiba os vencedores das copas entre os anos 1954 e 1982 (inclusive)"
      ]
    },
    {
      "cell_type": "code",
      "execution_count": null,
      "metadata": {
        "id": "lv5GZaYOPcrZ"
      },
      "outputs": [],
      "source": [
        "df = df.drop(['QualifiedTeams','Fourth'],axis=1)"
      ]
    },
    {
      "cell_type": "code",
      "execution_count": null,
      "metadata": {
        "id": "UH6X6QsNPcrZ",
        "outputId": "69d8b143-42bf-490e-832f-5dcb89f52ee4"
      },
      "outputs": [
        {
          "data": {
            "text/plain": [
              "Year\n",
              "1954    Germany FR\n",
              "1958        Brazil\n",
              "1962        Brazil\n",
              "1966       England\n",
              "1970        Brazil\n",
              "1974    Germany FR\n",
              "1978     Argentina\n",
              "1982         Italy\n",
              "Name: Winner, dtype: object"
            ]
          },
          "execution_count": 21,
          "metadata": {},
          "output_type": "execute_result"
        }
      ],
      "source": [
        "df.loc[1954:1982,'Winner']"
      ]
    },
    {
      "cell_type": "markdown",
      "metadata": {
        "id": "6ZxjWqYiPcrZ"
      },
      "source": [
        "### Exercício 10)\n",
        "\n",
        "Crie uma nova coluna com a média de gols por partida chamada `AverageGoalsMatch`, dividindo o número de gols pelo número de partidas jogadas.\n",
        "\n",
        "A seguir, encontre e/ou calcule:\n",
        "- os anos em que o Brasil ganhou a copa, armazene em uma lista as média de gols naqueles anos. A seguir imprima a lista na tela.\n",
        "- os anos em que o Brasil jogou uma final (os finalistas estão nas colunas 'Winner' e 'RunnersUp') e imprima na tela os anos e a média de gols de cada ano\n",
        "- a porcentagem de vitórias do Brasil em finais, e imprima na tela"
      ]
    },
    {
      "cell_type": "code",
      "execution_count": null,
      "metadata": {
        "id": "tfQrKEk3PcrZ",
        "outputId": "19b30cdc-b567-47b3-ed26-b698abf6df8d"
      },
      "outputs": [
        {
          "data": {
            "text/html": [
              "<div>\n",
              "<style scoped>\n",
              "    .dataframe tbody tr th:only-of-type {\n",
              "        vertical-align: middle;\n",
              "    }\n",
              "\n",
              "    .dataframe tbody tr th {\n",
              "        vertical-align: top;\n",
              "    }\n",
              "\n",
              "    .dataframe thead th {\n",
              "        text-align: right;\n",
              "    }\n",
              "</style>\n",
              "<table border=\"1\" class=\"dataframe\">\n",
              "  <thead>\n",
              "    <tr style=\"text-align: right;\">\n",
              "      <th></th>\n",
              "      <th>Country</th>\n",
              "      <th>Winner</th>\n",
              "      <th>RunnersUp</th>\n",
              "      <th>Third</th>\n",
              "      <th>GoalsScored</th>\n",
              "      <th>MatchesPlayed</th>\n",
              "      <th>Attendance</th>\n",
              "      <th>AverageGoalsMatch</th>\n",
              "    </tr>\n",
              "    <tr>\n",
              "      <th>Year</th>\n",
              "      <th></th>\n",
              "      <th></th>\n",
              "      <th></th>\n",
              "      <th></th>\n",
              "      <th></th>\n",
              "      <th></th>\n",
              "      <th></th>\n",
              "      <th></th>\n",
              "    </tr>\n",
              "  </thead>\n",
              "  <tbody>\n",
              "    <tr>\n",
              "      <th>1930</th>\n",
              "      <td>Uruguay</td>\n",
              "      <td>Uruguay</td>\n",
              "      <td>Argentina</td>\n",
              "      <td>USA</td>\n",
              "      <td>70</td>\n",
              "      <td>18</td>\n",
              "      <td>590549</td>\n",
              "      <td>3.888889</td>\n",
              "    </tr>\n",
              "    <tr>\n",
              "      <th>1934</th>\n",
              "      <td>Italy</td>\n",
              "      <td>Italy</td>\n",
              "      <td>Czechoslovakia</td>\n",
              "      <td>Germany</td>\n",
              "      <td>70</td>\n",
              "      <td>17</td>\n",
              "      <td>363000</td>\n",
              "      <td>4.117647</td>\n",
              "    </tr>\n",
              "    <tr>\n",
              "      <th>1938</th>\n",
              "      <td>France</td>\n",
              "      <td>Italy</td>\n",
              "      <td>Hungary</td>\n",
              "      <td>Brazil</td>\n",
              "      <td>84</td>\n",
              "      <td>18</td>\n",
              "      <td>375700</td>\n",
              "      <td>4.666667</td>\n",
              "    </tr>\n",
              "    <tr>\n",
              "      <th>1950</th>\n",
              "      <td>Brazil</td>\n",
              "      <td>Uruguay</td>\n",
              "      <td>Brazil</td>\n",
              "      <td>Sweden</td>\n",
              "      <td>88</td>\n",
              "      <td>22</td>\n",
              "      <td>1045246</td>\n",
              "      <td>4.000000</td>\n",
              "    </tr>\n",
              "    <tr>\n",
              "      <th>1954</th>\n",
              "      <td>Switzerland</td>\n",
              "      <td>Germany FR</td>\n",
              "      <td>Hungary</td>\n",
              "      <td>Austria</td>\n",
              "      <td>140</td>\n",
              "      <td>26</td>\n",
              "      <td>768607</td>\n",
              "      <td>5.384615</td>\n",
              "    </tr>\n",
              "    <tr>\n",
              "      <th>1958</th>\n",
              "      <td>Sweden</td>\n",
              "      <td>Brazil</td>\n",
              "      <td>Sweden</td>\n",
              "      <td>France</td>\n",
              "      <td>126</td>\n",
              "      <td>35</td>\n",
              "      <td>819810</td>\n",
              "      <td>3.600000</td>\n",
              "    </tr>\n",
              "    <tr>\n",
              "      <th>1962</th>\n",
              "      <td>Chile</td>\n",
              "      <td>Brazil</td>\n",
              "      <td>Czechoslovakia</td>\n",
              "      <td>Chile</td>\n",
              "      <td>89</td>\n",
              "      <td>32</td>\n",
              "      <td>893172</td>\n",
              "      <td>2.781250</td>\n",
              "    </tr>\n",
              "    <tr>\n",
              "      <th>1966</th>\n",
              "      <td>England</td>\n",
              "      <td>England</td>\n",
              "      <td>Germany FR</td>\n",
              "      <td>Portugal</td>\n",
              "      <td>89</td>\n",
              "      <td>32</td>\n",
              "      <td>1563135</td>\n",
              "      <td>2.781250</td>\n",
              "    </tr>\n",
              "    <tr>\n",
              "      <th>1970</th>\n",
              "      <td>Mexico</td>\n",
              "      <td>Brazil</td>\n",
              "      <td>Italy</td>\n",
              "      <td>Germany FR</td>\n",
              "      <td>95</td>\n",
              "      <td>32</td>\n",
              "      <td>1603975</td>\n",
              "      <td>2.968750</td>\n",
              "    </tr>\n",
              "    <tr>\n",
              "      <th>1974</th>\n",
              "      <td>Germany</td>\n",
              "      <td>Germany FR</td>\n",
              "      <td>Netherlands</td>\n",
              "      <td>Poland</td>\n",
              "      <td>97</td>\n",
              "      <td>38</td>\n",
              "      <td>1865753</td>\n",
              "      <td>2.552632</td>\n",
              "    </tr>\n",
              "    <tr>\n",
              "      <th>1978</th>\n",
              "      <td>Argentina</td>\n",
              "      <td>Argentina</td>\n",
              "      <td>Netherlands</td>\n",
              "      <td>Brazil</td>\n",
              "      <td>102</td>\n",
              "      <td>38</td>\n",
              "      <td>1545791</td>\n",
              "      <td>2.684211</td>\n",
              "    </tr>\n",
              "    <tr>\n",
              "      <th>1982</th>\n",
              "      <td>Spain</td>\n",
              "      <td>Italy</td>\n",
              "      <td>Germany FR</td>\n",
              "      <td>Poland</td>\n",
              "      <td>146</td>\n",
              "      <td>52</td>\n",
              "      <td>2109723</td>\n",
              "      <td>2.807692</td>\n",
              "    </tr>\n",
              "    <tr>\n",
              "      <th>1986</th>\n",
              "      <td>Mexico</td>\n",
              "      <td>Argentina</td>\n",
              "      <td>Germany FR</td>\n",
              "      <td>France</td>\n",
              "      <td>132</td>\n",
              "      <td>52</td>\n",
              "      <td>2394031</td>\n",
              "      <td>2.538462</td>\n",
              "    </tr>\n",
              "    <tr>\n",
              "      <th>1990</th>\n",
              "      <td>Italy</td>\n",
              "      <td>Germany FR</td>\n",
              "      <td>Argentina</td>\n",
              "      <td>Italy</td>\n",
              "      <td>115</td>\n",
              "      <td>52</td>\n",
              "      <td>2516215</td>\n",
              "      <td>2.211538</td>\n",
              "    </tr>\n",
              "    <tr>\n",
              "      <th>1994</th>\n",
              "      <td>USA</td>\n",
              "      <td>Brazil</td>\n",
              "      <td>Italy</td>\n",
              "      <td>Sweden</td>\n",
              "      <td>141</td>\n",
              "      <td>52</td>\n",
              "      <td>3587538</td>\n",
              "      <td>2.711538</td>\n",
              "    </tr>\n",
              "    <tr>\n",
              "      <th>1998</th>\n",
              "      <td>France</td>\n",
              "      <td>France</td>\n",
              "      <td>Brazil</td>\n",
              "      <td>Croatia</td>\n",
              "      <td>171</td>\n",
              "      <td>64</td>\n",
              "      <td>2785100</td>\n",
              "      <td>2.671875</td>\n",
              "    </tr>\n",
              "    <tr>\n",
              "      <th>2002</th>\n",
              "      <td>Korea/Japan</td>\n",
              "      <td>Brazil</td>\n",
              "      <td>Germany</td>\n",
              "      <td>Turkey</td>\n",
              "      <td>161</td>\n",
              "      <td>64</td>\n",
              "      <td>2705197</td>\n",
              "      <td>2.515625</td>\n",
              "    </tr>\n",
              "    <tr>\n",
              "      <th>2006</th>\n",
              "      <td>Germany</td>\n",
              "      <td>Italy</td>\n",
              "      <td>France</td>\n",
              "      <td>Germany</td>\n",
              "      <td>147</td>\n",
              "      <td>64</td>\n",
              "      <td>3359439</td>\n",
              "      <td>2.296875</td>\n",
              "    </tr>\n",
              "    <tr>\n",
              "      <th>2010</th>\n",
              "      <td>South Africa</td>\n",
              "      <td>Spain</td>\n",
              "      <td>Netherlands</td>\n",
              "      <td>Germany</td>\n",
              "      <td>145</td>\n",
              "      <td>64</td>\n",
              "      <td>3178856</td>\n",
              "      <td>2.265625</td>\n",
              "    </tr>\n",
              "    <tr>\n",
              "      <th>2014</th>\n",
              "      <td>Brazil</td>\n",
              "      <td>Germany</td>\n",
              "      <td>Argentina</td>\n",
              "      <td>Netherlands</td>\n",
              "      <td>171</td>\n",
              "      <td>64</td>\n",
              "      <td>3386810</td>\n",
              "      <td>2.671875</td>\n",
              "    </tr>\n",
              "  </tbody>\n",
              "</table>\n",
              "</div>"
            ],
            "text/plain": [
              "           Country      Winner       RunnersUp        Third  GoalsScored  \\\n",
              "Year                                                                       \n",
              "1930       Uruguay     Uruguay       Argentina          USA           70   \n",
              "1934         Italy       Italy  Czechoslovakia      Germany           70   \n",
              "1938        France       Italy         Hungary       Brazil           84   \n",
              "1950        Brazil     Uruguay          Brazil       Sweden           88   \n",
              "1954   Switzerland  Germany FR         Hungary      Austria          140   \n",
              "1958        Sweden      Brazil          Sweden       France          126   \n",
              "1962         Chile      Brazil  Czechoslovakia        Chile           89   \n",
              "1966       England     England      Germany FR     Portugal           89   \n",
              "1970        Mexico      Brazil           Italy   Germany FR           95   \n",
              "1974       Germany  Germany FR     Netherlands       Poland           97   \n",
              "1978     Argentina   Argentina     Netherlands       Brazil          102   \n",
              "1982         Spain       Italy      Germany FR       Poland          146   \n",
              "1986        Mexico   Argentina      Germany FR       France          132   \n",
              "1990         Italy  Germany FR       Argentina        Italy          115   \n",
              "1994           USA      Brazil           Italy       Sweden          141   \n",
              "1998        France      France          Brazil      Croatia          171   \n",
              "2002   Korea/Japan      Brazil         Germany       Turkey          161   \n",
              "2006       Germany       Italy          France      Germany          147   \n",
              "2010  South Africa       Spain     Netherlands      Germany          145   \n",
              "2014        Brazil     Germany       Argentina  Netherlands          171   \n",
              "\n",
              "      MatchesPlayed  Attendance  AverageGoalsMatch  \n",
              "Year                                                \n",
              "1930             18      590549           3.888889  \n",
              "1934             17      363000           4.117647  \n",
              "1938             18      375700           4.666667  \n",
              "1950             22     1045246           4.000000  \n",
              "1954             26      768607           5.384615  \n",
              "1958             35      819810           3.600000  \n",
              "1962             32      893172           2.781250  \n",
              "1966             32     1563135           2.781250  \n",
              "1970             32     1603975           2.968750  \n",
              "1974             38     1865753           2.552632  \n",
              "1978             38     1545791           2.684211  \n",
              "1982             52     2109723           2.807692  \n",
              "1986             52     2394031           2.538462  \n",
              "1990             52     2516215           2.211538  \n",
              "1994             52     3587538           2.711538  \n",
              "1998             64     2785100           2.671875  \n",
              "2002             64     2705197           2.515625  \n",
              "2006             64     3359439           2.296875  \n",
              "2010             64     3178856           2.265625  \n",
              "2014             64     3386810           2.671875  "
            ]
          },
          "execution_count": 22,
          "metadata": {},
          "output_type": "execute_result"
        }
      ],
      "source": [
        "df['AverageGoalsMatch'] = df['GoalsScored']/df['MatchesPlayed']\n",
        "df"
      ]
    },
    {
      "cell_type": "code",
      "execution_count": null,
      "metadata": {
        "id": "Dydr_NtUPcra"
      },
      "outputs": [],
      "source": [
        "# query para buscar vencedor igual a Brazil\n",
        "# poderia também ter sido feito com loc ou iloc\n",
        "ganhou = df.query('Winner == \"Brazil\"')\n",
        "participou = df.query('Winner == \"Brazil\" | RunnersUp == \"Brazil\"')"
      ]
    },
    {
      "cell_type": "code",
      "execution_count": null,
      "metadata": {
        "id": "Oykkpp3HPcra",
        "outputId": "4b28c063-656b-4b08-d2d4-428f628c1e7e"
      },
      "outputs": [
        {
          "data": {
            "text/html": [
              "<div>\n",
              "<style scoped>\n",
              "    .dataframe tbody tr th:only-of-type {\n",
              "        vertical-align: middle;\n",
              "    }\n",
              "\n",
              "    .dataframe tbody tr th {\n",
              "        vertical-align: top;\n",
              "    }\n",
              "\n",
              "    .dataframe thead th {\n",
              "        text-align: right;\n",
              "    }\n",
              "</style>\n",
              "<table border=\"1\" class=\"dataframe\">\n",
              "  <thead>\n",
              "    <tr style=\"text-align: right;\">\n",
              "      <th></th>\n",
              "      <th>Country</th>\n",
              "      <th>Winner</th>\n",
              "      <th>RunnersUp</th>\n",
              "      <th>Third</th>\n",
              "      <th>GoalsScored</th>\n",
              "      <th>MatchesPlayed</th>\n",
              "      <th>Attendance</th>\n",
              "      <th>AverageGoalsMatch</th>\n",
              "    </tr>\n",
              "    <tr>\n",
              "      <th>Year</th>\n",
              "      <th></th>\n",
              "      <th></th>\n",
              "      <th></th>\n",
              "      <th></th>\n",
              "      <th></th>\n",
              "      <th></th>\n",
              "      <th></th>\n",
              "      <th></th>\n",
              "    </tr>\n",
              "  </thead>\n",
              "  <tbody>\n",
              "    <tr>\n",
              "      <th>1958</th>\n",
              "      <td>Sweden</td>\n",
              "      <td>Brazil</td>\n",
              "      <td>Sweden</td>\n",
              "      <td>France</td>\n",
              "      <td>126</td>\n",
              "      <td>35</td>\n",
              "      <td>819810</td>\n",
              "      <td>3.600000</td>\n",
              "    </tr>\n",
              "    <tr>\n",
              "      <th>1962</th>\n",
              "      <td>Chile</td>\n",
              "      <td>Brazil</td>\n",
              "      <td>Czechoslovakia</td>\n",
              "      <td>Chile</td>\n",
              "      <td>89</td>\n",
              "      <td>32</td>\n",
              "      <td>893172</td>\n",
              "      <td>2.781250</td>\n",
              "    </tr>\n",
              "    <tr>\n",
              "      <th>1970</th>\n",
              "      <td>Mexico</td>\n",
              "      <td>Brazil</td>\n",
              "      <td>Italy</td>\n",
              "      <td>Germany FR</td>\n",
              "      <td>95</td>\n",
              "      <td>32</td>\n",
              "      <td>1603975</td>\n",
              "      <td>2.968750</td>\n",
              "    </tr>\n",
              "    <tr>\n",
              "      <th>1994</th>\n",
              "      <td>USA</td>\n",
              "      <td>Brazil</td>\n",
              "      <td>Italy</td>\n",
              "      <td>Sweden</td>\n",
              "      <td>141</td>\n",
              "      <td>52</td>\n",
              "      <td>3587538</td>\n",
              "      <td>2.711538</td>\n",
              "    </tr>\n",
              "    <tr>\n",
              "      <th>2002</th>\n",
              "      <td>Korea/Japan</td>\n",
              "      <td>Brazil</td>\n",
              "      <td>Germany</td>\n",
              "      <td>Turkey</td>\n",
              "      <td>161</td>\n",
              "      <td>64</td>\n",
              "      <td>2705197</td>\n",
              "      <td>2.515625</td>\n",
              "    </tr>\n",
              "  </tbody>\n",
              "</table>\n",
              "</div>"
            ],
            "text/plain": [
              "          Country  Winner       RunnersUp       Third  GoalsScored  \\\n",
              "Year                                                                 \n",
              "1958       Sweden  Brazil          Sweden      France          126   \n",
              "1962        Chile  Brazil  Czechoslovakia       Chile           89   \n",
              "1970       Mexico  Brazil           Italy  Germany FR           95   \n",
              "1994          USA  Brazil           Italy      Sweden          141   \n",
              "2002  Korea/Japan  Brazil         Germany      Turkey          161   \n",
              "\n",
              "      MatchesPlayed  Attendance  AverageGoalsMatch  \n",
              "Year                                                \n",
              "1958             35      819810           3.600000  \n",
              "1962             32      893172           2.781250  \n",
              "1970             32     1603975           2.968750  \n",
              "1994             52     3587538           2.711538  \n",
              "2002             64     2705197           2.515625  "
            ]
          },
          "execution_count": 27,
          "metadata": {},
          "output_type": "execute_result"
        }
      ],
      "source": [
        "ganhou"
      ]
    },
    {
      "cell_type": "code",
      "execution_count": null,
      "metadata": {
        "id": "u8wJJqynPcra",
        "outputId": "404b4199-7a40-4b2c-c437-faf87a0358b6"
      },
      "outputs": [
        {
          "name": "stdout",
          "output_type": "stream",
          "text": [
            "média de gols nos anos que ganhou: [3.6, 2.78125, 2.96875, 2.7115384615384617, 2.515625]\n",
            "\n",
            "anos em que foi para a final e média de gols:\n",
            "Year\n",
            "1950    4.000000\n",
            "1958    3.600000\n",
            "1962    2.781250\n",
            "1970    2.968750\n",
            "1994    2.711538\n",
            "1998    2.671875\n",
            "2002    2.515625\n",
            "Name: AverageGoalsMatch, dtype: float64\n",
            "\n",
            "porcentagem de vitórias em finais: 71.4 %\n"
          ]
        }
      ],
      "source": [
        "# para verificar somente os anos, olhamos somente os rótulos dos DataFrames acima\n",
        "lista_media_gols = list(ganhou['AverageGoalsMatch'].values)\n",
        "print('média de gols nos anos que ganhou:', lista_media_gols)    # anos em que o Brasil venceu\n",
        "\n",
        "print('\\nanos em que foi para a final e média de gols:')\n",
        "print(participou['AverageGoalsMatch']) # anos em que o Brasil disputou uma final\n",
        "\n",
        "# basta dividimos o número de disputas de final pelo número de vitórias\n",
        "print('\\nporcentagem de vitórias em finais:', round((ganhou.shape[0] / participou.shape[0])*100,1), '%')"
      ]
    },
    {
      "cell_type": "code",
      "execution_count": null,
      "metadata": {
        "id": "7yc5vRmRPcra"
      },
      "outputs": [],
      "source": []
    },
    {
      "cell_type": "markdown",
      "metadata": {
        "id": "olF0WlKMPyN8"
      },
      "source": [
        "### Exercício 11)\n",
        "\n",
        "Codifique uma função que use comprehension para retornar uma lista com `n` valores numéricos iniciando em 0 e  com passo `p` permitindo um número float como passo. Arredonde cada número para 5 casas decimais usando a função `round(,5)`\n",
        "\n",
        "Exemplo para n=8, p=0.05\n",
        "```\n",
        "[0.0, 0.05, 0.1, 0.15, 0.2, 0.25, 0.3, 0.35, 0.4]\n",
        "```"
      ]
    },
    {
      "cell_type": "code",
      "execution_count": null,
      "metadata": {
        "id": "XZXAeL9MPyN9",
        "outputId": "d710015f-c7b7-497d-f95a-9242a826d33b"
      },
      "outputs": [
        {
          "name": "stdout",
          "output_type": "stream",
          "text": [
            "9\n",
            "[0.0, 0.05, 0.1, 0.15, 0.2, 0.25, 0.3, 0.35, 0.4]\n"
          ]
        }
      ],
      "source": [
        "def frange(n,p):\n",
        "    lista = [round(x*p,5) for x in range(n+1)]\n",
        "    return lista\n",
        "\n",
        "lista = frange(8,0.05)\n",
        "print(len(lista))\n",
        "print(lista)"
      ]
    },
    {
      "cell_type": "markdown",
      "metadata": {
        "id": "ME9u6Q4lQZCL"
      },
      "source": [
        "### Exercício 12)\n",
        "\n",
        "A partir de um vetor com números inteiros aleatórios, calcular seu `log` e criar uma lista com o resultado.\n",
        "* se o número for 0 substituir o valor por `nan` (not a number) da biblioteca `math` para indicar que o resultado não é numérico"
      ]
    },
    {
      "cell_type": "code",
      "execution_count": null,
      "metadata": {
        "id": "1tjO4W4EQZCL",
        "outputId": "6cd1207a-a389-4e1b-ef41-7d404b39c46a"
      },
      "outputs": [
        {
          "name": "stdout",
          "output_type": "stream",
          "text": [
            "[3, 3, 9, 7, 6, 9, 1, 0, 9, 2, 8, 4, 9, 6, 10, 0, 0, 6, 8, 5, 8, 2, 8, 0, 9]\n"
          ]
        }
      ],
      "source": [
        "import random as rd\n",
        "\n",
        "n = 25\n",
        "rand_num = [rd.randint(0,10) for _ in range(n)]\n",
        "print(rand_num)"
      ]
    },
    {
      "cell_type": "code",
      "execution_count": null,
      "metadata": {
        "id": "l1jPM46wPyOA",
        "outputId": "7aba52ca-d91f-4999-c900-1e3bcb58886c"
      },
      "outputs": [
        {
          "name": "stdout",
          "output_type": "stream",
          "text": [
            "[1.0986122886681098, 1.0986122886681098, 2.1972245773362196, 1.9459101490553132, 1.791759469228055, 2.1972245773362196, 0.0, nan, 2.1972245773362196, 0.6931471805599453, 2.0794415416798357, 1.3862943611198906, 2.1972245773362196, 1.791759469228055, 2.302585092994046, nan, nan, 1.791759469228055, 2.0794415416798357, 1.6094379124341003, 2.0794415416798357, 0.6931471805599453, 2.0794415416798357, nan, 2.1972245773362196]\n"
          ]
        }
      ],
      "source": [
        "from math import nan, log\n",
        "log_num = [log(x) if x != 0 else nan for x in rand_num]\n",
        "print(log_num)"
      ]
    },
    {
      "cell_type": "markdown",
      "metadata": {
        "id": "PeCOyc8WQZCM"
      },
      "source": [
        "### Exercício 13)\n",
        "\n",
        "\n",
        "Codifique uma função que receba como argumento duas listas de números com o mesmo tamanho. Use comprehension para retornar uma nova lista que é a multiplicação elemento-a-elemento das duas listas.  Caso as listas não possuam o mesmo tamanho emita uma mensagem de erro e retorne a constante `math.nan` do módulo `math`.\n",
        "\n",
        "Exemplo:\n",
        "```\n",
        "l1 = [1, 2, 3, 4, 5]\n",
        "l2 = [5, 5, 5, 10, 10]\n",
        "multiplica_listas(l1,l2)\n",
        "\n",
        "  [5, 10, 15, 40, 50]\n",
        "```"
      ]
    },
    {
      "cell_type": "code",
      "execution_count": null,
      "metadata": {
        "id": "YYhOtHUlQZCM"
      },
      "outputs": [],
      "source": [
        "from math import nan\n",
        "import sys\n",
        "\n",
        "def multiplica_listas(l1,l2):\n",
        "    if (len(l1) != len(l2)):\n",
        "        print('Erro: Listas devem ter o mesmo tamanho', file=sys.stderr)\n",
        "        return nan\n",
        "    else:\n",
        "        return [x*y for x,y in zip(l1,l2)]"
      ]
    },
    {
      "cell_type": "code",
      "execution_count": null,
      "metadata": {
        "id": "0yLcVT7cPyOC",
        "outputId": "020d761e-7737-4b79-9a7b-9944a9c1ccb9"
      },
      "outputs": [
        {
          "name": "stdout",
          "output_type": "stream",
          "text": [
            "[5, 10, 15, 40, 50]\n",
            "nan\n"
          ]
        },
        {
          "name": "stderr",
          "output_type": "stream",
          "text": [
            "Erro: Listas devem ter o mesmo tamanho\n"
          ]
        }
      ],
      "source": [
        "l1 = [1, 2, 3, 4, 5]\n",
        "l2 = [5, 5, 5, 10, 10]\n",
        "\n",
        "print(multiplica_listas(l1,l2))\n",
        "\n",
        "l3 = [3, 4, 5]\n",
        "print(multiplica_listas(l1,l3))"
      ]
    },
    {
      "cell_type": "markdown",
      "metadata": {
        "id": "UCJEnqh4PyOC"
      },
      "source": [
        "### Exercício 14)\n",
        "\n",
        "Codifique uma comprehension que simule uma matriz de tamanho n x n, cujos elementos são dados por `(i+j*i)`, sendo `i` o índice da linha e `j` o índice da coluna. Para simular isso com uma lista de listas, o `i` corresponde ao índice da lista principal e o `j` aos índices das listas aninhadas.\n",
        "\n",
        "Por exemplo, seja a segunda lista (posição i=1), o seu terceiro elemento (posição j=2) seria obtido por `1+2*1 = 3`\n",
        "\n",
        "Exemplo com n = 3:\n",
        "```\n",
        "  [[0, 0, 0],\n",
        "   [1, 2, 3],\n",
        "   [2, 4, 6]]\n",
        "```"
      ]
    },
    {
      "cell_type": "code",
      "execution_count": null,
      "metadata": {
        "id": "OPSmv9TpPyOD",
        "outputId": "5706ab1f-0529-48bf-d2fd-1c99bfdd627a"
      },
      "outputs": [
        {
          "name": "stdout",
          "output_type": "stream",
          "text": [
            "[[0, 0, 0], [1, 2, 3], [2, 4, 6]]\n"
          ]
        }
      ],
      "source": [
        "n = 3\n",
        "matriz = [[i+j*i for j in range(n)] for i in range(n)]\n",
        "print(matriz)"
      ]
    },
    {
      "cell_type": "markdown",
      "metadata": {
        "id": "fzoMoY1XPyOD"
      },
      "source": [
        "---\n",
        "\n",
        "##  <font color=\"red\">Solução do Desafio</font>\n",
        "\n",
        "Temos uma série de pontos 3D organizados numa lista e gostaríamos de computar as distâncias entre todos os pontos pareados.\n",
        "\n",
        "Calcular a distância entre dois pontos $p1 = (x_1,y_1,z_1)$ e  $p2 = (x_2,y_2,z_2)$ usando a fórmula\n",
        "\n",
        "$$d(p1,p2) = |x_1 - x_2| +|y_1 - y_2| + |z_1 - z_2|,$$\n",
        "em que $|.|$ representa o valor absoluto.\n",
        "\n",
        "Exemplo com 2 pontos organizados em listas:\n",
        "```\n",
        "[[1.0, 1.0, 1.0],\n",
        " [3.0, 3.0, 3.0]]\n",
        "```\n",
        "\n",
        "A saída deve ser:\n",
        "```\n",
        "[[0.0, 6.0],\n",
        " [6.0, 0.0]]\n",
        "```\n",
        "\n",
        "Note que a diagonal principal tem sempre valor zero já que representa a distância de um ponto para ele mesmo, e que a matriz é simétrica pois a distância entre dois pontos p1 e p2 é tal que: d(p1,p2) = d(p2,p1).\n",
        "\n",
        "Para isso utilize uma única linha contendo comprehensions aninhadas e com iteração em paralelo"
      ]
    },
    {
      "cell_type": "code",
      "execution_count": null,
      "metadata": {
        "id": "B0ZHyaPKPyOE",
        "outputId": "1ab2d068-1cb1-4db8-88cd-63c3e66f82a6"
      },
      "outputs": [
        {
          "name": "stdout",
          "output_type": "stream",
          "text": [
            "[0.0, 3.0, 3.0, 3.0]\n",
            "[3.0, 0.0, 4.0, 4.0]\n",
            "[3.0, 4.0, 0.0, 6.0]\n",
            "[3.0, 4.0, 6.0, 0.0]\n"
          ]
        }
      ],
      "source": [
        "from math import fabs, fsum\n",
        "\n",
        "pontos3d = [ [1.0, 1.0, 1.0],\n",
        "             [0.0, 1.0, 3.0],\n",
        "             [2.0, 2.0, 2.0],\n",
        "             [0.0, 0.0, 0.0] ]\n",
        "\n",
        "dists = [[fsum([fabs(a-b) for a,b in zip(p1,p2)]) for p2 in pontos3d] for p1 in pontos3d ]\n",
        "\n",
        "for linha in dists:\n",
        "    print(linha)"
      ]
    },
    {
      "cell_type": "markdown",
      "metadata": {
        "id": "12hQdjfIQZCN"
      },
      "source": [
        "### Exercício 15)\n",
        "\n",
        "Escreva uma expressão lambda que permita receber uma string contendo duas palavras relativas ao nome de uma pessoa e seu sobrenome. Essas são separadas por um ou mais espaços em branco. A expressão deve retornar o nome no formato: \"SOBRENOME, N.\"\n",
        "\n",
        "Exemplo:\n",
        "```\n",
        "nome = 'Dennis   ritchie'\n",
        "```\n",
        "\n",
        "Retorno:\n",
        "```\n",
        "RITCHIE, D.\n",
        "```\n",
        "\n",
        "A seguir escreva um comprehension que percorra uma lista contendo nomes e gere uma nova lista com os nomes no formato \"SOBRENOME, N.\"\n",
        "\n",
        "Exemplo:\n",
        "```\n",
        "nomes = ['Dennis   ritchie', 'ALAN  Turing', 'betty Holberton']\n",
        "```\n",
        "\n",
        "Retorno:\n",
        "```\n",
        "['RITCHIE, D.', 'TURING, A.', 'HOLBERTON, B.']\n",
        "```"
      ]
    },
    {
      "cell_type": "code",
      "execution_count": null,
      "metadata": {
        "id": "BbHLf-GAPyOF",
        "outputId": "d9c5ebce-0d51-479b-bee0-52111ee8b900"
      },
      "outputs": [
        {
          "data": {
            "text/plain": [
              "'PONTI, M.'"
            ]
          },
          "execution_count": 11,
          "metadata": {},
          "output_type": "execute_result"
        }
      ],
      "source": [
        "f = lambda nome: nome.split()[-1].upper()+', '+nome.split()[0][0]+'.'\n",
        "f('Moacir Ponti')"
      ]
    },
    {
      "cell_type": "code",
      "execution_count": null,
      "metadata": {
        "id": "m9cvY_JPPyOF",
        "outputId": "e94ea3b3-4a6c-4a12-fae1-48e2a68b12fa"
      },
      "outputs": [
        {
          "name": "stdout",
          "output_type": "stream",
          "text": [
            "['HOLBERTON, B.', 'TURING, A.', 'RITCHIE, D.', 'HOPPER, G.', 'KNUTH, D.', 'BABBAGE, C.', 'LOVELACE, A.', 'HINTON, G.', 'KOLLER, D.']\n"
          ]
        }
      ],
      "source": [
        "cientistas_da_computacao = ['Betty Holberton', 'Alan Turing', 'Dennis Ritchie', 'Grace Hopper', 'Donald Knuth', 'Charles Babbage', 'Ada Lovelace', 'Geoffrey Hinton', 'Daphne Koller']\n",
        "formato = [f(nome) for nome in cientistas_da_computacao]\n",
        "print(formato)"
      ]
    },
    {
      "cell_type": "code",
      "execution_count": null,
      "metadata": {
        "id": "zl0INvfGPyOG",
        "outputId": "579c8205-ad43-40ca-d954-2ff22e24de2e"
      },
      "outputs": [
        {
          "name": "stdout",
          "output_type": "stream",
          "text": [
            "HOLBERTON, B.\n",
            "TURING, A.\n",
            "RITCHIE, D.\n",
            "HOPPER, G.\n",
            "KNUTH, D.\n",
            "BABBAGE, C.\n",
            "LOVELACE, A.\n",
            "HINTON, G.\n",
            "KOLLER, D.\n"
          ]
        }
      ],
      "source": [
        "f = lambda nome: nome.split()[-1].upper()+', '+nome.split()[0][0]+'.'\n",
        "formato = [f(nome) for nome in cientistas_da_computacao]\n",
        "for autor in formato:\n",
        "    print(autor)"
      ]
    },
    {
      "cell_type": "markdown",
      "metadata": {
        "id": "KIBBVkQnPyOG"
      },
      "source": [
        "### Exercício 16)\n",
        "\n",
        "Dada uma lista de tuplas, em que cada tupla é formada por um par (str,list). Ver um exemplo abaixo.\n",
        "\n",
        "```\n",
        "l_tup = [('a',[8, 4, 6, 1]), ('b',[1, 2, 3, 4]), ('c',[5, 3, 3, 3])]\n",
        "```\n",
        "* Converta a lista de tuplas em um numpy array bidimensional em que cada lista é transformada em uma linha do array, ignorando a string.\n",
        "* Percorra cada linha do array resultante usando `for`, exibindo na tela os 3 últimos elementos de cada array\n",
        "\n",
        "Seu código deve funcionar para qualquer número de tuplas na lista, assuma que as listas tem sempre o mesmo número de elementos, todos numéricos.\n"
      ]
    },
    {
      "cell_type": "code",
      "execution_count": null,
      "metadata": {
        "id": "YI-MBPC1PyOH"
      },
      "outputs": [],
      "source": [
        "l_tup = [('a',[8, 4, 6, 1]), ('b',[1, 2, 3, 4]), ('c',[5, 3, 3, 3])]"
      ]
    },
    {
      "cell_type": "code",
      "execution_count": null,
      "metadata": {
        "id": "QVJzR-kLPyOH",
        "outputId": "e92cc01c-3998-4609-b600-a94d30d04121"
      },
      "outputs": [
        {
          "name": "stdout",
          "output_type": "stream",
          "text": [
            "[4 6 1]\n",
            "[2 3 4]\n",
            "[3 3 3]\n"
          ]
        }
      ],
      "source": [
        "import numpy as np\n",
        "\n",
        "arr = np.array([el[1] for el in l_tup])\n",
        "\n",
        "for l in arr:\n",
        "    print(l[-3:])"
      ]
    },
    {
      "cell_type": "markdown",
      "metadata": {
        "id": "r_Sc6XaNQZCP"
      },
      "source": [
        "### Exercício 17)\n",
        "\n",
        "Use o método `randint` do `numpy` para criar um array bidimensional com 6x10 elementos inteiros entre 1 e 5.\n",
        "\n",
        "A seguir, considerando apenas a submatriz formada pelas linhas: 2 até 6 e as colunas 2, 5 e 8, copie para uma matriz unidimensional os valores maiores ou iguais a 4."
      ]
    },
    {
      "cell_type": "code",
      "execution_count": null,
      "metadata": {
        "id": "f2IIi4sTQZCP",
        "outputId": "ff66b28a-6014-4e3b-89cd-3134cc76c075",
        "scrolled": true
      },
      "outputs": [
        {
          "name": "stdout",
          "output_type": "stream",
          "text": [
            "[[3 1 3 5 1 5 5 3 5 1]\n",
            " [3 5 1 2 4 5 4 4 5 1]\n",
            " [3 1 4 5 4 4 5 5 4 3]\n",
            " [3 1 4 4 2 4 4 5 5 1]\n",
            " [1 3 4 3 1 2 4 5 5 2]\n",
            " [2 2 1 1 4 3 3 1 5 2]]\n"
          ]
        }
      ],
      "source": [
        "x = np.random.randint(1,6,60).reshape(6,10)\n",
        "print(x)"
      ]
    },
    {
      "cell_type": "code",
      "execution_count": null,
      "metadata": {
        "id": "EHOlpyjVPyOI",
        "outputId": "cedcdf4e-33ba-41e8-8d00-a63f7ce8abe7"
      },
      "outputs": [
        {
          "name": "stdout",
          "output_type": "stream",
          "text": [
            "[4 4 4 4 4 5 4 5 5]\n"
          ]
        }
      ],
      "source": [
        "subx = x[2:,[2,5,8]]\n",
        "vec = np.copy(subx[subx>=4])\n",
        "print(vec)"
      ]
    },
    {
      "cell_type": "markdown",
      "metadata": {
        "id": "dq-aeLBwPyOI"
      },
      "source": [
        "### Exercício 18)\n",
        "\n",
        "\n",
        "Dados dois arrays conforme abaixo que são notas (de 1 a 10) dadas a 4 diferentes serviços fornecidos por empresas concorrentes A e B. As notas de cada serviço estão organizadas nas 4 linhas dos arrays.\n",
        "\n",
        "A empresa `A` coletou 10 notas, e `B` coletou 6 notas para cada serviço (simuladas aleatoriamente no código abaixo).\n",
        "\n",
        "Os 4 serviços possuem pesos que é determinado pela lista `pesos` listada abaixo.\n",
        "\n",
        "A empresa A deseja se comparar com a empresa B com base na média das notas da empresa B. Para isso:\n",
        "1. usando redução, obtenha a média das notas de cada serviço da empresa B;\n",
        "2. para cada serviço, calcule qual foi a menor nota observada por A considerando apenas as notas de A que foram maiores do que a média de B para aquele serviço;\n",
        "3. armazene essas notas mínimas em um novo array de 4 elementos, e exiba esse array na tela;\n",
        "4. utilizando multiplicação vetorial, calcule e exiba na tela a soma das notas mínimas ponderadas pelos pesos\n"
      ]
    },
    {
      "cell_type": "code",
      "execution_count": null,
      "metadata": {
        "id": "W5IWvzHsPyOI",
        "outputId": "e56b3adb-4285-47ce-b57f-5be65f50edc2",
        "scrolled": true
      },
      "outputs": [
        {
          "name": "stdout",
          "output_type": "stream",
          "text": [
            "[[ 9  1  8  3  6  4  3  4  1  2]\n",
            " [ 7  5  5  4  7  7  6  2  5  6]\n",
            " [ 6  7  4  5  1  9  5  8  7  2]\n",
            " [ 5  5 10  4  4  2  2  2  3  4]]\n",
            "[[ 6  4 10  1  4  3]\n",
            " [ 8  1  1 10 10  7]\n",
            " [ 3  7  9  1  5  9]\n",
            " [ 6  5  5  8  2  6]]\n",
            "[0.15, 0.25, 0.3, 0.3]\n"
          ]
        }
      ],
      "source": [
        "A = np.random.randint(low=1,high=11,size=(4,10))\n",
        "B = np.random.randint(low=1,high=11,size=(4,6))\n",
        "pesos = [0.15, 0.25, 0.3, 0.3]\n",
        "print(A)\n",
        "print(B)\n",
        "print(pesos)"
      ]
    },
    {
      "cell_type": "code",
      "execution_count": null,
      "metadata": {
        "id": "ysHQSQ0JPyOJ",
        "outputId": "d5cb36b6-98a6-4034-fe28-b8f0aa56d4c0"
      },
      "outputs": [
        {
          "name": "stdout",
          "output_type": "stream",
          "text": [
            "1) Medias de B: [4.67 6.17 5.67 5.33]\n",
            "2/3) Menores notas de A > do que medias de B: [ 6  7  6 10]\n",
            "  pesos= [0.15 0.25 0.3  0.3 ]\n",
            "4) Soma ponderada: 7.45\n"
          ]
        }
      ],
      "source": [
        "####\n",
        "mins = []\n",
        "for i,m in zip(range(B.shape[0]), np.mean(B,axis=1)):\n",
        "    minv = np.min(A[i,:][A[i,:] > m])\n",
        "    mins.append(minv)\n",
        "\n",
        "mins = np.array(mins)\n",
        "pesos = np.array(pesos)\n",
        "print('1) Medias de B:', np.round(np.mean(B,axis=1),2))\n",
        "print('2/3) Menores notas de A > do que medias de B:', mins)\n",
        "print('  pesos=', pesos)\n",
        "print('4) Soma ponderada:', np.round(mins.dot(pesos),2))\n"
      ]
    },
    {
      "cell_type": "markdown",
      "metadata": {
        "id": "KJcE3048PyOJ"
      },
      "source": [
        "### Exercício 19)\n",
        "\n",
        "Carregue o arquivo `tips.csv`:\n",
        "1. Filtre as linhas selecionando apenas jantares (time = 'Dinner') e cuja conta foi superior a 40 (total_bill > 40), mostrando o total da conta, número de pessoas na mesa e gorjeta (total_bill, size, tip);\n",
        "2. Obtenha um novo dataframe em que seja mostrada a gorjeta (tip) média e máxima para cada valor de dia da semana (day) e horário (time)"
      ]
    },
    {
      "cell_type": "code",
      "execution_count": null,
      "metadata": {
        "id": "OTfnZQrNPyOJ",
        "outputId": "4801d60e-d7e2-40ed-9523-ad428c83cf1c"
      },
      "outputs": [
        {
          "name": "stdout",
          "output_type": "stream",
          "text": [
            "     total_bill  size    tip\n",
            "59        48.27     4   6.73\n",
            "95        40.17     4   4.73\n",
            "102       44.30     3   2.50\n",
            "156       48.17     6   5.00\n",
            "170       50.81     3  10.00\n",
            "182       45.35     3   3.50\n",
            "184       40.55     2   3.00\n",
            "211       48.33     4   9.00\n",
            "                 mean   amax\n",
            "day  time                   \n",
            "Fri  Dinner  2.940000   4.73\n",
            "     Lunch   2.282500   3.48\n",
            "Sat  Dinner  3.019647  10.00\n",
            "Sun  Dinner  3.255132   6.50\n",
            "Thur Dinner  3.000000   3.00\n",
            "     Lunch   2.780500   6.70\n"
          ]
        }
      ],
      "source": [
        "import pandas as pd\n",
        "\n",
        "dtips = pd.read_csv('tips.csv')\n",
        "\n",
        "print(dtips.loc[(dtips['time']=='Dinner') & (dtips['total_bill']>40),\n",
        "          ['total_bill', 'size', 'tip'] ])\n",
        "\n",
        "avgtip = dtips.groupby(['day','time'])['tip'].agg([np.mean, np.max])\n",
        "print(avgtip)"
      ]
    },
    {
      "cell_type": "markdown",
      "metadata": {
        "id": "8wHzxAYaPyOK"
      },
      "source": [
        "### Exercício 20)\n",
        "\n",
        "Carregue os arquivos `sales1.csv`, `sales1_shipdate.csv`  e `sales2.csv`, os quais possuem informações de vendas realizadas. Devemos juntar as bases de dados e tratá-las.\n",
        "\n",
        "O arquivo `sales1_shipdate.csv` contém as datas de envio das ordens na `sales1.csv`. Já `sales2.csv` contém essa coluna no próprio arquivo\n",
        "\n",
        "Para isso:\n",
        "\n",
        "1. Combine as bases de dados, consolidando-as em um único DataFrame\n",
        "2. Exiba na tela quais atributos possuem dados faltantes após a concatenação\n",
        "    * Sabendo que `Total Revenue` é a multiplicação do preço unitário pela quantidade de unidades, preencha os valores faltantes dessa coluna\n",
        "3. Detecte linhas duplicadas. Remova duplicatas, mantendo a primeira ocorrência, e imprima na tela quantas linhas foram removidas"
      ]
    },
    {
      "cell_type": "code",
      "execution_count": null,
      "metadata": {
        "id": "JbJ1ZqZePyOK",
        "outputId": "651418f6-ab0b-47a3-aeca-47b12b9db91e"
      },
      "outputs": [
        {
          "name": "stdout",
          "output_type": "stream",
          "text": [
            "<class 'pandas.core.frame.DataFrame'>\n",
            "Int64Index: 102 entries, 0 to 87\n",
            "Data columns (total 12 columns):\n",
            " #   Column          Non-Null Count  Dtype  \n",
            "---  ------          --------------  -----  \n",
            " 0   Country         102 non-null    object \n",
            " 1   Item Type       102 non-null    object \n",
            " 2   Online          93 non-null     float64\n",
            " 3   Order Priority  102 non-null    object \n",
            " 4   Order Date      102 non-null    object \n",
            " 5   Order ID        102 non-null    int64  \n",
            " 6   Units Sold      102 non-null    int64  \n",
            " 7   Unit Price      102 non-null    float64\n",
            " 8   Total Cost      102 non-null    float64\n",
            " 9   Total Profit    102 non-null    float64\n",
            " 10  Ship Date       100 non-null    object \n",
            " 11  Total Revenue   88 non-null     float64\n",
            "dtypes: float64(5), int64(2), object(5)\n",
            "memory usage: 10.4+ KB\n"
          ]
        }
      ],
      "source": [
        "import pandas as pd\n",
        "import numpy as np\n",
        "\n",
        "s1 = pd.read_csv('sales1.csv')\n",
        "s1_ship = pd.read_csv('sales1_shipdate.csv')\n",
        "s2 = pd.read_csv('sales2.csv')\n",
        "\n",
        "## 1 - Combinar as bases de dados\n",
        "\n",
        "# juntar data do envio pelo Order ID\n",
        "s1 = pd.merge(s1,s1_ship,on='Order ID',how='outer')\n",
        "# concatenar os dois DataFrames\n",
        "sales = pd.concat([s1,s2],axis=0)\n",
        "\n",
        "sales.info()"
      ]
    },
    {
      "cell_type": "code",
      "execution_count": null,
      "metadata": {
        "id": "ETwzU7BOPyOK",
        "outputId": "f42250d7-058b-423f-8bcf-5fa1fc6a64f6"
      },
      "outputs": [
        {
          "name": "stdout",
          "output_type": "stream",
          "text": [
            "Online\n",
            "Ship Date\n",
            "Total Revenue\n"
          ]
        }
      ],
      "source": [
        "## 2 - Atributos com dados faltantes\n",
        "\n",
        "for (colName, colData) in sales.items():\n",
        "    if (np.any(pd.isna(colData))):\n",
        "        print(colName)"
      ]
    },
    {
      "cell_type": "code",
      "execution_count": null,
      "metadata": {
        "id": "phArIqPOPyOK",
        "outputId": "04971ef4-34db-4fba-de69-a8387fa820e0"
      },
      "outputs": [
        {
          "name": "stdout",
          "output_type": "stream",
          "text": [
            "                  Country        Item Type  Online Order Priority Order Date  \\\n",
            "0                  Tuvalu        Baby Food     0.0              H  5/28/2010   \n",
            "1                  Brazil           Cereal     1.0              C  8/22/2012   \n",
            "2                  Russia  Office Supplies     0.0              L   5/2/2014   \n",
            "3   Sao Tome and Principe           Fruits     1.0              C  6/20/2014   \n",
            "4                  Rwanda  Office Supplies     0.0              L   2/1/2013   \n",
            "5         Solomon Islands        Baby Food     1.0              C   2/4/2015   \n",
            "6                  Angola        Household     0.0              M  4/23/2011   \n",
            "7            Burkina Faso       Vegetables     1.0              H  7/17/2012   \n",
            "8   Republic of the Congo    Personal Care     0.0              M  7/14/2015   \n",
            "9                 Senegal           Cereal     1.0              H  4/18/2014   \n",
            "10             Kyrgyzstan       Vegetables     1.0              H  6/24/2011   \n",
            "11             Cape Verde          Clothes     0.0              H   8/2/2014   \n",
            "12             Bangladesh          Clothes     1.0              L  1/13/2017   \n",
            "13               Honduras        Household     0.0              H   2/8/2017   \n",
            "\n",
            "     Order ID  Units Sold  Unit Price  Total Cost  Total Profit  Ship Date  \\\n",
            "0   669165933        9925      255.28  1582243.50     951410.50  6/27/2010   \n",
            "1   963881480        2804      205.70   328376.44     248406.36  9/15/2012   \n",
            "2   341417157        1779      651.21   933903.84     224598.75   5/8/2014   \n",
            "3   514321792        8102        9.33    56065.84      19525.82   7/5/2014   \n",
            "4   115456712        5062      651.21  2657347.52     639077.50   2/6/2013   \n",
            "5   547995746        2974      255.28   474115.08     285087.64        NaN   \n",
            "6   135425221        4187      668.27  2104134.98     693911.51  4/27/2011   \n",
            "7   871543967        8082      154.06   734896.26     510216.66  7/27/2012   \n",
            "8   770463311        6070       81.73   343986.90     152114.20  8/25/2015   \n",
            "9   616607081        6593      205.70   772106.23     584073.87  5/30/2014   \n",
            "10  814711606         124      154.06    11275.32       7828.12        NaN   \n",
            "11  939825713        4168      109.28   149381.12     306097.92  8/19/2014   \n",
            "12  187310731        8263      109.28   296145.92     606834.72   3/1/2017   \n",
            "13  522840487        8974      668.27  4509793.96    1487261.02  2/13/2017   \n",
            "\n",
            "    Total Revenue  \n",
            "0             NaN  \n",
            "1             NaN  \n",
            "2             NaN  \n",
            "3             NaN  \n",
            "4             NaN  \n",
            "5             NaN  \n",
            "6             NaN  \n",
            "7             NaN  \n",
            "8             NaN  \n",
            "9             NaN  \n",
            "10            NaN  \n",
            "11            NaN  \n",
            "12            NaN  \n",
            "13            NaN  \n"
          ]
        }
      ],
      "source": [
        "ind_falt = sales['Total Revenue'].isna()\n",
        "print(sales.loc[ind_falt])"
      ]
    },
    {
      "cell_type": "code",
      "execution_count": null,
      "metadata": {
        "id": "1rrfeFzIPyOL",
        "outputId": "c0f9cbcc-4764-469d-e77c-5c32581f00d9"
      },
      "outputs": [
        {
          "name": "stdout",
          "output_type": "stream",
          "text": [
            "                  Country        Item Type  Online Order Priority Order Date  \\\n",
            "0                  Tuvalu        Baby Food     0.0              H  5/28/2010   \n",
            "1                  Brazil           Cereal     1.0              C  8/22/2012   \n",
            "2                  Russia  Office Supplies     0.0              L   5/2/2014   \n",
            "3   Sao Tome and Principe           Fruits     1.0              C  6/20/2014   \n",
            "4                  Rwanda  Office Supplies     0.0              L   2/1/2013   \n",
            "5         Solomon Islands        Baby Food     1.0              C   2/4/2015   \n",
            "6                  Angola        Household     0.0              M  4/23/2011   \n",
            "7            Burkina Faso       Vegetables     1.0              H  7/17/2012   \n",
            "8   Republic of the Congo    Personal Care     0.0              M  7/14/2015   \n",
            "9                 Senegal           Cereal     1.0              H  4/18/2014   \n",
            "10             Kyrgyzstan       Vegetables     1.0              H  6/24/2011   \n",
            "11             Cape Verde          Clothes     0.0              H   8/2/2014   \n",
            "12             Bangladesh          Clothes     1.0              L  1/13/2017   \n",
            "13               Honduras        Household     0.0              H   2/8/2017   \n",
            "\n",
            "     Order ID  Units Sold  Unit Price  Total Cost  Total Profit  Ship Date  \\\n",
            "0   669165933        9925      255.28  1582243.50     951410.50  6/27/2010   \n",
            "1   963881480        2804      205.70   328376.44     248406.36  9/15/2012   \n",
            "2   341417157        1779      651.21   933903.84     224598.75   5/8/2014   \n",
            "3   514321792        8102        9.33    56065.84      19525.82   7/5/2014   \n",
            "4   115456712        5062      651.21  2657347.52     639077.50   2/6/2013   \n",
            "5   547995746        2974      255.28   474115.08     285087.64        NaN   \n",
            "6   135425221        4187      668.27  2104134.98     693911.51  4/27/2011   \n",
            "7   871543967        8082      154.06   734896.26     510216.66  7/27/2012   \n",
            "8   770463311        6070       81.73   343986.90     152114.20  8/25/2015   \n",
            "9   616607081        6593      205.70   772106.23     584073.87  5/30/2014   \n",
            "10  814711606         124      154.06    11275.32       7828.12        NaN   \n",
            "11  939825713        4168      109.28   149381.12     306097.92  8/19/2014   \n",
            "12  187310731        8263      109.28   296145.92     606834.72   3/1/2017   \n",
            "13  522840487        8974      668.27  4509793.96    1487261.02  2/13/2017   \n",
            "\n",
            "    Total Revenue  \n",
            "0      2533654.00  \n",
            "1       576782.80  \n",
            "2      1158502.59  \n",
            "3        75591.66  \n",
            "4      3296425.02  \n",
            "5       759202.72  \n",
            "6      2798046.49  \n",
            "7      1245112.92  \n",
            "8       496101.10  \n",
            "9      1356180.10  \n",
            "10       19103.44  \n",
            "11      455479.04  \n",
            "12      902980.64  \n",
            "13     5997054.98  \n"
          ]
        }
      ],
      "source": [
        "sales.loc[ind_falt, 'Total Revenue'] = sales.loc[ind_falt].apply(lambda x: x['Units Sold']*x['Unit Price'], axis=1)\n",
        "print(sales.loc[ind_falt])"
      ]
    },
    {
      "cell_type": "code",
      "execution_count": null,
      "metadata": {
        "id": "I_927r_OPyOL",
        "outputId": "ec24fcf9-5931-4b82-e315-166f8baa7bcb"
      },
      "outputs": [
        {
          "name": "stdout",
          "output_type": "stream",
          "text": [
            "Online\n",
            "Ship Date\n"
          ]
        }
      ],
      "source": [
        "for (colName, colData) in sales.items():\n",
        "    if (np.any(pd.isna(colData))):\n",
        "        print(colName)"
      ]
    },
    {
      "cell_type": "code",
      "execution_count": null,
      "metadata": {
        "id": "Gj5PMkYwPyOL"
      },
      "outputs": [],
      "source": [
        "## 3 - Tratamento de duplicatas\n",
        "print(sales[sales.duplicated(keep=False)])\n",
        "\n",
        "print(sales.shape)\n",
        "sales = sales.drop_duplicates(keep='first')\n",
        "print(sales.shape)"
      ]
    }
  ],
  "metadata": {
    "colab": {
      "provenance": [],
      "include_colab_link": true
    },
    "kernelspec": {
      "display_name": "Python 3",
      "language": "python",
      "name": "python3"
    },
    "language_info": {
      "codemirror_mode": {
        "name": "ipython",
        "version": 3
      },
      "file_extension": ".py",
      "mimetype": "text/x-python",
      "name": "python",
      "nbconvert_exporter": "python",
      "pygments_lexer": "ipython3",
      "version": "3.6.5"
    },
    "toc": {
      "base_numbering": 1,
      "nav_menu": {},
      "number_sections": true,
      "sideBar": true,
      "skip_h1_title": false,
      "title_cell": "Table of Contents",
      "title_sidebar": "Contents",
      "toc_cell": false,
      "toc_position": {},
      "toc_section_display": true,
      "toc_window_display": false
    }
  },
  "nbformat": 4,
  "nbformat_minor": 0
}