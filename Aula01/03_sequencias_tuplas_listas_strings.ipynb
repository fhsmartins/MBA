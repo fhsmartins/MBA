{
  "cells": [
    {
      "cell_type": "markdown",
      "metadata": {
        "id": "view-in-github",
        "colab_type": "text"
      },
      "source": [
        "<a href=\"https://colab.research.google.com/github/fhsmartins/MBA/blob/main/Aula01/03_sequencias_tuplas_listas_strings.ipynb\" target=\"_parent\"><img src=\"https://colab.research.google.com/assets/colab-badge.svg\" alt=\"Open In Colab\"/></a>"
      ]
    },
    {
      "cell_type": "markdown",
      "metadata": {
        "id": "Wu7ck6xvaP6b"
      },
      "source": [
        "# <font color=\"red\"> MBA em IA e Big Data</font>\n",
        "## <span style=\"color:red\">Linguagens e Ferramentas para Inteligência Artificial e Big Data (Python e SQL)</span>\n",
        "\n",
        "### <span style=\"color:darkred\">Python - Aula 03</span>\n",
        "\n",
        "*Leandro Franco de Souza*<br>\n",
        "*ICMC/USP São Carlos*\n",
        "\n",
        "*(com material dos Profs. Luis Gustavo Nonato & Moacir Antonelli Ponti)*"
      ]
    },
    {
      "cell_type": "markdown",
      "metadata": {
        "id": "wOM5dIGtaP6d"
      },
      "source": [
        "# <font color=\"red\"> Conteúdo</font>\n",
        "\n",
        "### <span style=\"color:red\">- Sequências: tuplas</span>\n",
        "### <span style=\"color:red\">- Sequências: listas</span>\n",
        "### <span style=\"color:red\">- Sequências: caracteres</span>"
      ]
    },
    {
      "cell_type": "markdown",
      "metadata": {
        "id": "fwFG9tNiaP7I"
      },
      "source": [
        "## Sequências\n",
        "\n",
        "Há três tipos nativos de sequências em Python\n",
        "\n",
        "#### Tupla - *tuple*\n",
        "- Sequência ordenada de elementos de qualquer tipo, incluindo outra sequência\n",
        "- Instanciada com valores entre parênteses separados por vírgula, ex: (1, 2, 3)\n",
        "- Elementos podem ser de tipos distintos, incluindo outra sequência\n",
        "- Comumente usadas como \"registros\" cuja ordem determina o significado dos valores que contém\n",
        "- Elementos individuais <font color='red'>não podem ser modificados</font> (imutáveis)\n",
        "\n",
        "#### Lista - *list*\n",
        "- Sequência mutável ordenada de elementos de qualquer tipo, incluindo outra sequência\n",
        "- Instanciada com valores entre colchetes separados por vírgula, ex: [1, 2, 3]\n",
        "- Elementos podem ser modificados, adicionados, removidos, etc.\n",
        "\n",
        "#### String - *str*\n",
        "- Sequência ordenada de caracteres\n",
        "- Instanciada com caracteres entre aspas simples ou duplas, ex: '123abc'\n",
        "- Elementos individuais <font color='red'>não podem ser modificados</font> (imutáveis)\n",
        "\n",
        "\n",
        "Elementos da sequência podem ser acessados pelo índice do elemento (sua posição) entre colchetes após o identificador da sequência.<br>\n",
        "\n",
        "O *índice dos elementos* inicia em `0` e vai até `n-1`, onde `n` é o número de elementos na sequência.\n",
        "\n"
      ]
    },
    {
      "cell_type": "markdown",
      "metadata": {
        "id": "UwCY8WvcUJXy"
      },
      "source": [
        "---\n",
        "Exemplos de **tuplas**"
      ]
    },
    {
      "cell_type": "code",
      "execution_count": null,
      "metadata": {
        "id": "qRSTJeWcaP7J"
      },
      "outputs": [],
      "source": [
        "tupla = (23, 'abc', 4.56, (2,3))  # Tupla é sequência definida usando parenteses ()\n",
        "\n",
        "# os valores dos elementos podem ser acessados utilizando o índice do elemento entre colchetes\n",
        "print(tupla[3])\n"
      ]
    },
    {
      "cell_type": "markdown",
      "metadata": {
        "id": "3cl_cVhOUJXz"
      },
      "source": [
        "O valor na posição `3` é uma *outra tupla* portanto podemos aninhar sequências.\n",
        "\n",
        "Para acessar seus valores usamos um novo índice entre colchetes\n",
        "* elemento na posição 3 da tupla, e dentro dele um elemento na posição 0\n",
        "* elemento na posição 3 da tupla, e dentro dele um elemento na posição 1"
      ]
    },
    {
      "cell_type": "code",
      "execution_count": null,
      "metadata": {
        "id": "rfLGojUDUJX0",
        "scrolled": true
      },
      "outputs": [],
      "source": [
        "print(tupla[3][0])\n",
        "print(tupla[3][1])\n"
      ]
    },
    {
      "cell_type": "markdown",
      "metadata": {
        "id": "U2CALWHXUJX0"
      },
      "source": [
        "> Erros típicos:\n",
        "* alterar elementos de tipos imutáveis\n",
        "* acessar posições não existentes"
      ]
    },
    {
      "cell_type": "code",
      "execution_count": null,
      "metadata": {
        "id": "SuaLxuwSaP7N",
        "scrolled": true
      },
      "outputs": [],
      "source": [
        "# Como tuplas são imutáveis, não se pode mudar o valor dos elementos (mensagem de erro é gerada)\n",
        "print(tupla[2])\n",
        "tupla[2] = 1.5"
      ]
    },
    {
      "cell_type": "code",
      "execution_count": null,
      "metadata": {
        "id": "CI-C8XoSUJX1"
      },
      "outputs": [],
      "source": [
        "# tentar acessar um elemento fora do intervalo da sequencia gera erro\n",
        "tupla[4]"
      ]
    },
    {
      "cell_type": "markdown",
      "metadata": {
        "id": "ICzaVUeZUJX1"
      },
      "source": [
        "---\n",
        "Exemplos de **listas** e seus usos\n",
        "\n",
        "* inclusão de elementos com o método `append()`\n",
        "* exclusão de elementos com a função `del`"
      ]
    },
    {
      "cell_type": "code",
      "execution_count": null,
      "metadata": {
        "id": "Q10abLqzaP7R"
      },
      "outputs": [],
      "source": [
        "# Listas são definidas utilizando colchetes [ ]\n",
        "ls = [\"abc\", 34, 4.34, 23, 9, 98]\n",
        "\n",
        "print(ls)\n",
        "\n",
        "\n",
        "# mutável, podemos alterar elementos\n",
        "ls[3] = 10000\n",
        "print(ls)\n"
      ]
    },
    {
      "cell_type": "code",
      "execution_count": null,
      "metadata": {
        "id": "eSc6dM7XaP7W",
        "scrolled": true
      },
      "outputs": [],
      "source": [
        "lsn = []  # cria um lista lsn vazia\n",
        "print(lsn)\n",
        "\n",
        "# inserindo elementos em uma lista após ela ter sido criada\n",
        "lsn.append('maçã')\n",
        "lsn.append('manga')\n",
        "lsn.append('banana')\n",
        "lsn.append('laranja')\n",
        "print(lsn)\n"
      ]
    },
    {
      "cell_type": "code",
      "execution_count": null,
      "metadata": {
        "id": "Pe3XHxdFUJX3"
      },
      "outputs": [],
      "source": [
        "lsn.insert(0,'abacate')\n",
        "lsn.append('manga')\n",
        "print(lsn)\n",
        "\n",
        "lsn.insert(2,'amora')\n",
        "print(lsn)"
      ]
    },
    {
      "cell_type": "code",
      "execution_count": null,
      "metadata": {
        "id": "dwYijzPoUJX3"
      },
      "outputs": [],
      "source": [
        "# elementos também podem ser removidos com o comando 'del'\n",
        "print(3*'-','Removendo elementos inseridos')\n",
        "\n",
        "print(lsn)\n",
        "print('-','deleta posição 0')\n",
        "del(lsn[0])\n",
        "print(lsn)\n",
        "\n",
        "print('-','deleta posição 2')\n",
        "del(lsn[2])\n",
        "print(lsn)"
      ]
    },
    {
      "cell_type": "markdown",
      "metadata": {
        "id": "CmpyyOH6UJX4"
      },
      "source": [
        "OBS: a função `del()` é mais geral e funciona inclusive para variáveis"
      ]
    },
    {
      "cell_type": "code",
      "execution_count": null,
      "metadata": {
        "id": "9-zQt6QfUJX4"
      },
      "outputs": [],
      "source": [
        "x = 10\n",
        "del(x)\n",
        "print(x)"
      ]
    },
    {
      "cell_type": "markdown",
      "metadata": {
        "id": "0RgpoDFtUJX5"
      },
      "source": [
        "---\n",
        "Exemplos e uso de **strings**"
      ]
    },
    {
      "cell_type": "code",
      "execution_count": null,
      "metadata": {
        "id": "N7DpYgHTaP7a",
        "scrolled": true
      },
      "outputs": [],
      "source": [
        "st = \"Não é uma string\"  # Strings são definidas utilizando aspas simples '' ou duplas \"\"\n",
        "print(st[0])\n",
        "print(st[1])\n",
        "print(st[2])"
      ]
    },
    {
      "cell_type": "markdown",
      "metadata": {
        "id": "UzCkFK7wUJX6"
      },
      "source": [
        "Strings possui alguns métodos como\n",
        "* `upper()`\n",
        "* `replace()`\n",
        "\n",
        "Ver lista completa em https://docs.python.org/3/library/string.html"
      ]
    },
    {
      "cell_type": "code",
      "execution_count": null,
      "metadata": {
        "id": "DiaqUpfpUJX6"
      },
      "outputs": [],
      "source": [
        "print(st.upper())\n",
        "print(st)\n",
        "st2 = st.upper()\n",
        "print(st2)"
      ]
    },
    {
      "cell_type": "code",
      "execution_count": null,
      "metadata": {
        "id": "-wPSGwRvUJX7"
      },
      "outputs": [],
      "source": [
        "st = st.replace('Não', 'Sim,')\n",
        "print(st)"
      ]
    },
    {
      "cell_type": "markdown",
      "metadata": {
        "id": "lz7Wi3ssaP7k"
      },
      "source": [
        "O número de elementos de uma sequência pode ser consultado utilizando a função **len()**"
      ]
    },
    {
      "cell_type": "code",
      "execution_count": null,
      "metadata": {
        "id": "XXALaRBnaP7l",
        "scrolled": true
      },
      "outputs": [],
      "source": [
        "print(tupla)\n",
        "print(\"tamanho da tupla: \",len(tupla),\"\\n\")\n",
        "print(ls)\n",
        "print(\"tamanho da lista: \",len(ls),\"\\n\")\n",
        "print(st)\n",
        "print(\"tamanho da string: \",len(st))"
      ]
    },
    {
      "cell_type": "markdown",
      "metadata": {
        "id": "Ovx0A-xQJR1p"
      },
      "source": [
        "# <font color=\"red\">Resumo da aula</font>\n",
        "\n",
        "### <span style=\"color:red\">- Sequências: tuplas</span>\n",
        "### <span style=\"color:red\">- Sequências: listas</span>\n",
        "### <span style=\"color:red\">- Sequências:caracteres</span>"
      ]
    }
  ],
  "metadata": {
    "colab": {
      "provenance": [],
      "include_colab_link": true
    },
    "kernelspec": {
      "display_name": "Python 3 (ipykernel)",
      "language": "python",
      "name": "python3"
    },
    "language_info": {
      "codemirror_mode": {
        "name": "ipython",
        "version": 3
      },
      "file_extension": ".py",
      "mimetype": "text/x-python",
      "name": "python",
      "nbconvert_exporter": "python",
      "pygments_lexer": "ipython3",
      "version": "3.10.12"
    },
    "toc": {
      "base_numbering": 1,
      "nav_menu": {},
      "number_sections": true,
      "sideBar": true,
      "skip_h1_title": false,
      "title_cell": "Table of Contents",
      "title_sidebar": "Contents",
      "toc_cell": false,
      "toc_position": {},
      "toc_section_display": true,
      "toc_window_display": false
    }
  },
  "nbformat": 4,
  "nbformat_minor": 0
}