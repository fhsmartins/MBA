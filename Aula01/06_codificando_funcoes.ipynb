{
  "cells": [
    {
      "cell_type": "markdown",
      "metadata": {
        "id": "view-in-github",
        "colab_type": "text"
      },
      "source": [
        "<a href=\"https://colab.research.google.com/github/fhsmartins/MBA/blob/main/Aula01/06_codificando_funcoes.ipynb\" target=\"_parent\"><img src=\"https://colab.research.google.com/assets/colab-badge.svg\" alt=\"Open In Colab\"/></a>"
      ]
    },
    {
      "cell_type": "markdown",
      "metadata": {
        "id": "Wu7ck6xvaP6b"
      },
      "source": [
        "# <font color=\"red\"> MBA em IA e Big Data</font>\n",
        "## <span style=\"color:red\">Linguagens e Ferramentas para Inteligência Artificial e Big Data (Python e SQL)</span>\n",
        "\n",
        "### <span style=\"color:darkred\">Python - Aula 06</span>\n",
        "\n",
        "*Leandro Franco de Souza*<br>\n",
        "*ICMC/USP São Carlos*\n",
        "\n",
        "*(com material dos Profs. Luis Gustavo Nonato & Moacir Antonelli Ponti)*"
      ]
    },
    {
      "cell_type": "markdown",
      "metadata": {
        "id": "wOM5dIGtaP6d"
      },
      "source": [
        "# <font color=\"red\"> Conteúdo:</font>\n",
        "\n",
        "### <span style=\"color:red\">- Codificando funções</span>"
      ]
    },
    {
      "cell_type": "markdown",
      "metadata": {
        "id": "vSmS_ZGgUJYi"
      },
      "source": [
        "---\n",
        "\n",
        "## Codificando Funções\n",
        "\n",
        "Já usamos diversas funções nativas do Python, que foram implementadas para facilitar nossa vida:\n",
        "\n",
        "* `len()`\n",
        "* `sum()`\n",
        "* `type()`\n",
        "* `input()`\n",
        "\n",
        "Funções são úteis quando temos que repetir uma tarefa várias vezes.\n",
        "\n",
        "Podemos programar nossa própria função, usando a seguinte sintaxe:\n",
        "\n",
        "```\n",
        "def <identificador_da_funcao>(<uma ou mais variaveis parametros da funcao>):\n",
        "    <codigo indentado parte da funcao>\n",
        "    <return : caso essa funcao retorne algo>\n",
        "```\n",
        "\n",
        "A palavra `def` indica a definição da função, que passará a ficar disponível para uso.\n",
        "\n",
        "Vamos criar uma função que receba um número e verifique se esse número é `int` ou `float` o que pode ser útil para controle de entrada"
      ]
    },
    {
      "cell_type": "code",
      "execution_count": null,
      "metadata": {
        "id": "1I3L204tUJYj"
      },
      "outputs": [],
      "source": [
        "def is_intfloat(x):\n",
        "    if (type(x) == int or type(x) == float):\n",
        "        print(\" é inteiro ou float\")\n",
        "    else:\n",
        "        print(\"não é inteiro nem float\")"
      ]
    },
    {
      "cell_type": "code",
      "execution_count": null,
      "metadata": {
        "id": "qGIyV6xyUJYj"
      },
      "outputs": [],
      "source": [
        "val1 = 3.0\n",
        "is_intfloat(val1)\n",
        "\n",
        "val2 = 3\n",
        "is_intfloat(val2)\n",
        "\n",
        "val3 = '5.5'\n",
        "is_intfloat(val3)"
      ]
    },
    {
      "cell_type": "markdown",
      "metadata": {
        "id": "4aXHw31yUJYj"
      },
      "source": [
        "A nossa função *imprime* o resultado na tela, mas **não é recomendado** que funções possuam operações de *entrada e saída*.\n",
        "\n",
        "É muito mais útil que a função devolva o resultado de alguma forma. Isso é feito pelo comando `return`\n",
        "\n",
        "> Esse é um erro comum: usar `print()` ao invés de return."
      ]
    },
    {
      "cell_type": "code",
      "execution_count": null,
      "metadata": {
        "id": "5nM3YPz8UJYk"
      },
      "outputs": [],
      "source": [
        "def is_intfloat(x):\n",
        "    if (type(x) == int or type(x) == float):\n",
        "        return True\n",
        "    else:\n",
        "        return False\n",
        "\n",
        "val1 = 3.0\n",
        "print(is_intfloat(val1))\n",
        "\n",
        "val3 = '5.5'\n",
        "print(is_intfloat(val3))"
      ]
    },
    {
      "cell_type": "markdown",
      "metadata": {
        "id": "NkNc2J1YUJYk"
      },
      "source": [
        "Assim, conseguimos usar essa função como parte das nossas soluções."
      ]
    },
    {
      "cell_type": "code",
      "execution_count": null,
      "metadata": {
        "id": "TYuG_BaFUJYl"
      },
      "outputs": [],
      "source": [
        "val = 'dd'\n",
        "if is_intfloat(val):\n",
        "    val = val/2\n",
        "    print(val)"
      ]
    },
    {
      "cell_type": "markdown",
      "metadata": {
        "id": "rDX09XtpUJYn"
      },
      "source": [
        "---\n",
        "\n",
        "#### <font color=\"blue\">Exercício 1.4 </font>\n",
        "\n",
        "Escreva uma **função** que receba por parâmetro uma taxa de juros pagas ao ano, calcule e retorne um número inteiro relativo a quantos anos serão necessários para que um investimento nessa taxa dobre de valor. Assuma juros compostos e use uma estrutura de repetição para calcular.\n",
        "\n",
        "---\n"
      ]
    },
    {
      "cell_type": "markdown",
      "metadata": {
        "id": "MItOJkV5Q-D7"
      },
      "source": [
        "# <font color=\"red\">Resumo da aula</font>\n",
        "\n",
        "### <span style=\"color:red\">- Codificando funções</span>"
      ]
    }
  ],
  "metadata": {
    "colab": {
      "provenance": [],
      "include_colab_link": true
    },
    "kernelspec": {
      "display_name": "Python 3 (ipykernel)",
      "language": "python",
      "name": "python3"
    },
    "language_info": {
      "codemirror_mode": {
        "name": "ipython",
        "version": 3
      },
      "file_extension": ".py",
      "mimetype": "text/x-python",
      "name": "python",
      "nbconvert_exporter": "python",
      "pygments_lexer": "ipython3",
      "version": "3.10.12"
    },
    "toc": {
      "base_numbering": 1,
      "nav_menu": {},
      "number_sections": true,
      "sideBar": true,
      "skip_h1_title": false,
      "title_cell": "Table of Contents",
      "title_sidebar": "Contents",
      "toc_cell": false,
      "toc_position": {},
      "toc_section_display": true,
      "toc_window_display": false
    }
  },
  "nbformat": 4,
  "nbformat_minor": 0
}