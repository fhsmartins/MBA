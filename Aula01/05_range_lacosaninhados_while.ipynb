{
  "cells": [
    {
      "cell_type": "markdown",
      "metadata": {
        "id": "view-in-github",
        "colab_type": "text"
      },
      "source": [
        "<a href=\"https://colab.research.google.com/github/fhsmartins/MBA/blob/main/Aula01/05_range_lacosaninhados_while.ipynb\" target=\"_parent\"><img src=\"https://colab.research.google.com/assets/colab-badge.svg\" alt=\"Open In Colab\"/></a>"
      ]
    },
    {
      "cell_type": "markdown",
      "metadata": {
        "id": "Wu7ck6xvaP6b"
      },
      "source": [
        "# <font color=\"red\"> MBA em IA e Big Data</font>\n",
        "## <span style=\"color:red\">Linguagens e Ferramentas para Inteligência Artificial e Big Data (Python e SQL)</span>\n",
        "\n",
        "### <span style=\"color:darkred\">Python - Aula 05</span>\n",
        "\n",
        "*Leandro Franco de Souza*<br>\n",
        "*ICMC/USP São Carlos*\n",
        "\n",
        "*(com material dos Profs. Luis Gustavo Nonato & Moacir Antonelli Ponti)*"
      ]
    },
    {
      "cell_type": "markdown",
      "metadata": {
        "id": "wOM5dIGtaP6d"
      },
      "source": [
        "# <font color=\"red\"> Conteúdo:</font>\n",
        "\n",
        "### <span style=\"color:red\">- *range*</span>\n",
        "### <span style=\"color:red\">- Laços aninhados</span>\n",
        "### <span style=\"color:red\">- *continue* & *break*</span>\n",
        "### <span style=\"color:red\">- Laço *while*</span>"
      ]
    },
    {
      "cell_type": "markdown",
      "metadata": {
        "id": "JX4qoaZxUJYL"
      },
      "source": [
        "#### Função `range()` em conjunto com `for`\n",
        "\n",
        "A função `range()` gera *intervalo*, o qual pode ser convertido para lista ou outra sequência\n",
        "\n",
        "Cria um intervalo de `i` até anterior a `j` com um `passo` definido:\n",
        "`range(i,j, passo)`"
      ]
    },
    {
      "cell_type": "code",
      "execution_count": null,
      "metadata": {
        "id": "_v7FXnH8UJYM"
      },
      "outputs": [],
      "source": [
        "range(1,10)"
      ]
    },
    {
      "cell_type": "code",
      "execution_count": null,
      "metadata": {
        "id": "jfha-QoAUJYM"
      },
      "outputs": [],
      "source": [
        "list(range(1,10))"
      ]
    },
    {
      "cell_type": "code",
      "execution_count": null,
      "metadata": {
        "id": "kPWyeOPbUJYM"
      },
      "outputs": [],
      "source": [
        "tuple(range(3,15))"
      ]
    },
    {
      "cell_type": "code",
      "execution_count": null,
      "metadata": {
        "id": "kA_HWSp1UJYN"
      },
      "outputs": [],
      "source": [
        "for x in range(1,10):\n",
        "    print(x)"
      ]
    },
    {
      "cell_type": "code",
      "execution_count": null,
      "metadata": {
        "id": "Wb2Pi6wzaP8R"
      },
      "outputs": [],
      "source": [
        "lista_numeros = []\n",
        "for i in range(20):\n",
        "    if (i % 2 == 0):\n",
        "        lista_numeros.append(i)\n",
        "\n",
        "print('numero de elementos na lista: ',len(lista_numeros))\n",
        "print(lista_numeros)\n"
      ]
    },
    {
      "cell_type": "markdown",
      "metadata": {
        "id": "DmpYPMLYUJYO"
      },
      "source": [
        "#### Laços aninhados"
      ]
    },
    {
      "cell_type": "code",
      "execution_count": null,
      "metadata": {
        "id": "0SVG0A2FUJYP",
        "scrolled": true
      },
      "outputs": [],
      "source": [
        "l1 = ['a', 'b', 'c']\n",
        "l2 = ['X', 'Z']\n",
        "\n",
        "# iterar pela lista l1\n",
        "for i in l1:\n",
        "    #print(i, ':')\n",
        "    for j in l2:\n",
        "        #print(\"\\t\",j)\n",
        "        print(\"%s%s\" % (i,j))"
      ]
    },
    {
      "cell_type": "markdown",
      "metadata": {
        "id": "AYUvt5BDUJYQ"
      },
      "source": [
        "---\n",
        "\n",
        "**<font color=\"blue\">Exercício 1.3 </font>**\n",
        "\n",
        "Dada a lista `valores` abaixo, crie uma nova lista chamada `numeros` contendo apenas elementos `float` ou `int`.\n",
        "\n",
        "Note que essa nova lista pode ter menos elementos do que a lista existente.\n",
        "\n",
        "Ao final exiba a nova lista `numeros`\n",
        "\n",
        "__Dica__: Percorra a lista com uma estrutura de repetição e utilize `type()` para retornar o tipo e compare com o desejado. Exemplo:\n",
        "```python\n",
        "type(3) == int\n",
        "```\n",
        "Retorna `True`\n",
        "\n",
        "---"
      ]
    },
    {
      "cell_type": "code",
      "execution_count": null,
      "metadata": {
        "id": "_rOgnW8PUJYQ"
      },
      "outputs": [],
      "source": [
        "valores = ['três', 56, 342, 12.4e-5, 4+3j, ('A', 1, 50.1), -0.19e4, 1000, 960, -406]"
      ]
    },
    {
      "cell_type": "markdown",
      "metadata": {
        "id": "boZGkzFYUJYQ"
      },
      "source": [
        "### Diretivas `continue`  e `break`\n",
        "\n",
        "São formas de burlar a estrutura de iteração original\n",
        "\n",
        "* `continue` pula a iteração atual e vai para a próxima\n",
        "* `break` interrompe a iteração e sai da estrutura\n",
        "\n",
        "Ambas são pouco recomendadas, mas existem e podem ser usadas se não houver uma outra alternativa."
      ]
    },
    {
      "cell_type": "code",
      "execution_count": null,
      "metadata": {
        "id": "7n9iTIo-UJYR"
      },
      "outputs": [],
      "source": [
        "lista = ['a', 10.5, .20, 'b', 30.0, 100, ('tupla', 1, 2), 10, 'fim', 1000, 405, 'x']"
      ]
    },
    {
      "cell_type": "code",
      "execution_count": null,
      "metadata": {
        "id": "2gcemSgAUJYR"
      },
      "outputs": [],
      "source": [
        "soma = 0\n",
        "for x in lista:\n",
        "    # se o elemento for fim, encerra o loop\n",
        "    if (x == 'fim'):\n",
        "        break\n",
        "\n",
        "    # se o elemento for diferente de inteiro e float, vai para o proximo\n",
        "    if (type(x) != int and type(x) != float):\n",
        "        continue\n",
        "\n",
        "    soma = soma + x\n",
        "\n",
        "print(\"Soma dos floats e ints anteriores a 'fim':\", soma)"
      ]
    },
    {
      "cell_type": "markdown",
      "metadata": {
        "id": "SeyHyN3zUJYg"
      },
      "source": [
        "---\n",
        "\n",
        "## Laço `while`\n",
        "\n",
        "A estrutura `while` é mais geral do que a `for` e permite repetir um bloco de código mediante uma *condição*\n",
        "\n",
        "Vamos relembrar a estrutura condicional `if` que tinha a seguinte sintaxe:\n",
        "\n",
        "```\n",
        "if <condicao>:\n",
        "    <bloco indentado, executado se condicao for verdadeira>\n",
        "    \n",
        "<comando nao indentado, fora do if>\n",
        "```\n",
        "\n",
        "Nessa estrutura, caso a condição seja verdadeira,\n",
        "* o programa executa o `bloco indentado`\n",
        "* a seguir, sai da estrutura `if` e executa o `comando nao indentado`\n",
        "\n",
        "Caso a condição seja falsa\n",
        "* pula o bloco `if` e executa diretamente o `comando nao indentado`\n",
        "\n",
        "---\n",
        "\n",
        "No caso de um `while` a sintaxe é\n",
        "```\n",
        "while <condicao>:\n",
        "    <bloco indentado, executado se condicao for verdadeira>\n",
        "    \n",
        "<comando nao indentado, fora do while>\n",
        "```\n",
        "\n",
        "Assim o `bloco indentado` pode ser executado *múltiplas* vezes, **enquanto** a condição for verdadeira\n",
        "\n",
        "**Agora a condição de parada é importante**\n",
        "* é preciso que, em algum momento, a condição seja falsa, para que o programa continue executando"
      ]
    },
    {
      "cell_type": "markdown",
      "metadata": {
        "id": "dq46JGinUJYh"
      },
      "source": [
        "**Exemplo**: a partir de um número, divida o número sucessivas vezes por 2 enquanto o valor permaneça maior do que 1\n"
      ]
    },
    {
      "cell_type": "code",
      "execution_count": null,
      "metadata": {
        "id": "cK5QcT3-aP8d"
      },
      "outputs": [],
      "source": [
        "# entrada do número\n",
        "num = int(input())\n",
        "\n",
        "c = 0 # contador\n",
        "\n",
        "# enquanto número for maior do que 1\n",
        "while (num > 1):\n",
        "    num = num//2\n",
        "    c = c + 1\n",
        "    print(num)\n",
        "\n",
        "print(\"Divisoes por 2: \", c)"
      ]
    },
    {
      "cell_type": "markdown",
      "metadata": {
        "id": "aNjc6iHtLa7m"
      },
      "source": [
        "# <font color=\"red\">Resumo da aula</font>\n",
        "\n",
        "### <span style=\"color:red\">- *range*</span>\n",
        "### <span style=\"color:red\">- Laços aninhados</span>\n",
        "### <span style=\"color:red\">- *continue* & *break*</span>\n",
        "### <span style=\"color:red\">- Laço *while*</span>"
      ]
    }
  ],
  "metadata": {
    "colab": {
      "provenance": [],
      "include_colab_link": true
    },
    "kernelspec": {
      "display_name": "Python 3 (ipykernel)",
      "language": "python",
      "name": "python3"
    },
    "language_info": {
      "codemirror_mode": {
        "name": "ipython",
        "version": 3
      },
      "file_extension": ".py",
      "mimetype": "text/x-python",
      "name": "python",
      "nbconvert_exporter": "python",
      "pygments_lexer": "ipython3",
      "version": "3.10.12"
    },
    "toc": {
      "base_numbering": 1,
      "nav_menu": {},
      "number_sections": true,
      "sideBar": true,
      "skip_h1_title": false,
      "title_cell": "Table of Contents",
      "title_sidebar": "Contents",
      "toc_cell": false,
      "toc_position": {},
      "toc_section_display": true,
      "toc_window_display": false
    }
  },
  "nbformat": 4,
  "nbformat_minor": 0
}