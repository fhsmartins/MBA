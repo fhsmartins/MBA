{
  "cells": [
    {
      "cell_type": "markdown",
      "metadata": {
        "id": "view-in-github",
        "colab_type": "text"
      },
      "source": [
        "<a href=\"https://colab.research.google.com/github/fhsmartins/MBA/blob/main/Aula01/02_variaveis_comentarios.ipynb\" target=\"_parent\"><img src=\"https://colab.research.google.com/assets/colab-badge.svg\" alt=\"Open In Colab\"/></a>"
      ]
    },
    {
      "cell_type": "markdown",
      "metadata": {
        "id": "Wu7ck6xvaP6b"
      },
      "source": [
        "# <font color=\"red\"> MBA em IA e Big Data</font>\n",
        "## <span style=\"color:red\">Linguagens e Ferramentas para Inteligência Artificial e Big Data (Python e SQL)</span>\n",
        "\n",
        "### <span style=\"color:darkred\">Python - Aula 02</span>\n",
        "\n",
        "*Leandro Franco de Souza*<br>\n",
        "*ICMC/USP São Carlos*\n",
        "\n",
        "*(com material dos Profs. Luis Gustavo Nonato & Moacir Antonelli Ponti)*"
      ]
    },
    {
      "cell_type": "markdown",
      "metadata": {
        "id": "wOM5dIGtaP6d"
      },
      "source": [
        "# <font color=\"red\"> Conteúdo</font>\n",
        "\n",
        "### <span style=\"color:red\">- Variáveis</span>\n",
        "### <span style=\"color:red\">- Comentários</span>\n",
        "### <span style=\"color:red\">- Saída de dados</span>"
      ]
    },
    {
      "cell_type": "markdown",
      "metadata": {
        "id": "HihXUjOPUJXU"
      },
      "source": [
        "## Variáveis\n",
        "\n",
        "São **símbolos** com identificadores associados a **valores/literais** guardados na memória\n",
        "\n",
        "Basta:\n",
        "* nomear utilizando um identificador contendo: caracteres em mínusculo, maiúsculo, underscore (\\_)\n",
        "* *atribuir* seu primeiro valor com o operador `=`\n",
        "\n",
        "Podemos usar dígitos, mas nunca como primeiro caracter do identificador."
      ]
    },
    {
      "cell_type": "code",
      "execution_count": null,
      "metadata": {
        "id": "NOVztpb5UJXW"
      },
      "outputs": [],
      "source": [
        "x = 42\n",
        "y = 42.0\n",
        "_frase = 'inteligência artificial'"
      ]
    },
    {
      "cell_type": "markdown",
      "metadata": {
        "id": "6cPVxb4WUJXZ"
      },
      "source": [
        "Para recuperar os valores basta usar os símbolos/identificadores"
      ]
    },
    {
      "cell_type": "code",
      "execution_count": null,
      "metadata": {
        "id": "0PzStbh1UJXb"
      },
      "outputs": [],
      "source": [
        "x"
      ]
    },
    {
      "cell_type": "code",
      "execution_count": null,
      "metadata": {
        "id": "Z4t64uhwUJXc"
      },
      "outputs": [],
      "source": [
        "x/y"
      ]
    },
    {
      "cell_type": "code",
      "execution_count": null,
      "metadata": {
        "id": "1qFtS5vnUJXc"
      },
      "outputs": [],
      "source": [
        "_frase + ' e big data'"
      ]
    },
    {
      "cell_type": "code",
      "execution_count": null,
      "metadata": {
        "id": "UVEyGilbUJXd"
      },
      "outputs": [],
      "source": [
        "nova_frase = _frase + ' e big data'\n",
        "nova_frase"
      ]
    },
    {
      "cell_type": "code",
      "execution_count": null,
      "metadata": {
        "id": "zzbKH8mlUJXe"
      },
      "outputs": [],
      "source": [
        "_FRASE"
      ]
    },
    {
      "cell_type": "markdown",
      "metadata": {
        "id": "NzZN-KewUJXf"
      },
      "source": [
        "**erro: `_FRASE` não foi definido**\n",
        "\n",
        "a nomeação de identificadores é sensivel à caixa (*case sensitive*)"
      ]
    },
    {
      "cell_type": "code",
      "execution_count": null,
      "metadata": {
        "id": "vxkEIQWIbIwV"
      },
      "outputs": [],
      "source": []
    },
    {
      "cell_type": "markdown",
      "metadata": {
        "id": "bCtTwA1RUJXf"
      },
      "source": [
        "#### Palavras Reservadas\n",
        "\n",
        "Há exceções para o uso de identificadores, pois há palavras que já são parte do código Python e são vedadas para evitar ambiguidade\n",
        "\n",
        "Ex: `False, if, not, and, None, global, try`, entre outras\n",
        "\n",
        "É razoavelmente fácil identificar essas palavras pois a maior parte dos interpretadores e interfaces colorem essas palavras quando digitadas, em negrito e alguma cor (aqui estará em azul)"
      ]
    },
    {
      "cell_type": "code",
      "execution_count": null,
      "metadata": {
        "id": "okUbmoZmUJXg"
      },
      "outputs": [],
      "source": [
        "False = 45.1"
      ]
    },
    {
      "cell_type": "code",
      "execution_count": null,
      "metadata": {
        "id": "lB-7vMipUJXg"
      },
      "outputs": [],
      "source": [
        "if = 'se eu fosse'"
      ]
    },
    {
      "cell_type": "code",
      "execution_count": null,
      "metadata": {
        "id": "9EcUrVAlUJXh"
      },
      "outputs": [],
      "source": [
        "IF = 'se eu fosse'\n",
        "IF"
      ]
    },
    {
      "cell_type": "markdown",
      "metadata": {
        "id": "8d0krKU8UJXh"
      },
      "source": [
        "agora funciona pois `if` e `IF` são identificadores distintos"
      ]
    },
    {
      "cell_type": "markdown",
      "metadata": {
        "id": "bIQ27K67UJXh"
      },
      "source": [
        "## Comentários de código e saída de dados"
      ]
    },
    {
      "cell_type": "code",
      "execution_count": null,
      "metadata": {
        "id": "BK1zXr7-aP6i"
      },
      "outputs": [],
      "source": [
        "# Comentários de uma linha em Python são iniciados com \"#\"\n",
        "# --> tudo que vem após \"#\" é ignorado e não considerado código\n",
        "\n",
        "x = 36      # Criando e inicializando x como número inteiro (int)\n",
        "y = 'Hello' # Criando e inicializando y como um conjunto de caracteres (str)\n",
        "z = 3.45    # Criando e inicializando z como um número real (float)\n",
        "\n",
        "#### Imprimindo os tipos de cada variável com as funções:\n",
        "# print(): utilizada para exibir o conteúdo de variáveis, textos,\n",
        "#          ou o resultado de operações e funções\n",
        "# type(): que retorna o tipo da literal/valor informado\n",
        "\n",
        "print('Tipo da variavel x = ',type(x))\n",
        "print('Tipo da variavel y = ',type(y))\n",
        "print('Tipo da variavel z = ',type(z))"
      ]
    },
    {
      "cell_type": "markdown",
      "metadata": {
        "id": "KEOrbWQcaP6t"
      },
      "source": [
        "- A atribuição cria e inicializa as variáveis\n",
        "- Cada tipo admite certas operações"
      ]
    },
    {
      "cell_type": "code",
      "execution_count": null,
      "metadata": {
        "id": "-KNJbNFlaP6v"
      },
      "outputs": [],
      "source": [
        "# criando variáveis e atribuindo valores\n",
        "x = 36\n",
        "y = \"Rio\"\n",
        "z = 3.45\n",
        "\n",
        "x = x + 2         # preserva o tipo int\n",
        "y = y + \" Grande\" # Concatenação de strings\n",
        "z = 2 + z         # preserva o tipo float\n",
        "w = x / 2         # embora x seja inteiro, a operação de divisão resulta em um float\n",
        "\n",
        "# Imprimindo os resultados\n",
        "print('x = ',x,type(x))\n",
        "print('y = ',y,type(y))\n",
        "print('z = ',z,type(z))\n",
        "print('w = ',w,type(z))"
      ]
    },
    {
      "cell_type": "markdown",
      "metadata": {
        "id": "ydH1wAkFUJXl"
      },
      "source": [
        "### Expressões aritméticas\n",
        "\n",
        "* Soma: `+`\n",
        "* Subtração: `-`\n",
        "* Multiplicação: `*`\n",
        "* Divisão: `/`\n",
        "* Divisão inteira: `//`\n",
        "* Resto da divisão: `%`\n",
        "* Exponenciação: `**`"
      ]
    },
    {
      "cell_type": "code",
      "execution_count": null,
      "metadata": {
        "id": "iLulysHxLwbX"
      },
      "outputs": [],
      "source": [
        "2 ** 3"
      ]
    },
    {
      "cell_type": "code",
      "execution_count": null,
      "metadata": {
        "id": "5PZpCWWzL1A5"
      },
      "outputs": [],
      "source": [
        "5.99999 // 2"
      ]
    },
    {
      "cell_type": "code",
      "execution_count": null,
      "metadata": {
        "id": "FS4vstSlUJXp"
      },
      "outputs": [],
      "source": [
        "17 % 5"
      ]
    },
    {
      "cell_type": "markdown",
      "metadata": {
        "id": "M9YQqT4YaP62"
      },
      "source": [
        "- *strings* (str) suportam os operadores ``+`` (concatenação) e ``*`` (replicação), resultando em novas strings."
      ]
    },
    {
      "cell_type": "code",
      "execution_count": null,
      "metadata": {
        "id": "roD0Z4Z2aP64"
      },
      "outputs": [],
      "source": [
        "# Exemplo da \"aritmética\" com strings\n",
        "y = 'Aprendendo'\n",
        "y = y + ' Python '\n",
        "print(\"Concatenacao y + ' Python ': \",y)\n",
        "w = 3*y   # A operação de replicação \"*\" asume um número inteiro e uma string como argumentos\n",
        "print(\"3*y replica y três vezes: \",w)"
      ]
    },
    {
      "cell_type": "markdown",
      "metadata": {
        "id": "mDhh6IzJaP6-"
      },
      "source": [
        "**Propriedades de uso da memória**\n",
        "- Uma *variável* é uma *instância de um objeto* em Python alocado na memória\n",
        "- Se você tentar acessar uma variável antes que ela tenha sido criada, ocorre um erro\n",
        "- É possível atribuir valores a multiplas variáveis ao mesmo tempo"
      ]
    },
    {
      "cell_type": "code",
      "execution_count": null,
      "metadata": {
        "id": "zT_TCfy6UJXv"
      },
      "outputs": [],
      "source": [
        "var = 12987.97\n",
        "var"
      ]
    },
    {
      "cell_type": "code",
      "execution_count": null,
      "metadata": {
        "id": "i4nGnZygUJXv"
      },
      "outputs": [],
      "source": [
        "a, b = 5, 10\n",
        "print(a)\n",
        "print(b)"
      ]
    },
    {
      "cell_type": "markdown",
      "metadata": {
        "id": "ZSHusM96UJXw"
      },
      "source": [
        "#### Conversão: explícita e implícita"
      ]
    },
    {
      "cell_type": "code",
      "execution_count": null,
      "metadata": {
        "id": "ZlM84h9qaP7C"
      },
      "outputs": [],
      "source": [
        "# exemplos de conversão explícita e implícita\n",
        "x = 1.76\n",
        "y = int(x)  # convertendo float para int\n",
        "z = y == 1  # resultado da comparação y == 1 (True/False) é armazenado em z\n",
        "\n",
        "print(\"x =\", x, \" | tipo:\", type(x))\n",
        "print(\"y =\", y, \"    | tipo:\", type(y))\n",
        "print(\"z =\", z, \" | tipo:\", type(z))"
      ]
    },
    {
      "cell_type": "markdown",
      "metadata": {
        "id": "YdrmqhMtaP7H"
      },
      "source": [
        "Uma atribuição como\n",
        "```python\n",
        "x = 2.76\n",
        "```\n",
        "é uma maneira de dar um nome a um objeto (o que é chamado *binding*).\n",
        "- Variáveis em Python não tem um tipo intrínseco, apenas objetos tem tipo\n",
        "- Objetos tem identidade (endereço na memória), um tipo e um valor\n",
        "- O Python determina o tipo da variável automaticamente baseado no objeto que ela faz referência\n",
        "- A identidade de um objeto e seu tipo não mudam\n",
        "- O valor de um objeto pode mudar"
      ]
    },
    {
      "cell_type": "markdown",
      "metadata": {
        "id": "khMzZW8oUJXx"
      },
      "source": [
        "---\n",
        "\n",
        "**<font color=\"Blue\">Exercício 1.1</font>**\n",
        "Qual o tipo do valor resultante das operações abaixo (ou das variáveis as quais foram atribuídos)?\n",
        "\n",
        "a) `False + True`<br>\n",
        "b) `2 * 1e2**2`<br>\n",
        "c) `a = 6/2`<br>\n",
        "d) `x = 6//2 + 6%2`<br>\n",
        "e) `(2 + 4) == 4 or 0 <= 1`<br>"
      ]
    },
    {
      "cell_type": "markdown",
      "metadata": {
        "id": "Y0SFRbaIJojX"
      },
      "source": [
        "# <font color=\"red\">Resumo da aula</font>\n",
        "\n",
        "### <span style=\"color:red\">- Variáveis</span>\n",
        "### <span style=\"color:red\">- Comentários</span>\n",
        "### <span style=\"color:red\">- Saída de dados</span>"
      ]
    }
  ],
  "metadata": {
    "colab": {
      "provenance": [],
      "include_colab_link": true
    },
    "kernelspec": {
      "display_name": "Python 3 (ipykernel)",
      "language": "python",
      "name": "python3"
    },
    "language_info": {
      "codemirror_mode": {
        "name": "ipython",
        "version": 3
      },
      "file_extension": ".py",
      "mimetype": "text/x-python",
      "name": "python",
      "nbconvert_exporter": "python",
      "pygments_lexer": "ipython3",
      "version": "3.10.12"
    },
    "toc": {
      "base_numbering": 1,
      "nav_menu": {},
      "number_sections": true,
      "sideBar": true,
      "skip_h1_title": false,
      "title_cell": "Table of Contents",
      "title_sidebar": "Contents",
      "toc_cell": false,
      "toc_position": {},
      "toc_section_display": true,
      "toc_window_display": false
    }
  },
  "nbformat": 4,
  "nbformat_minor": 0
}