{
  "cells": [
    {
      "cell_type": "markdown",
      "metadata": {
        "id": "view-in-github",
        "colab_type": "text"
      },
      "source": [
        "<a href=\"https://colab.research.google.com/github/fhsmartins/MBA/blob/main/Aula01/01_memoria_tipos.ipynb\" target=\"_parent\"><img src=\"https://colab.research.google.com/assets/colab-badge.svg\" alt=\"Open In Colab\"/></a>"
      ]
    },
    {
      "cell_type": "markdown",
      "metadata": {
        "id": "Wu7ck6xvaP6b"
      },
      "source": [
        "# <font color=\"red\"> MBA em IA e Big Data</font>\n",
        "## <span style=\"color:red\">Linguagens e Ferramentas para Inteligência Artificial e Big Data (Python e SQL)</span>\n",
        "\n",
        "### <span style=\"color:darkred\">Python - Aula 01</span>\n",
        "\n",
        "*Leandro Franco de Souza*<br>\n",
        "*ICMC/USP São Carlos*\n",
        "\n",
        "*(com material dos Profs. Luis Gustavo Nonato & Moacir Antonelli Ponti)*"
      ]
    },
    {
      "cell_type": "markdown",
      "metadata": {
        "id": "wOM5dIGtaP6d"
      },
      "source": [
        "# <font color=\"red\"> Conteúdo</font>\n",
        "\n",
        "### <span style=\"color:red\">- Python</span>\n",
        "### <span style=\"color:red\">- Memória</span>\n",
        "### <span style=\"color:red\">- Tipos</span>"
      ]
    },
    {
      "cell_type": "markdown",
      "metadata": {
        "id": "uMSKPCbnaP6e"
      },
      "source": [
        "# O que é Python?\n",
        "\n",
        "Python é uma linguagem de programação dinâmica e interpretada.\n",
        "\n",
        "As instruções são realizadas em *tempo de execução* e **diretamente ao invés de ser compilado**.\n",
        "\n",
        "> Compilação: significa que a linguagem é processada antes por um programa *compilador* e transformada em um arquivo binário executável\n",
        "\n",
        "> Interpretação: significa que a linguagem é processada instrução por instrução por um programa *interpretador*\n",
        "\n",
        "Um código em Python é um conjunto de símbolos e regras pré-definidas dessa linguagem\n",
        "* geralmente armazenamos esse código em um arquivo texto com extensão `.py`\n"
      ]
    },
    {
      "cell_type": "markdown",
      "metadata": {
        "id": "DhZeWCENUJWV"
      },
      "source": [
        "## Interpretador Python\n",
        "\n",
        "É basicamente um \"console\" ou \"terminal\" em que digitamos comandos em sequência\n",
        "\n",
        "Para configurar o Python no computador, é necessário fazer o download e instalar o kit de desenvolvimento em Python - https://www.python.org/downloads/\n",
        "\n",
        "Instalar a versão de acordo com Sistema Operacional, ex. Mac OSX, Linux, etc.\n",
        "\n",
        "Distribuições Linux geralmente possuem Python nativamente."
      ]
    },
    {
      "cell_type": "markdown",
      "metadata": {
        "id": "YYOBjXR1UJWZ"
      },
      "source": [
        "## Código-fonte Python\n",
        "\n",
        "Um arquivo contendo um código em python possui extensão `.py`\n",
        "\n",
        "Escrevemos funções e programas para serem carregados posteriormente e utilizados num interpretador.\n",
        "\n",
        "* O programador reúne seus principais programas e scripts em arquivos *.py* e depois abre e utiliza esses programas no interpretador."
      ]
    },
    {
      "cell_type": "markdown",
      "metadata": {
        "id": "JQdTCcZ1UJWb"
      },
      "source": [
        "## Notebook\n",
        "\n",
        "Permite misturar *código* com *conteúdo de apresentação*, salvando os resultados dos códigos, inclusive gráficos.\n",
        "\n",
        "* Arquivo notebook tem extensão `.ipynb`, utilizado para prototipação e apresentações e não para codificar programas a colocar em *produção*\n",
        "\n",
        "> Na computação separamos programas em *desenvolvimento* daqueles efetivamente funcionando na prática **em produção**\n",
        "\n",
        "O notebook também permite código em *HTML* e linguagem *Markdown*"
      ]
    },
    {
      "cell_type": "markdown",
      "metadata": {
        "id": "VnM9UUZRUJWp"
      },
      "source": [
        "### Tipos de arquivo\n",
        "\n",
        "* Programa em Python (`.py` tipo texto)\n",
        "* Notebook (`.ipynb`) tem foco na *apresentação* e permite tanto código quanto linguagem *Markdown/HTML*\n",
        "\n",
        "Essa interface que estamos usando, chamada **Jupyter Notebook** funciona como interpretador Python!"
      ]
    },
    {
      "cell_type": "code",
      "execution_count": null,
      "metadata": {
        "id": "3HEhjw5HUJWs"
      },
      "outputs": [],
      "source": [
        "50 + 10*3 + 50 / 3"
      ]
    },
    {
      "cell_type": "code",
      "execution_count": null,
      "metadata": {
        "id": "fUh3XbTRUJW1"
      },
      "outputs": [],
      "source": [
        "x = 5.3827\n",
        "50 + x / 10 - x"
      ]
    },
    {
      "cell_type": "markdown",
      "metadata": {
        "id": "yzfpXpz-aP6g"
      },
      "source": [
        "# Usando a *memória* do computador\n",
        "\n",
        "Um dos elementos mais importantes do computador é a sua memória, onde podemos:\n",
        "* armazenar dados\n",
        "* recuperar dados\n",
        "para posteriormente processá-los\n",
        "\n",
        "Eletronicamente, a memória codifica dados em **bits** - valores 0 e 1 fisicamente armazenados utilizando corrente elétrica\n",
        "\n",
        "Os bits são concatenados para representar valores mais complexos.\n",
        "\n",
        "Por exemplo, considerando os números inteiros\n",
        "> 00000001 é equivamente ao número `1`<br>\n",
        "> 00001000 é equivamente ao número `8`<br>\n",
        "> ...<br>\n",
        "> 00100011 é equivamente ao número `35`<br>\n",
        "\n",
        "Já se queremos representar caracteres\n",
        "> 01100001 representa a letra `a`<br>\n",
        "> 00100011 representa o caracter `#`\n",
        "\n",
        "**Mas como diferenciar** `#` de `35`?"
      ]
    },
    {
      "cell_type": "markdown",
      "metadata": {
        "id": "yeKnqDK_UJW6"
      },
      "source": [
        "Em Python os chamados *literais* ou valores possuem um **tipo**\n",
        "\n",
        "* o tipo define a interpretação dos bits e o que podemos fazer com esse dado\n",
        "\n",
        "Existe uma **função** em Python para saber o tipo: `type()`"
      ]
    },
    {
      "cell_type": "code",
      "execution_count": null,
      "metadata": {
        "id": "kEIPIIhbUJW7"
      },
      "outputs": [],
      "source": [
        "type(35)"
      ]
    },
    {
      "cell_type": "markdown",
      "metadata": {
        "id": "wn02Whi9UJW8"
      },
      "source": [
        "O tipo `int` é relativo a números inteiros"
      ]
    },
    {
      "cell_type": "code",
      "execution_count": null,
      "metadata": {
        "id": "JzQCVSb-UJW9"
      },
      "outputs": [],
      "source": [
        "35 + 5"
      ]
    },
    {
      "cell_type": "code",
      "execution_count": null,
      "metadata": {
        "id": "5kh_V71GUJW-"
      },
      "outputs": [],
      "source": [
        "type(35 + 5)"
      ]
    },
    {
      "cell_type": "code",
      "execution_count": null,
      "metadata": {
        "id": "y3HgsBgIUJW_"
      },
      "outputs": [],
      "source": [
        "type('#')"
      ]
    },
    {
      "cell_type": "markdown",
      "metadata": {
        "id": "xjCPvkeGUJXA"
      },
      "source": [
        "O tipo `str` é relativo a *strings*, em Português *cadeias/sequências de caracteres*"
      ]
    },
    {
      "cell_type": "code",
      "execution_count": null,
      "metadata": {
        "id": "_on402icUJXB"
      },
      "outputs": [],
      "source": [
        "'#' + 'bigdata'"
      ]
    },
    {
      "cell_type": "code",
      "execution_count": null,
      "metadata": {
        "id": "kyuBQMuvUJXD"
      },
      "outputs": [],
      "source": [
        "'#' + 35"
      ]
    },
    {
      "cell_type": "markdown",
      "metadata": {
        "id": "u3CGphNkUJXE"
      },
      "source": [
        "**nosso primeiro erro!** (de muitos)\n",
        "> *é possível concatenar apenas str (e nao \"int\") com str*\n",
        "\n",
        "Sem saber já aprendemos que o `+` significa adição para inteiros, mas significa concatenação para strings"
      ]
    },
    {
      "cell_type": "markdown",
      "metadata": {
        "id": "UqK6510yUJXE"
      },
      "source": [
        "## Tipos mais comuns\n",
        "\n",
        "### Inteiro - *int*\n",
        "- Ex: `42`\n",
        "\n",
        "### Ponto flutuante - *float*\n",
        "Simula números reais, porém sua precisão é limitada (e não infinita)\n",
        "\n",
        "- Ex: `3.14`, `3.14e-10`, `.0001`, `4.`\n",
        "\n",
        "### Booleanos - *bool*\n",
        "Resultado de uma expressão lógica\n",
        "- Ex: `True`, `False`\n",
        "\n",
        "### Cadeia de caracteres - *string*\n",
        "Descrita entre aspas, é também uma sequência (abordaremos posteriormente sequências)\n",
        "- Ex: `'palavra'`, `'uma frase'`\n",
        "\n",
        "### Números complexos\n",
        "- Ex: `3j`, `4+5j`\n"
      ]
    },
    {
      "cell_type": "code",
      "execution_count": null,
      "metadata": {
        "id": "RNp5rndwUJXF"
      },
      "outputs": [],
      "source": [
        "42"
      ]
    },
    {
      "cell_type": "code",
      "execution_count": null,
      "metadata": {
        "id": "6KNzRQjLUJXG"
      },
      "outputs": [],
      "source": [
        "type(42)"
      ]
    },
    {
      "cell_type": "code",
      "execution_count": null,
      "metadata": {
        "id": "U2P1pRe2UJXI"
      },
      "outputs": [],
      "source": [
        "3.14"
      ]
    },
    {
      "cell_type": "code",
      "execution_count": null,
      "metadata": {
        "id": "ksBQzld-UJXJ"
      },
      "outputs": [],
      "source": [
        "type(3.14)"
      ]
    },
    {
      "cell_type": "code",
      "execution_count": null,
      "metadata": {
        "id": "G6K2PFe3UJXK"
      },
      "outputs": [],
      "source": [
        ".123456789012345678901234567890"
      ]
    },
    {
      "cell_type": "code",
      "execution_count": null,
      "metadata": {
        "id": "TnlW8fE4UJXK"
      },
      "outputs": [],
      "source": [
        "3e6"
      ]
    },
    {
      "cell_type": "code",
      "execution_count": null,
      "metadata": {
        "id": "v4VL8J0yUJXK"
      },
      "outputs": [],
      "source": [
        "1.5e-3"
      ]
    },
    {
      "cell_type": "code",
      "execution_count": null,
      "metadata": {
        "id": "6il4et16UJXL"
      },
      "outputs": [],
      "source": [
        "42 / 3.14"
      ]
    },
    {
      "cell_type": "code",
      "execution_count": null,
      "metadata": {
        "id": "z11pH27QUJXL"
      },
      "outputs": [],
      "source": [
        "type(True)"
      ]
    },
    {
      "cell_type": "code",
      "execution_count": null,
      "metadata": {
        "id": "myR7hUFHUJXM"
      },
      "outputs": [],
      "source": [
        "42 > 3.14"
      ]
    },
    {
      "cell_type": "code",
      "execution_count": null,
      "metadata": {
        "id": "jDLouYkRUJXM"
      },
      "outputs": [],
      "source": [
        "type(42 > 3.14)"
      ]
    },
    {
      "cell_type": "code",
      "execution_count": null,
      "metadata": {
        "id": "A9uWXAq4UJXN"
      },
      "outputs": [],
      "source": [
        "'big data and artificial intelligence'"
      ]
    },
    {
      "cell_type": "code",
      "execution_count": null,
      "metadata": {
        "id": "9PqMooDBUJXN"
      },
      "outputs": [],
      "source": [
        "type('big data')"
      ]
    },
    {
      "cell_type": "code",
      "execution_count": null,
      "metadata": {
        "id": "zmXbLVnAUJXO"
      },
      "outputs": [],
      "source": [
        "10j"
      ]
    },
    {
      "cell_type": "code",
      "execution_count": null,
      "metadata": {
        "id": "sDJ2K2bhUJXP"
      },
      "outputs": [],
      "source": [
        "type(10j)"
      ]
    },
    {
      "cell_type": "code",
      "execution_count": null,
      "metadata": {
        "id": "1SVJOA09UJXQ",
        "scrolled": true
      },
      "outputs": [],
      "source": [
        "50+10j"
      ]
    },
    {
      "cell_type": "code",
      "execution_count": null,
      "metadata": {
        "id": "c8IMq697UJXR"
      },
      "outputs": [],
      "source": [
        "(50+10j) * 3j"
      ]
    },
    {
      "cell_type": "markdown",
      "metadata": {
        "id": "MDTnGyCoKe7c"
      },
      "source": [
        "# <font color=\"red\"> Resumo da aula</font>\n",
        "\n",
        "### <span style=\"color:red\">- Python</span>\n",
        "### <span style=\"color:red\">- Memória</span>\n",
        "### <span style=\"color:red\">- Tipos</span>"
      ]
    }
  ],
  "metadata": {
    "colab": {
      "provenance": [],
      "include_colab_link": true
    },
    "kernelspec": {
      "display_name": "Python 3 (ipykernel)",
      "language": "python",
      "name": "python3"
    },
    "language_info": {
      "codemirror_mode": {
        "name": "ipython",
        "version": 3
      },
      "file_extension": ".py",
      "mimetype": "text/x-python",
      "name": "python",
      "nbconvert_exporter": "python",
      "pygments_lexer": "ipython3",
      "version": "3.10.12"
    },
    "toc": {
      "base_numbering": 1,
      "nav_menu": {},
      "number_sections": true,
      "sideBar": true,
      "skip_h1_title": false,
      "title_cell": "Table of Contents",
      "title_sidebar": "Contents",
      "toc_cell": false,
      "toc_position": {},
      "toc_section_display": true,
      "toc_window_display": false
    }
  },
  "nbformat": 4,
  "nbformat_minor": 0
}