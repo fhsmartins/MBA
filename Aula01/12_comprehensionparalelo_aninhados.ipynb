{
  "cells": [
    {
      "cell_type": "markdown",
      "metadata": {
        "id": "view-in-github",
        "colab_type": "text"
      },
      "source": [
        "<a href=\"https://colab.research.google.com/github/fhsmartins/MBA/blob/main/Aula01/12_comprehensionparalelo_aninhados.ipynb\" target=\"_parent\"><img src=\"https://colab.research.google.com/assets/colab-badge.svg\" alt=\"Open In Colab\"/></a>"
      ]
    },
    {
      "cell_type": "markdown",
      "metadata": {
        "id": "VeTlmtqygLBZ"
      },
      "source": [
        "# <font color=\"red\"> MBA em IA e Big Data</font>\n",
        "## <span style=\"color:red\">Linguagens e Ferramentas para Inteligência Artificial e Big Data (Python e SQL)</span>\n",
        "\n",
        "### <span style=\"color:darkred\">Python - Aula 12</span>\n",
        "\n",
        "*Leandro Franco de Souza*<br>\n",
        "*ICMC/USP São Carlos*\n",
        "\n",
        "*(com material do Prof. Moacir Antonelli Ponti)*"
      ]
    },
    {
      "cell_type": "markdown",
      "metadata": {
        "id": "GpUE-6--gLBb"
      },
      "source": [
        "# <font color=\"red\"> Conteúdo:</font>\n",
        "\n",
        "### <span style=\"color:red\">- Comprehensions com iteração paralela em diferentes coleções</span>\n",
        "### <span style=\"color:red\">- Comprehensions aninhados (*nested loops*)</span>"
      ]
    },
    {
      "cell_type": "markdown",
      "metadata": {
        "id": "ocky6lgEgLBb"
      },
      "source": [
        "## Comprehensions com iteração paralela em diferentes coleções\n",
        "\n",
        "Aninhando comprehensions:\n",
        "```\n",
        "lista = [<expressao> for <var1, var2, ...> in zip(<colecao1>, <colecao2>, ...)]\n",
        "```\n",
        "O resultado do comando acima é equivalente a:\n",
        "```python\n",
        "lista = []\n",
        "for <var1, var2, ...> in zip(<colecao1>, <colecao2>, ...)\n",
        "    lista.append(expressao)\n",
        "```"
      ]
    },
    {
      "cell_type": "markdown",
      "metadata": {
        "id": "y0mxJMjEgLBb"
      },
      "source": [
        "Há várias situações em que é interessante percorrer duas coleções ou sequências\n",
        "\n",
        "Para isso podemos usar a função `zip()` em que passamos as sequencias para o zip que irá retornar um elemento de cada por vez\n",
        "\n",
        "```\n",
        "zip(seq1, seq2, ... seq2n)\n",
        "```"
      ]
    },
    {
      "cell_type": "code",
      "execution_count": null,
      "metadata": {
        "id": "9ZBW0-_ZgLBc"
      },
      "outputs": [],
      "source": [
        "l1 = list(range(1,10))\n",
        "l2 = list(range(0,26,2))\n",
        "t1 = tuple(range(10,100,10))\n",
        "\n",
        "print(l1)\n",
        "print(l2)\n",
        "print(t1)\n",
        "print()"
      ]
    },
    {
      "cell_type": "code",
      "execution_count": null,
      "metadata": {
        "id": "EYrdyf0MgLBc"
      },
      "outputs": [],
      "source": [
        "for i,j,t in zip(l1, l2, t1):\n",
        "    print(i,j,t)"
      ]
    },
    {
      "cell_type": "markdown",
      "metadata": {
        "id": "VaSyqjhPgLBc"
      },
      "source": [
        "Note que a  `l2` possui mais elementos, nesse caso o `for` vai nivelar pela sequência de menor tamanho\n",
        "\n",
        "---\n",
        "Combinando com comprehensions, vamos usar essa idéia para percorrer duas listas e montar uma nova lista em que copiamos os elementos iguais, e atribuímos `False` nas posições em que as listas são diferentes"
      ]
    },
    {
      "cell_type": "code",
      "execution_count": null,
      "metadata": {
        "id": "N26U9r9mgLBc"
      },
      "outputs": [],
      "source": [
        "vals1 = [5, 5, 5, 1, 2, 3, 4, 6, 7, 7]\n",
        "vals2 = [5, 5, 5, 1, 2, 4, 4, 6, 6, 7]\n",
        "\n",
        "equal_pos = [x if x == y else False for (x,y) in zip(vals1, vals2)]\n",
        "print(equal_pos)"
      ]
    },
    {
      "cell_type": "markdown",
      "metadata": {
        "id": "FXoXyd9YgLBd"
      },
      "source": [
        "---\n",
        "\n",
        "**<font color=\"blue\">Exercício 2.1</font>**\n",
        "\n",
        "Codifique uma função que receba como argumento duas listas de números com o mesmo tamanho. Use comprehension para retornar uma nova lista que é a multiplicação elemento-a-elemento das duas listas.  Caso as listas não possuam o mesmo tamanho emita uma mensagem de erro e retorne a constante nan.\n",
        "\n",
        "Exemplo:\n",
        "```\n",
        "l1 = [1, 2, 3, 4, 5]\n",
        "l2 = [5, 5, 5, 10, 10]\n",
        "multiplica_listas(l1,l2)\n",
        "\n",
        "  [5, 10, 15, 40, 50]\n",
        "```"
      ]
    },
    {
      "cell_type": "markdown",
      "metadata": {
        "id": "JFZ-ErSogLBd"
      },
      "source": [
        "---\n",
        "\n",
        "## Comprehensions Aninhados (Nested Loops)\n",
        "\n",
        "Aninhando comprehensions:\n",
        "```\n",
        "lista = [<expressao> for <var_local1> in <objeto1> if <condicao1>\n",
        "                        for <var_local2> in <objeto2> if <condicao2>]\n",
        "```\n",
        "O resultado do comando acima é equivalente a:\n",
        "```python\n",
        "lista=[]\n",
        "for var_local1 in objeto1:\n",
        "    if condicao1:\n",
        "        for var_local2 in objeto2:\n",
        "            if condicao2:\n",
        "                lista.append(expressao)\n",
        "```\n",
        "\n",
        "Uma aplicação é gerar o *produto cartesiano* entre duas coleções, ou seja, todas as combinações possíveis das duas coleções.\n",
        "\n",
        "Mais formalmente, se $A$ e $B$ são conjuntos, o seu produto cartesiano é o conjunto de todos os pares $(a,b)$ em que $a \\in A$ e $b \\in B$."
      ]
    },
    {
      "cell_type": "code",
      "execution_count": null,
      "metadata": {
        "id": "_ccL3UODgLBd"
      },
      "outputs": [],
      "source": [
        "A = ['a', 'b']\n",
        "B = [10, 20, 30]\n",
        "\n",
        "prod_cart = {(a,b) for a in A for b in B}\n",
        "print(\"Com comprehension:\", prod_cart)\n",
        "print(type(prod_cart))"
      ]
    },
    {
      "cell_type": "code",
      "execution_count": null,
      "metadata": {
        "id": "Hcrirv0BgLBd"
      },
      "outputs": [],
      "source": [
        "# com for\n",
        "prod_cart_for = set()\n",
        "for a in A:\n",
        "    for b in B:\n",
        "        prod_cart_for.add((a,b))\n",
        "\n",
        "print(\"Com for:          \", prod_cart_for)"
      ]
    },
    {
      "cell_type": "markdown",
      "metadata": {
        "id": "pM8EHZdPgLBd"
      },
      "source": [
        "#### Formando lista de listas\n",
        "\n",
        "O elemento do comprehension pode ser uma coleção por exemplo para montar uma lista usamos:"
      ]
    },
    {
      "cell_type": "code",
      "execution_count": null,
      "metadata": {
        "id": "lkMYaKbhgLBd"
      },
      "outputs": [],
      "source": [
        "lista1 = [x for x in range(1,6)]\n",
        "print(lista1)"
      ]
    },
    {
      "cell_type": "markdown",
      "metadata": {
        "id": "H7YsU85mgLBd"
      },
      "source": [
        "Inserindo esse comprehension num outro comprehension podemos repetí-lo"
      ]
    },
    {
      "cell_type": "code",
      "execution_count": null,
      "metadata": {
        "id": "oYhX4c8ZgLBd"
      },
      "outputs": [],
      "source": [
        "lista_listas = [[x*l for x in range(1,6)] for l in range(1,4)]\n",
        "print(lista_listas)"
      ]
    },
    {
      "cell_type": "markdown",
      "metadata": {
        "id": "SCtBQY5DgLBd"
      },
      "source": [
        "Num cenário mais complexo, podemos querer formar uma lista de listas com um padrão, em que cada lista possui valores 0, exceto por um elemento igual a 1 que equivale a sua posição.\n",
        "\n",
        "\n",
        "Exemplo com 3 listas:\n",
        "```\n",
        "[[1, 0, 0],\n",
        " [0, 1, 0],\n",
        " [0, 0, 1]]\n",
        "```"
      ]
    },
    {
      "cell_type": "markdown",
      "metadata": {
        "id": "V8YMpZPXgLBd"
      },
      "source": [
        "Vamos começar produzindo apenas a primeira linha"
      ]
    },
    {
      "cell_type": "code",
      "execution_count": null,
      "metadata": {
        "id": "0BqlQUjVgLBd"
      },
      "outputs": [],
      "source": [
        "n = 3\n",
        "pos = 0\n",
        "linha = [1 if x == pos else 0 for x in range(n)]\n",
        "print(linha)"
      ]
    },
    {
      "cell_type": "markdown",
      "metadata": {
        "id": "hDVsY7OegLBd"
      },
      "source": [
        "Agora, como aninhar isso num outro comprehension que permita mudar a a posição?"
      ]
    },
    {
      "cell_type": "code",
      "execution_count": null,
      "metadata": {
        "id": "TW8IDCd1gLBd"
      },
      "outputs": [],
      "source": [
        "n = 10\n",
        "linhas = [[1 if x == pos else 0 for x in range(n)] for pos in range(n)]\n",
        "\n",
        "for lin in linhas:\n",
        "    print(lin)\n"
      ]
    },
    {
      "cell_type": "markdown",
      "metadata": {
        "id": "o5yuFYxYgLBe"
      },
      "source": [
        "---\n",
        "\n",
        "#### <font color=\"blue\">Exercício 2.2 </font>\n",
        "\n",
        "Codifique uma comprehension que simule uma matriz de tamanho n x n, cujos elementos são dados por `(i+j*i)`, sendo `i` o índice da linha e `j` o índice da coluna. Para simular isso com uma lista de listas, o `i` corresponde ao índice da lista principal e o `j` aos índices das listas aninhadas.\n",
        "\n",
        "Por exemplo, seja a segunda lista (posição i=1), o seu terceiro elemento (posição j=2) seria obtido por `1+2*1 = 3`\n",
        "\n",
        "Exemplo com n = 3:\n",
        "```\n",
        "  [[0, 0, 0],\n",
        "   [1, 2, 3],\n",
        "   [2, 4, 6]]\n",
        "```"
      ]
    },
    {
      "cell_type": "markdown",
      "metadata": {
        "id": "kW_lWunXgLBe"
      },
      "source": [
        "---\n",
        "\n",
        "####  <font color=\"red\">Desafio</font>\n",
        "\n",
        "Temos uma série de pontos 3D organizados numa lista e gostaríamos de computar as distâncias entre todos os pontos pareados.\n",
        "\n",
        "Calcular a distância entre dois pontos $p1 = (x_1,y_1,z_1)$ e  $p2 = (x_2,y_2,z_2)$ usando a fórmula\n",
        "\n",
        "$$d(p1,p2) = |x_1 - x_2| +|y_1 - y_2| + |z_1 - z_2|,$$\n",
        "em que $|.|$ representa o valor absoluto.\n",
        "\n",
        "Exemplo com 2 pontos organizados em listas:\n",
        "```\n",
        "[[1.0, 1.0, 1.0],\n",
        " [3.0, 3.0, 3.0]]\n",
        "```\n",
        "\n",
        "A saída deve ser:\n",
        "```\n",
        "[[0.0, 6.0],\n",
        " [6.0, 0.0]]\n",
        "```\n",
        "\n",
        "Note que a diagonal principal tem sempre valor zero já que representa a distância de um ponto para ele mesmo, e que a matriz é simétrica pois a distância entre dois pontos p1 e p2 é tal que: d(p1,p2) = d(p2,p1).\n",
        "\n",
        "Para isso utilize uma única linha contendo comprehensions aninhadas e com iteração em paralelo"
      ]
    },
    {
      "cell_type": "code",
      "execution_count": null,
      "metadata": {
        "id": "WREyskgZgLBe"
      },
      "outputs": [],
      "source": [
        "pontos3d = [ [1.0, 1.0, 1.0],\n",
        "             [0.0, 1.0, 3.0],\n",
        "             [2.0, 2.0, 2.0],\n",
        "             [0.0, 0.0, 0.0] ]"
      ]
    },
    {
      "cell_type": "markdown",
      "metadata": {
        "id": "753CTmR6gLBe"
      },
      "source": [
        "# <font color=\"red\">Resumo da aula</font>\n",
        "\n",
        "### <span style=\"color:red\">- Comprehensions com iteração paralela em diferentes coleções</span>\n",
        "### <span style=\"color:red\">- Comprehensions aninhados (*nested loops*)</span>"
      ]
    }
  ],
  "metadata": {
    "kernelspec": {
      "display_name": "Python 3",
      "language": "python",
      "name": "python3"
    },
    "language_info": {
      "codemirror_mode": {
        "name": "ipython",
        "version": 3
      },
      "file_extension": ".py",
      "mimetype": "text/x-python",
      "name": "python",
      "nbconvert_exporter": "python",
      "pygments_lexer": "ipython3",
      "version": "3.11.5"
    },
    "toc": {
      "base_numbering": 1,
      "nav_menu": {},
      "number_sections": true,
      "sideBar": true,
      "skip_h1_title": false,
      "title_cell": "Table of Contents",
      "title_sidebar": "Contents",
      "toc_cell": false,
      "toc_position": {},
      "toc_section_display": true,
      "toc_window_display": false
    },
    "colab": {
      "provenance": [],
      "include_colab_link": true
    }
  },
  "nbformat": 4,
  "nbformat_minor": 0
}