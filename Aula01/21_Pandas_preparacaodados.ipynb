{
  "cells": [
    {
      "cell_type": "markdown",
      "metadata": {
        "id": "view-in-github",
        "colab_type": "text"
      },
      "source": [
        "<a href=\"https://colab.research.google.com/github/fhsmartins/MBA/blob/main/Aula01/21_Pandas_preparacaodados.ipynb\" target=\"_parent\"><img src=\"https://colab.research.google.com/assets/colab-badge.svg\" alt=\"Open In Colab\"/></a>"
      ]
    },
    {
      "cell_type": "markdown",
      "metadata": {
        "id": "fp1KQp06tfoY"
      },
      "source": [
        "# <font color=\"red\"> MBA em IA e Big Data</font>\n",
        "## <span style=\"color:red\">Linguagens e Ferramentas para Inteligência Artificial e Big Data (Python e SQL)</span>\n",
        "\n",
        "### <span style=\"color:darkred\">Python - Aula 21</span>\n",
        "\n",
        "*Leandro Franco de Souza*<br>\n",
        "*ICMC/USP São Carlos*\n",
        "\n",
        "*(com material dos Profs. Moacir Antonelli Ponti e Luis Gustavo Nonato)*"
      ]
    },
    {
      "cell_type": "markdown",
      "metadata": {
        "id": "HN-44yqxtfoc"
      },
      "source": [
        "# <font color=\"red\"> Conteúdo:</font>\n",
        "\n",
        "### <span style=\"color:red\">- Preparação de dados</span>\n",
        "\n",
        "__Referências__ <br>\n",
        "- McKinney, W. and PyData Development Team [Pandas: powerful Python data analysis toolkit](https://pandas.pydata.org/pandas-docs/stable/pandas.pdf)\n",
        "- Documentação Pandas [http://pandas.pydata.org/pandas-docs/stable/index.html](http://pandas.pydata.org/pandas-docs/stable/index.html)\n",
        "- Wickham, H. Tidy data: https://vita.had.co.nz/papers/tidy-data.pdf"
      ]
    },
    {
      "cell_type": "markdown",
      "metadata": {
        "id": "NZYmUrXCftik"
      },
      "source": [
        "---\n",
        "\n",
        "# Preparação de dados. O que se deseja é que:\n",
        "\n",
        "1. Cada variável forme uma coluna\n",
        "2. Cada observação forme uma linha\n",
        "3. Cada tipo de unidade observacional forme uma tabela\n",
        "\n",
        "* 3.a forma normal de Codd!"
      ]
    },
    {
      "cell_type": "markdown",
      "metadata": {
        "id": "L2Qphlkuftil"
      },
      "source": [
        "**Exemplo**:\n",
        "\n",
        "Recebemos duas tabelas, cada uma com temperaturas coletadas em cidades. A primeira é referente aos primeiros dias de coleta, a segunda aos dias seguintes, organizadas por outra pessoa e enviada.\n",
        "\n",
        "Precisamos preparar os dados de forma que uma observação seja:\n",
        "* uma cidade, um dia e uma temperatura naquele dia."
      ]
    },
    {
      "cell_type": "code",
      "execution_count": null,
      "metadata": {
        "id": "1l-GqPnQftil"
      },
      "outputs": [],
      "source": [
        "# criando os dataframes para o exemplo\n",
        "import numpy as np\n",
        "import pandas as pd\n",
        "temps = np.array([[23, 21, 20],[30, 29, 28],[18, 21, 20],[9, 10, 13]])\n",
        "dtemp1 = pd.DataFrame(temps, index=['São Paulo','Fortaleza','Montevideo','London'])\n",
        "\n",
        "dtemp2 = pd.DataFrame({\n",
        "    'São Paulo': [25, 27, 23, 25],\n",
        "    'Fortaleza': [35, 32, 31, 29],\n",
        "    'Montevideo': [20, 18, 21, 23],\n",
        "    'London': [14, 15, 12, 13]\n",
        "})"
      ]
    },
    {
      "cell_type": "code",
      "execution_count": null,
      "metadata": {
        "id": "gaJRxT3fftil",
        "outputId": "8a72821a-8b2d-4aef-f82b-0d1f6fde7009"
      },
      "outputs": [
        {
          "data": {
            "text/html": [
              "<div>\n",
              "<style scoped>\n",
              "    .dataframe tbody tr th:only-of-type {\n",
              "        vertical-align: middle;\n",
              "    }\n",
              "\n",
              "    .dataframe tbody tr th {\n",
              "        vertical-align: top;\n",
              "    }\n",
              "\n",
              "    .dataframe thead th {\n",
              "        text-align: right;\n",
              "    }\n",
              "</style>\n",
              "<table border=\"1\" class=\"dataframe\">\n",
              "  <thead>\n",
              "    <tr style=\"text-align: right;\">\n",
              "      <th></th>\n",
              "      <th>0</th>\n",
              "      <th>1</th>\n",
              "      <th>2</th>\n",
              "    </tr>\n",
              "  </thead>\n",
              "  <tbody>\n",
              "    <tr>\n",
              "      <th>São Paulo</th>\n",
              "      <td>23</td>\n",
              "      <td>21</td>\n",
              "      <td>20</td>\n",
              "    </tr>\n",
              "    <tr>\n",
              "      <th>Fortaleza</th>\n",
              "      <td>30</td>\n",
              "      <td>29</td>\n",
              "      <td>28</td>\n",
              "    </tr>\n",
              "    <tr>\n",
              "      <th>Montevideo</th>\n",
              "      <td>18</td>\n",
              "      <td>21</td>\n",
              "      <td>20</td>\n",
              "    </tr>\n",
              "    <tr>\n",
              "      <th>London</th>\n",
              "      <td>9</td>\n",
              "      <td>10</td>\n",
              "      <td>13</td>\n",
              "    </tr>\n",
              "  </tbody>\n",
              "</table>\n",
              "</div>"
            ],
            "text/plain": [
              "             0   1   2\n",
              "São Paulo   23  21  20\n",
              "Fortaleza   30  29  28\n",
              "Montevideo  18  21  20\n",
              "London       9  10  13"
            ]
          },
          "execution_count": 2,
          "metadata": {},
          "output_type": "execute_result"
        }
      ],
      "source": [
        "dtemp1"
      ]
    },
    {
      "cell_type": "code",
      "execution_count": null,
      "metadata": {
        "id": "WwjlIpJiftil",
        "outputId": "095f17a2-6735-414e-dadb-444778f9d542"
      },
      "outputs": [
        {
          "data": {
            "text/html": [
              "<div>\n",
              "<style scoped>\n",
              "    .dataframe tbody tr th:only-of-type {\n",
              "        vertical-align: middle;\n",
              "    }\n",
              "\n",
              "    .dataframe tbody tr th {\n",
              "        vertical-align: top;\n",
              "    }\n",
              "\n",
              "    .dataframe thead th {\n",
              "        text-align: right;\n",
              "    }\n",
              "</style>\n",
              "<table border=\"1\" class=\"dataframe\">\n",
              "  <thead>\n",
              "    <tr style=\"text-align: right;\">\n",
              "      <th></th>\n",
              "      <th>São Paulo</th>\n",
              "      <th>Fortaleza</th>\n",
              "      <th>Montevideo</th>\n",
              "      <th>London</th>\n",
              "    </tr>\n",
              "  </thead>\n",
              "  <tbody>\n",
              "    <tr>\n",
              "      <th>0</th>\n",
              "      <td>25</td>\n",
              "      <td>35</td>\n",
              "      <td>20</td>\n",
              "      <td>14</td>\n",
              "    </tr>\n",
              "    <tr>\n",
              "      <th>1</th>\n",
              "      <td>27</td>\n",
              "      <td>32</td>\n",
              "      <td>18</td>\n",
              "      <td>15</td>\n",
              "    </tr>\n",
              "    <tr>\n",
              "      <th>2</th>\n",
              "      <td>23</td>\n",
              "      <td>31</td>\n",
              "      <td>21</td>\n",
              "      <td>12</td>\n",
              "    </tr>\n",
              "    <tr>\n",
              "      <th>3</th>\n",
              "      <td>25</td>\n",
              "      <td>29</td>\n",
              "      <td>23</td>\n",
              "      <td>13</td>\n",
              "    </tr>\n",
              "  </tbody>\n",
              "</table>\n",
              "</div>"
            ],
            "text/plain": [
              "   São Paulo  Fortaleza  Montevideo  London\n",
              "0         25         35          20      14\n",
              "1         27         32          18      15\n",
              "2         23         31          21      12\n",
              "3         25         29          23      13"
            ]
          },
          "execution_count": 3,
          "metadata": {},
          "output_type": "execute_result"
        }
      ],
      "source": [
        "dtemp2"
      ]
    },
    {
      "cell_type": "markdown",
      "metadata": {
        "id": "oyN-8GTmftil"
      },
      "source": [
        "### `melt()` para reconfigurar tabelas\n",
        "\n",
        "Permite criar formato largo ou longo.\n",
        "\n",
        "Auxilia muito para colocar o DataFrame de maneira que cada linha seja uma observação\n",
        "\n",
        "* `id_vars` são as variáveis que não serão modificadas e continuarão como colunas\n",
        "* `value_vars` são as variáveis que passarão a ser \"valor\" (linhas)"
      ]
    },
    {
      "cell_type": "code",
      "execution_count": null,
      "metadata": {
        "id": "_EWqH0nzftil",
        "outputId": "cb0f384e-d176-4aa5-8fa3-d206127bfcc9"
      },
      "outputs": [
        {
          "name": "stdout",
          "output_type": "stream",
          "text": [
            "             0   1   2\n",
            "São Paulo   23  21  20\n",
            "Fortaleza   30  29  28\n",
            "Montevideo  18  21  20\n",
            "London       9  10  13\n",
            "    variable  value\n",
            "0          0     23\n",
            "1          0     30\n",
            "2          0     18\n",
            "3          0      9\n",
            "4          1     21\n",
            "5          1     29\n",
            "6          1     21\n",
            "7          1     10\n",
            "8          2     20\n",
            "9          2     28\n",
            "10         2     20\n",
            "11         2     13\n"
          ]
        }
      ],
      "source": [
        "print(dtemp1)\n",
        "\n",
        "print(dtemp1.melt())"
      ]
    },
    {
      "cell_type": "code",
      "execution_count": null,
      "metadata": {
        "id": "3gdJ7sD5ftim",
        "outputId": "3d4b8e7e-bbe8-4888-acef-376111e364fd"
      },
      "outputs": [
        {
          "name": "stdout",
          "output_type": "stream",
          "text": [
            "   São Paulo  Fortaleza  Montevideo  London\n",
            "0         25         35          20      14\n",
            "1         27         32          18      15\n",
            "2         23         31          21      12\n",
            "3         25         29          23      13\n",
            "      variable  value\n",
            "0    São Paulo     25\n",
            "1    São Paulo     27\n",
            "2    São Paulo     23\n",
            "3    São Paulo     25\n",
            "4    Fortaleza     35\n",
            "5    Fortaleza     32\n",
            "6    Fortaleza     31\n",
            "7    Fortaleza     29\n",
            "8   Montevideo     20\n",
            "9   Montevideo     18\n",
            "10  Montevideo     21\n",
            "11  Montevideo     23\n",
            "12      London     14\n",
            "13      London     15\n",
            "14      London     12\n",
            "15      London     13\n"
          ]
        }
      ],
      "source": [
        "print(dtemp2)\n",
        "print(dtemp2.melt())"
      ]
    },
    {
      "cell_type": "markdown",
      "metadata": {
        "id": "Gu-aNK_Oftim"
      },
      "source": [
        "Gostaríamos de uma tabela no seguinte formato:\n",
        "\n",
        "|city|day|temp|\n",
        "|---|---|---|\n",
        "|São Paulo|0|23|\n",
        "|São Paulo|1|21|\n",
        "|...|...|...|\n",
        "|Londres|0|9|\n",
        "|...|...|...|\n",
        "\n",
        "Vamos começar pela primeira tabela e ver o que podemos fazer."
      ]
    },
    {
      "cell_type": "code",
      "execution_count": null,
      "metadata": {
        "id": "AXCVRjZPftim",
        "outputId": "0541f71f-5a21-47b8-a1ea-bb14ec2e910a"
      },
      "outputs": [
        {
          "data": {
            "text/html": [
              "<div>\n",
              "<style scoped>\n",
              "    .dataframe tbody tr th:only-of-type {\n",
              "        vertical-align: middle;\n",
              "    }\n",
              "\n",
              "    .dataframe tbody tr th {\n",
              "        vertical-align: top;\n",
              "    }\n",
              "\n",
              "    .dataframe thead th {\n",
              "        text-align: right;\n",
              "    }\n",
              "</style>\n",
              "<table border=\"1\" class=\"dataframe\">\n",
              "  <thead>\n",
              "    <tr style=\"text-align: right;\">\n",
              "      <th></th>\n",
              "      <th>variable</th>\n",
              "      <th>value</th>\n",
              "    </tr>\n",
              "  </thead>\n",
              "  <tbody>\n",
              "    <tr>\n",
              "      <th>0</th>\n",
              "      <td>0</td>\n",
              "      <td>23</td>\n",
              "    </tr>\n",
              "    <tr>\n",
              "      <th>1</th>\n",
              "      <td>0</td>\n",
              "      <td>30</td>\n",
              "    </tr>\n",
              "    <tr>\n",
              "      <th>2</th>\n",
              "      <td>0</td>\n",
              "      <td>18</td>\n",
              "    </tr>\n",
              "    <tr>\n",
              "      <th>3</th>\n",
              "      <td>0</td>\n",
              "      <td>9</td>\n",
              "    </tr>\n",
              "    <tr>\n",
              "      <th>4</th>\n",
              "      <td>1</td>\n",
              "      <td>21</td>\n",
              "    </tr>\n",
              "  </tbody>\n",
              "</table>\n",
              "</div>"
            ],
            "text/plain": [
              "   variable  value\n",
              "0         0     23\n",
              "1         0     30\n",
              "2         0     18\n",
              "3         0      9\n",
              "4         1     21"
            ]
          },
          "execution_count": 6,
          "metadata": {},
          "output_type": "execute_result"
        }
      ],
      "source": [
        "dtemp1.melt().head()"
      ]
    },
    {
      "cell_type": "markdown",
      "metadata": {
        "id": "-FyM0D_Lftim"
      },
      "source": [
        "As cidades somem pois essa informação está no índice."
      ]
    },
    {
      "cell_type": "code",
      "execution_count": null,
      "metadata": {
        "id": "kQm1Ebe3ftim",
        "outputId": "d1840919-f293-4c57-ba8a-6241d80d6677"
      },
      "outputs": [
        {
          "data": {
            "text/plain": [
              "Index(['São Paulo', 'Fortaleza', 'Montevideo', 'London'], dtype='object')"
            ]
          },
          "execution_count": 7,
          "metadata": {},
          "output_type": "execute_result"
        }
      ],
      "source": [
        "dtemp1.index"
      ]
    },
    {
      "cell_type": "markdown",
      "metadata": {
        "id": "2MjYIoJDftin"
      },
      "source": [
        "Solução: resetar o índice e criar uma nova coluna com os nomes das cidades"
      ]
    },
    {
      "cell_type": "code",
      "execution_count": null,
      "metadata": {
        "id": "JfWRev-Lftin",
        "outputId": "257ba26b-0174-4249-8d14-67557656cfd5",
        "scrolled": true
      },
      "outputs": [
        {
          "data": {
            "text/html": [
              "<div>\n",
              "<style scoped>\n",
              "    .dataframe tbody tr th:only-of-type {\n",
              "        vertical-align: middle;\n",
              "    }\n",
              "\n",
              "    .dataframe tbody tr th {\n",
              "        vertical-align: top;\n",
              "    }\n",
              "\n",
              "    .dataframe thead th {\n",
              "        text-align: right;\n",
              "    }\n",
              "</style>\n",
              "<table border=\"1\" class=\"dataframe\">\n",
              "  <thead>\n",
              "    <tr style=\"text-align: right;\">\n",
              "      <th></th>\n",
              "      <th>city</th>\n",
              "      <th>0</th>\n",
              "      <th>1</th>\n",
              "      <th>2</th>\n",
              "    </tr>\n",
              "  </thead>\n",
              "  <tbody>\n",
              "    <tr>\n",
              "      <th>0</th>\n",
              "      <td>São Paulo</td>\n",
              "      <td>23</td>\n",
              "      <td>21</td>\n",
              "      <td>20</td>\n",
              "    </tr>\n",
              "    <tr>\n",
              "      <th>1</th>\n",
              "      <td>Fortaleza</td>\n",
              "      <td>30</td>\n",
              "      <td>29</td>\n",
              "      <td>28</td>\n",
              "    </tr>\n",
              "    <tr>\n",
              "      <th>2</th>\n",
              "      <td>Montevideo</td>\n",
              "      <td>18</td>\n",
              "      <td>21</td>\n",
              "      <td>20</td>\n",
              "    </tr>\n",
              "    <tr>\n",
              "      <th>3</th>\n",
              "      <td>London</td>\n",
              "      <td>9</td>\n",
              "      <td>10</td>\n",
              "      <td>13</td>\n",
              "    </tr>\n",
              "  </tbody>\n",
              "</table>\n",
              "</div>"
            ],
            "text/plain": [
              "         city   0   1   2\n",
              "0   São Paulo  23  21  20\n",
              "1   Fortaleza  30  29  28\n",
              "2  Montevideo  18  21  20\n",
              "3      London   9  10  13"
            ]
          },
          "execution_count": 8,
          "metadata": {},
          "output_type": "execute_result"
        }
      ],
      "source": [
        "dtemp1 = dtemp1.rename_axis('city').reset_index()\n",
        "dtemp1"
      ]
    },
    {
      "cell_type": "markdown",
      "metadata": {
        "id": "nU7YHMcPftin"
      },
      "source": [
        "O uso automático 'derrete' toda a tabela, gostaríamos de **fixar a cidade** como uma variável identificadora"
      ]
    },
    {
      "cell_type": "code",
      "execution_count": null,
      "metadata": {
        "id": "RUOOJZJSftin",
        "outputId": "ef3ca770-82c2-4247-837c-6980fb5405a3"
      },
      "outputs": [
        {
          "data": {
            "text/html": [
              "<div>\n",
              "<style scoped>\n",
              "    .dataframe tbody tr th:only-of-type {\n",
              "        vertical-align: middle;\n",
              "    }\n",
              "\n",
              "    .dataframe tbody tr th {\n",
              "        vertical-align: top;\n",
              "    }\n",
              "\n",
              "    .dataframe thead th {\n",
              "        text-align: right;\n",
              "    }\n",
              "</style>\n",
              "<table border=\"1\" class=\"dataframe\">\n",
              "  <thead>\n",
              "    <tr style=\"text-align: right;\">\n",
              "      <th></th>\n",
              "      <th>city</th>\n",
              "      <th>variable</th>\n",
              "      <th>value</th>\n",
              "    </tr>\n",
              "  </thead>\n",
              "  <tbody>\n",
              "    <tr>\n",
              "      <th>0</th>\n",
              "      <td>São Paulo</td>\n",
              "      <td>0</td>\n",
              "      <td>23</td>\n",
              "    </tr>\n",
              "    <tr>\n",
              "      <th>1</th>\n",
              "      <td>Fortaleza</td>\n",
              "      <td>0</td>\n",
              "      <td>30</td>\n",
              "    </tr>\n",
              "    <tr>\n",
              "      <th>2</th>\n",
              "      <td>Montevideo</td>\n",
              "      <td>0</td>\n",
              "      <td>18</td>\n",
              "    </tr>\n",
              "    <tr>\n",
              "      <th>3</th>\n",
              "      <td>London</td>\n",
              "      <td>0</td>\n",
              "      <td>9</td>\n",
              "    </tr>\n",
              "    <tr>\n",
              "      <th>4</th>\n",
              "      <td>São Paulo</td>\n",
              "      <td>1</td>\n",
              "      <td>21</td>\n",
              "    </tr>\n",
              "    <tr>\n",
              "      <th>5</th>\n",
              "      <td>Fortaleza</td>\n",
              "      <td>1</td>\n",
              "      <td>29</td>\n",
              "    </tr>\n",
              "    <tr>\n",
              "      <th>6</th>\n",
              "      <td>Montevideo</td>\n",
              "      <td>1</td>\n",
              "      <td>21</td>\n",
              "    </tr>\n",
              "    <tr>\n",
              "      <th>7</th>\n",
              "      <td>London</td>\n",
              "      <td>1</td>\n",
              "      <td>10</td>\n",
              "    </tr>\n",
              "    <tr>\n",
              "      <th>8</th>\n",
              "      <td>São Paulo</td>\n",
              "      <td>2</td>\n",
              "      <td>20</td>\n",
              "    </tr>\n",
              "    <tr>\n",
              "      <th>9</th>\n",
              "      <td>Fortaleza</td>\n",
              "      <td>2</td>\n",
              "      <td>28</td>\n",
              "    </tr>\n",
              "    <tr>\n",
              "      <th>10</th>\n",
              "      <td>Montevideo</td>\n",
              "      <td>2</td>\n",
              "      <td>20</td>\n",
              "    </tr>\n",
              "    <tr>\n",
              "      <th>11</th>\n",
              "      <td>London</td>\n",
              "      <td>2</td>\n",
              "      <td>13</td>\n",
              "    </tr>\n",
              "  </tbody>\n",
              "</table>\n",
              "</div>"
            ],
            "text/plain": [
              "          city variable  value\n",
              "0    São Paulo        0     23\n",
              "1    Fortaleza        0     30\n",
              "2   Montevideo        0     18\n",
              "3       London        0      9\n",
              "4    São Paulo        1     21\n",
              "5    Fortaleza        1     29\n",
              "6   Montevideo        1     21\n",
              "7       London        1     10\n",
              "8    São Paulo        2     20\n",
              "9    Fortaleza        2     28\n",
              "10  Montevideo        2     20\n",
              "11      London        2     13"
            ]
          },
          "execution_count": 9,
          "metadata": {},
          "output_type": "execute_result"
        }
      ],
      "source": [
        "dtemp1_melt = dtemp1.melt(id_vars=['city'])\n",
        "dtemp1_melt"
      ]
    },
    {
      "cell_type": "markdown",
      "metadata": {
        "id": "lW47wAd5ftin"
      },
      "source": [
        "Outro ponto que seria interessante é nomear as variáveis no formato longo"
      ]
    },
    {
      "cell_type": "code",
      "execution_count": null,
      "metadata": {
        "id": "kx58Szl0ftin",
        "outputId": "581117a4-3613-44cd-d8ef-9f6c11bf98cf"
      },
      "outputs": [
        {
          "data": {
            "text/html": [
              "<div>\n",
              "<style scoped>\n",
              "    .dataframe tbody tr th:only-of-type {\n",
              "        vertical-align: middle;\n",
              "    }\n",
              "\n",
              "    .dataframe tbody tr th {\n",
              "        vertical-align: top;\n",
              "    }\n",
              "\n",
              "    .dataframe thead th {\n",
              "        text-align: right;\n",
              "    }\n",
              "</style>\n",
              "<table border=\"1\" class=\"dataframe\">\n",
              "  <thead>\n",
              "    <tr style=\"text-align: right;\">\n",
              "      <th></th>\n",
              "      <th>city</th>\n",
              "      <th>day</th>\n",
              "      <th>temperature</th>\n",
              "    </tr>\n",
              "  </thead>\n",
              "  <tbody>\n",
              "    <tr>\n",
              "      <th>0</th>\n",
              "      <td>São Paulo</td>\n",
              "      <td>0</td>\n",
              "      <td>23</td>\n",
              "    </tr>\n",
              "    <tr>\n",
              "      <th>1</th>\n",
              "      <td>Fortaleza</td>\n",
              "      <td>0</td>\n",
              "      <td>30</td>\n",
              "    </tr>\n",
              "    <tr>\n",
              "      <th>2</th>\n",
              "      <td>Montevideo</td>\n",
              "      <td>0</td>\n",
              "      <td>18</td>\n",
              "    </tr>\n",
              "    <tr>\n",
              "      <th>3</th>\n",
              "      <td>London</td>\n",
              "      <td>0</td>\n",
              "      <td>9</td>\n",
              "    </tr>\n",
              "    <tr>\n",
              "      <th>4</th>\n",
              "      <td>São Paulo</td>\n",
              "      <td>1</td>\n",
              "      <td>21</td>\n",
              "    </tr>\n",
              "    <tr>\n",
              "      <th>5</th>\n",
              "      <td>Fortaleza</td>\n",
              "      <td>1</td>\n",
              "      <td>29</td>\n",
              "    </tr>\n",
              "    <tr>\n",
              "      <th>6</th>\n",
              "      <td>Montevideo</td>\n",
              "      <td>1</td>\n",
              "      <td>21</td>\n",
              "    </tr>\n",
              "    <tr>\n",
              "      <th>7</th>\n",
              "      <td>London</td>\n",
              "      <td>1</td>\n",
              "      <td>10</td>\n",
              "    </tr>\n",
              "    <tr>\n",
              "      <th>8</th>\n",
              "      <td>São Paulo</td>\n",
              "      <td>2</td>\n",
              "      <td>20</td>\n",
              "    </tr>\n",
              "    <tr>\n",
              "      <th>9</th>\n",
              "      <td>Fortaleza</td>\n",
              "      <td>2</td>\n",
              "      <td>28</td>\n",
              "    </tr>\n",
              "    <tr>\n",
              "      <th>10</th>\n",
              "      <td>Montevideo</td>\n",
              "      <td>2</td>\n",
              "      <td>20</td>\n",
              "    </tr>\n",
              "    <tr>\n",
              "      <th>11</th>\n",
              "      <td>London</td>\n",
              "      <td>2</td>\n",
              "      <td>13</td>\n",
              "    </tr>\n",
              "  </tbody>\n",
              "</table>\n",
              "</div>"
            ],
            "text/plain": [
              "          city day  temperature\n",
              "0    São Paulo   0           23\n",
              "1    Fortaleza   0           30\n",
              "2   Montevideo   0           18\n",
              "3       London   0            9\n",
              "4    São Paulo   1           21\n",
              "5    Fortaleza   1           29\n",
              "6   Montevideo   1           21\n",
              "7       London   1           10\n",
              "8    São Paulo   2           20\n",
              "9    Fortaleza   2           28\n",
              "10  Montevideo   2           20\n",
              "11      London   2           13"
            ]
          },
          "execution_count": 10,
          "metadata": {},
          "output_type": "execute_result"
        }
      ],
      "source": [
        "tabela1 = dtemp1.melt(id_vars=['city'], value_name='temperature', var_name='day')\n",
        "tabela1"
      ]
    },
    {
      "cell_type": "markdown",
      "metadata": {
        "id": "0WiOHpT1ftio"
      },
      "source": [
        "Agora na tabela 2.\n",
        "\n",
        "O `melt` aqui já está mais próximo, veja que nesse caso as colunas informam o nome das cidades, então perdemos o valor dos dias"
      ]
    },
    {
      "cell_type": "code",
      "execution_count": null,
      "metadata": {
        "id": "B41b5cDdftio",
        "outputId": "d5a7ab1b-c4b9-4a79-e8c4-7e078be526e9"
      },
      "outputs": [
        {
          "name": "stdout",
          "output_type": "stream",
          "text": [
            "   São Paulo  Fortaleza  Montevideo  London\n",
            "0         25         35          20      14\n",
            "1         27         32          18      15\n",
            "2         23         31          21      12\n",
            "3         25         29          23      13\n",
            "      variable  value\n",
            "0    São Paulo     25\n",
            "1    São Paulo     27\n",
            "2    São Paulo     23\n",
            "3    São Paulo     25\n",
            "4    Fortaleza     35\n",
            "5    Fortaleza     32\n",
            "6    Fortaleza     31\n",
            "7    Fortaleza     29\n",
            "8   Montevideo     20\n",
            "9   Montevideo     18\n",
            "10  Montevideo     21\n",
            "11  Montevideo     23\n",
            "12      London     14\n",
            "13      London     15\n",
            "14      London     12\n",
            "15      London     13\n"
          ]
        }
      ],
      "source": [
        "print(dtemp2)\n",
        "print(dtemp2.melt())"
      ]
    },
    {
      "cell_type": "markdown",
      "metadata": {
        "id": "zYBrWA7mftio"
      },
      "source": [
        "Assim, podemos seguir o que foi feito na primeira tabela \"transpondo\" o DataFrame"
      ]
    },
    {
      "cell_type": "code",
      "execution_count": null,
      "metadata": {
        "id": "hv-i2NZLftio",
        "outputId": "887492a4-b00c-4fa9-d407-71047caaf97b"
      },
      "outputs": [
        {
          "data": {
            "text/html": [
              "<div>\n",
              "<style scoped>\n",
              "    .dataframe tbody tr th:only-of-type {\n",
              "        vertical-align: middle;\n",
              "    }\n",
              "\n",
              "    .dataframe tbody tr th {\n",
              "        vertical-align: top;\n",
              "    }\n",
              "\n",
              "    .dataframe thead th {\n",
              "        text-align: right;\n",
              "    }\n",
              "</style>\n",
              "<table border=\"1\" class=\"dataframe\">\n",
              "  <thead>\n",
              "    <tr style=\"text-align: right;\">\n",
              "      <th></th>\n",
              "      <th>0</th>\n",
              "      <th>1</th>\n",
              "      <th>2</th>\n",
              "      <th>3</th>\n",
              "    </tr>\n",
              "  </thead>\n",
              "  <tbody>\n",
              "    <tr>\n",
              "      <th>São Paulo</th>\n",
              "      <td>25</td>\n",
              "      <td>27</td>\n",
              "      <td>23</td>\n",
              "      <td>25</td>\n",
              "    </tr>\n",
              "    <tr>\n",
              "      <th>Fortaleza</th>\n",
              "      <td>35</td>\n",
              "      <td>32</td>\n",
              "      <td>31</td>\n",
              "      <td>29</td>\n",
              "    </tr>\n",
              "    <tr>\n",
              "      <th>Montevideo</th>\n",
              "      <td>20</td>\n",
              "      <td>18</td>\n",
              "      <td>21</td>\n",
              "      <td>23</td>\n",
              "    </tr>\n",
              "    <tr>\n",
              "      <th>London</th>\n",
              "      <td>14</td>\n",
              "      <td>15</td>\n",
              "      <td>12</td>\n",
              "      <td>13</td>\n",
              "    </tr>\n",
              "  </tbody>\n",
              "</table>\n",
              "</div>"
            ],
            "text/plain": [
              "             0   1   2   3\n",
              "São Paulo   25  27  23  25\n",
              "Fortaleza   35  32  31  29\n",
              "Montevideo  20  18  21  23\n",
              "London      14  15  12  13"
            ]
          },
          "execution_count": 12,
          "metadata": {},
          "output_type": "execute_result"
        }
      ],
      "source": [
        "dtemp2.transpose()"
      ]
    },
    {
      "cell_type": "code",
      "execution_count": null,
      "metadata": {
        "id": "_36rG_4cftio",
        "outputId": "043df772-e79f-42c4-aaf5-9744c451cc3b"
      },
      "outputs": [
        {
          "data": {
            "text/html": [
              "<div>\n",
              "<style scoped>\n",
              "    .dataframe tbody tr th:only-of-type {\n",
              "        vertical-align: middle;\n",
              "    }\n",
              "\n",
              "    .dataframe tbody tr th {\n",
              "        vertical-align: top;\n",
              "    }\n",
              "\n",
              "    .dataframe thead th {\n",
              "        text-align: right;\n",
              "    }\n",
              "</style>\n",
              "<table border=\"1\" class=\"dataframe\">\n",
              "  <thead>\n",
              "    <tr style=\"text-align: right;\">\n",
              "      <th></th>\n",
              "      <th>city</th>\n",
              "      <th>0</th>\n",
              "      <th>1</th>\n",
              "      <th>2</th>\n",
              "      <th>3</th>\n",
              "    </tr>\n",
              "  </thead>\n",
              "  <tbody>\n",
              "    <tr>\n",
              "      <th>0</th>\n",
              "      <td>São Paulo</td>\n",
              "      <td>25</td>\n",
              "      <td>27</td>\n",
              "      <td>23</td>\n",
              "      <td>25</td>\n",
              "    </tr>\n",
              "    <tr>\n",
              "      <th>1</th>\n",
              "      <td>Fortaleza</td>\n",
              "      <td>35</td>\n",
              "      <td>32</td>\n",
              "      <td>31</td>\n",
              "      <td>29</td>\n",
              "    </tr>\n",
              "    <tr>\n",
              "      <th>2</th>\n",
              "      <td>Montevideo</td>\n",
              "      <td>20</td>\n",
              "      <td>18</td>\n",
              "      <td>21</td>\n",
              "      <td>23</td>\n",
              "    </tr>\n",
              "    <tr>\n",
              "      <th>3</th>\n",
              "      <td>London</td>\n",
              "      <td>14</td>\n",
              "      <td>15</td>\n",
              "      <td>12</td>\n",
              "      <td>13</td>\n",
              "    </tr>\n",
              "  </tbody>\n",
              "</table>\n",
              "</div>"
            ],
            "text/plain": [
              "         city   0   1   2   3\n",
              "0   São Paulo  25  27  23  25\n",
              "1   Fortaleza  35  32  31  29\n",
              "2  Montevideo  20  18  21  23\n",
              "3      London  14  15  12  13"
            ]
          },
          "execution_count": 13,
          "metadata": {},
          "output_type": "execute_result"
        }
      ],
      "source": [
        "dtemp2_tran = dtemp2.transpose().rename_axis('city').reset_index()\n",
        "dtemp2_tran"
      ]
    },
    {
      "cell_type": "code",
      "execution_count": null,
      "metadata": {
        "id": "yrEIvNjfftio",
        "outputId": "730bd75c-c9eb-4095-ee93-b07d1eddfac1"
      },
      "outputs": [
        {
          "data": {
            "text/html": [
              "<div>\n",
              "<style scoped>\n",
              "    .dataframe tbody tr th:only-of-type {\n",
              "        vertical-align: middle;\n",
              "    }\n",
              "\n",
              "    .dataframe tbody tr th {\n",
              "        vertical-align: top;\n",
              "    }\n",
              "\n",
              "    .dataframe thead th {\n",
              "        text-align: right;\n",
              "    }\n",
              "</style>\n",
              "<table border=\"1\" class=\"dataframe\">\n",
              "  <thead>\n",
              "    <tr style=\"text-align: right;\">\n",
              "      <th></th>\n",
              "      <th>city</th>\n",
              "      <th>day</th>\n",
              "      <th>temperature</th>\n",
              "    </tr>\n",
              "  </thead>\n",
              "  <tbody>\n",
              "    <tr>\n",
              "      <th>0</th>\n",
              "      <td>São Paulo</td>\n",
              "      <td>0</td>\n",
              "      <td>25</td>\n",
              "    </tr>\n",
              "    <tr>\n",
              "      <th>1</th>\n",
              "      <td>Fortaleza</td>\n",
              "      <td>0</td>\n",
              "      <td>35</td>\n",
              "    </tr>\n",
              "    <tr>\n",
              "      <th>2</th>\n",
              "      <td>Montevideo</td>\n",
              "      <td>0</td>\n",
              "      <td>20</td>\n",
              "    </tr>\n",
              "    <tr>\n",
              "      <th>3</th>\n",
              "      <td>London</td>\n",
              "      <td>0</td>\n",
              "      <td>14</td>\n",
              "    </tr>\n",
              "    <tr>\n",
              "      <th>4</th>\n",
              "      <td>São Paulo</td>\n",
              "      <td>1</td>\n",
              "      <td>27</td>\n",
              "    </tr>\n",
              "    <tr>\n",
              "      <th>5</th>\n",
              "      <td>Fortaleza</td>\n",
              "      <td>1</td>\n",
              "      <td>32</td>\n",
              "    </tr>\n",
              "    <tr>\n",
              "      <th>6</th>\n",
              "      <td>Montevideo</td>\n",
              "      <td>1</td>\n",
              "      <td>18</td>\n",
              "    </tr>\n",
              "    <tr>\n",
              "      <th>7</th>\n",
              "      <td>London</td>\n",
              "      <td>1</td>\n",
              "      <td>15</td>\n",
              "    </tr>\n",
              "    <tr>\n",
              "      <th>8</th>\n",
              "      <td>São Paulo</td>\n",
              "      <td>2</td>\n",
              "      <td>23</td>\n",
              "    </tr>\n",
              "    <tr>\n",
              "      <th>9</th>\n",
              "      <td>Fortaleza</td>\n",
              "      <td>2</td>\n",
              "      <td>31</td>\n",
              "    </tr>\n",
              "    <tr>\n",
              "      <th>10</th>\n",
              "      <td>Montevideo</td>\n",
              "      <td>2</td>\n",
              "      <td>21</td>\n",
              "    </tr>\n",
              "    <tr>\n",
              "      <th>11</th>\n",
              "      <td>London</td>\n",
              "      <td>2</td>\n",
              "      <td>12</td>\n",
              "    </tr>\n",
              "    <tr>\n",
              "      <th>12</th>\n",
              "      <td>São Paulo</td>\n",
              "      <td>3</td>\n",
              "      <td>25</td>\n",
              "    </tr>\n",
              "    <tr>\n",
              "      <th>13</th>\n",
              "      <td>Fortaleza</td>\n",
              "      <td>3</td>\n",
              "      <td>29</td>\n",
              "    </tr>\n",
              "    <tr>\n",
              "      <th>14</th>\n",
              "      <td>Montevideo</td>\n",
              "      <td>3</td>\n",
              "      <td>23</td>\n",
              "    </tr>\n",
              "    <tr>\n",
              "      <th>15</th>\n",
              "      <td>London</td>\n",
              "      <td>3</td>\n",
              "      <td>13</td>\n",
              "    </tr>\n",
              "  </tbody>\n",
              "</table>\n",
              "</div>"
            ],
            "text/plain": [
              "          city day  temperature\n",
              "0    São Paulo   0           25\n",
              "1    Fortaleza   0           35\n",
              "2   Montevideo   0           20\n",
              "3       London   0           14\n",
              "4    São Paulo   1           27\n",
              "5    Fortaleza   1           32\n",
              "6   Montevideo   1           18\n",
              "7       London   1           15\n",
              "8    São Paulo   2           23\n",
              "9    Fortaleza   2           31\n",
              "10  Montevideo   2           21\n",
              "11      London   2           12\n",
              "12   São Paulo   3           25\n",
              "13   Fortaleza   3           29\n",
              "14  Montevideo   3           23\n",
              "15      London   3           13"
            ]
          },
          "execution_count": 14,
          "metadata": {},
          "output_type": "execute_result"
        }
      ],
      "source": [
        "tabela2 = dtemp2_tran.melt(id_vars=['city'],  value_name='temperature', var_name='day')\n",
        "tabela2"
      ]
    },
    {
      "cell_type": "markdown",
      "metadata": {
        "id": "CE5drrCkftip"
      },
      "source": [
        "No entanto, veja que os dias da tabela 2 começam em 0\n",
        "\n",
        "Sabendo que os dias da tabela 2 vem logo após os dias da tabela 1, podemos:\n",
        "1. pegar o último dia na tabela 1\n",
        "2. adicionar esse valor ao cada dia da tabela 2 usando `map` ou `apply`"
      ]
    },
    {
      "cell_type": "code",
      "execution_count": null,
      "metadata": {
        "id": "U2S5ES8hftip",
        "outputId": "e7cf94c5-b2a8-4255-a907-9bc5e81fbda1"
      },
      "outputs": [
        {
          "data": {
            "text/html": [
              "<div>\n",
              "<style scoped>\n",
              "    .dataframe tbody tr th:only-of-type {\n",
              "        vertical-align: middle;\n",
              "    }\n",
              "\n",
              "    .dataframe tbody tr th {\n",
              "        vertical-align: top;\n",
              "    }\n",
              "\n",
              "    .dataframe thead th {\n",
              "        text-align: right;\n",
              "    }\n",
              "</style>\n",
              "<table border=\"1\" class=\"dataframe\">\n",
              "  <thead>\n",
              "    <tr style=\"text-align: right;\">\n",
              "      <th></th>\n",
              "      <th>city</th>\n",
              "      <th>day</th>\n",
              "      <th>temperature</th>\n",
              "    </tr>\n",
              "  </thead>\n",
              "  <tbody>\n",
              "    <tr>\n",
              "      <th>0</th>\n",
              "      <td>São Paulo</td>\n",
              "      <td>3</td>\n",
              "      <td>25</td>\n",
              "    </tr>\n",
              "    <tr>\n",
              "      <th>1</th>\n",
              "      <td>Fortaleza</td>\n",
              "      <td>3</td>\n",
              "      <td>35</td>\n",
              "    </tr>\n",
              "    <tr>\n",
              "      <th>2</th>\n",
              "      <td>Montevideo</td>\n",
              "      <td>3</td>\n",
              "      <td>20</td>\n",
              "    </tr>\n",
              "    <tr>\n",
              "      <th>3</th>\n",
              "      <td>London</td>\n",
              "      <td>3</td>\n",
              "      <td>14</td>\n",
              "    </tr>\n",
              "    <tr>\n",
              "      <th>4</th>\n",
              "      <td>São Paulo</td>\n",
              "      <td>4</td>\n",
              "      <td>27</td>\n",
              "    </tr>\n",
              "    <tr>\n",
              "      <th>5</th>\n",
              "      <td>Fortaleza</td>\n",
              "      <td>4</td>\n",
              "      <td>32</td>\n",
              "    </tr>\n",
              "    <tr>\n",
              "      <th>6</th>\n",
              "      <td>Montevideo</td>\n",
              "      <td>4</td>\n",
              "      <td>18</td>\n",
              "    </tr>\n",
              "    <tr>\n",
              "      <th>7</th>\n",
              "      <td>London</td>\n",
              "      <td>4</td>\n",
              "      <td>15</td>\n",
              "    </tr>\n",
              "    <tr>\n",
              "      <th>8</th>\n",
              "      <td>São Paulo</td>\n",
              "      <td>5</td>\n",
              "      <td>23</td>\n",
              "    </tr>\n",
              "    <tr>\n",
              "      <th>9</th>\n",
              "      <td>Fortaleza</td>\n",
              "      <td>5</td>\n",
              "      <td>31</td>\n",
              "    </tr>\n",
              "    <tr>\n",
              "      <th>10</th>\n",
              "      <td>Montevideo</td>\n",
              "      <td>5</td>\n",
              "      <td>21</td>\n",
              "    </tr>\n",
              "    <tr>\n",
              "      <th>11</th>\n",
              "      <td>London</td>\n",
              "      <td>5</td>\n",
              "      <td>12</td>\n",
              "    </tr>\n",
              "    <tr>\n",
              "      <th>12</th>\n",
              "      <td>São Paulo</td>\n",
              "      <td>6</td>\n",
              "      <td>25</td>\n",
              "    </tr>\n",
              "    <tr>\n",
              "      <th>13</th>\n",
              "      <td>Fortaleza</td>\n",
              "      <td>6</td>\n",
              "      <td>29</td>\n",
              "    </tr>\n",
              "    <tr>\n",
              "      <th>14</th>\n",
              "      <td>Montevideo</td>\n",
              "      <td>6</td>\n",
              "      <td>23</td>\n",
              "    </tr>\n",
              "    <tr>\n",
              "      <th>15</th>\n",
              "      <td>London</td>\n",
              "      <td>6</td>\n",
              "      <td>13</td>\n",
              "    </tr>\n",
              "  </tbody>\n",
              "</table>\n",
              "</div>"
            ],
            "text/plain": [
              "          city  day  temperature\n",
              "0    São Paulo    3           25\n",
              "1    Fortaleza    3           35\n",
              "2   Montevideo    3           20\n",
              "3       London    3           14\n",
              "4    São Paulo    4           27\n",
              "5    Fortaleza    4           32\n",
              "6   Montevideo    4           18\n",
              "7       London    4           15\n",
              "8    São Paulo    5           23\n",
              "9    Fortaleza    5           31\n",
              "10  Montevideo    5           21\n",
              "11      London    5           12\n",
              "12   São Paulo    6           25\n",
              "13   Fortaleza    6           29\n",
              "14  Montevideo    6           23\n",
              "15      London    6           13"
            ]
          },
          "execution_count": 15,
          "metadata": {},
          "output_type": "execute_result"
        }
      ],
      "source": [
        "last_day = tabela1['day'].max()\n",
        "\n",
        "tabela2['day'] = tabela2['day'].apply(lambda x: x+last_day+1)\n",
        "tabela2"
      ]
    },
    {
      "cell_type": "markdown",
      "metadata": {
        "id": "dtcysmYVtfr8"
      },
      "source": [
        "## Combinando\n",
        "\n",
        "No caso anterior temos 2 DataFrames, mas desejamos combiná-los\n",
        "\n",
        "- `merge`: combina dados vinculando linhas por uma ou mais chave\n",
        "- `concatenate`: combina dados a partir de um eixo específico"
      ]
    },
    {
      "cell_type": "markdown",
      "metadata": {
        "id": "97OiPoQetfsB"
      },
      "source": [
        "### `merge`\n",
        "\n",
        "Realiza a fusão de dois: DataFrames, Series, ou Serie com DataFrame.\n",
        "\n",
        "Fusão com base em:\n",
        "- valores de colunas, uma em cada DataFrame\n",
        "- valores de uma coluna em um dos DataFrame e índices no outro\n",
        "- valores dos índices em ambos os DataFrames (ou série)"
      ]
    },
    {
      "cell_type": "markdown",
      "metadata": {
        "id": "B3fWe40BtfsC"
      },
      "source": [
        "#### Merge baseado nos valores de colunas"
      ]
    },
    {
      "cell_type": "code",
      "execution_count": null,
      "metadata": {
        "id": "XZkuxvZNftip",
        "outputId": "36a5da06-09b6-439d-ba24-2dd2d055edf9"
      },
      "outputs": [
        {
          "name": "stdout",
          "output_type": "stream",
          "text": [
            "  key  data1\n",
            "0   a     10\n",
            "1   a     20\n",
            "2   b     30\n",
            "3   b     40\n",
            "4   c     50\n",
            "5   a     60\n",
            "  key  data2\n",
            "0   b      0\n",
            "1   a      1\n",
            "2   a      2\n",
            "3   b      3\n"
          ]
        }
      ],
      "source": [
        "# construindo dois DataFrames que serão fundidos com o método 'merge'\n",
        "df1 = pd.DataFrame({'key': ['a','a','b','b','c','a'],\n",
        "                   'data1': range(10,70,10)})\n",
        "\n",
        "df2 = pd.DataFrame({'key': ['b','a','a','b'],\n",
        "                   'data2': range(4)})\n",
        "\n",
        "print(df1)\n",
        "print(df2)"
      ]
    },
    {
      "cell_type": "code",
      "execution_count": null,
      "metadata": {
        "id": "OCSGvqI3tfsI",
        "outputId": "eac85baf-a5c0-44e4-be73-79eac98faf93"
      },
      "outputs": [
        {
          "data": {
            "text/html": [
              "<div>\n",
              "<style scoped>\n",
              "    .dataframe tbody tr th:only-of-type {\n",
              "        vertical-align: middle;\n",
              "    }\n",
              "\n",
              "    .dataframe tbody tr th {\n",
              "        vertical-align: top;\n",
              "    }\n",
              "\n",
              "    .dataframe thead th {\n",
              "        text-align: right;\n",
              "    }\n",
              "</style>\n",
              "<table border=\"1\" class=\"dataframe\">\n",
              "  <thead>\n",
              "    <tr style=\"text-align: right;\">\n",
              "      <th></th>\n",
              "      <th>key</th>\n",
              "      <th>data1</th>\n",
              "      <th>data2</th>\n",
              "    </tr>\n",
              "  </thead>\n",
              "  <tbody>\n",
              "    <tr>\n",
              "      <th>0</th>\n",
              "      <td>a</td>\n",
              "      <td>10</td>\n",
              "      <td>1</td>\n",
              "    </tr>\n",
              "    <tr>\n",
              "      <th>1</th>\n",
              "      <td>a</td>\n",
              "      <td>10</td>\n",
              "      <td>2</td>\n",
              "    </tr>\n",
              "    <tr>\n",
              "      <th>2</th>\n",
              "      <td>a</td>\n",
              "      <td>20</td>\n",
              "      <td>1</td>\n",
              "    </tr>\n",
              "    <tr>\n",
              "      <th>3</th>\n",
              "      <td>a</td>\n",
              "      <td>20</td>\n",
              "      <td>2</td>\n",
              "    </tr>\n",
              "    <tr>\n",
              "      <th>4</th>\n",
              "      <td>a</td>\n",
              "      <td>60</td>\n",
              "      <td>1</td>\n",
              "    </tr>\n",
              "    <tr>\n",
              "      <th>5</th>\n",
              "      <td>a</td>\n",
              "      <td>60</td>\n",
              "      <td>2</td>\n",
              "    </tr>\n",
              "    <tr>\n",
              "      <th>6</th>\n",
              "      <td>b</td>\n",
              "      <td>30</td>\n",
              "      <td>0</td>\n",
              "    </tr>\n",
              "    <tr>\n",
              "      <th>7</th>\n",
              "      <td>b</td>\n",
              "      <td>30</td>\n",
              "      <td>3</td>\n",
              "    </tr>\n",
              "    <tr>\n",
              "      <th>8</th>\n",
              "      <td>b</td>\n",
              "      <td>40</td>\n",
              "      <td>0</td>\n",
              "    </tr>\n",
              "    <tr>\n",
              "      <th>9</th>\n",
              "      <td>b</td>\n",
              "      <td>40</td>\n",
              "      <td>3</td>\n",
              "    </tr>\n",
              "  </tbody>\n",
              "</table>\n",
              "</div>"
            ],
            "text/plain": [
              "  key  data1  data2\n",
              "0   a     10      1\n",
              "1   a     10      2\n",
              "2   a     20      1\n",
              "3   a     20      2\n",
              "4   a     60      1\n",
              "5   a     60      2\n",
              "6   b     30      0\n",
              "7   b     30      3\n",
              "8   b     40      0\n",
              "9   b     40      3"
            ]
          },
          "execution_count": 17,
          "metadata": {},
          "output_type": "execute_result"
        }
      ],
      "source": [
        "# fusão com base nos valores de 'key'\n",
        "pd.merge(df1, df2, on='key')\n",
        "# Apenas os valores que aparencem em ambos são utilizados no 'merge'"
      ]
    },
    {
      "cell_type": "markdown",
      "metadata": {
        "id": "h_JnDnt5ftiq"
      },
      "source": [
        "Parâmetro `how` força que todos os valores sejam utilizados\n",
        "* `outer`: realiza união entre os dados\n",
        "* `inner`: realiza intersecção entre os dados"
      ]
    },
    {
      "cell_type": "code",
      "execution_count": null,
      "metadata": {
        "id": "QbEwQO4etfsO",
        "outputId": "289f4eb9-15d8-41ab-90f1-73e1eaa7ff34"
      },
      "outputs": [
        {
          "data": {
            "text/html": [
              "<div>\n",
              "<style scoped>\n",
              "    .dataframe tbody tr th:only-of-type {\n",
              "        vertical-align: middle;\n",
              "    }\n",
              "\n",
              "    .dataframe tbody tr th {\n",
              "        vertical-align: top;\n",
              "    }\n",
              "\n",
              "    .dataframe thead th {\n",
              "        text-align: right;\n",
              "    }\n",
              "</style>\n",
              "<table border=\"1\" class=\"dataframe\">\n",
              "  <thead>\n",
              "    <tr style=\"text-align: right;\">\n",
              "      <th></th>\n",
              "      <th>key</th>\n",
              "      <th>data1</th>\n",
              "      <th>data2</th>\n",
              "    </tr>\n",
              "  </thead>\n",
              "  <tbody>\n",
              "    <tr>\n",
              "      <th>0</th>\n",
              "      <td>a</td>\n",
              "      <td>10</td>\n",
              "      <td>1.0</td>\n",
              "    </tr>\n",
              "    <tr>\n",
              "      <th>1</th>\n",
              "      <td>a</td>\n",
              "      <td>10</td>\n",
              "      <td>2.0</td>\n",
              "    </tr>\n",
              "    <tr>\n",
              "      <th>2</th>\n",
              "      <td>a</td>\n",
              "      <td>20</td>\n",
              "      <td>1.0</td>\n",
              "    </tr>\n",
              "    <tr>\n",
              "      <th>3</th>\n",
              "      <td>a</td>\n",
              "      <td>20</td>\n",
              "      <td>2.0</td>\n",
              "    </tr>\n",
              "    <tr>\n",
              "      <th>4</th>\n",
              "      <td>a</td>\n",
              "      <td>60</td>\n",
              "      <td>1.0</td>\n",
              "    </tr>\n",
              "    <tr>\n",
              "      <th>5</th>\n",
              "      <td>a</td>\n",
              "      <td>60</td>\n",
              "      <td>2.0</td>\n",
              "    </tr>\n",
              "    <tr>\n",
              "      <th>6</th>\n",
              "      <td>b</td>\n",
              "      <td>30</td>\n",
              "      <td>0.0</td>\n",
              "    </tr>\n",
              "    <tr>\n",
              "      <th>7</th>\n",
              "      <td>b</td>\n",
              "      <td>30</td>\n",
              "      <td>3.0</td>\n",
              "    </tr>\n",
              "    <tr>\n",
              "      <th>8</th>\n",
              "      <td>b</td>\n",
              "      <td>40</td>\n",
              "      <td>0.0</td>\n",
              "    </tr>\n",
              "    <tr>\n",
              "      <th>9</th>\n",
              "      <td>b</td>\n",
              "      <td>40</td>\n",
              "      <td>3.0</td>\n",
              "    </tr>\n",
              "    <tr>\n",
              "      <th>10</th>\n",
              "      <td>c</td>\n",
              "      <td>50</td>\n",
              "      <td>NaN</td>\n",
              "    </tr>\n",
              "  </tbody>\n",
              "</table>\n",
              "</div>"
            ],
            "text/plain": [
              "   key  data1  data2\n",
              "0    a     10    1.0\n",
              "1    a     10    2.0\n",
              "2    a     20    1.0\n",
              "3    a     20    2.0\n",
              "4    a     60    1.0\n",
              "5    a     60    2.0\n",
              "6    b     30    0.0\n",
              "7    b     30    3.0\n",
              "8    b     40    0.0\n",
              "9    b     40    3.0\n",
              "10   c     50    NaN"
            ]
          },
          "execution_count": 18,
          "metadata": {},
          "output_type": "execute_result"
        }
      ],
      "source": [
        "pd.merge(df1,df2,on='key',how='outer')  # o valor 'c' aparece na coluna 'key'\n",
        "                                        # apenas em df1, enquanto o valor 'd'\n",
        "                                        # aparece apenas em df2"
      ]
    },
    {
      "cell_type": "markdown",
      "metadata": {
        "id": "-2e7e96BtfsW"
      },
      "source": [
        "#### Merge baseado nos valores de coluna em DataFrame e rótulos no outro DataFrame\n",
        "Para ser realizar o merging com base em colunas e rótulos, deve-se especificar os parâmetros\n",
        "`left_on`, `right_on`, `left_index` e `right_index` de forma apropriada.\n",
        "- __left\\_on__ = nome da coluna do DataFrame da esquerda (primeiro parâmetro)\n",
        "- __left\\_index__ = True indica que o índice no DataFrame da esquerda (primeiro parâmetro) serão utilizados\n",
        "- __right\\_on__ = nome da coluna do DataFrame da direita (segundo parâmetro)\n",
        "- __right\\_index__ = True indica que o índice no DataFrame da direita (segundo parâmetro) serão utilizados"
      ]
    },
    {
      "cell_type": "code",
      "execution_count": null,
      "metadata": {
        "id": "u9o2b_h7ftiq",
        "outputId": "426804a0-56b6-46b1-d97d-375854d5ea79"
      },
      "outputs": [
        {
          "data": {
            "text/html": [
              "<div>\n",
              "<style scoped>\n",
              "    .dataframe tbody tr th:only-of-type {\n",
              "        vertical-align: middle;\n",
              "    }\n",
              "\n",
              "    .dataframe tbody tr th {\n",
              "        vertical-align: top;\n",
              "    }\n",
              "\n",
              "    .dataframe thead th {\n",
              "        text-align: right;\n",
              "    }\n",
              "</style>\n",
              "<table border=\"1\" class=\"dataframe\">\n",
              "  <thead>\n",
              "    <tr style=\"text-align: right;\">\n",
              "      <th></th>\n",
              "      <th>country</th>\n",
              "    </tr>\n",
              "  </thead>\n",
              "  <tbody>\n",
              "    <tr>\n",
              "      <th>São Paulo</th>\n",
              "      <td>BR</td>\n",
              "    </tr>\n",
              "    <tr>\n",
              "      <th>Fortaleza</th>\n",
              "      <td>BR</td>\n",
              "    </tr>\n",
              "    <tr>\n",
              "      <th>Montevideo</th>\n",
              "      <td>UR</td>\n",
              "    </tr>\n",
              "  </tbody>\n",
              "</table>\n",
              "</div>"
            ],
            "text/plain": [
              "           country\n",
              "São Paulo       BR\n",
              "Fortaleza       BR\n",
              "Montevideo      UR"
            ]
          },
          "execution_count": 19,
          "metadata": {},
          "output_type": "execute_result"
        }
      ],
      "source": [
        "dcity = pd.DataFrame({'country':['BR','BR','UR']}, index=['São Paulo','Fortaleza','Montevideo'])\n",
        "dcity"
      ]
    },
    {
      "cell_type": "code",
      "execution_count": null,
      "metadata": {
        "id": "TJhHPpmeftir",
        "outputId": "8dfdd98d-14b9-4b34-af6f-df3f067315be"
      },
      "outputs": [
        {
          "data": {
            "text/html": [
              "<div>\n",
              "<style scoped>\n",
              "    .dataframe tbody tr th:only-of-type {\n",
              "        vertical-align: middle;\n",
              "    }\n",
              "\n",
              "    .dataframe tbody tr th {\n",
              "        vertical-align: top;\n",
              "    }\n",
              "\n",
              "    .dataframe thead th {\n",
              "        text-align: right;\n",
              "    }\n",
              "</style>\n",
              "<table border=\"1\" class=\"dataframe\">\n",
              "  <thead>\n",
              "    <tr style=\"text-align: right;\">\n",
              "      <th></th>\n",
              "      <th>city</th>\n",
              "      <th>day</th>\n",
              "      <th>temperature</th>\n",
              "    </tr>\n",
              "  </thead>\n",
              "  <tbody>\n",
              "    <tr>\n",
              "      <th>0</th>\n",
              "      <td>São Paulo</td>\n",
              "      <td>0</td>\n",
              "      <td>23</td>\n",
              "    </tr>\n",
              "    <tr>\n",
              "      <th>1</th>\n",
              "      <td>Fortaleza</td>\n",
              "      <td>0</td>\n",
              "      <td>30</td>\n",
              "    </tr>\n",
              "    <tr>\n",
              "      <th>2</th>\n",
              "      <td>Montevideo</td>\n",
              "      <td>0</td>\n",
              "      <td>18</td>\n",
              "    </tr>\n",
              "    <tr>\n",
              "      <th>3</th>\n",
              "      <td>London</td>\n",
              "      <td>0</td>\n",
              "      <td>9</td>\n",
              "    </tr>\n",
              "    <tr>\n",
              "      <th>4</th>\n",
              "      <td>São Paulo</td>\n",
              "      <td>1</td>\n",
              "      <td>21</td>\n",
              "    </tr>\n",
              "    <tr>\n",
              "      <th>5</th>\n",
              "      <td>Fortaleza</td>\n",
              "      <td>1</td>\n",
              "      <td>29</td>\n",
              "    </tr>\n",
              "    <tr>\n",
              "      <th>6</th>\n",
              "      <td>Montevideo</td>\n",
              "      <td>1</td>\n",
              "      <td>21</td>\n",
              "    </tr>\n",
              "    <tr>\n",
              "      <th>7</th>\n",
              "      <td>London</td>\n",
              "      <td>1</td>\n",
              "      <td>10</td>\n",
              "    </tr>\n",
              "    <tr>\n",
              "      <th>8</th>\n",
              "      <td>São Paulo</td>\n",
              "      <td>2</td>\n",
              "      <td>20</td>\n",
              "    </tr>\n",
              "    <tr>\n",
              "      <th>9</th>\n",
              "      <td>Fortaleza</td>\n",
              "      <td>2</td>\n",
              "      <td>28</td>\n",
              "    </tr>\n",
              "    <tr>\n",
              "      <th>10</th>\n",
              "      <td>Montevideo</td>\n",
              "      <td>2</td>\n",
              "      <td>20</td>\n",
              "    </tr>\n",
              "    <tr>\n",
              "      <th>11</th>\n",
              "      <td>London</td>\n",
              "      <td>2</td>\n",
              "      <td>13</td>\n",
              "    </tr>\n",
              "  </tbody>\n",
              "</table>\n",
              "</div>"
            ],
            "text/plain": [
              "          city day  temperature\n",
              "0    São Paulo   0           23\n",
              "1    Fortaleza   0           30\n",
              "2   Montevideo   0           18\n",
              "3       London   0            9\n",
              "4    São Paulo   1           21\n",
              "5    Fortaleza   1           29\n",
              "6   Montevideo   1           21\n",
              "7       London   1           10\n",
              "8    São Paulo   2           20\n",
              "9    Fortaleza   2           28\n",
              "10  Montevideo   2           20\n",
              "11      London   2           13"
            ]
          },
          "execution_count": 20,
          "metadata": {},
          "output_type": "execute_result"
        }
      ],
      "source": [
        "tabela1"
      ]
    },
    {
      "cell_type": "code",
      "execution_count": null,
      "metadata": {
        "id": "LIvARD0ztfsY",
        "outputId": "4d794929-489d-4c39-ca78-3a059b37fe87"
      },
      "outputs": [
        {
          "data": {
            "text/html": [
              "<div>\n",
              "<style scoped>\n",
              "    .dataframe tbody tr th:only-of-type {\n",
              "        vertical-align: middle;\n",
              "    }\n",
              "\n",
              "    .dataframe tbody tr th {\n",
              "        vertical-align: top;\n",
              "    }\n",
              "\n",
              "    .dataframe thead th {\n",
              "        text-align: right;\n",
              "    }\n",
              "</style>\n",
              "<table border=\"1\" class=\"dataframe\">\n",
              "  <thead>\n",
              "    <tr style=\"text-align: right;\">\n",
              "      <th></th>\n",
              "      <th>city</th>\n",
              "      <th>day</th>\n",
              "      <th>temperature</th>\n",
              "      <th>country</th>\n",
              "    </tr>\n",
              "  </thead>\n",
              "  <tbody>\n",
              "    <tr>\n",
              "      <th>0</th>\n",
              "      <td>São Paulo</td>\n",
              "      <td>0</td>\n",
              "      <td>23</td>\n",
              "      <td>BR</td>\n",
              "    </tr>\n",
              "    <tr>\n",
              "      <th>4</th>\n",
              "      <td>São Paulo</td>\n",
              "      <td>1</td>\n",
              "      <td>21</td>\n",
              "      <td>BR</td>\n",
              "    </tr>\n",
              "    <tr>\n",
              "      <th>8</th>\n",
              "      <td>São Paulo</td>\n",
              "      <td>2</td>\n",
              "      <td>20</td>\n",
              "      <td>BR</td>\n",
              "    </tr>\n",
              "    <tr>\n",
              "      <th>1</th>\n",
              "      <td>Fortaleza</td>\n",
              "      <td>0</td>\n",
              "      <td>30</td>\n",
              "      <td>BR</td>\n",
              "    </tr>\n",
              "    <tr>\n",
              "      <th>5</th>\n",
              "      <td>Fortaleza</td>\n",
              "      <td>1</td>\n",
              "      <td>29</td>\n",
              "      <td>BR</td>\n",
              "    </tr>\n",
              "    <tr>\n",
              "      <th>9</th>\n",
              "      <td>Fortaleza</td>\n",
              "      <td>2</td>\n",
              "      <td>28</td>\n",
              "      <td>BR</td>\n",
              "    </tr>\n",
              "    <tr>\n",
              "      <th>2</th>\n",
              "      <td>Montevideo</td>\n",
              "      <td>0</td>\n",
              "      <td>18</td>\n",
              "      <td>UR</td>\n",
              "    </tr>\n",
              "    <tr>\n",
              "      <th>6</th>\n",
              "      <td>Montevideo</td>\n",
              "      <td>1</td>\n",
              "      <td>21</td>\n",
              "      <td>UR</td>\n",
              "    </tr>\n",
              "    <tr>\n",
              "      <th>10</th>\n",
              "      <td>Montevideo</td>\n",
              "      <td>2</td>\n",
              "      <td>20</td>\n",
              "      <td>UR</td>\n",
              "    </tr>\n",
              "    <tr>\n",
              "      <th>3</th>\n",
              "      <td>London</td>\n",
              "      <td>0</td>\n",
              "      <td>9</td>\n",
              "      <td>NaN</td>\n",
              "    </tr>\n",
              "    <tr>\n",
              "      <th>7</th>\n",
              "      <td>London</td>\n",
              "      <td>1</td>\n",
              "      <td>10</td>\n",
              "      <td>NaN</td>\n",
              "    </tr>\n",
              "    <tr>\n",
              "      <th>11</th>\n",
              "      <td>London</td>\n",
              "      <td>2</td>\n",
              "      <td>13</td>\n",
              "      <td>NaN</td>\n",
              "    </tr>\n",
              "  </tbody>\n",
              "</table>\n",
              "</div>"
            ],
            "text/plain": [
              "          city day  temperature country\n",
              "0    São Paulo   0           23      BR\n",
              "4    São Paulo   1           21      BR\n",
              "8    São Paulo   2           20      BR\n",
              "1    Fortaleza   0           30      BR\n",
              "5    Fortaleza   1           29      BR\n",
              "9    Fortaleza   2           28      BR\n",
              "2   Montevideo   0           18      UR\n",
              "6   Montevideo   1           21      UR\n",
              "10  Montevideo   2           20      UR\n",
              "3       London   0            9     NaN\n",
              "7       London   1           10     NaN\n",
              "11      London   2           13     NaN"
            ]
          },
          "execution_count": 29,
          "metadata": {},
          "output_type": "execute_result"
        }
      ],
      "source": [
        "# Merge utilizando a coluna \"city\" da tabela 1 (de temperaturas) e os índices em dcity\n",
        "pd.merge(tabela1, dcity, left_on='city', right_index=True, how='outer')"
      ]
    },
    {
      "cell_type": "markdown",
      "metadata": {
        "id": "Djes8C8Cftir"
      },
      "source": [
        "Se não especificarmos união (`outer`), apenas ocorrências de valores em ambos será considerada"
      ]
    },
    {
      "cell_type": "code",
      "execution_count": null,
      "metadata": {
        "id": "feAzdcMxtfsf",
        "outputId": "e70e813b-cc02-4ebd-8116-40d798f17187"
      },
      "outputs": [
        {
          "data": {
            "text/html": [
              "<div>\n",
              "<style scoped>\n",
              "    .dataframe tbody tr th:only-of-type {\n",
              "        vertical-align: middle;\n",
              "    }\n",
              "\n",
              "    .dataframe tbody tr th {\n",
              "        vertical-align: top;\n",
              "    }\n",
              "\n",
              "    .dataframe thead th {\n",
              "        text-align: right;\n",
              "    }\n",
              "</style>\n",
              "<table border=\"1\" class=\"dataframe\">\n",
              "  <thead>\n",
              "    <tr style=\"text-align: right;\">\n",
              "      <th></th>\n",
              "      <th>city</th>\n",
              "      <th>day</th>\n",
              "      <th>temperature</th>\n",
              "      <th>country</th>\n",
              "    </tr>\n",
              "  </thead>\n",
              "  <tbody>\n",
              "    <tr>\n",
              "      <th>0</th>\n",
              "      <td>São Paulo</td>\n",
              "      <td>0</td>\n",
              "      <td>23</td>\n",
              "      <td>BR</td>\n",
              "    </tr>\n",
              "    <tr>\n",
              "      <th>4</th>\n",
              "      <td>São Paulo</td>\n",
              "      <td>1</td>\n",
              "      <td>21</td>\n",
              "      <td>BR</td>\n",
              "    </tr>\n",
              "    <tr>\n",
              "      <th>8</th>\n",
              "      <td>São Paulo</td>\n",
              "      <td>2</td>\n",
              "      <td>20</td>\n",
              "      <td>BR</td>\n",
              "    </tr>\n",
              "    <tr>\n",
              "      <th>1</th>\n",
              "      <td>Fortaleza</td>\n",
              "      <td>0</td>\n",
              "      <td>30</td>\n",
              "      <td>BR</td>\n",
              "    </tr>\n",
              "    <tr>\n",
              "      <th>5</th>\n",
              "      <td>Fortaleza</td>\n",
              "      <td>1</td>\n",
              "      <td>29</td>\n",
              "      <td>BR</td>\n",
              "    </tr>\n",
              "    <tr>\n",
              "      <th>9</th>\n",
              "      <td>Fortaleza</td>\n",
              "      <td>2</td>\n",
              "      <td>28</td>\n",
              "      <td>BR</td>\n",
              "    </tr>\n",
              "    <tr>\n",
              "      <th>2</th>\n",
              "      <td>Montevideo</td>\n",
              "      <td>0</td>\n",
              "      <td>18</td>\n",
              "      <td>UR</td>\n",
              "    </tr>\n",
              "    <tr>\n",
              "      <th>6</th>\n",
              "      <td>Montevideo</td>\n",
              "      <td>1</td>\n",
              "      <td>21</td>\n",
              "      <td>UR</td>\n",
              "    </tr>\n",
              "    <tr>\n",
              "      <th>10</th>\n",
              "      <td>Montevideo</td>\n",
              "      <td>2</td>\n",
              "      <td>20</td>\n",
              "      <td>UR</td>\n",
              "    </tr>\n",
              "  </tbody>\n",
              "</table>\n",
              "</div>"
            ],
            "text/plain": [
              "          city day  temperature country\n",
              "0    São Paulo   0           23      BR\n",
              "4    São Paulo   1           21      BR\n",
              "8    São Paulo   2           20      BR\n",
              "1    Fortaleza   0           30      BR\n",
              "5    Fortaleza   1           29      BR\n",
              "9    Fortaleza   2           28      BR\n",
              "2   Montevideo   0           18      UR\n",
              "6   Montevideo   1           21      UR\n",
              "10  Montevideo   2           20      UR"
            ]
          },
          "execution_count": 22,
          "metadata": {},
          "output_type": "execute_result"
        }
      ],
      "source": [
        "pd.merge(tabela1, dcity, left_on='city', right_index=True)"
      ]
    },
    {
      "cell_type": "markdown",
      "metadata": {
        "id": "lvSWrrNStfsj"
      },
      "source": [
        "### `concat`\n",
        "\n",
        "Concatena DataFrames e/ou Series nas direções:\n",
        "- __axis = 0__ concatena por linhas\n",
        "- __axis = 1__ concatena por colunas. Quando empregado em um conjunto de séries resulta em um DataFrame\n",
        "\n",
        "O método assume como parâmetro uma lista de DataFrames ou séries."
      ]
    },
    {
      "cell_type": "code",
      "execution_count": null,
      "metadata": {
        "id": "syLh1awitfsk",
        "outputId": "52f260c5-09b8-4afb-efac-4d58c80802b9"
      },
      "outputs": [
        {
          "name": "stdout",
          "output_type": "stream",
          "text": [
            "a    0\n",
            "b    1\n",
            "dtype: int64\n",
            "a    2\n",
            "c    3\n",
            "d    4\n",
            "dtype: int64\n",
            "a    1\n",
            "b    5\n",
            "e    6\n",
            "dtype: int64\n"
          ]
        }
      ],
      "source": [
        "# Construindo 3 séries especificando os rótulos das linhas\n",
        "s1 = pd.Series([0, 1], index=['a', 'b'])\n",
        "s2 = pd.Series([2, 3, 4], index=['a', 'c', 'd'])\n",
        "s3 = pd.Series([1, 5, 6], index=['a','b', 'e'])\n",
        "print(s1)\n",
        "print(s2)\n",
        "print(s3)\n",
        "\n",
        "# Contatenando as 3 séries na vertical\n",
        "# o resultado é uma nova série (rótulos podem estar repetidos)\n",
        "serie1 = pd.concat([s1,s2,s3])"
      ]
    },
    {
      "cell_type": "code",
      "execution_count": null,
      "metadata": {
        "id": "DFnc8K43ftis",
        "outputId": "ba074b55-6b8b-4907-d61a-59d0fee31406"
      },
      "outputs": [
        {
          "data": {
            "text/plain": [
              "a    0\n",
              "b    1\n",
              "a    2\n",
              "c    3\n",
              "d    4\n",
              "a    1\n",
              "b    5\n",
              "e    6\n",
              "dtype: int64"
            ]
          },
          "execution_count": 24,
          "metadata": {},
          "output_type": "execute_result"
        }
      ],
      "source": [
        "serie1"
      ]
    },
    {
      "cell_type": "code",
      "execution_count": null,
      "metadata": {
        "id": "T08QqqBLtfsn",
        "outputId": "a9ea9cf0-f714-40c3-9f22-eb5a1f0a97d0"
      },
      "outputs": [
        {
          "name": "stdout",
          "output_type": "stream",
          "text": [
            "     0    1    2\n",
            "a  0.0  2.0  1.0\n",
            "b  1.0  NaN  5.0\n",
            "c  NaN  3.0  NaN\n",
            "d  NaN  4.0  NaN\n",
            "e  NaN  NaN  6.0\n"
          ]
        }
      ],
      "source": [
        "# concatenando as 3 séries por colunas especificando o parâmetro 'axis=1'\n",
        "# o resutado é um DataFrame\n",
        "print(pd.concat([s1,s2,s3],axis=1))"
      ]
    },
    {
      "cell_type": "code",
      "execution_count": null,
      "metadata": {
        "id": "s9yp8aKmftis",
        "outputId": "41770e21-715f-44ca-c25c-3e76742ef3a0"
      },
      "outputs": [
        {
          "name": "stdout",
          "output_type": "stream",
          "text": [
            "          city  day  temperature        city  day  temperature\n",
            "0    São Paulo    0         23.0   São Paulo    3           25\n",
            "1    Fortaleza    0         30.0   Fortaleza    3           35\n",
            "2   Montevideo    0         18.0  Montevideo    3           20\n",
            "3       London    0          9.0      London    3           14\n",
            "4    São Paulo    1         21.0   São Paulo    4           27\n",
            "5    Fortaleza    1         29.0   Fortaleza    4           32\n",
            "6   Montevideo    1         21.0  Montevideo    4           18\n",
            "7       London    1         10.0      London    4           15\n",
            "8    São Paulo    2         20.0   São Paulo    5           23\n",
            "9    Fortaleza    2         28.0   Fortaleza    5           31\n",
            "10  Montevideo    2         20.0  Montevideo    5           21\n",
            "11      London    2         13.0      London    5           12\n",
            "12         NaN  NaN          NaN   São Paulo    6           25\n",
            "13         NaN  NaN          NaN   Fortaleza    6           29\n",
            "14         NaN  NaN          NaN  Montevideo    6           23\n",
            "15         NaN  NaN          NaN      London    6           13\n"
          ]
        }
      ],
      "source": [
        "print(pd.concat([tabela1,tabela2], axis=1))"
      ]
    },
    {
      "cell_type": "code",
      "execution_count": null,
      "metadata": {
        "id": "hzipSkDjftis",
        "outputId": "6e75a194-70ec-4147-d9f1-1a2485d7d6c1"
      },
      "outputs": [
        {
          "name": "stdout",
          "output_type": "stream",
          "text": [
            "          city day  temperature\n",
            "0    São Paulo   0           23\n",
            "1    Fortaleza   0           30\n",
            "2   Montevideo   0           18\n",
            "3       London   0            9\n",
            "4    São Paulo   1           21\n",
            "5    Fortaleza   1           29\n",
            "6   Montevideo   1           21\n",
            "7       London   1           10\n",
            "8    São Paulo   2           20\n",
            "9    Fortaleza   2           28\n",
            "10  Montevideo   2           20\n",
            "11      London   2           13\n",
            "0    São Paulo   3           25\n",
            "1    Fortaleza   3           35\n",
            "2   Montevideo   3           20\n",
            "3       London   3           14\n",
            "4    São Paulo   4           27\n",
            "5    Fortaleza   4           32\n",
            "6   Montevideo   4           18\n",
            "7       London   4           15\n",
            "8    São Paulo   5           23\n",
            "9    Fortaleza   5           31\n",
            "10  Montevideo   5           21\n",
            "11      London   5           12\n",
            "12   São Paulo   6           25\n",
            "13   Fortaleza   6           29\n",
            "14  Montevideo   6           23\n",
            "15      London   6           13\n"
          ]
        }
      ],
      "source": [
        "tabela_temperaturas = pd.concat([tabela1,tabela2],axis=0)\n",
        "#tabela_temperaturas = tabela_temperaturas.reset_index()\n",
        "#del(tabela_temperaturas['index'])\n",
        "print(tabela_temperaturas)"
      ]
    },
    {
      "cell_type": "markdown",
      "metadata": {
        "id": "_8zHA5Uoftis"
      },
      "source": [
        "---\n",
        "\n",
        "#### <font color=\"blue\">Exercício 2.8</font>\n",
        "\n",
        "Carregue os arquivos `sales1.csv`, `sales1_shipdate.csv`  e `sales2.csv`, os quais possuem informações de vendas realizadas. Devemos juntar as bases de dados e tratá-las.\n",
        "\n",
        "O arquivo `sales1_shipdate.csv` contém as datas de envio das ordens na `sales1.csv`. Já `sales2.csv` contém essa coluna no próprio arquivo\n",
        "\n",
        "Para isso:\n",
        "\n",
        "1. Combine as bases de dados, consolidando-as em um único DataFrame\n",
        "2. Exiba na tela quais atributos possuem dados faltantes após a concatenação\n",
        "    * Sabendo que `Total Revenue` é a multiplicação do preço unitário pela quantidade de unidades, preencha os valores faltantes dessa coluna\n",
        "3. Detecte linhas duplicadas. Remova duplicatas, mantendo a primeira ocorrência, e imprima na tela quantas linhas foram removidas"
      ]
    },
    {
      "cell_type": "markdown",
      "metadata": {
        "id": "s14ARHJoyWVD"
      },
      "source": [
        "# <font color=\"red\">Resumo da aula</font>\n",
        "\n",
        "### <span style=\"color:red\">- Preparação de dados</span>"
      ]
    }
  ],
  "metadata": {
    "colab": {
      "collapsed_sections": [
        "B3fWe40BtfsC",
        "-2e7e96BtfsW"
      ],
      "provenance": [],
      "include_colab_link": true
    },
    "kernelspec": {
      "display_name": "Python 3",
      "language": "python",
      "name": "python3"
    },
    "language_info": {
      "codemirror_mode": {
        "name": "ipython",
        "version": 3
      },
      "file_extension": ".py",
      "mimetype": "text/x-python",
      "name": "python",
      "nbconvert_exporter": "python",
      "pygments_lexer": "ipython3",
      "version": "3.11.5"
    },
    "toc": {
      "base_numbering": 1,
      "nav_menu": {},
      "number_sections": true,
      "sideBar": true,
      "skip_h1_title": false,
      "title_cell": "Table of Contents",
      "title_sidebar": "Contents",
      "toc_cell": false,
      "toc_position": {},
      "toc_section_display": true,
      "toc_window_display": false
    }
  },
  "nbformat": 4,
  "nbformat_minor": 0
}