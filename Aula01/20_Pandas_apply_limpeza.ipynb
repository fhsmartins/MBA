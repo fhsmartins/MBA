{
  "cells": [
    {
      "cell_type": "markdown",
      "metadata": {
        "id": "view-in-github",
        "colab_type": "text"
      },
      "source": [
        "<a href=\"https://colab.research.google.com/github/fhsmartins/MBA/blob/main/Aula01/20_Pandas_apply_limpeza.ipynb\" target=\"_parent\"><img src=\"https://colab.research.google.com/assets/colab-badge.svg\" alt=\"Open In Colab\"/></a>"
      ]
    },
    {
      "cell_type": "markdown",
      "metadata": {
        "id": "fp1KQp06tfoY"
      },
      "source": [
        "# <font color=\"red\"> MBA em IA e Big Data</font>\n",
        "## <span style=\"color:red\">Linguagens e Ferramentas para Inteligência Artificial e Big Data (Python e SQL)</span>\n",
        "\n",
        "### <span style=\"color:darkred\">Python - Aula 20</span>\n",
        "\n",
        "*Leandro Franco de Souza*<br>\n",
        "*ICMC/USP São Carlos*\n",
        "\n",
        "*(com material dos Profs. Moacir Antonelli Ponti e Luis Gustavo Nonato)*"
      ]
    },
    {
      "cell_type": "markdown",
      "metadata": {
        "id": "HN-44yqxtfoc"
      },
      "source": [
        "# <font color=\"red\"> Conteúdo:</font>\n",
        "\n",
        "### <span style=\"color:red\">- Transformações com *apply*, *map* e *applymap*</span>\n",
        "### <span style=\"color:red\">- Limpeza de dados</span>\n",
        "\n",
        "__Referências__ <br>\n",
        "- McKinney, W. and PyData Development Team [Pandas: powerful Python data analysis toolkit](https://pandas.pydata.org/pandas-docs/stable/pandas.pdf)\n",
        "- Documentação Pandas [http://pandas.pydata.org/pandas-docs/stable/index.html](http://pandas.pydata.org/pandas-docs/stable/index.html)\n",
        "- Wickham, H. Tidy data: https://vita.had.co.nz/papers/tidy-data.pdf"
      ]
    },
    {
      "cell_type": "markdown",
      "metadata": {
        "id": "wtMy8bm3ftie"
      },
      "source": [
        "---\n",
        "# Transformações com `apply`, `map` e `applymap`\n",
        "\n",
        "* `apply` aplica uma função ao longo de linhas (axis=0) ou colunas (axis=1) de um DataFrame\n",
        "* `map` aplica uma função em cada elemento de uma Serie\n",
        "* `applymap` aplica uma função em cada elemento de um DataFrame"
      ]
    },
    {
      "cell_type": "code",
      "execution_count": null,
      "metadata": {
        "id": "YFggobTLftie"
      },
      "outputs": [],
      "source": [
        "import pandas as pd\n",
        "import numpy as np\n",
        "dtips = pd.read_csv('tips.csv')\n",
        "dtips"
      ]
    },
    {
      "cell_type": "code",
      "execution_count": null,
      "metadata": {
        "id": "rPr6nevlftif"
      },
      "outputs": [],
      "source": [
        "# soma das contas e gorjetas ao longo das linhas\n",
        "dtips[['total_bill','tip']].apply(np.sum)"
      ]
    },
    {
      "cell_type": "code",
      "execution_count": null,
      "metadata": {
        "id": "fD-J6AOxftif"
      },
      "outputs": [],
      "source": [
        "# soma da conta e gorjeta ao longo das colunas (total do dia)\n",
        "dtips[['total_bill','tip']].apply(np.sum, axis=1)"
      ]
    },
    {
      "cell_type": "code",
      "execution_count": null,
      "metadata": {
        "id": "KpnZxWC-ftif"
      },
      "outputs": [],
      "source": [
        "# criando coluna com gorjeta média por pessoa na mesa\n",
        "dtips['tip_perperson'] = dtips.apply(lambda x: np.round(x['tip']/x['size'],2), axis=1)\n",
        "dtips"
      ]
    },
    {
      "cell_type": "code",
      "execution_count": null,
      "metadata": {
        "id": "SMJbHaBzftif",
        "scrolled": true
      },
      "outputs": [],
      "source": [
        "dtips[['total_bill','tip']].applymap(np.round)"
      ]
    },
    {
      "cell_type": "code",
      "execution_count": null,
      "metadata": {
        "id": "53JVXsuLftif"
      },
      "outputs": [],
      "source": [
        "dtips['total_bill'].map(np.round)"
      ]
    },
    {
      "cell_type": "markdown",
      "metadata": {
        "id": "EM6E4615ftig"
      },
      "source": [
        "---\n",
        "# Limpeza de dados\n",
        "\n",
        "## Tratando dados faltantes e duplicados"
      ]
    },
    {
      "cell_type": "markdown",
      "metadata": {
        "id": "kXuf8x6qftig"
      },
      "source": [
        "Esse dataset traz valores **faltantes**\n",
        "\n",
        "Por padrão, esses serão carregados como sendo valores `NaN` do `numpy`\n",
        "\n",
        "É preciso investigá-los pois eles são apenas ignorados pela maioria das funções"
      ]
    },
    {
      "cell_type": "code",
      "execution_count": null,
      "metadata": {
        "id": "OApQZso0ftig"
      },
      "outputs": [],
      "source": [
        "dtips = pd.read_csv('tips.csv')\n",
        "\n",
        "pd.isna(dtips)\n",
        "\n",
        "np.any(pd.isna(dtips))"
      ]
    },
    {
      "cell_type": "markdown",
      "metadata": {
        "id": "S85bepxyftig"
      },
      "source": [
        "### Percorrendo colunas\n",
        "\n",
        "Por padrão a iteração é por linhas, vamos iterar pelas colunas procurando onde há dados faltantes"
      ]
    },
    {
      "cell_type": "code",
      "execution_count": null,
      "metadata": {
        "id": "C71ElSMBftig"
      },
      "outputs": [],
      "source": [
        "print('Dados faltantes em:')\n",
        "for (colName, colData) in dtips.items():\n",
        "    if (np.any(pd.isna(colData))):\n",
        "        print(colName)"
      ]
    },
    {
      "cell_type": "markdown",
      "metadata": {
        "id": "ypjZc6P0ftih"
      },
      "source": [
        "Para filtrar especificamente os valores `NaN` há algumas opções, em particular `isna()`  combinado com `any(axis=1)` para verificar todas as colunas"
      ]
    },
    {
      "cell_type": "code",
      "execution_count": null,
      "metadata": {
        "id": "N4g6Bseuftih"
      },
      "outputs": [],
      "source": [
        "np.any(dtips.isna(),axis=1)"
      ]
    },
    {
      "cell_type": "code",
      "execution_count": null,
      "metadata": {
        "id": "IY0t-Qj3ftih",
        "scrolled": true
      },
      "outputs": [],
      "source": [
        "dtips.loc[np.any(dtips.isna(),axis=1)]"
      ]
    },
    {
      "cell_type": "markdown",
      "metadata": {
        "id": "co5rqM7mtfqK"
      },
      "source": [
        "### `dropna`\n",
        "\n",
        "Remove todas as linhas ou colunas onde dados faltantes aparecem.\n",
        "\n",
        "* `axis` define se linhas (padrão, 0) ou colunas (1)"
      ]
    },
    {
      "cell_type": "code",
      "execution_count": null,
      "metadata": {
        "id": "Ih-OtZK_ftih"
      },
      "outputs": [],
      "source": [
        "print(dtips.shape)"
      ]
    },
    {
      "cell_type": "code",
      "execution_count": null,
      "metadata": {
        "id": "pTLEbuDqtfqM"
      },
      "outputs": [],
      "source": [
        "dtips_na_rows = dtips.dropna()\n",
        "print(dtips_na_rows.shape)"
      ]
    },
    {
      "cell_type": "code",
      "execution_count": null,
      "metadata": {
        "id": "JYFkD_6Aftii"
      },
      "outputs": [],
      "source": [
        "dtips_na_cols = dtips.dropna(axis=1)\n",
        "print(dtips_na_cols.shape)"
      ]
    },
    {
      "cell_type": "markdown",
      "metadata": {
        "id": "0u9MV2KLtfqf"
      },
      "source": [
        "### `fillna`\n",
        "\n",
        "Substituir dados faltantes por algum valor"
      ]
    },
    {
      "cell_type": "code",
      "execution_count": null,
      "metadata": {
        "id": "DQkBwkEYftii"
      },
      "outputs": [],
      "source": [
        "dtips.loc[np.any(dtips.isna(),axis=1)]"
      ]
    },
    {
      "cell_type": "code",
      "execution_count": null,
      "metadata": {
        "id": "5F8pimt6tfqh",
        "scrolled": true
      },
      "outputs": [],
      "source": [
        "dtips_fill1 = dtips.fillna(0)\n",
        "\n",
        "# mostrando dados preenchidos, filtrando pelos do dataframe com nans\n",
        "dtips_fill1.loc[np.any(dtips.isna(),axis=1)]"
      ]
    },
    {
      "cell_type": "markdown",
      "metadata": {
        "id": "FBb2C0SGftii"
      },
      "source": [
        "Preenchimento diferenciado por colunas pode ser feito com dicionário"
      ]
    },
    {
      "cell_type": "code",
      "execution_count": null,
      "metadata": {
        "id": "nJRvbIgjtfqr"
      },
      "outputs": [],
      "source": [
        "filldic = {'total_bill':-1, 'tip': 0}\n",
        "\n",
        "dtips_fill2 = dtips.fillna(filldic)\n",
        "dtips_fill2.loc[np.any(dtips.isna(),axis=1)]"
      ]
    },
    {
      "cell_type": "markdown",
      "metadata": {
        "id": "QXiB_Z_1ftij"
      },
      "source": [
        "### `duplicated`, `drop_duplicates()`\n",
        "\n",
        "Lida com linhas duplicados retorando `True` se detectada duplicação."
      ]
    },
    {
      "cell_type": "code",
      "execution_count": null,
      "metadata": {
        "id": "NxNXKyYZftij"
      },
      "outputs": [],
      "source": [
        "print(dtips.duplicated())\n",
        "print('\\n',dtips.duplicated().any())"
      ]
    },
    {
      "cell_type": "markdown",
      "metadata": {
        "id": "gM-GrCPhftij"
      },
      "source": [
        "- parâmetro `keep`:\n",
        "    - False: retorna `True` para todas as duplicatas\n",
        "    - first: a primeira não é detectada\n",
        "    - last: a última não é detectada    "
      ]
    },
    {
      "cell_type": "code",
      "execution_count": null,
      "metadata": {
        "id": "7_mFD4Rkftij"
      },
      "outputs": [],
      "source": [
        "dtips[dtips.duplicated(keep=False)]"
      ]
    },
    {
      "cell_type": "code",
      "execution_count": null,
      "metadata": {
        "id": "Bph98_7aftij"
      },
      "outputs": [],
      "source": [
        "dtips[dtips.duplicated(keep='first')]"
      ]
    },
    {
      "cell_type": "code",
      "execution_count": null,
      "metadata": {
        "id": "SWJ-0q78ftik",
        "scrolled": true
      },
      "outputs": [],
      "source": [
        "dtips[dtips.duplicated(keep='last')]"
      ]
    },
    {
      "cell_type": "markdown",
      "metadata": {
        "id": "v3qEI58Xftik"
      },
      "source": [
        "Para remover usamos `drop_duplicates()` valendo o mesmo parâmetro `keep`"
      ]
    },
    {
      "cell_type": "code",
      "execution_count": null,
      "metadata": {
        "id": "Gqr2cJLsftik"
      },
      "outputs": [],
      "source": [
        "dtips_first = dtips.drop_duplicates(keep='first')\n",
        "dtips_last = dtips.drop_duplicates(keep='last')\n",
        "\n",
        "# notar que foram removidos índices diferentes!\n",
        "print(dtips_first.iloc[217:225])\n",
        "print(dtips_last.iloc[217:225])"
      ]
    },
    {
      "cell_type": "code",
      "execution_count": null,
      "metadata": {
        "id": "ChkgmUTpftik"
      },
      "outputs": [],
      "source": [
        "# nesses casos pode ser útil resetar os índices novamente!\n",
        "dtips_first = dtips_first.reset_index()"
      ]
    },
    {
      "cell_type": "code",
      "execution_count": null,
      "metadata": {
        "id": "8nnhWebvftik"
      },
      "outputs": [],
      "source": [
        "print(dtips_first.iloc[217:225])"
      ]
    },
    {
      "cell_type": "markdown",
      "metadata": {
        "id": "3ygsb5_Hx9bR"
      },
      "source": [
        "# <font color=\"red\">Resumo da aula</font>\n",
        "\n",
        "### <span style=\"color:red\">- Transformações com *apply*, *map* e *applymap*</span>\n",
        "### <span style=\"color:red\">- Limpeza de dados</span>"
      ]
    }
  ],
  "metadata": {
    "colab": {
      "collapsed_sections": [
        "B3fWe40BtfsC",
        "-2e7e96BtfsW"
      ],
      "provenance": [],
      "include_colab_link": true
    },
    "kernelspec": {
      "display_name": "Python 3",
      "language": "python",
      "name": "python3"
    },
    "language_info": {
      "codemirror_mode": {
        "name": "ipython",
        "version": 3
      },
      "file_extension": ".py",
      "mimetype": "text/x-python",
      "name": "python",
      "nbconvert_exporter": "python",
      "pygments_lexer": "ipython3",
      "version": "3.10.12"
    },
    "toc": {
      "base_numbering": 1,
      "nav_menu": {},
      "number_sections": true,
      "sideBar": true,
      "skip_h1_title": false,
      "title_cell": "Table of Contents",
      "title_sidebar": "Contents",
      "toc_cell": false,
      "toc_position": {},
      "toc_section_display": true,
      "toc_window_display": false
    }
  },
  "nbformat": 4,
  "nbformat_minor": 0
}