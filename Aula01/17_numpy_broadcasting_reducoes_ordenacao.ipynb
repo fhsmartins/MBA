{
  "cells": [
    {
      "cell_type": "markdown",
      "metadata": {
        "id": "view-in-github",
        "colab_type": "text"
      },
      "source": [
        "<a href=\"https://colab.research.google.com/github/fhsmartins/MBA/blob/main/Aula01/17_numpy_broadcasting_reducoes_ordenacao.ipynb\" target=\"_parent\"><img src=\"https://colab.research.google.com/assets/colab-badge.svg\" alt=\"Open In Colab\"/></a>"
      ]
    },
    {
      "cell_type": "markdown",
      "metadata": {
        "id": "7JmD-2NDTtR-"
      },
      "source": [
        "# <font color=\"red\"> MBA em IA e Big Data</font>\n",
        "## <span style=\"color:red\">Linguagens e Ferramentas para Inteligência Artificial e Big Data (Python e SQL)</span>\n",
        "\n",
        "### <span style=\"color:darkred\">Python - Aula 17</span>\n",
        "\n",
        "*Leandro Franco de Souza*<br>\n",
        "*ICMC/USP São Carlos*\n",
        "\n",
        "*(com material dos Profs. Moacir Antonelli Ponti e Luis Gustavo Nonato)*"
      ]
    },
    {
      "cell_type": "markdown",
      "metadata": {
        "id": "6wQg5Q-lTtSE"
      },
      "source": [
        "# <font color=\"red\"> Conteúdo:</font>\n",
        "\n",
        "### <span style=\"color:red\">- Modulo: Numpy</span>\n",
        "### <span style=\"color:red\">- *Broadcasting*</span>\n",
        "### <span style=\"color:red\">- Operadores relacionais</span>\n",
        "### <span style=\"color:red\">- Redução</span>\n",
        "### <span style=\"color:red\">- Ordenação (*sort*)</span>\n",
        "### <span style=\"color:red\">- Aritmética vetorial e matricial</span>"
      ]
    },
    {
      "cell_type": "markdown",
      "metadata": {
        "id": "Akb2qd_yTtSM"
      },
      "source": [
        "# Broadcasting (extensão)\n",
        "\n",
        "Garante eficiência computacional por extensão de arrays\n",
        "- operações aritméticas: soma, subtração, multiplicação e divisão) são feitas elemento a elemento (*element-wise*)\n",
        "- __broadcasting__ transforma os operandos de modo que tenham as mesmas dimensões"
      ]
    },
    {
      "cell_type": "markdown",
      "metadata": {
        "id": "XaP6VFaeTtSP"
      },
      "source": [
        "### Operações entre um array e um escalar"
      ]
    },
    {
      "cell_type": "markdown",
      "metadata": {
        "id": "UXiLTghxTtSU"
      },
      "source": [
        "Ao operar um escalar `s` e um array `A`, `numpy` replica o escalar em um array com a mesma dimensão de A\n",
        "\n",
        "Abaixo, a matriz `A` é somada com o escalar `3`.\n",
        "\n",
        "O __broadcasting__ replica o escalar um array 5x5 e então os dois arrays são somados elemento a elemento.\n",
        "```python\n",
        "A = np.arange(25).reshape(5,5) # matriz 5x5\n",
        "s = 3                          # escalar\n",
        "B = s+A                        # matriz 5x5\n",
        "```\n",
        "$$\n",
        "B = s + A = \\left[\\begin{array}{ccccc}\n",
        "3 & 3 & 3 & 3 & 3\\\\\n",
        "3 & 3 & 3 & 3 & 3\\\\\n",
        "3 & 3 & 3 & 3 & 3\\\\\n",
        "3 & 3 & 3 & 3 & 3\\\\\n",
        "3 & 3 & 3 & 3 & 3\n",
        "\\end{array}\\right] +\n",
        "\\left[\\begin{array}{ccccc}\n",
        "0  & 1 & 2 & 3 & 4 \\\\\n",
        "5  & 6 & 7 & 8 & 9\\\\\n",
        "10 & 11 & 12 & 13 & 14\\\\\n",
        "15 & 16 & 17 & 18 & 19\\\\\n",
        "20 & 21 & 22 & 23 & 24\n",
        "\\end{array}\\right]\n",
        "$$"
      ]
    },
    {
      "cell_type": "code",
      "execution_count": null,
      "metadata": {
        "id": "cgIoikR7TtSW"
      },
      "outputs": [],
      "source": [
        "import numpy as np\n",
        "\n",
        "# Cria uma matriz 5x5 com números aleatórios\n",
        "A = np.arange(25).reshape(5,5)\n",
        "\n",
        "# define um escalar\n",
        "s = 3\n",
        "\n",
        "# O opeador \"+\" é aplicado elemento por elemento (caso contrário não seria definido)\n",
        "B = s + A\n",
        "\n",
        "print(A,'\\n')\n",
        "print(B)"
      ]
    },
    {
      "cell_type": "markdown",
      "metadata": {
        "id": "sEtVwSHBTtSl"
      },
      "source": [
        "#### Operações entre arrays\n",
        "Em pares de arrays também ocorre extensão, porém restrições devem ser respeitadas:\n",
        "- Os dois arrays devem possuir dimensões compatíveis em algum(s) dos eixos\n",
        "- O broadcasting é aplicado nos demais eixos para que ambos os arrays tenham as mesmas dimensões\n",
        "```python\n",
        "A = np.arange(25).reshape(5,5) # matriz 5x5\n",
        "v = np.arange(5)               # array com 5 elementos\n",
        "B = v*A                        # matriz 5x5\n",
        "```\n",
        "$$\n",
        "B = v * A\n",
        "$$\n",
        "\n",
        "$$\n",
        "\\downarrow\n",
        "$$\n",
        "\n",
        "$$\n",
        "\\left[\\begin{array}{ccccc}\n",
        "0  & 1 & 2 & 3 & 4\n",
        "\\end{array}\\right] *\n",
        "\\left[\\begin{array}{ccccc}\n",
        "0  & 1 & 2 & 3 & 4 \\\\\n",
        "5  & 6 & 7 & 8 & 9\\\\\n",
        "10 & 11 & 12 & 13 & 14\\\\\n",
        "15 & 16 & 17 & 18 & 19\\\\\n",
        "20 & 21 & 22 & 23 & 24\n",
        "\\end{array}\\right]\n",
        "$$\n",
        "\n",
        "$$\n",
        "\\downarrow\n",
        "$$\n",
        "\n",
        "$$\n",
        "\\left[\\begin{array}{ccccc}\n",
        "0  & 1 & 2 & 3 & 4\\\\\n",
        "0  & 1 & 2 & 3 & 4\\\\\n",
        "0  & 1 & 2 & 3 & 4\\\\\n",
        "0  & 1 & 2 & 3 & 4\\\\\n",
        "0  & 1 & 2 & 3 & 4\n",
        "\\end{array}\\right] *\n",
        "\\left[\\begin{array}{ccccc}\n",
        "0  & 1 & 2 & 3 & 4 \\\\\n",
        "5  & 6 & 7 & 8 & 9\\\\\n",
        "10 & 11 & 12 & 13 & 14\\\\\n",
        "15 & 16 & 17 & 18 & 19\\\\\n",
        "20 & 21 & 22 & 23 & 24\n",
        "\\end{array}\\right]\n",
        "$$\n",
        "\n",
        "__Cuidado__: o operador `*` corresponde a uma multiplicação elemento por elemento, e *não* uma multiplicação matricial."
      ]
    },
    {
      "cell_type": "code",
      "execution_count": null,
      "metadata": {
        "id": "YZ9nvlbSTtSo"
      },
      "outputs": [],
      "source": [
        "A = np.arange(25).reshape(5,5) # matriz 5x5\n",
        "print('Matriz A:', A.shape)\n",
        "\n",
        "v = np.arange(5)  # array com 5 elementos\n",
        "                  # como a segunda dimensão não foi especificada, \"v\" é interpretado\n",
        "                  # como um sendo 1x5 (uma linha e 5 colunas)\n",
        "\n",
        "print('Array \"v\": ', v.shape)\n",
        "print('OBS: a segunda dimensão de \"v\" é livre ')\n",
        "\n",
        "# A operação \"*\" é realizada elemento a elemento,\n",
        "# - estendendo o array \"v\" para gerar novas linhas\n",
        "B = v * A\n",
        "\n",
        "print(5*'---')\n",
        "print('v = \\n',v)\n",
        "print('A = \\n',A)\n",
        "print('B = \\n',B)"
      ]
    },
    {
      "cell_type": "markdown",
      "metadata": {
        "id": "uqQFqHadTtSu"
      },
      "source": [
        "__Broadcasting__ é feito nas colunas quando temos um array coluna\n",
        "```python\n",
        "v = np.arange(5).reshape(5,1) # array com 5 elementos 5 x 1\n",
        "                              # i.e. 5 linhas e uma coluna\n",
        "```\n",
        "$$\n",
        "B = v * A\n",
        "$$\n",
        "\n",
        "$$\n",
        "\\downarrow\n",
        "$$\n",
        "\n",
        "$$\n",
        "\\left[\\begin{array}{c}\n",
        "0  \\\\ 1 \\\\ 2 \\\\ 3 \\\\ 4\n",
        "\\end{array}\\right] *\n",
        "\\left[\\begin{array}{ccccc}\n",
        "0  & 1 & 2 & 3 & 4 \\\\\n",
        "5  & 6 & 7 & 8 & 9\\\\\n",
        "10 & 11 & 12 & 13 & 14\\\\\n",
        "15 & 16 & 17 & 18 & 19\\\\\n",
        "20 & 21 & 22 & 23 & 24\n",
        "\\end{array}\\right]\n",
        "$$\n",
        "\n",
        "$$\n",
        "\\downarrow\n",
        "$$\n",
        "\n",
        "$$\n",
        "\\left[\\begin{array}{ccccc}\n",
        "0  & 0 & 0 & 0 & 0\\\\\n",
        "1  & 1 & 1 & 1 & 1\\\\\n",
        "2  & 2 & 2 & 2 & 2\\\\\n",
        "3  & 3 & 3 & 3 & 3\\\\\n",
        "4  & 4 & 4 & 4 & 4\n",
        "\\end{array}\\right] *\n",
        "\\left[\\begin{array}{ccccc}\n",
        "0  & 1 & 2 & 3 & 4 \\\\\n",
        "5  & 6 & 7 & 8 & 9\\\\\n",
        "10 & 11 & 12 & 13 & 14\\\\\n",
        "15 & 16 & 17 & 18 & 19\\\\\n",
        "20 & 21 & 22 & 23 & 24\n",
        "\\end{array}\\right]\n",
        "$$"
      ]
    },
    {
      "cell_type": "code",
      "execution_count": null,
      "metadata": {
        "id": "M6nymOhLTtSw"
      },
      "outputs": [],
      "source": [
        "A = np.arange(25).reshape(5,5) # matriz 5x5\n",
        "print(A.shape)\n",
        "\n",
        "v = np.arange(5).reshape(5,1) # array com 5 elementos 5x1\n",
        "print(v.shape)\n",
        "\n",
        "# A operação \"*\" é feita elemento por elemento,\n",
        "# broadcasting em \"v\" gerar novas colunas\n",
        "B =  v * A\n",
        "\n",
        "print(v,'\\n')\n",
        "print(A,'\\n')\n",
        "print(B)"
      ]
    },
    {
      "cell_type": "markdown",
      "metadata": {
        "id": "IIhV0ULpTtS3"
      },
      "source": [
        "Quando os dois operandos são arrays unidimensionais, sendo um deles array linha e o outro array coluna __Broadcasting__ é aplicado em ambos:\n",
        "```python\n",
        "v = np.arange(5)  # array com 5 elementos 1x5 (uma linha e 5 colunas)\n",
        "w = np.arange(3).reshape(3,1) # array com 3 elementos 3x1\n",
        "```\n",
        "$$\n",
        "Z = v + w\n",
        "$$\n",
        "\n",
        "$$\n",
        "\\downarrow\n",
        "$$\n",
        "\n",
        "$$\n",
        "\\left[\\begin{array}{ccccc}\n",
        "0  & 1 & 2 & 3 & 4\n",
        "\\end{array}\\right] +\n",
        "\\left[\\begin{array}{c}\n",
        "0  \\\\\n",
        "1 \\\\\n",
        "2\n",
        "\\end{array}\\right]\n",
        "$$\n",
        "\n",
        "$$\n",
        "\\downarrow\n",
        "$$\n",
        "\n",
        "$$\n",
        "\\left[\\begin{array}{ccccc}\n",
        "0  & 1 & 2 & 3 & 4\\\\\n",
        "0  & 1 & 2 & 3 & 4\\\\\n",
        "0  & 1 & 2 & 3 & 4\n",
        "\\end{array}\\right] +\n",
        "\\left[\\begin{array}{ccccc}\n",
        "0 & 0 & 0 & 0 & 0 \\\\\n",
        "1 & 1 & 1 & 1 & 1\\\\\n",
        "2 & 2 & 2 & 2 & 2\n",
        "\\end{array}\\right]\n",
        "$$"
      ]
    },
    {
      "cell_type": "code",
      "execution_count": null,
      "metadata": {
        "id": "f-m6VfAjTtS5"
      },
      "outputs": [],
      "source": [
        "v = np.arange(5)  # array com 5 elementos\n",
        "                  # como a segunda dimensão não foi especificada, \"v\" é interpretado\n",
        "                  # como um sendo 1x5 (uma linha e 5 colunas)\n",
        "print(v.shape)\n",
        "\n",
        "w = np.arange(3).reshape(3,1) # array com 3 elementos\n",
        "                              # como a segunda dimensão foi especificada, \"v\" é um array\n",
        "                              # com 3 linhas e uma coluna\n",
        "print(w.shape)\n",
        "\n",
        "# A operação \"+\" é feita elemento por elemento, broadcasting \"v\" e \"w\" simultaneamente\n",
        "# Neste caso \"w\" é um vetor coluna e \"v\" é tratado como vetor linha\n",
        "Z =  v + w\n",
        "\n",
        "print('array v:\\n',v,'\\n')\n",
        "print('array w:\\n',w,'\\n')\n",
        "print('array Z = v+w\\n',Z)\n",
        "print(Z.shape) # note que o resultado é uma matriz 3x5"
      ]
    },
    {
      "cell_type": "markdown",
      "metadata": {
        "id": "NUA_UY_PTtTM"
      },
      "source": [
        "## Operadores relacionais\n",
        "\n",
        "Operadores `==`, `>`,`<`,`>=`,`<=`, e `!=` são aplicados elemento a elemento."
      ]
    },
    {
      "cell_type": "code",
      "execution_count": null,
      "metadata": {
        "id": "V39GDaNJTtTN"
      },
      "outputs": [],
      "source": [
        "A = np.arange(4).reshape(2,2)      # matriz 2x2\n",
        "B = np.arange(6,2,-1).reshape(2,2) # matriz 2x2\n",
        "\n",
        "M = (B == A)\n",
        "\n",
        "print(A,'\\n')\n",
        "print(B,'\\n')\n",
        "print(M)"
      ]
    },
    {
      "cell_type": "markdown",
      "metadata": {
        "id": "NGSDcV0UTtTT"
      },
      "source": [
        "#### Igualdade do array com `np.array_equal()`"
      ]
    },
    {
      "cell_type": "code",
      "execution_count": null,
      "metadata": {
        "id": "XwYlugoQTtTV"
      },
      "outputs": [],
      "source": [
        "A = np.arange(4).reshape(2,2)      # matrix 2x2\n",
        "B = np.arange(6,2,-1).reshape(2,2) # matrix 2x2\n",
        "C = np.copy(A)\n",
        "\n",
        "# Resposta é apenas um valor booleano\n",
        "print(np.array_equal(A,B))\n",
        "print(np.array_equal(A,C))"
      ]
    },
    {
      "cell_type": "markdown",
      "metadata": {
        "id": "zdY2B7jrTtTr"
      },
      "source": [
        "# Redução\n",
        "\n",
        "> Métodos aplicados ao array como um todo ou somente às linhas ou colunas.\n",
        "\n",
        "O parâmetro 'axis' controla a direção:\n",
        "- 'axis' não especificado: retorna um valor único, opera sobre todo o array\n",
        "- 'axis=0' redução nas colunas (percorre as linhas): retorna um array com número de elementos igual ao número de colunas\n",
        "- 'axis=1' redução nas linhas (percorre as colunas): retorna um array com número de elementos igual ao número de linhas\n",
        "\n",
        "\n",
        "### Redução lógica\n",
        "- `all`: verifica se **todos** os elementos do array satisfazem a condição (True)\n",
        "- `any`: verifica se **algum** elemento do array satisfaz a condição (True)"
      ]
    },
    {
      "cell_type": "code",
      "execution_count": null,
      "metadata": {
        "id": "k-ovGDB6wXZR"
      },
      "outputs": [],
      "source": [
        "# np.array_equal(A,B) é equivalente a:\n",
        "D = (A==B)\n",
        "print(D)"
      ]
    },
    {
      "cell_type": "code",
      "execution_count": null,
      "metadata": {
        "id": "1Nx6oN-twXZR"
      },
      "outputs": [],
      "source": [
        "print(np.all(D))"
      ]
    },
    {
      "cell_type": "code",
      "execution_count": null,
      "metadata": {
        "id": "kQWjbt2ETtTs"
      },
      "outputs": [],
      "source": [
        "A = np.arange(25).reshape(5,5)\n",
        "print(A,'\\n')\n",
        "\n",
        "M = A > 0\n",
        "print(M,'\\n')\n",
        "\n",
        "print('Todos os elementos são TRUE? ', np.all(M))\n",
        "print('Algum elemento é TRUE? ',np.any(M))\n",
        "\n",
        "print('Todos os elementos de cada coluna são TRUE? ',np.all(M,axis=0))\n",
        "print('Algum elemento de cada linha é TRUE? ',np.any(M,axis=1))"
      ]
    },
    {
      "cell_type": "markdown",
      "metadata": {
        "id": "JNuFyl9mTtTa"
      },
      "source": [
        "#### Mais reduções\n",
        "\n",
        "Aritméticas e estatísticas:\n",
        "\n",
        "`sum`, `mean`, `median`, `std` (desvio padrão), `min`,  `max`, `argmin`, `argmax`"
      ]
    },
    {
      "cell_type": "code",
      "execution_count": null,
      "metadata": {
        "id": "9FpLslV5TtTc"
      },
      "outputs": [],
      "source": [
        "A = np.zeros((6,5))  # matriz 5x5 de zeros\n",
        "A[:] = np.arange(5)  # broadcasting o array [0,1,2,3,4] nas linhas\n",
        "\n",
        "print(A,'\\n')\n",
        "\n",
        "print('Soma de todos os valores: ', np.sum(A)) # todos os elementos\n",
        "print('Soma dos valores das colunas: ', np.sum(A,axis=0)) # soma os valores das colunas\n",
        "print('Soma dos valores das linhas: ', np.sum(A,axis=1)) # soma os valores das linhas"
      ]
    },
    {
      "cell_type": "code",
      "execution_count": null,
      "metadata": {
        "id": "4-EFfFzmTtTg"
      },
      "outputs": [],
      "source": [
        "A = np.random.randint(low=0,high=30,size=(5,5)) # matriz 5x5 com números inteiros\n",
        "                                                # randomicos no intervalor entre 0 e 30\n",
        "print(A,'\\n')\n",
        "\n",
        "# todos os elementos\n",
        "print('Maior valor dentre todos na matriz: ',np.max(A))    # maior valor da matriz\n",
        "print('Posição do maior valor dentre todos na matriz: ',np.argmax(A)) # lineariza a matriz com A.ravel() e\n",
        "                                                                      # retorna a posicão do maior valor\n",
        "# Por coluna\n",
        "print('Maior valor em cada coluna: ',np.max(A,axis=0))  # maior valor em cada coluna\n",
        "print('Posição do maior valor em cada coluna: ',np.argmax(A,axis=0)) # posição do maior valor em cada coluna"
      ]
    },
    {
      "cell_type": "code",
      "execution_count": null,
      "metadata": {
        "id": "JI-qzsLBTtTl"
      },
      "outputs": [],
      "source": [
        "A = np.random.randint(low=0,high=30,size=(5,5)).astype(float)\n",
        "print(A,'\\n')\n",
        "\n",
        "print('Media de todos os valores: ',np.mean(A))   # média de todos os valores\n",
        "print('Media por coluna: ',np.mean(A,axis=0))     # média por coluna\n",
        "print('Media por linha: ',np.mean(A,axis=1))      # média por linha"
      ]
    },
    {
      "cell_type": "markdown",
      "metadata": {
        "id": "iNOtVRONTtTy"
      },
      "source": [
        "## Ordenação  `sort()`\n",
        "\n",
        "\n",
        "- Quando o método é invocado utilizando a própria variável, a ordenação é feita diretamente no array (`inplace`). Por exemplo:\n",
        "\n",
        "- Usando o `numpy.sort()` uma cópia ordenada do array é gerada (o array original não é modificado).\n",
        "\n",
        "Por padrão a ordenação é feita em cada linha (`axis=1` é o valor padrão do parâmetro 'axis')"
      ]
    },
    {
      "cell_type": "code",
      "execution_count": null,
      "metadata": {
        "id": "-bcr0Z0dTtTz"
      },
      "outputs": [],
      "source": [
        "A = np.random.randint(low=0,high=30,size=(5,5))\n",
        "print('Array original \"A\": \\n',A,'\\n')\n",
        "\n",
        "B = np.sort(A) # `B` é uma cópia de `A` com linhas ordenas\n",
        "print('\"B\" é cópia de \"A\" com valores das linhas ordenados. Array \"A\" não é alterado:')\n",
        "print('B = \\n',B,'\\n')\n",
        "print('A = \\n',A,'\\n')"
      ]
    },
    {
      "cell_type": "code",
      "execution_count": null,
      "metadata": {
        "id": "-8Q-bAyuTtT3"
      },
      "outputs": [],
      "source": [
        "A.sort()  # as linhas de `A` são ordenadas modificando o array original\n",
        "print('Os valores das linhas do array \"A\" são ordenados: \\n A =\\n',A,'\\n')\n",
        "\n",
        "A.sort(axis=0) # as COLUNAS de `A` são ordenadas modificando o array original\n",
        "print('Os valores das colunas são ordenadas:  \\n A =\\n',A,'\\n')"
      ]
    },
    {
      "cell_type": "markdown",
      "metadata": {
        "id": "48eEDznhTtUD"
      },
      "source": [
        "## Aritmétrica vetorial e matricial\n",
        "\n",
        "> A multiplicação matriz e vetor (ou matriz e matriz) como definida na álgebra matricial é feita utilizando o método `dot()`\n",
        "\n",
        "As dimensões devem ser compatíveis"
      ]
    },
    {
      "cell_type": "markdown",
      "metadata": {
        "id": "u6fh7cWwTtUE"
      },
      "source": [
        "$$\n",
        "b1 = \\left[\\begin{array}{cc}\n",
        "           1 & 1 \\\\\n",
        "           2 & 2\n",
        "    \\end{array}\\right]\\cdot\n",
        "    \\left[\\begin{array}{c}\n",
        "           1  \\\\\n",
        "           2\n",
        "    \\end{array}\\right] = \\left[\\begin{array}{c}\n",
        "           3  \\\\\n",
        "           6\n",
        "    \\end{array}\\right]\n",
        "$$\n",
        "\n",
        "$$\n",
        "b2 = \\left[\\begin{array}{cc}\n",
        "           1 & 2\n",
        "    \\end{array}\\right]\\cdot\n",
        "\\left[\\begin{array}{cc}\n",
        "           1 & 1 \\\\\n",
        "           2 & 2\n",
        "    \\end{array}\\right]\\cdot\n",
        "     = \\left[\\begin{array}{cc}\n",
        "           5 & 5\n",
        "    \\end{array}\\right]\n",
        "$$"
      ]
    },
    {
      "cell_type": "code",
      "execution_count": null,
      "metadata": {
        "id": "GwKWI7mlTtUF"
      },
      "outputs": [],
      "source": [
        "A = np.zeros((2,2))      # matrix 2x2 de zeros\n",
        "v = np.array([1,2]).reshape(2,1) # array 2x1\n",
        "A[:] = v                # broadcasting o array 2x1 nas colunas da matriz 'A'\n",
        "\n",
        "print('Matriz 2x2 A:\\n',A)\n",
        "print('Vetor 2x1 v:\\n',v)\n",
        "\n",
        "print('\\n Multiplicando a matriz A pelo vetor v resulta em um vetor 2x1')\n",
        "b1 = np.dot(A,v)   # v e b1 são vetores colunas\n",
        "print(b1,b1.shape)\n",
        "\n",
        "#### Atenção ####\n",
        "# O produto np.dot(v,A) não é válido, pois as dimensões não são compatíveis\n",
        "# (produto de vetor 2x1 com matriz 2x2 não existe tente gerar o produto e veja a mensagem de erro)\n",
        "\n",
        "# Para compadibilizarmos as dimensão precisamos transpor o vetor v\n",
        "# (produto de vetor 1x2 com matriz 2x2 é bem definido e resulta em um vetor 1x2\n",
        "print('\\n Multiplicando o vetor transposto v.T pela matriz A pelo resulta em um vetor 1x2')\n",
        "b2 = np.dot(v.T, A) # v.T é um vetor linha, assim como b2\n",
        "print(b2,b2.shape)"
      ]
    },
    {
      "cell_type": "code",
      "execution_count": null,
      "metadata": {
        "id": "QKjs0rpUwXZS"
      },
      "outputs": [],
      "source": [
        "A = np.array([[1,2],[3,4]])\n",
        "\n",
        "print(A,'\\n')\n",
        "\n",
        "B = np.array([[5,6],[7,8]])\n",
        "\n",
        "print(B,'\\n')\n",
        "\n",
        "print(A*B,'\\n')\n",
        "\n",
        "print(np.dot(A,B))\n"
      ]
    },
    {
      "cell_type": "markdown",
      "metadata": {
        "id": "is7WuIzTwXZS"
      },
      "source": [
        "---\n",
        "\n",
        "#### <font color=\"blue\">Exercício 2.6</font>\n",
        "\n",
        "Dados dois arrays conforme abaixo que são notas (de 1 a 10) dadas a 4 diferentes serviços fornecidos por empresas concorrentes A e B. As notas de cada serviço estão organizadas nas 4 linhas dos arrays.\n",
        "\n",
        "A empresa `A` coletou 20 notas, e `B` coletou 10 notas para cada serviço (simuladas aleatoriamente no código abaixo).\n",
        "\n",
        "Os 4 serviços possuem pesos que é determinado pela lista `pesos` listada abaixo.\n",
        "\n",
        "A empresa A deseja se comparar com a empresa B com base na média das notas da empresa B. Para isso:\n",
        "1. usando redução, obtenha a média das notas de cada serviço da empresa B;\n",
        "2. para cada serviço, calcule qual foi a menor nota observada por A considerando apenas as notas de A que foram maiores do que a média de B para aquele serviço;\n",
        "3. armazene essas notas mínimas em um novo array de 4 elementos, e exiba esse array na tela;\n",
        "4. utilizando multiplicação vetorial, calcule e exiba na tela a soma das notas mínimas ponderadas pelos pesos\n",
        "\n",
        "---"
      ]
    },
    {
      "cell_type": "code",
      "execution_count": null,
      "metadata": {
        "id": "TPZ_WQFxwXZS"
      },
      "outputs": [],
      "source": [
        "A = np.random.randint(low=1,high=10,size=(4,20))\n",
        "B = np.random.randint(low=1,high=10,size=(4,10))\n",
        "pesos = [0.15, 0.25, 0.3, 0.3]\n",
        "print(A)\n",
        "print(B)\n",
        "print(pesos)"
      ]
    },
    {
      "cell_type": "markdown",
      "metadata": {
        "id": "k3WcvBS7wXZS"
      },
      "source": [
        "# <font color=\"red\">Resumo da aula</font>\n",
        "\n",
        "### <span style=\"color:red\">- Modulo: Numpy</span>\n",
        "### <span style=\"color:red\">- *Broadcasting*</span>\n",
        "### <span style=\"color:red\">- Operadores relacionais</span>\n",
        "### <span style=\"color:red\">- Redução</span>\n",
        "### <span style=\"color:red\">- Ordenação (*sort*)</span>\n",
        "### <span style=\"color:red\">- Aritmética vetorial e matricial</span>"
      ]
    }
  ],
  "metadata": {
    "colab": {
      "provenance": [],
      "include_colab_link": true
    },
    "kernelspec": {
      "display_name": "Python 3",
      "language": "python",
      "name": "python3"
    },
    "language_info": {
      "codemirror_mode": {
        "name": "ipython",
        "version": 3
      },
      "file_extension": ".py",
      "mimetype": "text/x-python",
      "name": "python",
      "nbconvert_exporter": "python",
      "pygments_lexer": "ipython3",
      "version": "3.11.5"
    },
    "toc": {
      "base_numbering": 1,
      "nav_menu": {},
      "number_sections": true,
      "sideBar": true,
      "skip_h1_title": false,
      "title_cell": "Table of Contents",
      "title_sidebar": "Contents",
      "toc_cell": false,
      "toc_position": {},
      "toc_section_display": true,
      "toc_window_display": false
    }
  },
  "nbformat": 4,
  "nbformat_minor": 0
}