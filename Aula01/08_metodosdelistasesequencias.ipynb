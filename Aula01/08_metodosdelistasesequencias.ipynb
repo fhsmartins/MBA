{
  "cells": [
    {
      "cell_type": "markdown",
      "metadata": {
        "id": "view-in-github",
        "colab_type": "text"
      },
      "source": [
        "<a href=\"https://colab.research.google.com/github/fhsmartins/MBA/blob/main/Aula01/08_metodosdelistasesequencias.ipynb\" target=\"_parent\"><img src=\"https://colab.research.google.com/assets/colab-badge.svg\" alt=\"Open In Colab\"/></a>"
      ]
    },
    {
      "cell_type": "markdown",
      "metadata": {
        "id": "Wu7ck6xvaP6b"
      },
      "source": [
        "# <font color=\"red\"> MBA em IA e Big Data</font>\n",
        "## <span style=\"color:red\">Linguagens e Ferramentas para Inteligência Artificial e Big Data (Python e SQL)</span>\n",
        "\n",
        "### <span style=\"color:darkred\">Python - Aula 08</span>\n",
        "\n",
        "*Leandro Franco de Souza*<br>\n",
        "*ICMC/USP São Carlos*\n",
        "\n",
        "*(com material do Prof. Luis Gustavo Nonato & Moacir Antonelli Ponti)*"
      ]
    },
    {
      "cell_type": "markdown",
      "metadata": {
        "id": "wOM5dIGtaP6d"
      },
      "source": [
        "# <font color=\"red\"> Conteúdo:</font>\n",
        "\n",
        "### <span style=\"color:red\">- Métodos de listas</span>\n",
        "### <span style=\"color:red\">- Operadores nativos do python que operam em sequências</span>"
      ]
    },
    {
      "cell_type": "markdown",
      "metadata": {
        "id": "f12V1CryOiMM"
      },
      "source": [
        "### Métodos de listas\n",
        "\n",
        "Listas possuem grande quantidade de *métodos* para sua manipulação.\n",
        "\n",
        "*Métodos* são funções associadas a objetos de um determinado tipo.\n",
        "\n",
        "Exemplos de métodos para listas:\n",
        "* append: insere elemento no final da lista\n",
        "* insert: insere elemento numa certa posição\n",
        "* extend: concatena listas\n",
        "* remove: remove o elemento relativo a primeira ocorrência de um valor\n",
        "* index: encontra a primeira posição em que um valor ocorre (se existir)\n",
        "* count: conta o número de ocorrências\n",
        "* sort: ordena a lista\n",
        "\n",
        "A documentação completa: https://docs.python.org/3/tutorial/datastructures.html\n"
      ]
    },
    {
      "cell_type": "code",
      "execution_count": null,
      "metadata": {
        "id": "pbMOaL__OiMM"
      },
      "outputs": [],
      "source": [
        "lst = [1,2,3,4,5]\n",
        "lst.append('a') # insere novo elemento ao final da lista\n",
        "print(lst)\n",
        "lst.insert(1,'b') # insere novo elemento na posição 1 da lista (lembre-se que o primeiro elemento esta na posição 0)\n",
        "print(lst)\n",
        "lst.extend(['c','d']) # concatena os elementos de uma outra lista no final da lista que chama o método\n",
        "print(lst)\n",
        "lst.append([2,3]) # neste caso a lista [2,3] é inserida no final de lst (não realiza concatenação)\n",
        "print(lst)"
      ]
    },
    {
      "cell_type": "code",
      "execution_count": null,
      "metadata": {
        "id": "7e2I0R3DOiMM"
      },
      "outputs": [],
      "source": [
        "l = list(range(10)) # o comando 'range' gera números entre 0 e 9,\n",
        "                    # que são armazenados em uma lista\n",
        "print(l)\n",
        "l.append('a') # adiciona 'a' no final da lista l\n",
        "print(l)\n",
        "l.append(['a']) # adiciona a lista ['a'] no final da lista l\n",
        "print(l)\n",
        "l[-1].append('b') # l[-1] corresponde ao último elemento da lista l\n",
        "                  # que corresponde a lista ['a'], inserindo o elemento 'b' a esta lista\n",
        "print(l)\n",
        "l.extend(['c','d']) # concatena a lista ['c','d'] no final da lista l\n",
        "print(l)"
      ]
    },
    {
      "cell_type": "markdown",
      "metadata": {
        "id": "hqDrXM4BOiMM"
      },
      "source": [
        "__Atenção:__\n",
        "- <font color='blue'>extend</font> usa a lista em questão enquanto o operador <font color='blue'>+</font> cria uma nova lista\n",
        "- <font color='blue'>extend</font> assume uma LISTA como argumento enquanto <font color='blue'>append</font> assume um elemento como argumento (o elemento pode ser uma outra lista)"
      ]
    },
    {
      "cell_type": "code",
      "execution_count": null,
      "metadata": {
        "id": "UvBgczInOiMM"
      },
      "outputs": [],
      "source": [
        "xst = ['a', 'b', 'c', 'b','e','b','c','b']\n",
        "index = xst.index('c') # encontra o indice da primeira ocorrência\n",
        "print(\"Posicao da primeira ocorrencia de 'c': \",index)\n",
        "count = xst.count('c') # conta o numero de ocorrências\n",
        "print(\"Numero de ocorrencias de 'c': \",count)\n",
        "\n",
        "xst.sort() # ordena os elementos da lista do maior para o menor\n",
        "print(\"Elementos ordenados:\",xst)"
      ]
    },
    {
      "cell_type": "code",
      "execution_count": null,
      "metadata": {
        "id": "d-Fzo-PEOiMN"
      },
      "outputs": [],
      "source": [
        "print(xst)\n",
        "print(list(set(xst))) # remove repetidos"
      ]
    },
    {
      "cell_type": "markdown",
      "metadata": {
        "id": "YnbZ_su8OiMN"
      },
      "source": [
        "__Atenção:__ As operações <font color='blue'>sort</font> e <font color='blue'>reverse</font> são _\"in place\"_ (modificam a lista)"
      ]
    },
    {
      "cell_type": "markdown",
      "metadata": {
        "id": "pgPrFVj3OiMN"
      },
      "source": [
        "Os principais métodos para remover elementos de uma lista são:\n",
        "- <font color=\"blue\">remove</font>: remove a primeira ocorrência do elemento na lista\n",
        "- <font color=\"blue\">pop</font>: remove o último elemento da lista\n",
        "- <font color=\"blue\">del</font>: remove elemento de uma posição específica. Se nenhuma posição é especificada, toda a lista é removida da memória"
      ]
    },
    {
      "cell_type": "code",
      "execution_count": null,
      "metadata": {
        "id": "gM650971OiMN"
      },
      "outputs": [],
      "source": [
        "xst = ['a', 'b', 'c', 'b', 'e', 'b']\n",
        "xst.remove('b') # remove primeira ocorrencia e 'b'\n",
        "print(\"Lista com a primeira ocorrencia de 'b' removida: \",xst)\n",
        "\n",
        "del xst[1] # remove elemento da posição 1\n",
        "print(\"Elemento da posição 1 (neste caso 'c') removido: \",xst)\n",
        "\n",
        "xst.pop() # remove ultimo elemento da lista, equivalente del xst[-1]\n",
        "print(\"Ultimo elemento (neste caso 'b') removido: \",xst)\n"
      ]
    },
    {
      "cell_type": "markdown",
      "metadata": {
        "id": "oHB_xSNROiMO"
      },
      "source": [
        "### Operadores nativos do python que operam em sequências\n",
        "A linguagem Python possui operadores que podem ser empregados em variáveis tipo sequências:\n",
        "- <font color=\"blue\">sorted</font>: ordena os elementos da sequência, gerando uma nova sequência (não afeta a sequência original)\n",
        "- <font color=\"blue\">max</font>: retorna o maior elemento da sequência\n",
        "- <font color=\"blue\">min</font>: retorna o menor elemento da sequência"
      ]
    },
    {
      "cell_type": "code",
      "execution_count": null,
      "metadata": {
        "id": "Zn1vPN86OiMO"
      },
      "outputs": [],
      "source": [
        "seq = 'adeakziomltmd'\n",
        "\n",
        "seq_ordenada_lista = sorted(seq) # ordena a sequência de caracteres e salva em uma nova variavel.\n",
        "                                 # A saida do método é uma lista\n",
        "                                 # A sequência original não é afetada\n",
        "print('Sequencia ordenada: ', seq_ordenada_lista)\n",
        "print('Sequencia original: ', seq)\n",
        "\n",
        "print(type(seq),type(seq_ordenada_lista))\n",
        "\n",
        "# Convertendo uma lista em uma sequência de caracteres (string)\n",
        "seq_ordenada =''.join(seq_ordenada_lista)  # o comando join contatena elementos em uma string utilizando um separador.\n",
        "                                           # Neste caso o separador nao é fornecido, logo os caracteres ficam \"colados\".\n",
        "                                           # Rode o comando com '*'.join(seq_ordenada_lista) e veja o resultado\n",
        "print(\"Sequencia ordenada no formato string: \",seq_ordenada)\n",
        "\n",
        "seq_max = max(seq)  # retorna o maior elemento da sequência\n",
        "print('Maior elemento: ', seq_max)\n",
        "seq_min = min(seq)  # retorna o menor elemento da sequência\n",
        "print('Menor elemento: ', seq_min)"
      ]
    },
    {
      "cell_type": "code",
      "execution_count": null,
      "metadata": {
        "id": "oN3uLf9yOiMO"
      },
      "outputs": [],
      "source": [
        "a = '123'\n",
        "b = str(seq_ordenada_lista)\n",
        "print(b,type(b))"
      ]
    },
    {
      "cell_type": "markdown",
      "metadata": {
        "id": "UKo1qZbWa98t"
      },
      "source": [
        "# <font color=\"red\">Resumo da aula</font>\n",
        "\n",
        "### <span style=\"color:red\">- Métodos de listas</span>\n",
        "### <span style=\"color:red\">- Operadores nativos do python que operam em sequências</span>"
      ]
    }
  ],
  "metadata": {
    "colab": {
      "provenance": [],
      "include_colab_link": true
    },
    "kernelspec": {
      "display_name": "Python 3",
      "language": "python",
      "name": "python3"
    },
    "language_info": {
      "codemirror_mode": {
        "name": "ipython",
        "version": 3
      },
      "file_extension": ".py",
      "mimetype": "text/x-python",
      "name": "python",
      "nbconvert_exporter": "python",
      "pygments_lexer": "ipython3",
      "version": "3.10.12"
    },
    "toc": {
      "base_numbering": 1,
      "nav_menu": {},
      "number_sections": true,
      "sideBar": true,
      "skip_h1_title": false,
      "title_cell": "Table of Contents",
      "title_sidebar": "Contents",
      "toc_cell": false,
      "toc_position": {},
      "toc_section_display": true,
      "toc_window_display": false
    }
  },
  "nbformat": 4,
  "nbformat_minor": 0
}