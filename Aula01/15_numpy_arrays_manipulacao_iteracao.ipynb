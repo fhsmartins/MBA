{
  "cells": [
    {
      "cell_type": "markdown",
      "metadata": {
        "id": "view-in-github",
        "colab_type": "text"
      },
      "source": [
        "<a href=\"https://colab.research.google.com/github/fhsmartins/MBA/blob/main/Aula01/15_numpy_arrays_manipulacao_iteracao.ipynb\" target=\"_parent\"><img src=\"https://colab.research.google.com/assets/colab-badge.svg\" alt=\"Open In Colab\"/></a>"
      ]
    },
    {
      "cell_type": "markdown",
      "metadata": {
        "id": "9VJ-bL09Mv7M"
      },
      "source": [
        "# <font color=\"red\"> MBA em IA e Big Data</font>\n",
        "## <span style=\"color:red\">Linguagens e Ferramentas para Inteligência Artificial e Big Data (Python e SQL)</span>\n",
        "\n",
        "### <span style=\"color:darkred\">Python: Aula 15</span>\n",
        "\n",
        "*Leandro Franco de Souza*<br>\n",
        "*ICMC/USP São Carlos*\n",
        "\n",
        "*(com material do Prof. Moacir Antonelli Ponti)*"
      ]
    },
    {
      "cell_type": "markdown",
      "metadata": {
        "id": "t3RlxFYAMv7R"
      },
      "source": [
        "# <font color=\"red\"> Conteúdo:</font>\n",
        "\n",
        "### <span style=\"color:red\">- Modulo: Numpy</span>\n",
        "### <span style=\"color:red\">- Numpy: Arrays</span>\n",
        "### <span style=\"color:red\">- Especificando tipo *astype*</span>\n",
        "### <span style=\"color:red\">- Acessando elementos</span>\n",
        "### <span style=\"color:red\">- iterando com *for*</span>"
      ]
    },
    {
      "cell_type": "markdown",
      "metadata": {
        "id": "bDbah9r4Mv7V"
      },
      "source": [
        "## Numpy\n",
        "\n",
        "Processamento vetorial/matricial:\n",
        "- métodos são majoritariamente escritos em C, garantindo eficiência computacional\n",
        "- recursos para computação científica e álgebra linear\n",
        "\n",
        "Outros pacotes dependem fortemente de `numpy`:\n",
        "- `pandas`\n",
        "- `matplotlib`\n",
        "- `sklearn`"
      ]
    },
    {
      "cell_type": "markdown",
      "metadata": {
        "id": "bX13kv4ziWJ1"
      },
      "source": [
        "# Numpy Arrays"
      ]
    },
    {
      "cell_type": "markdown",
      "metadata": {
        "id": "naeNRp44Mv7Z"
      },
      "source": [
        "A estrutura de dados base, se assemelham às listas em Python, no entanto:\n",
        "- Todo elemento em um array deve ser do mesmo tipo, tipicamente `float` ou `int`;\n",
        "- Arrays viabilizam a realização eficiente de operações numéricas com grandes quantidades de dados, mais eficientes que listas;\n",
        "- Cada dimensão de um array é chamada de eixo (_axis_)\n",
        "- Eixos são numerados a partir de `0`\n",
        "- Elementos acessados utilizando colchetes `[]`"
      ]
    },
    {
      "cell_type": "markdown",
      "metadata": {
        "id": "9Ar2USJFMv7b"
      },
      "source": [
        "### Construindo arrays\n",
        "\n",
        "#### A partir de listas\n",
        "\n",
        "Utilizando o construtor `numpy.array()`"
      ]
    },
    {
      "cell_type": "code",
      "execution_count": null,
      "metadata": {
        "id": "lZM8Fx74Mv7h"
      },
      "outputs": [],
      "source": [
        "import numpy as np\n",
        "\n",
        "lista = [1, 3, 5, 7, 13]\n",
        "a1d = np.array(lista)\n",
        "\n",
        "print('Lista:', lista)\n",
        "print('Numpy array:', a1d)"
      ]
    },
    {
      "cell_type": "markdown",
      "metadata": {
        "id": "CTryNlapiWJ3"
      },
      "source": [
        "#### Por métodos `numpy`:\n",
        "\n",
        "`zeros`, `ones`,  `arange`,  `linspace`"
      ]
    },
    {
      "cell_type": "code",
      "execution_count": null,
      "metadata": {
        "id": "blyoeB0cMv7s"
      },
      "outputs": [],
      "source": [
        "# array com oito elementos iguais a zero\n",
        "b1d = np.zeros((8))\n",
        "print('Zeros: ',b1d)\n",
        "\n",
        "# array com dez elementos iguais a um\n",
        "c1d = np.ones((10))\n",
        "print('Ones: ',c1d)\n",
        "\n",
        "# array com numeros entre 1 e menor que 11, com passo 2 (similar a `range`)\n",
        "d1d = np.arange(0,11,2)\n",
        "print('Range: ',d1d)\n",
        "\n",
        "# array com 5 números igualmente espaçados no intervalo entre 1 e 2\n",
        "e1d = np.linspace(1,2,6)\n",
        "print('Linspace: ',e1d)\n",
        "\n",
        "e1d2 = np.linspace(0,1,11)\n",
        "print('Linspace2: ',e1d2)"
      ]
    },
    {
      "cell_type": "markdown",
      "metadata": {
        "id": "JIK6q0ceiWJ3"
      },
      "source": [
        "#### Arrays multidimensionais"
      ]
    },
    {
      "cell_type": "code",
      "execution_count": null,
      "metadata": {
        "id": "MTAeC_YHMv71"
      },
      "outputs": [],
      "source": [
        "a2d = np.array([[1,3,5,7,9,11],\n",
        "                [2,4,6,8,10,12],\n",
        "                [0,1,2,3,4,5]]  )\n",
        "print('a2d=\\n',a2d)"
      ]
    },
    {
      "cell_type": "code",
      "execution_count": null,
      "metadata": {
        "id": "Ce1wcc3rMv78"
      },
      "outputs": [],
      "source": [
        "#matriz 5X3 de zeros\n",
        "b2d = np.zeros((5,3))\n",
        "print('Zeros 2d: \\n',b2d)\n",
        "\n",
        "# criando matriz 4X8 de 1s\n",
        "c2d = np.ones((4,8))\n",
        "print('Ones 2d:\\n',c2d)\n",
        "\n",
        "# criando matrix identidade 3X3\n",
        "d2d = np.identity(3)\n",
        "print('Identity: \\n',d2d)"
      ]
    },
    {
      "cell_type": "markdown",
      "metadata": {
        "id": "lJfI-14GMv8D"
      },
      "source": [
        "Arrays são objetos _ndarrays_\n",
        "\n",
        "Seus atributos são:\n",
        "- `ndarray.ndim`: número de eixos (dimensões) do array\n",
        "- `ndarray.shape`: uma tupla de inteiros indicando o tamanho do array em cada dimensão\n",
        "- `ndarray.size`:  o número total de elementos do array\n",
        "- `ndarray.dtype`: tipo dos elementos no array\n",
        "- `ndarray.itemsize`: o tamanho em bytes de cada elemento do array\n",
        "- `ndarray.T`: versão transposta do array"
      ]
    },
    {
      "cell_type": "code",
      "execution_count": null,
      "metadata": {
        "id": "8-7Hrf3xiWJ4"
      },
      "outputs": [],
      "source": [
        "print(a1d)\n",
        "print(c2d)"
      ]
    },
    {
      "cell_type": "code",
      "execution_count": null,
      "metadata": {
        "id": "G-8zEew1Mv8G"
      },
      "outputs": [],
      "source": [
        "print(\" ndim: numero de eixos dos arrays\")\n",
        "print('a1d.ndim =',a1d.ndim)\n",
        "print('c2d.ndim =',c2d.ndim)"
      ]
    },
    {
      "cell_type": "code",
      "execution_count": null,
      "metadata": {
        "id": "z9KYTXlzun5I"
      },
      "outputs": [],
      "source": [
        "print(\"\\n shape: tamanho do array em cada dimensao\")\n",
        "print('a1d.shape =',a1d.shape)\n",
        "print('b1d.shape =',b1d.shape)\n",
        "print('a2d.shape =',a2d.shape)\n",
        "print('c2d.shape =',c2d.shape)"
      ]
    },
    {
      "cell_type": "code",
      "execution_count": null,
      "metadata": {
        "id": "1-EASdKGushI"
      },
      "outputs": [],
      "source": [
        "print(\"\\n size: numero total de elementos\")\n",
        "print('a1d.size =',a1d.size)\n",
        "print('b1d.size =',b1d.size)\n",
        "print('a2d.size =',a2d.size)\n",
        "print('c2d.size =',c2d.size)"
      ]
    },
    {
      "cell_type": "code",
      "execution_count": null,
      "metadata": {
        "id": "k4r5TNJ3u6yg"
      },
      "outputs": [],
      "source": [
        "print(\"\\n dtype: tipo dos elementos\")\n",
        "print('a1d.dtype =',a1d.dtype)\n",
        "print('b1d.dtype =',b1d.dtype)\n",
        "print('a2d.dtype =',a2d.dtype)\n",
        "print('c2d.dtype =',c2d.dtype)"
      ]
    },
    {
      "cell_type": "code",
      "execution_count": null,
      "metadata": {
        "id": "7xDEtZ4Ou-JO"
      },
      "outputs": [],
      "source": [
        "print(\"\\n itemsize: tamanho em bytes de cada elemento\")\n",
        "print('a1d.itemsize =',a1d.itemsize)\n",
        "print('b1d.itemsize =',b1d.itemsize)\n",
        "print('a2d.itemsize =',a2d.itemsize)\n",
        "print('c2d.itemsize =',c2d.itemsize)"
      ]
    },
    {
      "cell_type": "markdown",
      "metadata": {
        "id": "ja96Eg2piWJ5"
      },
      "source": [
        "### Especificando tipo com `astype()`"
      ]
    },
    {
      "cell_type": "code",
      "execution_count": null,
      "metadata": {
        "id": "70GdzU8LiWJ5"
      },
      "outputs": [],
      "source": [
        "print('d2d.dtype =',d2d.dtype)\n",
        "print(d2d)\n",
        "\n",
        "d2d = d2d.astype(int)\n",
        "print('d2d.dtype =',d2d.dtype)\n",
        "print(d2d)\n",
        "\n",
        "d2d = d2d.astype(np.uint16)\n",
        "print('d2d.dtype =',d2d.dtype)\n",
        "print(d2d)"
      ]
    },
    {
      "cell_type": "markdown",
      "metadata": {
        "id": "RNu0ZuBoMv8N"
      },
      "source": [
        "### Dimensão livre\n",
        "\n",
        "Arrays unidimensionais podem ter uma das dimensões livres."
      ]
    },
    {
      "cell_type": "code",
      "execution_count": null,
      "metadata": {
        "id": "bX_UV1VjMv8P"
      },
      "outputs": [],
      "source": [
        "a = np.zeros((5))\n",
        "b = np.zeros((5,1))\n",
        "print('a.shape = ',a.shape)\n",
        "print('b.shape = ',b.shape)\n",
        "print('a.ndim  = ',a.ndim)\n",
        "print('b.ndim  = ',b.ndim)"
      ]
    },
    {
      "cell_type": "markdown",
      "metadata": {
        "id": "BUnGVt2gMv8X"
      },
      "source": [
        "array com shape (5,) possui apenas 1 eixo;<br>\n",
        "array com shape (5,1) possui 2 eixos (ndim = 2)\n",
        "\n",
        "* Este último corresponde a uma matrix com 5 linhas e 1 coluna."
      ]
    },
    {
      "cell_type": "markdown",
      "metadata": {
        "id": "MInQig_qMv8Y"
      },
      "source": [
        "### Acessando elementos de um array\n",
        "\n",
        "Similar a sequências, mas usamos apenas um colchete, mesmo para arrays multidimensionais"
      ]
    },
    {
      "cell_type": "code",
      "execution_count": null,
      "metadata": {
        "id": "XoU1lG8QiWJ5"
      },
      "outputs": [],
      "source": [
        "a1d[3:]"
      ]
    },
    {
      "cell_type": "code",
      "execution_count": null,
      "metadata": {
        "id": "cw_fl6XgiWJ5"
      },
      "outputs": [],
      "source": [
        "print(a2d)"
      ]
    },
    {
      "cell_type": "code",
      "execution_count": null,
      "metadata": {
        "id": "2s6BhhgqMv8a"
      },
      "outputs": [],
      "source": [
        "print(a2d[ 0, 0])\n",
        "print(a2d[ 1, 3])\n",
        "print(a2d[-1,-2])"
      ]
    },
    {
      "cell_type": "code",
      "execution_count": null,
      "metadata": {
        "id": "ao5qkNJWiWJ5"
      },
      "outputs": [],
      "source": [
        "print(a2d[0])"
      ]
    },
    {
      "cell_type": "markdown",
      "metadata": {
        "id": "z1oqJnQgMv8g"
      },
      "source": [
        "### Iterando com `for`\n",
        "\n",
        "> percorre cada linha.\n",
        "\n",
        "* Podemos enumerar as linhas para pegar seus índices.\n",
        "* Iterar por elementos exige laço duplo ou achatar (*flatten*) o array."
      ]
    },
    {
      "cell_type": "code",
      "execution_count": null,
      "metadata": {
        "id": "nXzqbI4SiWJ5"
      },
      "outputs": [],
      "source": [
        "for el in a1d:\n",
        "    print(el)"
      ]
    },
    {
      "cell_type": "code",
      "execution_count": null,
      "metadata": {
        "id": "XhP7CVMViWJ5"
      },
      "outputs": [],
      "source": [
        "for el in a2d:\n",
        "    print(el)"
      ]
    },
    {
      "cell_type": "code",
      "execution_count": null,
      "metadata": {
        "scrolled": true,
        "id": "XkVKUotuiWJ5"
      },
      "outputs": [],
      "source": [
        "# usamos enumerate para retornar a enumeração e cada linha\n",
        "for i, el in enumerate(a2d):\n",
        "    print('Linha', i, '=', el)"
      ]
    },
    {
      "cell_type": "code",
      "execution_count": null,
      "metadata": {
        "id": "_2AUu2ljiWJ5"
      },
      "outputs": [],
      "source": [
        "print(d2d)"
      ]
    },
    {
      "cell_type": "code",
      "execution_count": null,
      "metadata": {
        "id": "0bUHuspkMv8i"
      },
      "outputs": [],
      "source": [
        "# iterando utilizando indices\n",
        "for i in range(d2d.shape[0]):\n",
        "    for j in range(d2d.shape[1]):\n",
        "        print('elemento ',i,' ',j,' = ', d2d[i,j])"
      ]
    },
    {
      "cell_type": "code",
      "execution_count": null,
      "metadata": {
        "id": "zsB8L402iWJ6"
      },
      "outputs": [],
      "source": [
        "# o atributo 'flat' coloca todos os elementos como em uma lista\n",
        "for i,el in enumerate(d2d.flat):\n",
        "    print(i,el)"
      ]
    },
    {
      "cell_type": "markdown",
      "metadata": {
        "id": "o1vkMGWYiWJ6"
      },
      "source": [
        "---\n",
        "#### <font color=\"blue\">Exercício 2.4 </font>\n",
        "\n",
        "Dada uma lista de tuplas, em que cada tupla é formada por um par (str,list). Ver um exemplo abaixo.\n",
        "\n",
        "```\n",
        "l_tup = [('a',[8, 4, 6, 1]), ('b',[1, 2, 3, 4]), ('c',[5, 3, 3, 3])]\n",
        "```\n",
        "\n",
        "* Converta a lista de tuplas em um numpy array bidimensional em que cada lista é transformada em uma linha do array, ignorando a string.\n",
        "* Percorra cada linha do array resultante usando `for`, exibindo na tela os 3 últimos elementos de cada array\n",
        "\n",
        "Seu código deve funcionar para qualquer número de tuplas na lista, assuma que as listas tem sempre o mesmo número de elementos, todos numéricos.\n",
        "\n",
        "---"
      ]
    },
    {
      "cell_type": "markdown",
      "metadata": {
        "id": "NDG3KfrciWJ6"
      },
      "source": [
        "# <font color=\"red\">Resumo da aula</font>\n",
        "\n",
        "### <span style=\"color:red\">- Modulo: Numpy</span>\n",
        "### <span style=\"color:red\">- Numpy: Arrays</span>\n",
        "### <span style=\"color:red\">- Especificando tipo *astype*</span>\n",
        "### <span style=\"color:red\">- Acessando elementos</span>\n",
        "### <span style=\"color:red\">- iterando com *for*</span>"
      ]
    }
  ],
  "metadata": {
    "colab": {
      "provenance": [],
      "include_colab_link": true
    },
    "kernelspec": {
      "display_name": "Python 3",
      "language": "python",
      "name": "python3"
    },
    "language_info": {
      "codemirror_mode": {
        "name": "ipython",
        "version": 3
      },
      "file_extension": ".py",
      "mimetype": "text/x-python",
      "name": "python",
      "nbconvert_exporter": "python",
      "pygments_lexer": "ipython3",
      "version": "3.11.5"
    }
  },
  "nbformat": 4,
  "nbformat_minor": 0
}