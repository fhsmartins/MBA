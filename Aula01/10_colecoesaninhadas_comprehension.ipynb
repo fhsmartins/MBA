{
  "cells": [
    {
      "cell_type": "markdown",
      "metadata": {
        "id": "view-in-github",
        "colab_type": "text"
      },
      "source": [
        "<a href=\"https://colab.research.google.com/github/fhsmartins/MBA/blob/main/Aula01/10_colecoesaninhadas_comprehension.ipynb\" target=\"_parent\"><img src=\"https://colab.research.google.com/assets/colab-badge.svg\" alt=\"Open In Colab\"/></a>"
      ]
    },
    {
      "cell_type": "markdown",
      "metadata": {
        "id": "yxRpraFLfZ8S"
      },
      "source": [
        "# <font color=\"red\"> MBA em IA e Big Data</font>\n",
        "## <span style=\"color:red\">Linguagens e Ferramentas para Inteligência Artificial e Big Data (Python e SQL)</span>\n",
        "\n",
        "### <span style=\"color:darkred\">Python - Aula 10</span>\n",
        "\n",
        "*Leandro Franco de Souza*<br>\n",
        "*ICMC/USP São Carlos*\n",
        "\n",
        "*(com material do Prof. Moacir Antonelli Ponti)*"
      ]
    },
    {
      "cell_type": "markdown",
      "metadata": {
        "id": "4ig0FB9NfZ8W"
      },
      "source": [
        "# <font color=\"red\"> Conteúdo:</font>\n",
        "\n",
        "### <span style=\"color:red\">- Coleções aninhadas</span>\n",
        "### <span style=\"color:red\">- Comprehensions</span>"
      ]
    },
    {
      "cell_type": "markdown",
      "metadata": {
        "id": "9hE1481FfZ8W"
      },
      "source": [
        "# Coleções aninhadas\n",
        "\n",
        "Listas, tuplas, dicionários, e outros podem ser aninhados\n",
        "\n",
        "#### Lista de tuplas"
      ]
    },
    {
      "cell_type": "code",
      "execution_count": null,
      "metadata": {
        "id": "MpOm3_UofZ8X"
      },
      "outputs": [],
      "source": [
        "# tuplas como registros indicando frutas: código identificador, nome e preço por kilo\n",
        "fruta1 = (640, 'morango', 25.0)\n",
        "fruta2 = (201, 'banana', 4.99)\n",
        "fruta3 = (452, 'seriguela', 9.99)\n",
        "fruta4 = (330, 'melancia', 2.50)\n",
        "\n",
        "lista = [fruta1, fruta2, fruta3, fruta4]\n",
        "print(lista)"
      ]
    },
    {
      "cell_type": "code",
      "execution_count": null,
      "metadata": {
        "id": "1VczEP3OfZ8Y"
      },
      "outputs": [],
      "source": [
        "lista[-1]"
      ]
    },
    {
      "cell_type": "markdown",
      "metadata": {
        "id": "1kzhqW0ufZ8Y"
      },
      "source": [
        "Permite usar os benefícios da lista, enquanto mantendo tuplas como registros"
      ]
    },
    {
      "cell_type": "code",
      "execution_count": null,
      "metadata": {
        "id": "Y1hWUTSbfZ8Y"
      },
      "outputs": [],
      "source": [
        "lista.append((202, 'maçã', 6.95))\n",
        "lista.sort()\n",
        "print(lista)"
      ]
    },
    {
      "cell_type": "markdown",
      "metadata": {
        "id": "1ps1puZqfZ8Y"
      },
      "source": [
        "### Lista de listas"
      ]
    },
    {
      "cell_type": "code",
      "execution_count": null,
      "metadata": {
        "id": "oViz9M7UfZ8Z"
      },
      "outputs": [],
      "source": [
        "# listas com notas de turmas de alunos\n",
        "turma1 = [9.5, 8.0, 10.0, 7.0]\n",
        "turma2 = [1.5, 5.0, 5.5, 6.8, 8.0, 9.5, 9.5, 10.0, 1.0]\n",
        "turma3 = [5.5, 7.0, 8.0, 6.0, 0.0, 3.5]\n",
        "turma4 = [10.0, 7.5, 8.0, 9.0, 4.0, 6.0, 6.5]\n",
        "\n",
        "notas = [turma1, turma2]\n",
        "print(notas)\n",
        "notas = notas + [turma3]\n",
        "print(notas)\n",
        "notas.append(turma4)\n",
        "print(notas)"
      ]
    },
    {
      "cell_type": "markdown",
      "metadata": {
        "id": "09k_bEwCfZ8Z"
      },
      "source": [
        "#### Aninhando dicionários e listas"
      ]
    },
    {
      "cell_type": "code",
      "execution_count": null,
      "metadata": {
        "id": "TMX9GfAjfZ8Z"
      },
      "outputs": [],
      "source": [
        "notas = {\n",
        "    'Python': { 2020: [9.5, 8.0, 10.0, 5.0, 6.0, 6.0],\n",
        "                2021: [8.2, 10.0, 10.0, 9.0, 7.5, 7.0, 10.0] },\n",
        "    'Redes Neurais': { 2019: [8.0, 9.8, 10.0, 0.0, 8.2, 7.5, 7.5],\n",
        "                       2020: [9.0, 7.2, 9.0, 8.0, 6.3, 7.0],\n",
        "                       2021: [10.0, 7.5, 8.0, 9.0, 7.0, 7.3, 6.5] }\n",
        "}"
      ]
    },
    {
      "cell_type": "code",
      "execution_count": null,
      "metadata": {
        "id": "9W0mK5cBfZ8Z"
      },
      "outputs": [],
      "source": [
        "notas['Python']"
      ]
    },
    {
      "cell_type": "code",
      "execution_count": null,
      "metadata": {
        "id": "vHaN3j2sfZ8a"
      },
      "outputs": [],
      "source": [
        "sum(notas['Python'])"
      ]
    },
    {
      "cell_type": "code",
      "execution_count": null,
      "metadata": {
        "id": "5eS1hxdAfZ8a"
      },
      "outputs": [],
      "source": [
        "type(notas['Python'])"
      ]
    },
    {
      "cell_type": "code",
      "execution_count": null,
      "metadata": {
        "id": "vDvPVV2bfZ8a"
      },
      "outputs": [],
      "source": [
        "for turma in notas['Redes Neurais']:\n",
        "    print(turma)"
      ]
    },
    {
      "cell_type": "code",
      "execution_count": null,
      "metadata": {
        "id": "ZkNgftScfZ8a"
      },
      "outputs": [],
      "source": [
        "for turma in notas['Redes Neurais'].items():\n",
        "    print(turma[0], '- Menor nota:', min(turma[1]))"
      ]
    },
    {
      "cell_type": "markdown",
      "metadata": {
        "id": "9temeMnDfZ8a"
      },
      "source": [
        "# Comprehension\n",
        "\n",
        "Recurso que permite aplicar uma operação *para cada item de uma sequência* de forma eficiente.\n",
        "\n",
        "A sintaxe de um comprehension é:\n",
        "```\n",
        "lista = [expressao for variavel_local in objeto]\n",
        "```\n",
        "O resultado é equivalente a:\n",
        "```\n",
        "lista = []\n",
        "for variavel_local in objeto:\n",
        "    lista.append(expressao)\n",
        "```\n",
        "\n",
        "Porém, comprehension é executado de forma muito mais rápida.\n",
        "\n",
        "Tipicamente se emprega *comprehension* para construir listas ou dicionários.\n",
        "\n",
        "---\n",
        "\n",
        "Exemplo: criar uma lista com os valores entre -50 e 50 ao quadrado"
      ]
    },
    {
      "cell_type": "code",
      "execution_count": null,
      "metadata": {
        "id": "jciwE5r5fZ8a"
      },
      "outputs": [],
      "source": [
        "%%timeit\n",
        "quadr = [x**2 for x in range(-50,51)]"
      ]
    },
    {
      "cell_type": "markdown",
      "metadata": {
        "id": "Ybh4Av-LfZ8b"
      },
      "source": [
        "* `range(-50,51)` gera um intervalo entre -50 e 50\n",
        "* comprehension eleva ao quadrado cada número `x` nesse intervalo\n",
        "* o resultado é armazenado na lista `quadr`"
      ]
    },
    {
      "cell_type": "code",
      "execution_count": null,
      "metadata": {
        "id": "XUK0L07qfZ8b"
      },
      "outputs": [],
      "source": [
        "print(quadr)"
      ]
    },
    {
      "cell_type": "code",
      "execution_count": null,
      "metadata": {
        "id": "utzSlzVvfZ8b"
      },
      "outputs": [],
      "source": [
        "%%timeit\n",
        "quadr_for = []\n",
        "for x in range(-50,51):\n",
        "    quadr_for.append(x**2)"
      ]
    },
    {
      "cell_type": "code",
      "execution_count": null,
      "metadata": {
        "id": "prfhrXlNfZ8b"
      },
      "outputs": [],
      "source": [
        "print(quadr_for)"
      ]
    },
    {
      "cell_type": "markdown",
      "metadata": {
        "id": "iRxKbC_ZfZ8b"
      },
      "source": [
        "Podemos compará-los com o comando `%%timeit`"
      ]
    },
    {
      "cell_type": "markdown",
      "metadata": {
        "id": "4FHL7QgYfZ8b"
      },
      "source": [
        "> É possível omitir a variável local caso essa não seja necessária."
      ]
    },
    {
      "cell_type": "code",
      "execution_count": null,
      "metadata": {
        "id": "LTDf4cJkfZ8b"
      },
      "outputs": [],
      "source": [
        "import random as rd\n",
        "\n",
        "n = 20\n",
        "rand_num = [rd.randint(1,100) for _ in range(n)]\n",
        "print(rand_num)"
      ]
    },
    {
      "cell_type": "code",
      "execution_count": null,
      "metadata": {
        "id": "SL-lTqbTfZ8b"
      },
      "outputs": [],
      "source": [
        "x = 4.36363\n",
        "print(round(x,4))"
      ]
    },
    {
      "cell_type": "markdown",
      "metadata": {
        "id": "6GUHegvCfZ8b"
      },
      "source": [
        "---\n",
        "\n",
        "#### <font color=\"blue\">Exercício 1.7 </font>\n",
        "\n",
        "Codifique uma função que use comprehension para retornar uma lista com `n` valores numéricos iniciando em 0 e  com passo `p` permitindo um número float como passo. Arredonde cada número para 5 casas decimais usando a função `round(,5)`\n",
        "\n",
        "Exemplo para n=8, p=0.05\n",
        "```\n",
        "[0.0, 0.05, 0.1, 0.15, 0.2, 0.25, 0.3, 0.35, 0.4]\n",
        "```"
      ]
    },
    {
      "cell_type": "markdown",
      "metadata": {
        "id": "aoBV25ZVfZ8b"
      },
      "source": [
        "# <font color=\"red\">Resumo da aula</font>\n",
        "\n",
        "### <span style=\"color:red\">- Coleções aninhadas</span>\n",
        "### <span style=\"color:red\">- Comprehensions</span>"
      ]
    }
  ],
  "metadata": {
    "kernelspec": {
      "display_name": "Python 3",
      "language": "python",
      "name": "python3"
    },
    "language_info": {
      "codemirror_mode": {
        "name": "ipython",
        "version": 3
      },
      "file_extension": ".py",
      "mimetype": "text/x-python",
      "name": "python",
      "nbconvert_exporter": "python",
      "pygments_lexer": "ipython3",
      "version": "3.11.5"
    },
    "toc": {
      "base_numbering": 1,
      "nav_menu": {},
      "number_sections": true,
      "sideBar": true,
      "skip_h1_title": false,
      "title_cell": "Table of Contents",
      "title_sidebar": "Contents",
      "toc_cell": false,
      "toc_position": {},
      "toc_section_display": true,
      "toc_window_display": false
    },
    "colab": {
      "provenance": [],
      "include_colab_link": true
    }
  },
  "nbformat": 4,
  "nbformat_minor": 0
}