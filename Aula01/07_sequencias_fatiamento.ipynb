{
  "cells": [
    {
      "cell_type": "markdown",
      "metadata": {
        "id": "view-in-github",
        "colab_type": "text"
      },
      "source": [
        "<a href=\"https://colab.research.google.com/github/fhsmartins/MBA/blob/main/Aula01/07_sequencias_fatiamento.ipynb\" target=\"_parent\"><img src=\"https://colab.research.google.com/assets/colab-badge.svg\" alt=\"Open In Colab\"/></a>"
      ]
    },
    {
      "cell_type": "markdown",
      "metadata": {
        "id": "Wu7ck6xvaP6b"
      },
      "source": [
        "# <font color=\"red\"> MBA em IA e Big Data</font>\n",
        "## <span style=\"color:red\">Linguagens e Ferramentas para Inteligência Artificial e Big Data (Python e SQL)</span>\n",
        "\n",
        "### <span style=\"color:darkred\">Python - Aula 07</span>\n",
        "\n",
        "*Leandro Franco de Souza*<br>\n",
        "*ICMC/USP São Carlos*\n",
        "\n",
        "*(com material do Prof. Luis Gustavo Nonato & Moacir Antonelli Ponti)*"
      ]
    },
    {
      "cell_type": "markdown",
      "metadata": {
        "id": "wOM5dIGtaP6d"
      },
      "source": [
        "# <font color=\"red\"> Conteúdo:</font>\n",
        "\n",
        "### <span style=\"color:red\">- Sequências</span>\n",
        "### <span style=\"color:red\">- Fatiamento (*Slicing*)</span>\n",
        "### <span style=\"color:red\">- Operadores `in` `+` e `*`</span>"
      ]
    },
    {
      "cell_type": "markdown",
      "metadata": {
        "id": "fwFG9tNiaP7I"
      },
      "source": [
        "# Relembrando: sequências\n",
        "\n",
        "* Tupla - *tuple*\n",
        "* Lista - *list*\n",
        "* String - *str*\n",
        "\n",
        "O *índice dos elementos* inicia em `0` e vai até `n-1`, onde `n` é o número de elementos na sequência."
      ]
    },
    {
      "cell_type": "code",
      "execution_count": null,
      "metadata": {
        "id": "qRSTJeWcaP7J"
      },
      "outputs": [],
      "source": [
        "# TUPLA\n",
        "\n",
        "# Armazena passaporte, país de origem, ano e mes de vencimento do passaporte\n",
        "passageiro1 = ('GGS1023', 'BRA', 2021, 12)\n",
        "print(passageiro1[0])\n",
        "print(passageiro1[3])"
      ]
    },
    {
      "cell_type": "code",
      "execution_count": null,
      "metadata": {
        "id": "0BrU4QKvOiL-"
      },
      "outputs": [],
      "source": [
        "# tuplas são imutáveis\n",
        "passageiro1[1] = 'ARG'"
      ]
    },
    {
      "cell_type": "code",
      "execution_count": null,
      "metadata": {
        "id": "Q10abLqzaP7R",
        "scrolled": false
      },
      "outputs": [],
      "source": [
        "# LISTA\n",
        "\n",
        "# lista de preços\n",
        "ls = [34, 4.34, 'a', 23, 9, 98]   # Listas são definidas utilizando colchetes [ ]\n",
        "print(ls)\n",
        "print(ls[2])\n",
        "# mutável, podemos alterar elementos\n",
        "ls[2] = 10\n",
        "print(ls)"
      ]
    },
    {
      "cell_type": "code",
      "execution_count": null,
      "metadata": {
        "id": "N7DpYgHTaP7a",
        "scrolled": true
      },
      "outputs": [],
      "source": [
        "# STRING\n",
        "\n",
        "st1 = \"Isso é uma 'string'\"  # Strings são definidas utilizando aspas simples '' ou duplas \"\"\n",
        "st2 = 'Isso é uma outra \"string\"'  # Strings são definidas utilizando aspas simples '' ou duplas \"\"\n",
        "print(st1)\n",
        "print(st2)\n",
        "print(st2[0:6])"
      ]
    },
    {
      "cell_type": "markdown",
      "metadata": {
        "id": "Ce64C5qKaP7p"
      },
      "source": [
        "## Fatiamento (*slicing*)\n",
        "\n",
        "Significa passar um intervalo de índices `[i,j]` e retornar uma sub-sequência.\n",
        "\n",
        "Esse intervalo retorna elementos de `i` até `j-1` (ou seja o valor final *não* é incluído)\n",
        "\n",
        "A sintaxe para realizar um slicing é:\n",
        "```python\n",
        "[i:j]\n",
        "```\n",
        "\n",
        "É possivel omitir um deles com diferentes propósitos:\n",
        "* omitir `i` para iniciar no primeiro elemento e retornar até `j-1`: `[:j]`\n",
        "* omitir `j` para iniciar no em `i` e ir até o final da sequência: `[i:]`\n"
      ]
    },
    {
      "cell_type": "code",
      "execution_count": null,
      "metadata": {
        "id": "264dCr4JaP7q"
      },
      "outputs": [],
      "source": [
        "ls = [1, 5, 13, 50, 1000, 10, 'fim']\n",
        "print(ls)\n",
        "print(ls[0:2])  # recupera elementos ls[0],ls[1] (note que o elemento ls[2] não é recuperado)\n",
        "print(ls[2:])   # recupera elementos a partir de ls[2] em diante\n",
        "print(ls[1:5])  # recupera elementos ls[1],ls[2],ls[3],ls[4]\n",
        "print(ls[:3])   # recupera elementos até ls[2]"
      ]
    },
    {
      "cell_type": "markdown",
      "metadata": {
        "id": "I9SLW_OoOiME"
      },
      "source": [
        "Precisamos ter **muito cuidado** com o índice: é preciso respeitar o tamanho da lista.\n"
      ]
    },
    {
      "cell_type": "markdown",
      "metadata": {
        "id": "WrTiQ_PsOiME"
      },
      "source": [
        "#### Indexando com valores negativos\n",
        "\n",
        "Valores negativos de índices podem ser usados:\n",
        "    - indexam a partir do final da lista, como se fosse uma lista \"circular\".\n",
        "\n",
        "Por exemplo o último valor pode ser acessado com -1\n",
        "\n",
        "Abaixo um exemplo de lista com 5 elementos e seus índices positivos (0 a 4) e negativos (-1 a -5) válidos:\n",
        "\n",
        "```\n",
        " 0  1  2   3   4\n",
        "[1` 5, 13, 50, 100]\n",
        "-5 -4  -3  -2  -1\n",
        "```"
      ]
    },
    {
      "cell_type": "code",
      "execution_count": null,
      "metadata": {
        "id": "B7ICUarrOiMF"
      },
      "outputs": [],
      "source": [
        "ls = [1, 5, 13, 50, 1000, 10, 'fim']\n",
        "print(ls[-1])\n",
        "print(ls[-7])"
      ]
    },
    {
      "cell_type": "code",
      "execution_count": null,
      "metadata": {
        "id": "-C2KKPt2OiMG"
      },
      "outputs": [],
      "source": [
        "print(ls[-3:])"
      ]
    },
    {
      "cell_type": "markdown",
      "metadata": {
        "id": "3C-7qZUJOiMH"
      },
      "source": [
        "O valor final do intervalo continua sendo aberto mesmo com valor negativo"
      ]
    },
    {
      "cell_type": "code",
      "execution_count": null,
      "metadata": {
        "id": "X3M8qReeOiMH"
      },
      "outputs": [],
      "source": [
        "print(ls[-4:-1])"
      ]
    },
    {
      "cell_type": "markdown",
      "metadata": {
        "id": "OOXKslqsOiMI"
      },
      "source": [
        "### Operadores `in` `+` e `*`\n",
        "Operações binárias como <font color='blue'>+</font>, <font color='blue'>-</font> e <font color='blue'>*</font>\n",
        "podem ser aplicadas à sequências, como visto anteriormente. Porém, existem outras operação binárias importantes:\n",
        "\n",
        "### <span style=\"color:blue\">\"in\"</span>\n",
        "- Verifica se um valor está em uma sequência\n",
        "- Testa substrings em strings\n",
        "- Verifica se uma chave está presente em um dicionário\n",
        "- Pode ser combinada com <span style=\"color:blue\">\"not\"</span> para verificar se o valor, substring, ou chave NÃO estão presentes"
      ]
    },
    {
      "cell_type": "code",
      "execution_count": null,
      "metadata": {
        "id": "a1mFoq1EOiMI"
      },
      "outputs": [],
      "source": [
        "t = [1,2,3,4,5]\n",
        "print(3 in t)\n",
        "print(7 in t)\n",
        "print(3 not in t)\n",
        "print(7 not in t)\n"
      ]
    },
    {
      "cell_type": "code",
      "execution_count": null,
      "metadata": {
        "id": "Jd0Wk-nwOiMJ"
      },
      "outputs": [],
      "source": [
        "s = 'abcde'\n",
        "print('cd' in s)\n",
        "print('bcd' in s)\n",
        "print('acd' in s)"
      ]
    },
    {
      "cell_type": "code",
      "execution_count": null,
      "metadata": {
        "id": "HkKd-FJwOiMJ"
      },
      "outputs": [],
      "source": [
        "d = {'Brasil' : 1, 'Espanha' : 0}\n",
        "print('Brasil' in d)\n",
        "print('Espanha' not in d)"
      ]
    },
    {
      "cell_type": "markdown",
      "metadata": {
        "id": "l8AP9CDYOiMJ"
      },
      "source": [
        "__Atenção__:\n",
        "o operador <font color='blue'>in</font> também é usado em loops <font color='blue'>for</font>, porém, com uma conotação diferente."
      ]
    },
    {
      "cell_type": "markdown",
      "metadata": {
        "id": "UxzmIAvwOiMK"
      },
      "source": [
        "### <font color=\"blue\">\"+\"</font>\n",
        "O operador <font color='blue'>+</font> produz uma nova sequência que concatena os argumentos\n"
      ]
    },
    {
      "cell_type": "code",
      "execution_count": null,
      "metadata": {
        "id": "2dYm-BVxOiMK"
      },
      "outputs": [],
      "source": [
        "a = (1,2,3)\n",
        "b = (4,5,6)\n",
        "a = a + b\n",
        "print(a)"
      ]
    },
    {
      "cell_type": "code",
      "execution_count": null,
      "metadata": {
        "id": "3SxObZr3OiMK"
      },
      "outputs": [],
      "source": [
        "print([1,2,3]+[4,5,6])\n",
        "print('hello'+'world')"
      ]
    },
    {
      "cell_type": "markdown",
      "metadata": {
        "id": "l8wJ2GkTOiMK"
      },
      "source": [
        "### <font color=\"blue\">\"*\"</font>\n",
        "O operador <font color=\"blue\">*</font> assume como argumentos um número inteiro e uma sequência\n",
        "- por exemplo:\n",
        "```python\n",
        "3 * [1,2,3]\n",
        "5 * \"---\"\n",
        "(1,2) * 3\n",
        "```\n",
        "- produz uma nova sequência com elementos replicados o número de vezes indicado pelo argumento inteiro"
      ]
    },
    {
      "cell_type": "code",
      "execution_count": null,
      "metadata": {
        "id": "ro7agGpfOiML"
      },
      "outputs": [],
      "source": [
        "print(3*(1,2,3))\n",
        "print([1,2,3]*2)\n",
        "print(5*'ab')"
      ]
    },
    {
      "cell_type": "markdown",
      "metadata": {
        "id": "8f6OCaDvOiML"
      },
      "source": [
        "---\n",
        "\n",
        "**<font color=\"blue\">Exercício 1.5 </font>**\n",
        "\n",
        "Considere a lista `linguagens` declarada abaixo.\n",
        "- Utilizando fatiamento, imprima o subconjunto de elementos entre o segundo e o quarto elemento (inclusive)\n",
        "- Gere uma nova lista chamada `maiores4` contendo os elementos da lista `linguagens` que possuam quatro caracteres ou mais, utilizando a função `len()`.\n",
        "- Gere uma nova lista chamada `j_ou_c` contendo os elementos da lista `linguagens` que começam com a letra 'j' ou com a letra 'c'."
      ]
    },
    {
      "cell_type": "code",
      "execution_count": null,
      "metadata": {
        "id": "CjlXD6LjOiML"
      },
      "outputs": [],
      "source": [
        "linguagens = ['python', 'java', 'c++', 'javascript', 'c#', 'go', 'r', 'cobol', 'ruby', 'lisp']"
      ]
    },
    {
      "cell_type": "markdown",
      "metadata": {
        "id": "2oqvv5XWW5-3"
      },
      "source": [
        "# <font color=\"red\">Resumo da aula</font>\n",
        "\n",
        "### <span style=\"color:red\">- Sequências</span>\n",
        "### <span style=\"color:red\">- Fatiamento (*Slicing*)</span>\n",
        "### <span style=\"color:red\">- Operadores `in` `+` e `*`</span>"
      ]
    }
  ],
  "metadata": {
    "colab": {
      "provenance": [],
      "include_colab_link": true
    },
    "kernelspec": {
      "display_name": "Python 3",
      "language": "python",
      "name": "python3"
    },
    "language_info": {
      "codemirror_mode": {
        "name": "ipython",
        "version": 3
      },
      "file_extension": ".py",
      "mimetype": "text/x-python",
      "name": "python",
      "nbconvert_exporter": "python",
      "pygments_lexer": "ipython3",
      "version": "3.10.12"
    },
    "toc": {
      "base_numbering": 1,
      "nav_menu": {},
      "number_sections": true,
      "sideBar": true,
      "skip_h1_title": false,
      "title_cell": "Table of Contents",
      "title_sidebar": "Contents",
      "toc_cell": false,
      "toc_position": {},
      "toc_section_display": true,
      "toc_window_display": false
    }
  },
  "nbformat": 4,
  "nbformat_minor": 0
}