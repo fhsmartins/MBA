{
  "cells": [
    {
      "cell_type": "markdown",
      "metadata": {
        "id": "view-in-github",
        "colab_type": "text"
      },
      "source": [
        "<a href=\"https://colab.research.google.com/github/fhsmartins/MBA/blob/main/Aula01/09_dicionarios.ipynb\" target=\"_parent\"><img src=\"https://colab.research.google.com/assets/colab-badge.svg\" alt=\"Open In Colab\"/></a>"
      ]
    },
    {
      "cell_type": "markdown",
      "metadata": {
        "id": "Wu7ck6xvaP6b"
      },
      "source": [
        "# <font color=\"red\"> MBA em IA e Big Data</font>\n",
        "## <span style=\"color:red\">Linguagens e Ferramentas para Inteligência Artificial e Big Data (Python e SQL)</span>\n",
        "\n",
        "### <span style=\"color:darkred\">Python - Aula 09</span>\n",
        "\n",
        "*Leandro Franco de Souza*<br>\n",
        "*ICMC/USP São Carlos*\n",
        "\n",
        "*(com material do Prof. Luis Gustavo Nonato & Moacir Antonelli Ponti)*"
      ]
    },
    {
      "cell_type": "markdown",
      "metadata": {
        "id": "wOM5dIGtaP6d"
      },
      "source": [
        "# <font color=\"red\"> Conteúdo:</font>\n",
        "\n",
        "### <span style=\"color:red\">- Dicionários</span>\n",
        "### <span style=\"color:red\">- Métodos de Dicionários</span>"
      ]
    },
    {
      "cell_type": "markdown",
      "metadata": {
        "id": "jPyQEDHNaP7v"
      },
      "source": [
        "## Dicionários\n",
        "\n",
        "Estruturas de dados que guardam um mapeamento entre **chaves** e **valores**\n",
        "\n",
        "- **Chaves**: inteiros, strings ou tuplas (tipos *imutáveis*), faze o papel de um \"índice\"\n",
        "- **Valores**: qualquer tipo\n",
        "\n",
        "É possível definir, modificar, visualizar e apagar os pares chave-valor de um dicionário\n",
        "\n",
        "Sintaxe para um dicionário com `n` elementos:\n",
        "```python\n",
        "{<chave 1>:<valor 1>, <chave 2>:<valor 2>, ..., <chave n>:<valor n>}\n",
        "```"
      ]
    },
    {
      "cell_type": "markdown",
      "metadata": {
        "id": "OHXHP6A1aP7x"
      },
      "source": [
        "---\n",
        "\n",
        "Suponha que queiramos armazenar e gerenciar dados de pessoas em uma organização, como por exemplo uma universidade que possui entre alunos, ex-alunos, professores e funcionários, mais de 1 milhão de pessoas.\n",
        "\n",
        "Idealmente seria interessante acessar os registros de cada um desses utilizando apenas um identificador.\n",
        "\n",
        "Exemplos:\n",
        "* identificador numérico inteiro: número USP, CPF;\n",
        "* combinação letras e números: passaporte brasileiro, placas de carro.\n",
        "\n",
        "<u>Caso de informações de veículos</u>: *placa*, *tipo*, *modelo*, *ano*, e *cor*\n",
        "* gostaríamos de recuperar essas informações por meio da *placa*\n",
        "\n",
        "Uso de lista:\n",
        "* índices são a ordem da posição,\n",
        "\n",
        "Assim um **dicionário** é ideal para usar índices personalizados"
      ]
    },
    {
      "cell_type": "code",
      "execution_count": null,
      "metadata": {
        "id": "HT-Qz-OsaP7x",
        "scrolled": true
      },
      "outputs": [],
      "source": [
        "veic = {\n",
        "    'AAA0A00': ['Carro', 'Fusca', 1978, 'Azul'],\n",
        "    'BBB1B11': ['Carro', 'Voyage', 1985, 'Branco'],\n",
        "    'CCC2C22': ['Carro', 'Del-Rey', 1984, 'Dourado']\n",
        "}"
      ]
    },
    {
      "cell_type": "code",
      "execution_count": null,
      "metadata": {
        "id": "5wjZ9x02aP72",
        "scrolled": true
      },
      "outputs": [],
      "source": [
        "veic['CCC2C22']"
      ]
    },
    {
      "cell_type": "code",
      "execution_count": null,
      "metadata": {
        "id": "QfYECFkqOiMQ"
      },
      "outputs": [],
      "source": [
        "veic[2]"
      ]
    },
    {
      "cell_type": "markdown",
      "metadata": {
        "id": "LmC0LrGbOiMQ"
      },
      "source": [
        "---\n",
        "\n",
        "Dicionários são **mutáveis** como listas,\n",
        "\n"
      ]
    },
    {
      "cell_type": "markdown",
      "metadata": {
        "id": "hKimxdL7aP76"
      },
      "source": [
        "* *Inclusão* de novos pares `chave:valor`, e *modificações* de chaves atuais, podem ser feitas fazendo uma atribuição\n",
        "* *Remover* um par `chav:valor`: utiliza-se `del()` ou o método `pop()`"
      ]
    },
    {
      "cell_type": "code",
      "execution_count": null,
      "metadata": {
        "id": "8WnKQcSWOiMR"
      },
      "outputs": [],
      "source": [
        "# inclusao\n",
        "veic['DDD3D33'] = ['Moto', 'CB', 1995, 'Preta']\n",
        "# modificacao\n",
        "veic['EEE4E44'] = ['Moto', 'Factor', 2001, 'Branca']\n",
        "\n",
        "# exclusao\n",
        "del veic['BBB1B11']\n",
        "veic"
      ]
    },
    {
      "cell_type": "markdown",
      "metadata": {
        "id": "u4MAh73_OiMR"
      },
      "source": [
        "#### Operador `in`\n",
        "\n",
        "Verifica se uma chave pertence ao dicionário\n"
      ]
    },
    {
      "cell_type": "code",
      "execution_count": null,
      "metadata": {
        "id": "cveNaxOaOiMR"
      },
      "outputs": [],
      "source": [
        "'DDD3D33' in veic"
      ]
    },
    {
      "cell_type": "code",
      "execution_count": null,
      "metadata": {
        "id": "CPb7OaGkOiMR"
      },
      "outputs": [],
      "source": [
        "'XXX1X11' in veic"
      ]
    },
    {
      "cell_type": "markdown",
      "metadata": {
        "id": "hjO9oUkBOiMS"
      },
      "source": [
        "#### Métodos de dicionários:\n",
        "* `keys()` retorna as chaves do dicionário\n",
        "Num formato que permite iterar pelas chaves, mas que *não* é uma lista\n",
        "\n",
        "* `values()` e `items()` retornam os valores do dicionário\n",
        "    * `values` retorna uma sequência com os valores apenas, sem as chaves\n",
        "    * `items` retorna uma sequência com tuplas para cada par (chave, valor)"
      ]
    },
    {
      "cell_type": "code",
      "execution_count": null,
      "metadata": {
        "id": "nTpigkrSOiMS"
      },
      "outputs": [],
      "source": [
        "for v in veic.keys():\n",
        "    print(v)"
      ]
    },
    {
      "cell_type": "code",
      "execution_count": null,
      "metadata": {
        "id": "Yt44RrcWaP76"
      },
      "outputs": [],
      "source": [
        "for v in veic.values():\n",
        "    print(v)"
      ]
    },
    {
      "cell_type": "code",
      "execution_count": null,
      "metadata": {
        "id": "9CUuUD7cOiMS"
      },
      "outputs": [],
      "source": [
        "for c,a in veic.items():\n",
        "    print(c)\n",
        "    print(a)"
      ]
    },
    {
      "cell_type": "markdown",
      "metadata": {
        "id": "UwIGzoorOiMS"
      },
      "source": [
        "---\n",
        "**<font color=\"blue\">Exercício 1.6 </font>**\n",
        "\n",
        "\n",
        "Codifique uma função `conta_palavras()` que, a partir de um um texto (string) contendo palavras separadas por vírgulas apenas - considere que não há outras pontuações:\n",
        "1. Inicie criando uma lista de palavras e\n",
        "2. Use um dicionário para contar a frequência de cada palavra no texto, retornando o dicionário obtido.\n",
        "\n",
        "*Dica: use a função `str.split()` para separar uma string em substrings usando como delimitador um caracter especificado por argumento*\n",
        "\n",
        "Exemplo:\n",
        "\n",
        "```\n",
        "nomes = \"ana,fábio,cristina,ana,fábio,ubiratã,ana\"\n",
        "freq = conta_palavras(nomes)\n",
        "print(freq)\n",
        "```\n",
        "Deve gerar:\n",
        "```\n",
        "{'ana': 3, 'fábio': 2, 'cristina': 1, 'ubiratã': 1}\n",
        "```"
      ]
    },
    {
      "cell_type": "markdown",
      "metadata": {
        "id": "RzNkT6X-fnBE"
      },
      "source": [
        "# <font color=\"red\">Resumo da aula</font>\n",
        "\n",
        "### <span style=\"color:red\">- Dicionários</span>\n",
        "### <span style=\"color:red\">- Métodos de Dicionários</span>"
      ]
    }
  ],
  "metadata": {
    "colab": {
      "provenance": [],
      "include_colab_link": true
    },
    "kernelspec": {
      "display_name": "Python 3",
      "language": "python",
      "name": "python3"
    },
    "language_info": {
      "codemirror_mode": {
        "name": "ipython",
        "version": 3
      },
      "file_extension": ".py",
      "mimetype": "text/x-python",
      "name": "python",
      "nbconvert_exporter": "python",
      "pygments_lexer": "ipython3",
      "version": "3.10.12"
    },
    "toc": {
      "base_numbering": 1,
      "nav_menu": {},
      "number_sections": true,
      "sideBar": true,
      "skip_h1_title": false,
      "title_cell": "Table of Contents",
      "title_sidebar": "Contents",
      "toc_cell": false,
      "toc_position": {},
      "toc_section_display": true,
      "toc_window_display": false
    }
  },
  "nbformat": 4,
  "nbformat_minor": 0
}