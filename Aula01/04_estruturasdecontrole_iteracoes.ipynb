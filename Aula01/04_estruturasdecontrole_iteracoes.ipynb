{
  "cells": [
    {
      "cell_type": "markdown",
      "metadata": {
        "id": "view-in-github",
        "colab_type": "text"
      },
      "source": [
        "<a href=\"https://colab.research.google.com/github/fhsmartins/MBA/blob/main/Aula01/04_estruturasdecontrole_iteracoes.ipynb\" target=\"_parent\"><img src=\"https://colab.research.google.com/assets/colab-badge.svg\" alt=\"Open In Colab\"/></a>"
      ]
    },
    {
      "cell_type": "markdown",
      "metadata": {
        "id": "Wu7ck6xvaP6b"
      },
      "source": [
        "# <font color=\"red\"> MBA em IA e Big Data</font>\n",
        "## <span style=\"color:red\">Linguagens e Ferramentas para Inteligência Artificial e Big Data (Python e SQL)</span>\n",
        "\n",
        "### <span style=\"color:darkred\">Python - Aula 04</span>\n",
        "\n",
        "*Leandro Franco de Souza*<br>\n",
        "*ICMC/USP São Carlos*\n",
        "\n",
        "*(com material dos Profs. Luis Gustavo Nonato & Moacir Antonelli Ponti)*"
      ]
    },
    {
      "cell_type": "markdown",
      "metadata": {
        "id": "wOM5dIGtaP6d"
      },
      "source": [
        "# <font color=\"red\"> Conteúdo</font>\n",
        "\n",
        "### <span style=\"color:red\">- Estruturas de controle: condicional</span>\n",
        "### <span style=\"color:red\">- Estruturas de controle: laço de repetição</span>"
      ]
    },
    {
      "cell_type": "markdown",
      "metadata": {
        "id": "mKN5C2u9aP8E"
      },
      "source": [
        "---\n",
        "\n",
        "# Estruturas de controle"
      ]
    },
    {
      "cell_type": "markdown",
      "metadata": {
        "id": "lQgw-QdZaP8E"
      },
      "source": [
        "## Condicional `if`\n",
        "O comando <font color='blue'>if</font> é o principal comando para condicionar o fluxo de execução do código.\n",
        "\n",
        "```python\n",
        "if <condicao>:\n",
        "    <bloco indentado dentro do escopo da condicao verdadeira>\n",
        "```\n",
        "\n",
        "Sempre que a condição for verdadeira (__True__) o bloco de código identado abaixo é executado.\n",
        "\n",
        "***Erros comuns:***\n",
        "1. esquecer \"dois pontos\"\n",
        "1. errar a indentação no código a ser executado se o `if` for verdadeiro"
      ]
    },
    {
      "cell_type": "markdown",
      "metadata": {
        "id": "dFpvIl6SaP8E"
      },
      "source": [
        "#### Indentação\n",
        "\n",
        "Indentação denota blocos de código em um determinado escopo\n",
        "```python\n",
        "if z == 3.45:\n",
        "    x = x + z\n",
        "    z = z / 2\n",
        "```\n",
        "\n",
        "Esse espaço inicial dado às duas linhas abaixo da instrução `if` indicam que as linhas estão no escopo desse `if`\n",
        "\n",
        "**Identação é obrigatória** e deve ser utilizada com cuidado, já que, diferente de linguagens como Java e C++, Python utilizada apenas indentação para delimitar blocos.\n",
        "\n",
        "Linhas de código no mesmo nível de indentação formam um bloco"
      ]
    },
    {
      "cell_type": "code",
      "execution_count": null,
      "metadata": {
        "id": "aHAPXnsFUJX-"
      },
      "outputs": [],
      "source": [
        "condicao = True\n",
        "\n",
        "if condicao:\n",
        "    print(\"Código será executado se condicao for VERDADEIRA (True)\")"
      ]
    },
    {
      "cell_type": "code",
      "execution_count": null,
      "metadata": {
        "id": "UfDa0j71UJX_"
      },
      "outputs": [],
      "source": [
        "condicao = False\n",
        "\n",
        "if condicao:\n",
        "    print(\"Código será executado se condicao for VERDADEIRA (True)\")"
      ]
    },
    {
      "cell_type": "code",
      "execution_count": null,
      "metadata": {
        "id": "Guno5SfGUJYA"
      },
      "outputs": [],
      "source": [
        "condicao = False\n",
        "\n",
        "t = 1\n",
        "\n",
        "if condicao:\n",
        "    print(\"Essa condicao foi verdadeira\")\n",
        "    print(\"do contrario esses prints nao executariam\")\n",
        "    t = 1000\n",
        "print(\"fora do IF, valor de t =\", t)"
      ]
    },
    {
      "cell_type": "markdown",
      "metadata": {
        "id": "jCUySg2RUJYA"
      },
      "source": [
        "---\n",
        "Além da condição principal, também é possível utilizar os comandos __*else*__ (senão) e __*elif*__ (senão se) para controlar o fluxo do programa\n",
        "\n",
        "* `elif` será testado apenas se as condições anteriores forem falsas\n",
        "* um bloco abaixo de `else` será executado quando *todas* as condições anteriores forem falsas"
      ]
    },
    {
      "cell_type": "code",
      "execution_count": null,
      "metadata": {
        "id": "plw5MQ8laP8I"
      },
      "outputs": [],
      "source": [
        "x = 1   # alterar valor de x e testar\n",
        "\n",
        "if x == 3:\n",
        "    print(\"x vale 3\")\n",
        "elif x > 2:\n",
        "    print(\"x é maior do que 2\")\n",
        "else:\n",
        "    print(\"x não vale nem 3 nem é maior do que 2\")\n",
        "\n",
        "print(\"Este print está fora do 'if'\")"
      ]
    },
    {
      "cell_type": "markdown",
      "metadata": {
        "id": "XgJY0H2gaP8L"
      },
      "source": [
        "Python suporta comandos _if_ ternário"
      ]
    },
    {
      "cell_type": "code",
      "execution_count": null,
      "metadata": {
        "id": "3g5GnwpWaP8L"
      },
      "outputs": [],
      "source": [
        "x = 3\n",
        "\n",
        "# O seguinte trecho de código\n",
        "# É utilizado em comprehension\n",
        "\n",
        "\n",
        "# É equivalente a\n",
        "y = 'três' if x == 3 else 'outro número' # isto é um 'if' ternário\n",
        "print(y)\n",
        "\n",
        "# mude o valor de x no início da célula para 3 e veja o resultado"
      ]
    },
    {
      "cell_type": "markdown",
      "metadata": {
        "id": "LDZ18lVqUJYE"
      },
      "source": [
        "---\n",
        "**<font color=\"blue\">Exercício 1.2</font>**\n",
        "\n",
        "Crie uma variável contendo um ano (um valor inteiro entre 0 e 3000)\n",
        "\n",
        "A seguir, se o ano for divisível por 4, exiba na tela 'Pode ser um ano bissexto'; caso contrário exiba 'Definitivamente não é um ano bissexto'\n",
        "\n",
        "__Dica:__ Utilize o operador `%` que retorna o resto da divisão de um número por outro."
      ]
    },
    {
      "cell_type": "markdown",
      "metadata": {
        "id": "xzUMobjSUJYF"
      },
      "source": [
        "## Iterando por sequências\n",
        "\n",
        "Uma tarefa bastante comum é realizar uma ação para cada elemento da sequência, inspecionando cada um dos valores.\n",
        "\n",
        "Por exemplo: um programa que, dada uma palavra, soletre cada uma das letras.\n",
        "\n",
        "```python\n",
        "Entre com uma palavra: excesso\n",
        "Soletrando:\n",
        "    e\n",
        "    x\n",
        "    c\n",
        "    e\n",
        "    s\n",
        "    s\n",
        "    o\n",
        "```\n",
        "\n",
        "Começa com a entrada de uma palavra:"
      ]
    },
    {
      "cell_type": "code",
      "execution_count": null,
      "metadata": {
        "id": "FYcbvyJLUJYG"
      },
      "outputs": [],
      "source": [
        "palavra = str(input())"
      ]
    },
    {
      "cell_type": "code",
      "execution_count": null,
      "metadata": {
        "id": "ihlN5u1HUJYG",
        "scrolled": true
      },
      "outputs": [],
      "source": [
        "print(palavra[0])\n",
        "print(palavra[1])\n",
        "print(palavra[2])\n",
        "print(palavra[3])\n",
        "print(palavra[4])\n",
        "print(palavra[5])\n",
        "print(palavra[6])"
      ]
    },
    {
      "cell_type": "markdown",
      "metadata": {
        "id": "DumHk2_aUJYH"
      },
      "source": [
        "Agora precisamos, **para cada** caracter da palavra, imprimí-lo na tela"
      ]
    },
    {
      "cell_type": "code",
      "execution_count": null,
      "metadata": {
        "id": "1mgew_BCUJYH"
      },
      "outputs": [],
      "source": [
        "palavra = str(input())\n",
        "print(\"soletrando:\")\n",
        "for elemento in palavra:\n",
        "    print(elemento)"
      ]
    },
    {
      "cell_type": "markdown",
      "metadata": {
        "id": "abRYaEIoUJYH"
      },
      "source": [
        "### laço `for`\n",
        "\n",
        "Estrutura de repetição ou iteração chamada de laço `for` (em inglês `for` loop)\n",
        "\n",
        "No exemplo acima o `for` é relativo às linhas 3 e 4:\n",
        "* linha 3: define `caracter` como uma variável\n",
        "    * `caracter` vai receber repetidamente elementos contidos em (`in`) `palavra`\n",
        "* linha 4: para cada atribuição podemos realizar ações\n",
        "    * nesse caso imprimimos o caracter\n",
        "    * note que o `print` está indentado! é obrigatório indentar para colocar comandos dentro do escopo do `for`\n",
        "\n",
        "Sintaxe:\n",
        "```\n",
        "for <variavel> in <sequencia>:\n",
        "    <bloco indentado>\n",
        "    ...\n",
        "    <ultimo comando indentado>\n",
        "    \n",
        "<comando não identado (fora do for)>\n",
        "```\n",
        "\n",
        "Podemos usar o laço `for` para iterar por itens em qualquer sequência, como listas"
      ]
    },
    {
      "cell_type": "code",
      "execution_count": null,
      "metadata": {
        "id": "VnBscHJYUJYI"
      },
      "outputs": [],
      "source": [
        "categorias = ['zebra', 'person', 5, 'airplane', 10, 'car']\n",
        "print(categorias)"
      ]
    },
    {
      "cell_type": "code",
      "execution_count": null,
      "metadata": {
        "id": "i9vtGu71UJYI"
      },
      "outputs": [],
      "source": [
        "for x in categorias:\n",
        "    print(x)"
      ]
    },
    {
      "cell_type": "markdown",
      "metadata": {
        "id": "3Jsl7_g4UJYJ"
      },
      "source": [
        "Podemos combinar `for` e outras estruturas como `if`\n",
        "\n",
        "Abaixo, vamos imprimir apenas elementos que sejam strings\n"
      ]
    },
    {
      "cell_type": "code",
      "execution_count": null,
      "metadata": {
        "id": "tXynem4mUJYK"
      },
      "outputs": [],
      "source": [
        "for elem in categorias:\n",
        "    if type(elem) == str:\n",
        "        print(elem)"
      ]
    },
    {
      "cell_type": "markdown",
      "metadata": {
        "id": "PknshhliKwWg"
      },
      "source": [
        "# <font color=\"red\">Resumo da aula</font>\n",
        "\n",
        "### <span style=\"color:red\">- Estruturas de controle: condicional</span>\n",
        "### <span style=\"color:red\">- Estruturas de controle: laço de repetição</span>"
      ]
    }
  ],
  "metadata": {
    "colab": {
      "provenance": [],
      "include_colab_link": true
    },
    "kernelspec": {
      "display_name": "Python 3 (ipykernel)",
      "language": "python",
      "name": "python3"
    },
    "language_info": {
      "codemirror_mode": {
        "name": "ipython",
        "version": 3
      },
      "file_extension": ".py",
      "mimetype": "text/x-python",
      "name": "python",
      "nbconvert_exporter": "python",
      "pygments_lexer": "ipython3",
      "version": "3.10.12"
    },
    "toc": {
      "base_numbering": 1,
      "nav_menu": {},
      "number_sections": true,
      "sideBar": true,
      "skip_h1_title": false,
      "title_cell": "Table of Contents",
      "title_sidebar": "Contents",
      "toc_cell": false,
      "toc_position": {},
      "toc_section_display": true,
      "toc_window_display": false
    }
  },
  "nbformat": 4,
  "nbformat_minor": 0
}