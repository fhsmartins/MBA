{
  "cells": [
    {
      "cell_type": "markdown",
      "metadata": {
        "id": "view-in-github",
        "colab_type": "text"
      },
      "source": [
        "<a href=\"https://colab.research.google.com/github/fhsmartins/MBA/blob/main/Aula01/14_modulos_math_random.ipynb\" target=\"_parent\"><img src=\"https://colab.research.google.com/assets/colab-badge.svg\" alt=\"Open In Colab\"/></a>"
      ]
    },
    {
      "cell_type": "markdown",
      "metadata": {
        "id": "pRTqGHgAdrDZ"
      },
      "source": [
        "# <font color=\"red\"> MBA em IA e Big Data</font>\n",
        "## <span style=\"color:red\">Linguagens e Ferramentas para Inteligência Artificial e Big Data (Python e SQL)</span>\n",
        "\n",
        "### <span style=\"color:darkred\">Python - Aula 14</span>\n",
        "\n",
        "*Leandro Franco de Souza*<br>\n",
        "*ICMC/USP São Carlos*\n",
        "\n",
        "*(com material do Prof. Moacir Antonelli Ponti)*"
      ]
    },
    {
      "cell_type": "markdown",
      "metadata": {
        "id": "6gELkIlGdrDd"
      },
      "source": [
        "# <font color=\"red\"> Conteúdo</font>\n",
        "\n",
        "### <span style=\"color:red\">- Módulos Python</span>\n",
        "### <span style=\"color:red\">- Módulos: math e random</span>\n"
      ]
    },
    {
      "cell_type": "markdown",
      "metadata": {
        "id": "wlixoe76drDg"
      },
      "source": [
        "# Módulos Python\n",
        "\n",
        "A linguagem Python vem com funções nativas em sua biblioteca padrão (*standard library*)\n",
        "\n",
        "Porém é possível carregar outros módulos e usar suas funções.\n",
        "\n",
        "Há centenas de módulos que incluem:\n",
        "* Funções matemáticas\n",
        "* Desenvolvimento de interfaces gráficas (GUI)\n",
        "* Geração de números pseudo-aleatórios\n",
        "* Geração de gráficos\n",
        "* Programação de bases de dados e tabelas"
      ]
    },
    {
      "cell_type": "markdown",
      "metadata": {
        "id": "Atz6yoNEvVUT"
      },
      "source": [
        "---\n",
        "## `import`, `from` e `as`\n",
        "Usamos `import` e `from` para carregar funcionalidades de módulos\n",
        "\n",
        "A forma mais simples é usar apenas:\n",
        "\n",
        "`import <modulo>`\n",
        "* Na sequência podemos usar o nome do módulo como *prefixo* para acessar suas funções e constantes"
      ]
    },
    {
      "cell_type": "markdown",
      "metadata": {
        "id": "F2uTz_OxvVUT"
      },
      "source": [
        "Como alternativa ainda podemos usar\n",
        "\n",
        "`import <modulo> as <apelido>`\n",
        "\n",
        "* Torna o nome do módulo mais fácil de digitar"
      ]
    },
    {
      "cell_type": "markdown",
      "metadata": {
        "id": "sF9jmtZtvVUU"
      },
      "source": [
        "E ainda usar `from` para importar apenas parte do módulo\n",
        "\n",
        "`from <modulo> import <parte>`\n",
        "\n",
        "\n",
        "* Essa é uma boa opção pois assim poupamos memória"
      ]
    },
    {
      "cell_type": "markdown",
      "metadata": {
        "id": "dJYyc8g5vVUU"
      },
      "source": [
        "---\n",
        "\n",
        "## `math`\n",
        "\n",
        "https://docs.python.org/3/library/math.html"
      ]
    },
    {
      "cell_type": "code",
      "execution_count": null,
      "metadata": {
        "id": "1YLJQRSgvVUV"
      },
      "outputs": [],
      "source": [
        "import math\n",
        "\n",
        "# logaritmo natural\n",
        "print(math.log(31))\n",
        "\n",
        "# especificando a base\n",
        "print(math.log(32, 2))"
      ]
    },
    {
      "cell_type": "code",
      "execution_count": null,
      "metadata": {
        "id": "PzWU0IOKvVUW"
      },
      "outputs": [],
      "source": [
        "# soma de floats que evita erros de precisão\n",
        "num_floats = [0.1, 0.1, 0.1, 0.1, 0.1, 0.1, 0.1, 0.1, 0.1, 0.1]\n",
        "# usando função padrão\n",
        "print(sum(num_floats))\n",
        "print(math.fsum(num_floats))"
      ]
    },
    {
      "cell_type": "code",
      "execution_count": null,
      "metadata": {
        "id": "f4wHDo-vvVUX"
      },
      "outputs": [],
      "source": [
        "# constantes\n",
        "print(math.pi)\n",
        "print(math.e)\n",
        "print(math.inf)\n",
        "print(math.nan)"
      ]
    },
    {
      "cell_type": "markdown",
      "metadata": {
        "id": "auW931QrvVUX"
      },
      "source": [
        "#### Exemplo de uso de `from <modulo> import <parte>`"
      ]
    },
    {
      "cell_type": "code",
      "execution_count": null,
      "metadata": {
        "id": "T4CmrYrUvVUY"
      },
      "outputs": [],
      "source": [
        "from math import pi\n",
        "print(pi)"
      ]
    },
    {
      "cell_type": "code",
      "execution_count": null,
      "metadata": {
        "id": "EzplcqqYvVUY"
      },
      "outputs": [],
      "source": [
        "from math import log, sqrt\n",
        "print(log(1001, 3))\n",
        "print(sqrt(100))"
      ]
    },
    {
      "cell_type": "markdown",
      "metadata": {
        "id": "wTs2oeW7vVUY"
      },
      "source": [
        "---\n",
        "\n",
        "## `random`\n",
        "\n",
        "Gera números pseudo-aleatórios para simulações. Há muitas funções, alguns exemplos:\n",
        "\n",
        "* `random()`: número aleatório entre 0 e 1\n",
        "* `uniform(a,b)`: número aleatório float entre a e b, sendo que os valores são equiprováveis\n",
        "* `randint(a,b)`: número aleatório inteiro entre a e b, sendo que os valores são equiprováveis\n",
        "* `shuffle(list)`: embaralha uma lista\n",
        "* `sample(list, k)`: sorteia k elementos de uma lista e retorna essa amostra aleatória\n",
        "* `seed(s)`: define a semente da sequência aleatória, permitindo reproduzir uma mesma simulação"
      ]
    },
    {
      "cell_type": "markdown",
      "metadata": {
        "id": "JAVsiTAnvVUZ"
      },
      "source": [
        "#### Exemplo de uso de `import as`"
      ]
    },
    {
      "cell_type": "code",
      "execution_count": null,
      "metadata": {
        "id": "Tt5ambkGvVUZ"
      },
      "outputs": [],
      "source": [
        "# podemos usar `rd` ao invés de `random` para acessar o módulo\n",
        "import random as rd"
      ]
    },
    {
      "cell_type": "code",
      "execution_count": null,
      "metadata": {
        "id": "V0xwIxd_vVUZ"
      },
      "outputs": [],
      "source": [
        "# sorteia um número aleatório\n",
        "print(rd.random())\n",
        "\n",
        "# exemplo: criando uma lista de números aleatórios\n",
        "num_aleat = []\n",
        "for i in range(5):\n",
        "    num_aleat.append(rd.random())\n",
        "\n",
        "print(num_aleat)"
      ]
    },
    {
      "cell_type": "code",
      "execution_count": null,
      "metadata": {
        "id": "IEqcxutbvVUZ",
        "scrolled": true
      },
      "outputs": [],
      "source": [
        "# sorteia um numero aleatorio inteiro uniforme entre \"a\" e \"b\"\n",
        "print(rd.randint(1,10))\n",
        "\n",
        "# exemplo: criando uma lista de números aleatórios\n",
        "numint_1_10 = []\n",
        "for i in range(30):\n",
        "    numint_1_10.append(rd.randint(1,10))\n",
        "\n",
        "print(numint_1_10)"
      ]
    },
    {
      "cell_type": "markdown",
      "metadata": {
        "id": "WIKoBbVevVUa"
      },
      "source": [
        "#### Funções com listas"
      ]
    },
    {
      "cell_type": "code",
      "execution_count": null,
      "metadata": {
        "id": "mXZ7f6HxvVUa"
      },
      "outputs": [],
      "source": [
        "numeros = [111, 222, 333, 444, 555, 666, 777, 888, 999]\n",
        "\n",
        "print(rd.sample(numeros,4))\n",
        "\n",
        "rd.shuffle(numeros)\n",
        "print(numeros)"
      ]
    },
    {
      "cell_type": "markdown",
      "metadata": {
        "id": "50tj66XzvVUa"
      },
      "source": [
        "#### Controlando a geração pseudo-aleatória com `seed()`\n",
        "\n",
        "Os números gerados não são realmente aleatórios, mas pseudo-aleatórios\n",
        "\n",
        "Assim, é possível obter a sequência gerada se definirmos a \"semente\""
      ]
    },
    {
      "cell_type": "code",
      "execution_count": null,
      "metadata": {
        "id": "gId0D06bvVUb"
      },
      "outputs": [],
      "source": [
        "rd.seed('a')\n",
        "\n",
        "# criando uma lista de números aleatórios\n",
        "numint_1_10 = []\n",
        "for i in range(10):\n",
        "    numint_1_10.append(rd.randint(1,10))\n",
        "\n",
        "print(numint_1_10)"
      ]
    },
    {
      "cell_type": "markdown",
      "metadata": {
        "id": "LOeLg3Zdg0Q_"
      },
      "source": [
        "# <font color=\"red\">Resumo da aula</font>\n",
        "\n",
        "### <span style=\"color:red\">- Módulos Python</span>\n",
        "### <span style=\"color:red\">- Módulos: math e random</span>"
      ]
    }
  ],
  "metadata": {
    "colab": {
      "provenance": [],
      "include_colab_link": true
    },
    "kernelspec": {
      "display_name": "Python 3",
      "language": "python",
      "name": "python3"
    },
    "language_info": {
      "codemirror_mode": {
        "name": "ipython",
        "version": 3
      },
      "file_extension": ".py",
      "mimetype": "text/x-python",
      "name": "python",
      "nbconvert_exporter": "python",
      "pygments_lexer": "ipython3",
      "version": "3.11.5"
    },
    "toc": {
      "base_numbering": 1,
      "nav_menu": {},
      "number_sections": true,
      "sideBar": true,
      "skip_h1_title": false,
      "title_cell": "Table of Contents",
      "title_sidebar": "Contents",
      "toc_cell": false,
      "toc_position": {},
      "toc_section_display": true,
      "toc_window_display": false
    }
  },
  "nbformat": 4,
  "nbformat_minor": 0
}