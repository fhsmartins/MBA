{
  "cells": [
    {
      "cell_type": "markdown",
      "metadata": {
        "id": "view-in-github",
        "colab_type": "text"
      },
      "source": [
        "<a href=\"https://colab.research.google.com/github/fhsmartins/MBA/blob/main/Aula01/13_expressoeslambda.ipynb\" target=\"_parent\"><img src=\"https://colab.research.google.com/assets/colab-badge.svg\" alt=\"Open In Colab\"/></a>"
      ]
    },
    {
      "cell_type": "markdown",
      "metadata": {
        "id": "t2OThvvZhGaH"
      },
      "source": [
        "# <font color=\"red\"> MBA em IA e Big Data</font>\n",
        "## <span style=\"color:red\">Linguagens e Ferramentas para Inteligência Artificial e Big Data (Python e SQL)</span>\n",
        "\n",
        "### <span style=\"color:darkred\">Python - Aula 13</span>\n",
        "\n",
        "*Leandro Franco de Souza*<br>\n",
        "*ICMC/USP São Carlos*\n",
        "\n",
        "*(com material do Prof. Moacir Antonelli Ponti)*"
      ]
    },
    {
      "cell_type": "markdown",
      "metadata": {
        "id": "F-6ctcQZhGaJ"
      },
      "source": [
        "# <font color=\"red\"> Conteúdo:</font>\n",
        "\n",
        "### <span style=\"color:red\">- Expressões Lambda</span>"
      ]
    },
    {
      "cell_type": "markdown",
      "metadata": {
        "id": "bm8FgCLLhGaK"
      },
      "source": [
        "---\n",
        "# Expressões Lambda\n",
        "\n",
        "Funções **anônimas** que podem ser usadas como *expressão*.\n",
        "\n",
        "\n",
        "* por ser expressão, não declaração, pode ser usada quando `def` não é possível, por exemplo dentro de um comprehension.\n",
        "\n",
        "Sintaxe:\n",
        "```python\n",
        "lambda <arg1>, <arg2>, ..., <argn>: <expressao>\n",
        "```\n",
        "A `expressao` será o valor de retorno\n",
        "\n",
        "Um exemplo simples, em que desejamos elevar um número ao quadrado"
      ]
    },
    {
      "cell_type": "code",
      "execution_count": null,
      "metadata": {
        "id": "dL81NX3hhGaK",
        "outputId": "74af435c-3672-43f0-c0bf-6c44cba9015c"
      },
      "outputs": [
        {
          "data": {
            "text/plain": [
              "36"
            ]
          },
          "execution_count": 1,
          "metadata": {},
          "output_type": "execute_result"
        }
      ],
      "source": [
        "def quadrado(x):\n",
        "    return x**2\n",
        "\n",
        "quadrado(6)"
      ]
    },
    {
      "cell_type": "markdown",
      "metadata": {
        "id": "VUujcihKhGaL"
      },
      "source": [
        "Usando uma expressão lambda utilizaríamos"
      ]
    },
    {
      "cell_type": "code",
      "execution_count": null,
      "metadata": {
        "id": "uTeaUOuchGaL",
        "outputId": "d61b7842-ce48-4fc2-b503-c731b1bd3a88"
      },
      "outputs": [
        {
          "data": {
            "text/plain": [
              "<function __main__.<lambda>(x)>"
            ]
          },
          "execution_count": 2,
          "metadata": {},
          "output_type": "execute_result"
        }
      ],
      "source": [
        "lambda x: x**2"
      ]
    },
    {
      "cell_type": "markdown",
      "metadata": {
        "id": "dKiSUH-ChGaL"
      },
      "source": [
        "Mas sendo **anônima** não é possível invocá-la diretamente, precisamos associá-la a um objeto"
      ]
    },
    {
      "cell_type": "code",
      "execution_count": null,
      "metadata": {
        "id": "45j_DbOIhGaM",
        "outputId": "8a9526db-8fbd-4a48-d433-7c1d28c85a06"
      },
      "outputs": [
        {
          "data": {
            "text/plain": [
              "36"
            ]
          },
          "execution_count": 3,
          "metadata": {},
          "output_type": "execute_result"
        }
      ],
      "source": [
        "fquad = lambda x: x**2\n",
        "\n",
        "fquad(6)"
      ]
    },
    {
      "cell_type": "markdown",
      "metadata": {
        "id": "sYeeXD0FhGaM"
      },
      "source": [
        "**Exemplos** de aplicação incluem seu **uso dentro de comprehensions**\n",
        "\n",
        "Abaixo um comprehension para avaliar uma lista de números inteiros e criar uma lista contendo 'even' para números pares e 'odd' para números ímpares"
      ]
    },
    {
      "cell_type": "code",
      "execution_count": null,
      "metadata": {
        "id": "ELWlyocJhGaM",
        "outputId": "1dd22eab-cca1-4991-8b02-3c0407e52433"
      },
      "outputs": [
        {
          "name": "stdout",
          "output_type": "stream",
          "text": [
            "3 odd\n",
            "10 even\n"
          ]
        }
      ],
      "source": [
        "# retorna 'even' para x par e 'odd' para x ímpar\n",
        "f = lambda x: 'even' if (x%2 == 0) else 'odd'\n",
        "\n",
        "print(3, f(3))\n",
        "print(10, f(10))"
      ]
    },
    {
      "cell_type": "code",
      "execution_count": null,
      "metadata": {
        "id": "oeQi9nf_hGaM",
        "outputId": "03b02c9a-58ce-4810-8726-36331c0b1e45"
      },
      "outputs": [
        {
          "name": "stdout",
          "output_type": "stream",
          "text": [
            "['odd', 'odd', 'even', 'even', 'even', 'odd', 'even', 'odd']\n"
          ]
        }
      ],
      "source": [
        "lista_numeros = [1, 1, 2, 2, 10, 11, 12, 13]\n",
        "\n",
        "odd_or_even = [f(i) for i in lista_numeros]\n",
        "print(odd_or_even)"
      ]
    },
    {
      "cell_type": "code",
      "execution_count": null,
      "metadata": {
        "id": "WRNLs8MkhGaM",
        "outputId": "832ef47c-435c-402f-f346-067b4050e28c"
      },
      "outputs": [
        {
          "name": "stdout",
          "output_type": "stream",
          "text": [
            "[1, 1, 11, 13]\n"
          ]
        }
      ],
      "source": [
        "filter_odd = [i for i in lista_numeros if f(i) == 'odd']\n",
        "print(filter_odd)"
      ]
    },
    {
      "cell_type": "markdown",
      "metadata": {
        "id": "7orjpHhwhGaM"
      },
      "source": [
        "---\n",
        "### Expressão lambda como parte de argumento para função\n",
        "\n",
        "Em algumas funções podemos passar por argumento uma expressão.\n",
        "\n",
        "Por exemplo ao ordenar elementos numa lista"
      ]
    },
    {
      "cell_type": "code",
      "execution_count": null,
      "metadata": {
        "id": "B6aVuBsKhGaM",
        "outputId": "c3bb36fa-4a0b-40c1-a3bc-1147ccecac5c"
      },
      "outputs": [
        {
          "name": "stdout",
          "output_type": "stream",
          "text": [
            "Betty Holberton\n",
            "Alan Turing\n",
            "Dennis Ritchie\n",
            "Grace Hopper\n"
          ]
        }
      ],
      "source": [
        "cientistas_da_computacao = ['Betty Holberton', 'Alan Turing', 'Dennis Ritchie', 'Grace Hopper']\n",
        "\n",
        "_ = [print(i) for i in cientistas_da_computacao]"
      ]
    },
    {
      "cell_type": "code",
      "execution_count": null,
      "metadata": {
        "id": "t-y1Nd_QhGaN",
        "outputId": "409efc47-86b9-4e33-e391-479dc0f62bf7"
      },
      "outputs": [
        {
          "name": "stdout",
          "output_type": "stream",
          "text": [
            "['Alan Turing', 'Betty Holberton', 'Dennis Ritchie', 'Grace Hopper']\n"
          ]
        }
      ],
      "source": [
        "cientistas_da_computacao.sort()\n",
        "print(cientistas_da_computacao)"
      ]
    },
    {
      "cell_type": "markdown",
      "metadata": {
        "id": "PR0JRWxjhGaN"
      },
      "source": [
        "Gostaríamos de ordenar pelo sobrenome!\n",
        "\n",
        "O método `sort()` possui um argumento `key` para definir o critério de ordenação\n"
      ]
    },
    {
      "cell_type": "code",
      "execution_count": null,
      "metadata": {
        "id": "h_ZcjYWzhGaN",
        "outputId": "d089db56-6cf7-45be-f267-e590f2ea1425"
      },
      "outputs": [
        {
          "name": "stdout",
          "output_type": "stream",
          "text": [
            "Help on built-in function sort:\n",
            "\n",
            "sort(*, key=None, reverse=False) method of builtins.list instance\n",
            "    Sort the list in ascending order and return None.\n",
            "    \n",
            "    The sort is in-place (i.e. the list itself is modified) and stable (i.e. the\n",
            "    order of two equal elements is maintained).\n",
            "    \n",
            "    If a key function is given, apply it once to each list item and sort them,\n",
            "    ascending or descending, according to their function values.\n",
            "    \n",
            "    The reverse flag can be set to sort in descending order.\n",
            "\n"
          ]
        }
      ],
      "source": [
        "help(cientistas_da_computacao.sort)"
      ]
    },
    {
      "cell_type": "code",
      "execution_count": null,
      "metadata": {
        "id": "dYptiU7DhGaN",
        "outputId": "bce897a0-6bbf-4648-8693-b1ab0e2685a7"
      },
      "outputs": [
        {
          "name": "stdout",
          "output_type": "stream",
          "text": [
            "['Alan Turing', 'Grace Hopper', 'Dennis Ritchie', 'Betty Holberton']\n"
          ]
        }
      ],
      "source": [
        "# usando como chave o tamanho\n",
        "cientistas_da_computacao.sort(key=len)\n",
        "print(cientistas_da_computacao)"
      ]
    },
    {
      "cell_type": "markdown",
      "metadata": {
        "id": "ZgXgRjkQhGaN"
      },
      "source": [
        "Ou com uma **lambda expression** que retorne o último nome"
      ]
    },
    {
      "cell_type": "code",
      "execution_count": null,
      "metadata": {
        "id": "lzTtWyMghGaN",
        "outputId": "e3615fc7-a4e2-4085-bb3f-18daedde3a05"
      },
      "outputs": [
        {
          "name": "stdout",
          "output_type": "stream",
          "text": [
            "['Alan', 'Turing']\n"
          ]
        }
      ],
      "source": [
        "print(cientistas_da_computacao[0].split())"
      ]
    },
    {
      "cell_type": "code",
      "execution_count": null,
      "metadata": {
        "id": "6kQLmWH7hGaN",
        "outputId": "b5ba6c95-e258-4256-8b77-8000950ee307"
      },
      "outputs": [
        {
          "name": "stdout",
          "output_type": "stream",
          "text": [
            "ritchie\n"
          ]
        }
      ],
      "source": [
        "print(cientistas_da_computacao[2].split()[-1].lower())"
      ]
    },
    {
      "cell_type": "code",
      "execution_count": null,
      "metadata": {
        "id": "DmTkXs5DhGaN",
        "outputId": "2416d5ff-29d9-4edf-e3ac-6b16e5512dc9"
      },
      "outputs": [
        {
          "name": "stdout",
          "output_type": "stream",
          "text": [
            "['Betty Holberton', 'Grace Hopper', 'Dennis Ritchie', 'Alan Turing']\n"
          ]
        }
      ],
      "source": [
        "cientistas_da_computacao.sort(key = lambda nome: nome.split()[-1].lower())\n",
        "print(cientistas_da_computacao)"
      ]
    },
    {
      "cell_type": "markdown",
      "metadata": {
        "id": "z8vp7RQ5hGaN"
      },
      "source": [
        "---\n",
        "\n",
        "#### <font color=\"blue\">Exercício 2.3 </font>\n",
        "\n",
        "Escreva uma expressão lambda que permita receber uma string contendo duas palavras relativas ao nome de uma pessoa e seu sobrenome. Essas são separadas por um ou mais espaços em branco. A expressão deve retornar o nome no formato: \"SOBRENOME, N.\"\n",
        "\n",
        "Exemplo:\n",
        "```\n",
        "nome = 'Dennis   ritchie'\n",
        "```\n",
        "\n",
        "Retorno:\n",
        "```\n",
        "RITCHIE, D.\n",
        "```\n",
        "\n",
        "A seguir escreva um comprehension que percorra uma lista contendo nomes e gere uma nova lista com os nomes no formato \"SOBRENOME, N.\"\n",
        "\n",
        "Exemplo:\n",
        "```\n",
        "nomes = ['Dennis   ritchie', 'ALAN  Turing', 'betty Holberton']\n",
        "```\n",
        "\n",
        "Retorno:\n",
        "```\n",
        "['RITCHIE, D.', 'TURING, A.', 'HOLBERTON, B.']\n",
        "```\n"
      ]
    },
    {
      "cell_type": "markdown",
      "metadata": {
        "id": "ujtal_oLhGaN"
      },
      "source": [
        "# <font color=\"red\">Resumo da aula</font>\n",
        "\n",
        "### <span style=\"color:red\">- Expressões Lambda</span>"
      ]
    }
  ],
  "metadata": {
    "kernelspec": {
      "display_name": "Python 3",
      "language": "python",
      "name": "python3"
    },
    "language_info": {
      "codemirror_mode": {
        "name": "ipython",
        "version": 3
      },
      "file_extension": ".py",
      "mimetype": "text/x-python",
      "name": "python",
      "nbconvert_exporter": "python",
      "pygments_lexer": "ipython3",
      "version": "3.11.5"
    },
    "toc": {
      "base_numbering": 1,
      "nav_menu": {},
      "number_sections": true,
      "sideBar": true,
      "skip_h1_title": false,
      "title_cell": "Table of Contents",
      "title_sidebar": "Contents",
      "toc_cell": false,
      "toc_position": {},
      "toc_section_display": true,
      "toc_window_display": false
    },
    "colab": {
      "provenance": [],
      "include_colab_link": true
    }
  },
  "nbformat": 4,
  "nbformat_minor": 0
}