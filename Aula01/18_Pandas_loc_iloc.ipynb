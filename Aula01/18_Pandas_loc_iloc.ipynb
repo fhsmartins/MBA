{
  "cells": [
    {
      "cell_type": "markdown",
      "metadata": {
        "id": "view-in-github",
        "colab_type": "text"
      },
      "source": [
        "<a href=\"https://colab.research.google.com/github/fhsmartins/MBA/blob/main/Aula01/18_Pandas_loc_iloc.ipynb\" target=\"_parent\"><img src=\"https://colab.research.google.com/assets/colab-badge.svg\" alt=\"Open In Colab\"/></a>"
      ]
    },
    {
      "cell_type": "markdown",
      "metadata": {
        "id": "pRTqGHgAdrDZ"
      },
      "source": [
        "# <font color=\"red\"> MBA em IA e Big Data</font>\n",
        "## <span style=\"color:red\">Linguagens e Ferramentas para Inteligência Artificial e Big Data (Python e SQL)</span>\n",
        "\n",
        "### <span style=\"color:darkred\">Python - Aula 18</span>\n",
        "\n",
        "*Leandro Franco de Souza*<br>\n",
        "*ICMC/USP São Carlos*\n",
        "\n",
        "*(com material do Prof. Moacir Antonelli Ponti)*"
      ]
    },
    {
      "cell_type": "markdown",
      "metadata": {
        "id": "6gELkIlGdrDd"
      },
      "source": [
        "# <font color=\"red\">Conteúdo:</font>\n",
        "\n",
        "### <span style=\"color:red\">- Modulo: Pandas</span>\n",
        "### <span style=\"color:red\">- Pandas: Dataframe</span>\n",
        "### <span style=\"color:red\">- Localização (*loc* e *iloc*)</span>"
      ]
    },
    {
      "cell_type": "markdown",
      "metadata": {
        "id": "CJ0huqaKvVUb"
      },
      "source": [
        "---\n",
        "\n",
        "# `pandas`\n",
        "\n",
        "<font color='blue'>Pandas</font> é um pacote python construído com base no <font color='blue'>numpy</font> e <font color='blue'>matplotlib</font> (a serem vistos posteriormente) que busca organizar dados no formato de tabela\n",
        "\n",
        "O pacote <font color='blue'>pandas</font> fornece ainda um conjunto de funcionalidades para processar e tratar dados\n",
        "\n",
        "O <font colo='blue'>pandas</font> organiza os dados em três tipos de estruturas:\n",
        "- Series\n",
        "- DataFrame\n",
        "- Panel (*não* serão abordados neste curso)"
      ]
    },
    {
      "cell_type": "markdown",
      "metadata": {
        "id": "uj5AOOwmvVUb"
      },
      "source": [
        "## Carregando arquivos\n",
        "Pandas permite carregar (e escrever) arquivos de diversos formatos:\n",
        "- Arquivos de texto\n",
        "- Dados estruturados (JSON, XML, HTML, CSV)\n",
        "- Excel (depende das biblitoecas xlrd e  openpyxl)\n",
        "- Direto de base de dados\n",
        "  - pandas.io.sql  (read_frame)"
      ]
    },
    {
      "cell_type": "markdown",
      "metadata": {
        "id": "ey_WQUP2vVUb"
      },
      "source": [
        "A célula abaixo irá criar um arquivo tipo '.csv' onde os elementos das colunas são separados por vírgula (padrão para arquivos '.csv')"
      ]
    },
    {
      "cell_type": "code",
      "execution_count": null,
      "metadata": {
        "id": "Td2Ug9GYvVUb"
      },
      "outputs": [],
      "source": [
        "%%writefile data_access.csv\n",
        "day,month,num access,category\n",
        "31,5,9241,student\n",
        "31,5,830,teacher\n",
        "31,5,45,coordinator\n",
        "3,6,9102,student\n",
        "3,6,1022,teacher\n",
        "3,6,30,coordinator\n",
        "4,6,10301,student\n",
        "4,6,781,teacher\n",
        "4,6,81,coordinator"
      ]
    },
    {
      "cell_type": "code",
      "execution_count": null,
      "metadata": {
        "id": "dQvSQ-hSvVUc"
      },
      "outputs": [],
      "source": [
        "# Carregar um CSV simples\n",
        "import pandas as pd # importamos a biblioteca\n",
        "\n",
        "df = pd.read_csv('data_access.csv')  # o método read_csv carrega um arquivo no formato '.csv'\n",
        "                                # a primeira linha do arquivo se torna os rótulos das colunas\n",
        "                                # como os indices não foram especificados, são criados automaticamente\n",
        "\n",
        "df"
      ]
    },
    {
      "cell_type": "code",
      "execution_count": null,
      "metadata": {
        "id": "dtnfNEo8vVUc"
      },
      "outputs": [],
      "source": [
        "type(df)"
      ]
    },
    {
      "cell_type": "markdown",
      "metadata": {
        "id": "n1i3Nbc8vVUc"
      },
      "source": [
        "## DataFrames\n",
        "<font color='blue'>DataFrames</font> é uma estrutura de dados do <font color='blue'>pandas</font> semelhante a uma planilha de cálculo (como uma planilha excel).\n",
        "\n",
        "Ao invés de interagir com o mouse e teclado, iremos utilizar a linguagem Python.\n",
        "\n",
        "Linhas e colunas são indexadas por rótulos."
      ]
    },
    {
      "cell_type": "markdown",
      "metadata": {
        "id": "9eodgOmfvVUc"
      },
      "source": [
        "Métodos para analisar um DataFrame:\n",
        "* `info()`: informação geral\n",
        "* `head()`: primeiras linhas\n",
        "* `sample(n)`: amostra de n linhas"
      ]
    },
    {
      "cell_type": "code",
      "execution_count": null,
      "metadata": {
        "id": "BkbBf_9OlnPu"
      },
      "outputs": [],
      "source": [
        "df.info()"
      ]
    },
    {
      "cell_type": "code",
      "execution_count": null,
      "metadata": {
        "id": "H_WOwAyUvVUc"
      },
      "outputs": [],
      "source": [
        "df.head()"
      ]
    },
    {
      "cell_type": "code",
      "execution_count": null,
      "metadata": {
        "id": "HJkfrev_vVUd"
      },
      "outputs": [],
      "source": [
        "df.sample(4)"
      ]
    },
    {
      "cell_type": "markdown",
      "metadata": {
        "id": "ojWBpMxcvVUd"
      },
      "source": [
        "Atributos úteis de um dataframe\n",
        "- `shape`: contém o tamanho do dataframe em uma tupla contendo o número de linhas e de colunas\n",
        "- `dtypes`: contém as colunas e seus tipos\n",
        "- `columns`: contem uma lista com o nome das colunas"
      ]
    },
    {
      "cell_type": "code",
      "execution_count": null,
      "metadata": {
        "id": "T75FU_FpvVUd"
      },
      "outputs": [],
      "source": [
        "df.dtypes"
      ]
    },
    {
      "cell_type": "code",
      "execution_count": null,
      "metadata": {
        "id": "dgIICFc_vVUe"
      },
      "outputs": [],
      "source": [
        "l, c = df.shape\n",
        "print(l)\n",
        "print(c)"
      ]
    },
    {
      "cell_type": "code",
      "execution_count": null,
      "metadata": {
        "id": "bx01os61vVUe"
      },
      "outputs": [],
      "source": [
        "df.columns"
      ]
    },
    {
      "cell_type": "markdown",
      "metadata": {
        "id": "9dj7ZIscvVUe"
      },
      "source": [
        "### Acessando Colunas\n",
        "\n",
        "- por rótulo dentro de colchetes []\n",
        "- por rótulo como atributo (não recomendado, pois existem restrições)\n",
        "- lista de rótulos dentro de colchetes [] (acessa várias colunas)"
      ]
    },
    {
      "cell_type": "code",
      "execution_count": null,
      "metadata": {
        "id": "UGxCMDepvVUe"
      },
      "outputs": [],
      "source": [
        "print(df['day'])"
      ]
    },
    {
      "cell_type": "code",
      "execution_count": null,
      "metadata": {
        "id": "oMr2Ow6VvVUf"
      },
      "outputs": [],
      "source": [
        "print(df.day)"
      ]
    },
    {
      "cell_type": "code",
      "execution_count": null,
      "metadata": {
        "id": "WAx4j1i3vVUf"
      },
      "outputs": [],
      "source": [
        "# nao funciona para nome de variável / rótulo com espaços e outras restrições\n",
        "print(df.num access)"
      ]
    },
    {
      "cell_type": "code",
      "execution_count": null,
      "metadata": {
        "id": "hviIxG3NvVUf"
      },
      "outputs": [],
      "source": [
        "print(df[ ['day', 'num access'] ])"
      ]
    },
    {
      "cell_type": "markdown",
      "metadata": {
        "id": "SzBpJ_pEvVUf"
      },
      "source": [
        "#### Convertendo para valores\n",
        "\n",
        "Use o atributo `values`, e posteriormente converta para o tipo desejado, por exemplo: lista:"
      ]
    },
    {
      "cell_type": "code",
      "execution_count": null,
      "metadata": {
        "id": "LsIY0vZMvVUf"
      },
      "outputs": [],
      "source": [
        "lista_dias = list(df['day'].values)\n",
        "print(lista_dias)\n",
        "type(lista_dias)\n",
        "acessos = list(df['num access'].values)\n",
        "acessos_total = sum(acessos)\n",
        "acessos_total"
      ]
    },
    {
      "cell_type": "markdown",
      "metadata": {
        "id": "gRcMGcCHvVUg"
      },
      "source": [
        "#### Busca (query)\n",
        "\n",
        "Permite definir expressões para busca dentro de uma coluna"
      ]
    },
    {
      "cell_type": "code",
      "execution_count": null,
      "metadata": {
        "id": "AbvydOgfvVUg"
      },
      "outputs": [],
      "source": [
        "df.query('month == 6')"
      ]
    },
    {
      "cell_type": "code",
      "execution_count": null,
      "metadata": {
        "id": "xAFYYl5gvVUg"
      },
      "outputs": [],
      "source": [
        "df.query('month == 6 & category == \"teacher\"')"
      ]
    },
    {
      "cell_type": "code",
      "execution_count": null,
      "metadata": {
        "id": "5gPFwkCAvVUg"
      },
      "outputs": [],
      "source": [
        "df.query('month == 5 & category == \"teacher\"')['num access']"
      ]
    },
    {
      "cell_type": "markdown",
      "metadata": {
        "id": "nf6VrGhSvVUh"
      },
      "source": [
        "### Criando e removendo colunas\n",
        "\n",
        "Criar colunas é possível atribuindo valores e nomeando a nova coluna"
      ]
    },
    {
      "cell_type": "code",
      "execution_count": null,
      "metadata": {
        "id": "78iPY8LYvVUh"
      },
      "outputs": [],
      "source": [
        "# usando um único valor\n",
        "df['year'] = 2022\n",
        "df"
      ]
    },
    {
      "cell_type": "code",
      "execution_count": null,
      "metadata": {
        "id": "-3Y4VR4mvVUh"
      },
      "outputs": [],
      "source": [
        "# usando uma lista\n",
        "lista = list(range(1,df.shape[0]+1))\n",
        "df['id'] = lista\n",
        "df"
      ]
    },
    {
      "cell_type": "markdown",
      "metadata": {
        "id": "BDca6VVRvVUl"
      },
      "source": [
        "A remoção pode ser feita com:\n",
        "* `del`\n",
        "* `drop(<coluna>, axis=1)`: especificamos o eixo para definir se a remoção será de coluna (axis=1) ou de linha (axis=0)"
      ]
    },
    {
      "cell_type": "code",
      "execution_count": null,
      "metadata": {
        "id": "uTv0vrzOvVUl"
      },
      "outputs": [],
      "source": [
        "# removendo com drop\n",
        "df = df.drop('id', axis=1)\n",
        "print(df)\n",
        "\n",
        "del df['year']\n",
        "print(df)"
      ]
    },
    {
      "cell_type": "markdown",
      "metadata": {
        "id": "CGcEGP0_vVUl"
      },
      "source": [
        "### Acessando Linhas\n",
        "\n",
        "Para acessar linhas de um DataFrame:\n",
        "- <font color='blue'>iloc</font> - manipula o DataFrame como uma matriz com índices inteiros\n",
        "- <font color='blue'>loc</font> - seleciona linhas pelos seus rótulos (índices) ou por máscara booleana\n",
        "\n",
        "A princípio esses parecem redudantes, mas o que muda é a seleção pelo rótulo das linhas.\n",
        "\n",
        "Para melhor explicar vamos refazer o índice do dataframe\n",
        "\n",
        "O método `set_index()` permite definir um índice com base numa coluna. É preciso especificar o parâmetro `inplace=True` para que o dataframe seja modificado, do contrário, apenas uma cópia é retornada"
      ]
    },
    {
      "cell_type": "code",
      "execution_count": null,
      "metadata": {
        "id": "7UhOVMVDvVUl"
      },
      "outputs": [],
      "source": [
        "# criando novamente a coluna ID\n",
        "lista = list(range(10,(df.shape[0]+1)*10,10))\n",
        "df['id'] = lista\n",
        "df"
      ]
    },
    {
      "cell_type": "code",
      "execution_count": null,
      "metadata": {
        "id": "oscwgfqavVUl"
      },
      "outputs": [],
      "source": [
        "# sem passar o inplace\n",
        "df.set_index('id')\n",
        "df"
      ]
    },
    {
      "cell_type": "code",
      "execution_count": null,
      "metadata": {
        "id": "OMgvs0dhvVUm"
      },
      "outputs": [],
      "source": [
        "df.set_index('id', inplace=True)\n",
        "df"
      ]
    },
    {
      "cell_type": "markdown",
      "metadata": {
        "id": "5wOVn6D0vVUm"
      },
      "source": [
        "O parâmetro `inplace` é também usado em outros métodos com o mesmo fim."
      ]
    },
    {
      "cell_type": "markdown",
      "metadata": {
        "id": "h8vlrEXyvVUm"
      },
      "source": [
        "#### Usando `loc()`\n",
        "\n",
        "A seleção é feita pelo índice do dataframe\n"
      ]
    },
    {
      "cell_type": "code",
      "execution_count": null,
      "metadata": {
        "id": "0spzgON1vVUm"
      },
      "outputs": [],
      "source": [
        "df.loc[20]"
      ]
    },
    {
      "cell_type": "code",
      "execution_count": null,
      "metadata": {
        "id": "abNiHXTovVUm"
      },
      "outputs": [],
      "source": [
        "# podemos passar uma lista, que será retornada na ordem informada\n",
        "df.loc[[90,10,30]]"
      ]
    },
    {
      "cell_type": "markdown",
      "metadata": {
        "id": "O4T7ZO2BvVUm"
      },
      "source": [
        "Quando fatiamos, *excepcionalmente com o loc* o intervalo é fechado para os dois extremos\n",
        "\n",
        "Ou seja, será retornado o valor de índice final"
      ]
    },
    {
      "cell_type": "code",
      "execution_count": null,
      "metadata": {
        "id": "Z4mnC0ybvVUn"
      },
      "outputs": [],
      "source": [
        "df.loc[10:40]"
      ]
    },
    {
      "cell_type": "markdown",
      "metadata": {
        "id": "WdoyXA9gvVUn"
      },
      "source": [
        "Podemos também especificar as colunas"
      ]
    },
    {
      "cell_type": "code",
      "execution_count": null,
      "metadata": {
        "id": "d0-oGF-CvVUn"
      },
      "outputs": [],
      "source": [
        "df.loc[10:30, ['category']]"
      ]
    },
    {
      "cell_type": "code",
      "execution_count": null,
      "metadata": {
        "id": "iJ9jOHdUvVUn"
      },
      "outputs": [],
      "source": [
        "df.loc[10:10, 'category']"
      ]
    },
    {
      "cell_type": "markdown",
      "metadata": {
        "id": "cATaKe4PvVUn"
      },
      "source": [
        "**`loc()` com condicionais (booleanas)**"
      ]
    },
    {
      "cell_type": "code",
      "execution_count": null,
      "metadata": {
        "id": "FTUEm7divVUn"
      },
      "outputs": [],
      "source": [
        "df['category'] == 'student'"
      ]
    },
    {
      "cell_type": "code",
      "execution_count": null,
      "metadata": {
        "id": "oj6dPHBzvVUn"
      },
      "outputs": [],
      "source": [
        "df.loc[df['num access'] > 1000]"
      ]
    },
    {
      "cell_type": "markdown",
      "metadata": {
        "id": "IV9yi-G0vVUn"
      },
      "source": [
        "#### Usando `iloc()`\n",
        "\n",
        "A seleção é feita pela posição de linha e coluna relativa ao início, começando por zero, como se fosse uma matriz\n"
      ]
    },
    {
      "cell_type": "code",
      "execution_count": null,
      "metadata": {
        "id": "N_xDVdhavVUo"
      },
      "outputs": [],
      "source": [
        "df"
      ]
    },
    {
      "cell_type": "code",
      "execution_count": null,
      "metadata": {
        "id": "Ol02VXGTvVUo"
      },
      "outputs": [],
      "source": [
        "df.iloc[1]"
      ]
    },
    {
      "cell_type": "code",
      "execution_count": null,
      "metadata": {
        "id": "iHbMttrpvVUo"
      },
      "outputs": [],
      "source": [
        "cat_pos1 = df.iloc[1,3]\n",
        "print(cat_pos1)"
      ]
    },
    {
      "cell_type": "code",
      "execution_count": null,
      "metadata": {
        "id": "SbE9TR4nvVUo"
      },
      "outputs": [],
      "source": [
        "df.iloc[:,3]"
      ]
    },
    {
      "cell_type": "markdown",
      "metadata": {
        "id": "JNaulg5fvVUo"
      },
      "source": [
        "Aqui também podemos usar o atributo `values`"
      ]
    },
    {
      "cell_type": "code",
      "execution_count": null,
      "metadata": {
        "id": "_wuD2e_WvVUo"
      },
      "outputs": [],
      "source": [
        "lista_cats = list(df.iloc[:,3].values)\n",
        "print(lista_cats)"
      ]
    },
    {
      "cell_type": "markdown",
      "metadata": {
        "id": "h2LAyZX8vVUo"
      },
      "source": [
        "É possível fatiar ambas linhas e colunas,\n",
        "* padrão Python, em que o elemento final representa um intervalo ABERTO, ou seja não é retornado"
      ]
    },
    {
      "cell_type": "code",
      "execution_count": null,
      "metadata": {
        "id": "z9ZFaVu3vVUo"
      },
      "outputs": [],
      "source": [
        "df.iloc[3:5]"
      ]
    },
    {
      "cell_type": "code",
      "execution_count": null,
      "metadata": {
        "id": "akl2u6VJvVUp"
      },
      "outputs": [],
      "source": [
        "df.iloc[3:5,2:4]"
      ]
    },
    {
      "cell_type": "markdown",
      "metadata": {
        "id": "Ewy0ma-OvVUp"
      },
      "source": [
        "`iloc()` e `loc()` retornam uma cópia do dataframe"
      ]
    },
    {
      "cell_type": "code",
      "execution_count": null,
      "metadata": {
        "id": "wyA4A1XWvVUp"
      },
      "outputs": [],
      "source": [
        "subdf1 = df.iloc[3:6, 2:]\n",
        "subdf1.iloc[2, 0] = -1\n",
        "print(subdf1)"
      ]
    },
    {
      "cell_type": "code",
      "execution_count": null,
      "metadata": {
        "id": "0NQVrU9svVUp"
      },
      "outputs": [],
      "source": [
        "df"
      ]
    },
    {
      "cell_type": "code",
      "execution_count": null,
      "metadata": {
        "id": "ZKbHD_f0vVUp"
      },
      "outputs": [],
      "source": [
        "subdf2 = df.loc[40:60,['num access', 'category']]\n",
        "subdf2.loc[60, ['num access']] = -1\n",
        "print(subdf2)"
      ]
    },
    {
      "cell_type": "code",
      "execution_count": null,
      "metadata": {
        "id": "VqkoQVVSvVUp"
      },
      "outputs": [],
      "source": [
        "df"
      ]
    },
    {
      "cell_type": "markdown",
      "metadata": {
        "id": "HR1zJSyewKc-"
      },
      "source": [
        "# <font color=\"red\">Resumo da aula</font>\n",
        "\n",
        "### <span style=\"color:red\">- Modulo: Pandas</span>\n",
        "### <span style=\"color:red\">- Pandas: Dataframe</span>\n",
        "### <span style=\"color:red\">- Localização (*loc* e *iloc*)</span>"
      ]
    }
  ],
  "metadata": {
    "colab": {
      "provenance": [],
      "include_colab_link": true
    },
    "kernelspec": {
      "display_name": "Python 3",
      "language": "python",
      "name": "python3"
    },
    "language_info": {
      "codemirror_mode": {
        "name": "ipython",
        "version": 3
      },
      "file_extension": ".py",
      "mimetype": "text/x-python",
      "name": "python",
      "nbconvert_exporter": "python",
      "pygments_lexer": "ipython3",
      "version": "3.10.12"
    },
    "toc": {
      "base_numbering": 1,
      "nav_menu": {},
      "number_sections": true,
      "sideBar": true,
      "skip_h1_title": false,
      "title_cell": "Table of Contents",
      "title_sidebar": "Contents",
      "toc_cell": false,
      "toc_position": {},
      "toc_section_display": true,
      "toc_window_display": false
    }
  },
  "nbformat": 4,
  "nbformat_minor": 0
}