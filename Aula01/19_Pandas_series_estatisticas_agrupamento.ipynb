{
  "cells": [
    {
      "cell_type": "markdown",
      "metadata": {
        "id": "view-in-github",
        "colab_type": "text"
      },
      "source": [
        "<a href=\"https://colab.research.google.com/github/fhsmartins/MBA/blob/main/Aula01/19_Pandas_series_estatisticas_agrupamento.ipynb\" target=\"_parent\"><img src=\"https://colab.research.google.com/assets/colab-badge.svg\" alt=\"Open In Colab\"/></a>"
      ]
    },
    {
      "cell_type": "markdown",
      "metadata": {
        "id": "fp1KQp06tfoY"
      },
      "source": [
        "# <font color=\"red\"> MBA em IA e Big Data</font>\n",
        "## <span style=\"color:red\">Linguagens e Ferramentas para Inteligência Artificial e Big Data (Python e SQL)</span>\n",
        "\n",
        "### <span style=\"color:darkred\">Python - Aula 19</span>\n",
        "\n",
        "*Leandro Franco de Souza*<br>\n",
        "*ICMC/USP São Carlos*\n",
        "\n",
        "*(com material dos Profs. Moacir Antonelli Ponti e Luis Gustavo Nonato)*"
      ]
    },
    {
      "cell_type": "markdown",
      "metadata": {
        "id": "HN-44yqxtfoc"
      },
      "source": [
        "# <font color=\"red\"> Conteúdo:</font>\n",
        "\n",
        "### <span style=\"color:red\">- Modulo: Pandas</span>\n",
        "### <span style=\"color:red\">- Pandas: series</span>\n",
        "### <span style=\"color:red\">- Pandas: estatísticas</span>\n",
        "### <span style=\"color:red\">- Pandas: agrupando (*groupby* e *agg*)</span>\n",
        "\n",
        "__Referências__ <br>\n",
        "- McKinney, W. and PyData Development Team [Pandas: powerful Python data analysis toolkit](https://pandas.pydata.org/pandas-docs/stable/pandas.pdf)\n",
        "- Documentação Pandas [http://pandas.pydata.org/pandas-docs/stable/index.html](http://pandas.pydata.org/pandas-docs/stable/index.html)\n",
        "- Wickham, H. Tidy data: https://vita.had.co.nz/papers/tidy-data.pdf"
      ]
    },
    {
      "cell_type": "markdown",
      "metadata": {
        "id": "Oylp7KKJftiR"
      },
      "source": [
        "# Series\n",
        "\n",
        "> Array unidimensional com um determinado tipo de dado\n",
        "\n",
        "É similar a um dicionário, possuindo índice (que pode funcionar como chave) e valores.\n",
        "\n",
        "Uma série pode ser obtida a partir de uma *coluna* de um dataframe\n",
        "\n",
        "Pode ser criada por meio de um array numpy, um dicionário ou até um único escalar"
      ]
    },
    {
      "cell_type": "code",
      "execution_count": null,
      "metadata": {
        "id": "Hrq2i6vBftiR"
      },
      "outputs": [],
      "source": [
        "import pandas as pd\n",
        "import numpy as np\n",
        "serie_aleat = pd.Series(np.random.rand(8))\n",
        "print(serie_aleat)"
      ]
    },
    {
      "cell_type": "markdown",
      "metadata": {
        "id": "WD5uY8CNftiS"
      },
      "source": [
        "Note que o índice dessa série, como não foi especificado, é numérico iniciando em 0"
      ]
    },
    {
      "cell_type": "code",
      "execution_count": null,
      "metadata": {
        "id": "7CejpGjhftiS"
      },
      "outputs": [],
      "source": [
        "veic = {\n",
        "    'AAA0A00': 1980,\n",
        "    'BBB1B11': 2001,\n",
        "    'CCC2C22': 1984,\n",
        "    'DDD3D33': 2010,\n",
        "    'EEE13E4': 2011}"
      ]
    },
    {
      "cell_type": "code",
      "execution_count": null,
      "metadata": {
        "id": "Y-8nQWemftiT"
      },
      "outputs": [],
      "source": [
        "s_veic = pd.Series(veic)\n",
        "print(s_veic)"
      ]
    },
    {
      "cell_type": "markdown",
      "metadata": {
        "id": "kMBgrTS8ftiT"
      },
      "source": [
        "Séries se comportam de forma muito similar à `ndarrays`"
      ]
    },
    {
      "cell_type": "code",
      "execution_count": null,
      "metadata": {
        "id": "JAKeh8U6ftiU"
      },
      "outputs": [],
      "source": [
        "s_veic.mean()"
      ]
    },
    {
      "cell_type": "code",
      "execution_count": null,
      "metadata": {
        "id": "3kFqI_tGftiU"
      },
      "outputs": [],
      "source": [
        "s_veic > s_veic.mean()"
      ]
    },
    {
      "cell_type": "code",
      "execution_count": null,
      "metadata": {
        "id": "mBk61IvdftiU"
      },
      "outputs": [],
      "source": [
        "s_veic[s_veic > s_veic.mean()]"
      ]
    },
    {
      "cell_type": "code",
      "execution_count": null,
      "metadata": {
        "id": "hZjc3zcaftiV"
      },
      "outputs": [],
      "source": [
        "s_veic.dtype"
      ]
    },
    {
      "cell_type": "markdown",
      "metadata": {
        "id": "5luWFTTzftiV"
      },
      "source": [
        "É possível obter um array de fato pelo atributo `array`"
      ]
    },
    {
      "cell_type": "code",
      "execution_count": null,
      "metadata": {
        "id": "vW23wu38ftiV"
      },
      "outputs": [],
      "source": [
        "s_veic.array"
      ]
    },
    {
      "cell_type": "markdown",
      "metadata": {
        "id": "jrDXmq-LftiV"
      },
      "source": [
        "Ou um numpy array com `to_numpy()`:"
      ]
    },
    {
      "cell_type": "code",
      "execution_count": null,
      "metadata": {
        "id": "Lr9gH9qjftiV"
      },
      "outputs": [],
      "source": [
        "s_veic.to_numpy()"
      ]
    },
    {
      "cell_type": "markdown",
      "metadata": {
        "id": "VFSry3ABftiW"
      },
      "source": [
        "---\n",
        "\n"
      ]
    },
    {
      "cell_type": "code",
      "execution_count": null,
      "metadata": {
        "id": "5Zb5WL-jtfpu"
      },
      "outputs": [],
      "source": [
        "df = pd.read_csv('countries_data.tsv', sep='\\t')"
      ]
    },
    {
      "cell_type": "code",
      "execution_count": null,
      "metadata": {
        "id": "GFbdM2PBftiW"
      },
      "outputs": [],
      "source": [
        "df.info()"
      ]
    },
    {
      "cell_type": "code",
      "execution_count": null,
      "metadata": {
        "id": "8XBnsoI_ftiW",
        "scrolled": true
      },
      "outputs": [],
      "source": [
        "df.sample(6)"
      ]
    },
    {
      "cell_type": "markdown",
      "metadata": {
        "id": "goubAU5NftiX"
      },
      "source": [
        "### Relembrando\n",
        "\n",
        "Vamos recuperar os dados: ano, população e expectativa de vida\n",
        "* em Porto Rico\n",
        "* a partir de 1990"
      ]
    },
    {
      "cell_type": "code",
      "execution_count": null,
      "metadata": {
        "id": "ZaWvbWWMftiX",
        "scrolled": true
      },
      "outputs": [],
      "source": [
        "# recuperando as colunas\n",
        "df[['year','pop','lifeExp']]"
      ]
    },
    {
      "cell_type": "code",
      "execution_count": null,
      "metadata": {
        "id": "khexYrn4ftiX",
        "scrolled": true
      },
      "outputs": [],
      "source": [
        "df.loc[ (df['country']=='Puerto Rico') & (df['year']>=1990) , ['year','pop','lifeExp']]"
      ]
    },
    {
      "cell_type": "markdown",
      "metadata": {
        "id": "BFiB9kfPftiX"
      },
      "source": [
        "Em numpy e pandas os operadores lógicos E, OU e NÃO : `&`, `|`, `~`"
      ]
    },
    {
      "cell_type": "code",
      "execution_count": null,
      "metadata": {
        "id": "mwLtUd9IftiX"
      },
      "outputs": [],
      "source": [
        "yearonly = df['year']\n",
        "type(yearonly)\n",
        "yearonly"
      ]
    },
    {
      "cell_type": "markdown",
      "metadata": {
        "id": "53biBEOgftiY"
      },
      "source": [
        "# Estatísticas\n",
        "\n",
        "Há várias funções para análise dos dados.\n",
        "\n",
        "Consultar a documentação oficial é importante (há muito ruído na internet/vídeos)\n",
        "\n",
        "Básicas, que retornam um escalar como: `mean`, `std`, `quantile`, `min`, `max`\n",
        "\n",
        "E mais complexas como: `cov` (covariance), `corr` (correlation)\n",
        "\n",
        "`describe` gera estatística descritiva para todas as colunas numéricas (ou série)"
      ]
    },
    {
      "cell_type": "code",
      "execution_count": null,
      "metadata": {
        "id": "NeSoQ0mAftiY"
      },
      "outputs": [],
      "source": [
        "df['pop'].mean()"
      ]
    },
    {
      "cell_type": "code",
      "execution_count": null,
      "metadata": {
        "id": "NnWpiqufftiY",
        "scrolled": true
      },
      "outputs": [],
      "source": [
        "df.describe()"
      ]
    },
    {
      "cell_type": "code",
      "execution_count": null,
      "metadata": {
        "id": "dEccZDoGftiY",
        "scrolled": true
      },
      "outputs": [],
      "source": [
        "df[['lifeExp', 'pop', 'gdpPercap']].corr()"
      ]
    },
    {
      "cell_type": "markdown",
      "metadata": {
        "id": "tE1tWKfBtfp5"
      },
      "source": [
        "---\n",
        "\n",
        "# `groupby()` e `agg()`\n",
        "\n",
        "Alguns cálculos são interessantes de se fazer agrupando por certos valores\n",
        "\n",
        "Nesse dataset, uma pergunta possível seria:\n",
        "* Qual a expectativa de vida média, por ano, considerando todos os países?"
      ]
    },
    {
      "cell_type": "code",
      "execution_count": null,
      "metadata": {
        "id": "WaZdlYYlftiZ"
      },
      "outputs": [],
      "source": [
        "df.groupby(['year'])"
      ]
    },
    {
      "cell_type": "code",
      "execution_count": null,
      "metadata": {
        "id": "4VlCQQ_3ftiZ"
      },
      "outputs": [],
      "source": [
        "df.groupby(['year'])['lifeExp'].mean()"
      ]
    },
    {
      "cell_type": "markdown",
      "metadata": {
        "id": "EMrJduKMftiZ"
      },
      "source": [
        "Pandas tem várias funções embutidas, mas pode ser que queiramos aplicar nossas próprias funções ou de biblioteca externa, como do `numpy`\n",
        "\n",
        "Nesse caso, usamos `agg()` para aplicar a função desejada, agregada aos grupos"
      ]
    },
    {
      "cell_type": "code",
      "execution_count": null,
      "metadata": {
        "id": "l4_g5s_LftiZ"
      },
      "outputs": [],
      "source": [
        "import numpy as np\n",
        "\n",
        "df.groupby(['year'])['lifeExp'].agg(np.mean)"
      ]
    },
    {
      "cell_type": "markdown",
      "metadata": {
        "id": "GsviGTc1ftiZ"
      },
      "source": [
        "E até mesmo gerar um novo dataframe, agregando múltiplas funções\n",
        "* lista de tuplas contendo (nome,funcao)"
      ]
    },
    {
      "cell_type": "code",
      "execution_count": null,
      "metadata": {
        "id": "zVO5jNITftiZ"
      },
      "outputs": [],
      "source": [
        "df.groupby(['year'])['pop'].agg( [\n",
        "                        ('media', np.mean),\n",
        "                        ('log10_somapop', lambda val: np.log2(val.sum())) ])"
      ]
    },
    {
      "cell_type": "markdown",
      "metadata": {
        "id": "KmYaKaOyftia"
      },
      "source": [
        "É possível agrupar com múltiplas colunas"
      ]
    },
    {
      "cell_type": "code",
      "execution_count": null,
      "metadata": {
        "id": "CqELxZgaftia",
        "scrolled": true
      },
      "outputs": [],
      "source": [
        "yearcont = df.groupby(['year','continent'])[['pop','gdpPercap']].agg([np.mean, np.std])\n",
        "yearcont"
      ]
    },
    {
      "cell_type": "markdown",
      "metadata": {
        "id": "A5M49443ftid"
      },
      "source": [
        "Nesse caso o índice será composto, tornando mais difícil acesso\n",
        "\n",
        "Tente mostrar o `yearcont.index` para ver"
      ]
    },
    {
      "cell_type": "code",
      "execution_count": null,
      "metadata": {
        "id": "Pxk73qF5ftid"
      },
      "outputs": [],
      "source": [
        "yearcont.index"
      ]
    },
    {
      "cell_type": "markdown",
      "metadata": {
        "id": "cJwSg9SXftid"
      },
      "source": [
        "Para facilitar, é útil \"achatar\" os índices, resetando-os"
      ]
    },
    {
      "cell_type": "code",
      "execution_count": null,
      "metadata": {
        "id": "1hU9ah1Rftie"
      },
      "outputs": [],
      "source": [
        "yearcont = yearcont.reset_index()\n",
        "yearcont.head(10)"
      ]
    },
    {
      "cell_type": "markdown",
      "metadata": {
        "id": "u00ejmATftie"
      },
      "source": [
        "---\n",
        "\n",
        "#### <font color=\"blue\">Exercício 2.7</font>\n",
        "\n",
        "Carregue o arquivo `tips.csv`:\n",
        "1. Filtre as linhas selecionando apenas jantares (time = 'Dinner') e cuja conta foi superior a 40 (total_bill > 40), mostrando o total da conta, número de pessoas na mesa e gorjeta (total_bill, size, tip);\n",
        "2. Obtenha um novo dataframe em que seja mostrada a gorjeta (tip) média e máxima para cada valor de dia da semana (day) e horário (time)"
      ]
    },
    {
      "cell_type": "code",
      "execution_count": null,
      "metadata": {
        "id": "hMK1Bpd3ftie",
        "scrolled": false
      },
      "outputs": [],
      "source": [
        "dtips = pd.read_csv('tips.csv')"
      ]
    },
    {
      "cell_type": "markdown",
      "metadata": {
        "id": "QBMD0fcyxoNG"
      },
      "source": [
        "# <font color=\"red\">Resumo da aula</font>\n",
        "\n",
        "### <span style=\"color:red\">- Modulo: Pandas</span>\n",
        "### <span style=\"color:red\">- Pandas: series</span>\n",
        "### <span style=\"color:red\">- Pandas: estatísticas</span>\n",
        "### <span style=\"color:red\">- Pandas: agrupando (*groupby* e *agg*)</span>"
      ]
    }
  ],
  "metadata": {
    "colab": {
      "collapsed_sections": [
        "B3fWe40BtfsC",
        "-2e7e96BtfsW"
      ],
      "provenance": [],
      "include_colab_link": true
    },
    "kernelspec": {
      "display_name": "Python 3",
      "language": "python",
      "name": "python3"
    },
    "language_info": {
      "codemirror_mode": {
        "name": "ipython",
        "version": 3
      },
      "file_extension": ".py",
      "mimetype": "text/x-python",
      "name": "python",
      "nbconvert_exporter": "python",
      "pygments_lexer": "ipython3",
      "version": "3.11.5"
    },
    "toc": {
      "base_numbering": 1,
      "nav_menu": {},
      "number_sections": true,
      "sideBar": true,
      "skip_h1_title": false,
      "title_cell": "Table of Contents",
      "title_sidebar": "Contents",
      "toc_cell": false,
      "toc_position": {},
      "toc_section_display": true,
      "toc_window_display": false
    }
  },
  "nbformat": 4,
  "nbformat_minor": 0
}