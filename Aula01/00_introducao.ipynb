{
  "cells": [
    {
      "cell_type": "markdown",
      "metadata": {
        "id": "view-in-github",
        "colab_type": "text"
      },
      "source": [
        "<a href=\"https://colab.research.google.com/github/fhsmartins/MBA/blob/main/Aula01/00_introducao.ipynb\" target=\"_parent\"><img src=\"https://colab.research.google.com/assets/colab-badge.svg\" alt=\"Open In Colab\"/></a>"
      ]
    },
    {
      "cell_type": "markdown",
      "metadata": {
        "id": "Wu7ck6xvaP6b"
      },
      "source": [
        "# <font color=\"red\"> MBA em IA e Big Data</font>\n",
        "## <span style=\"color:red\">Linguagens e Ferramentas para Inteligência Artificial e Big Data (Python e SQL)</span>\n",
        "\n",
        "### <span style=\"color:darkred\">Python - Aula 00</span>\n",
        "\n",
        "*Leandro Franco de Souza*<br>\n",
        "*ICMC/USP São Carlos*\n",
        "\n",
        "*(com material dos Profs. Luis Gustavo Nonato & Moacir Antonelli Ponti)*"
      ]
    },
    {
      "cell_type": "markdown",
      "metadata": {
        "id": "wOM5dIGtaP6d"
      },
      "source": [
        "# <font color=\"red\"> Conteúdo</font>\n",
        "\n",
        "### <span style=\"color:red\">- Python</span>\n",
        "### <span style=\"color:red\">- Memória</span>\n",
        "### <span style=\"color:red\">- Tipos</span>\n",
        "### <span style=\"color:red\">- Variáveis</span>\n",
        "### <span style=\"color:red\">- Comentários</span>\n",
        "### <span style=\"color:red\">- Saída de dados</span>\n",
        "### <span style=\"color:red\">- Sequências: tuplas</span>\n",
        "### <span style=\"color:red\">- Sequências: listas</span>\n",
        "### <span style=\"color:red\">- Sequências: caracteres</span>\n",
        "### <span style=\"color:red\">- Estruturas de controle: condicional</span>\n",
        "### <span style=\"color:red\">- Estruturas de controle: laço de repetição</span>\n",
        "### <span style=\"color:red\">- *range*</span>\n",
        "### <span style=\"color:red\">- Laços aninhados</span>\n",
        "### <span style=\"color:red\">- *continue* & *break*</span>\n",
        "### <span style=\"color:red\">- Laço *while*</span>\n",
        "### <span style=\"color:red\">- Codificando funções</span>\n",
        "### <span style=\"color:red\">- Sequências</span>\n",
        "### <span style=\"color:red\">- Fatiamento (*Slicing*)</span>\n",
        "### <span style=\"color:red\">- Operadores `in` `+` e `*`</span>\n",
        "### <span style=\"color:red\">- Métodos de listas</span>\n",
        "### <span style=\"color:red\">- Operadores nativos do python que operam em sequências</span>\n",
        "### <span style=\"color:red\">- Dicionários</span>\n",
        "### <span style=\"color:red\">- Métodos de Dicionários</span>\n",
        "### <span style=\"color:red\">- Coleções aninhadas</span>\n",
        "### <span style=\"color:red\">- Comprehensions</span>\n",
        "### <span style=\"color:red\">- Comprehensions com filtragem</span>\n",
        "### <span style=\"color:red\">- Usando *if-else*</span>\n",
        "### <span style=\"color:red\">- Comprehensions com iteração paralela em diferentes coleções</span>\n",
        "### <span style=\"color:red\">- Comprehensions aninhados (*nested loops*)</span>\n",
        "### <span style=\"color:red\">- Expressões Lambda</span>\n",
        "### <span style=\"color:red\">- Módulos Python</span>\n",
        "### <span style=\"color:red\">- Módulos: math e random</span>\n",
        "### <span style=\"color:red\">- Modulo: Numpy</span>\n",
        "### <span style=\"color:red\">- Numpy: Arrays</span>\n",
        "### <span style=\"color:red\">- Especificando tipo *astype*</span>\n",
        "### <span style=\"color:red\">- Acessando elementos</span>\n",
        "### <span style=\"color:red\">- iterando com *for*</span>\n",
        "### <span style=\"color:red\">- Fatiamento (*Slicing*) em arrays</span>\n",
        "### <span style=\"color:red\">- Métodos: *ravel, flatten* e *reshape*</span>\n",
        "### <span style=\"color:red\">- Transposta</span>\n",
        "### <span style=\"color:red\">- Filtragem com operador lógico</span>\n",
        "### <span style=\"color:red\">- Visões (*view*)</span>\n",
        "### <span style=\"color:red\">- *Broadcasting*</span>\n",
        "### <span style=\"color:red\">- Operadores relacionais</span>\n",
        "### <span style=\"color:red\">- Redução</span>\n",
        "### <span style=\"color:red\">- Ordenação (*sort*)</span>\n",
        "### <span style=\"color:red\">- Aritmética vetorial e matricial</span>\n",
        "### <span style=\"color:red\">- Modulo: Pandas</span>\n",
        "### <span style=\"color:red\">- Pandas: Dataframe</span>\n",
        "### <span style=\"color:red\">- Localização (*loc* e *iloc*)</span>\n",
        "### <span style=\"color:red\">Pandas: series</span>\n",
        "### <span style=\"color:red\">Pandas: estatísticas</span>\n",
        "### <span style=\"color:red\">Pandas: agrupando (*groupby* e *agg*)</span>\n",
        "### <span style=\"color:red\">Transformações com *apply*, *map* e *applymap*</span>\n",
        "### <span style=\"color:red\">Limpeza de dados</span>\n",
        "### <span style=\"color:red\">Preparação de dados</span>"
      ]
    }
  ],
  "metadata": {
    "colab": {
      "provenance": [],
      "include_colab_link": true
    },
    "kernelspec": {
      "display_name": "Python 3 (ipykernel)",
      "language": "python",
      "name": "python3"
    },
    "language_info": {
      "codemirror_mode": {
        "name": "ipython",
        "version": 3
      },
      "file_extension": ".py",
      "mimetype": "text/x-python",
      "name": "python",
      "nbconvert_exporter": "python",
      "pygments_lexer": "ipython3",
      "version": "3.10.12"
    },
    "toc": {
      "base_numbering": 1,
      "nav_menu": {},
      "number_sections": true,
      "sideBar": true,
      "skip_h1_title": false,
      "title_cell": "Table of Contents",
      "title_sidebar": "Contents",
      "toc_cell": false,
      "toc_position": {},
      "toc_section_display": true,
      "toc_window_display": false
    }
  },
  "nbformat": 4,
  "nbformat_minor": 0
}